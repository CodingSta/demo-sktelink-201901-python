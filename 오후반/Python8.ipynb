{
 "cells": [
  {
   "cell_type": "markdown",
   "metadata": {},
   "source": [
    "## 정규 표현식"
   ]
  },
  {
   "cell_type": "code",
   "execution_count": 18,
   "metadata": {},
   "outputs": [
    {
     "data": {
      "text/plain": [
       "'^01[016-9]-?[1-9]\\\\d{2,3}-?\\\\d{4}$'"
      ]
     },
     "execution_count": 18,
     "metadata": {},
     "output_type": "execute_result"
    }
   ],
   "source": [
    "# 휴대폰번호_패턴 = r\"^01[016-9][1-9]\\d{6,7}$\"\n",
    "# 휴대폰번호_패턴 = r\"^01[016-9]-{0,1}[1-9]\\d{2,3}-{0,1}\\d{4}$\"\n",
    "휴대폰번호_패턴 = r\"^01[016-9]-?[1-9]\\d{2,3}-?\\d{4}$\"\n",
    "휴대폰번호_패턴"
   ]
  },
  {
   "cell_type": "code",
   "execution_count": 22,
   "metadata": {},
   "outputs": [
    {
     "name": "stdout",
     "output_type": "stream",
     "text": [
      "<re.Match object; span=(0, 13), match='010-1234-1234'>\n",
      "휴대폰 번호입니다.\n"
     ]
    }
   ],
   "source": [
    "# 휴대폰번호_입력 = \"저 휴대폰 없어요.\"   # 결과는 ?\n",
    "# 휴대폰번호_입력 = \"01012341234\"     # 결과는?\n",
    "휴대폰번호_입력 = \"010-1234-1234\" # 결과는?\n",
    "# 휴대폰번호_입력 = \"01012341234abcd\" # 결과는?\n",
    "\n",
    "import re  # Regular Expression\n",
    "\n",
    "matched = re.match(휴대폰번호_패턴, 휴대폰번호_입력)\n",
    "print(matched)\n",
    "\n",
    "if matched:  # matched != None\n",
    "    print('휴대폰 번호입니다.')\n",
    "else:\n",
    "    print('휴대폰 번호가 아닙니다.')"
   ]
  },
  {
   "cell_type": "code",
   "execution_count": null,
   "metadata": {},
   "outputs": [],
   "source": []
  },
  {
   "cell_type": "code",
   "execution_count": 23,
   "metadata": {},
   "outputs": [],
   "source": [
    "import requests\n",
    "\n",
    "res = requests.get('http://naver.com')\n",
    "html = res.text"
   ]
  },
  {
   "cell_type": "code",
   "execution_count": 24,
   "metadata": {},
   "outputs": [
    {
     "data": {
      "text/plain": [
       "164598"
      ]
     },
     "execution_count": 24,
     "metadata": {},
     "output_type": "execute_result"
    }
   ],
   "source": [
    "len(html)"
   ]
  },
  {
   "cell_type": "code",
   "execution_count": 37,
   "metadata": {},
   "outputs": [],
   "source": [
    "# re.findall(r'\\d+', html)  # + : 1회 이상 반복\n",
    "# re.findall(r'[a-zA-Z\\d]+', html)\n",
    "# re.findall(r'[ㄱ-힣]+', html)\n",
    "# re.findall(r'이[ㄱ-힣]{1,3}', html)\n",
    "# re.findall(r'[김이박최][ㄱ-힣]{1,3}', html)"
   ]
  },
  {
   "cell_type": "code",
   "execution_count": null,
   "metadata": {},
   "outputs": [],
   "source": []
  },
  {
   "cell_type": "code",
   "execution_count": null,
   "metadata": {},
   "outputs": [],
   "source": [
    "text = \"네이버: SK텔링크\"\n",
    "\n",
    "text = \"네이버에서 SK텔링크 찾아줘.\"\n",
    "text = \"네이버에서 SK텔링크 찾아\"\n",
    "text = \"네이버에서 SK텔링크 찾아줄래?\"\n",
    "text = \"네이버에서 SK텔링크 찾아주지 않으련?\""
   ]
  },
  {
   "cell_type": "code",
   "execution_count": 48,
   "metadata": {},
   "outputs": [
    {
     "name": "stdout",
     "output_type": "stream",
     "text": [
      "이제 네이버 검색할거야. :D\n",
      "(' SK텔링크 ',)\n",
      "네이버에서 SK텔링크 찾아\n",
      " SK텔링크 \n",
      "이제 검색어  SK텔링크 로 검색하겠습니다.\n"
     ]
    }
   ],
   "source": [
    "네이버_검색_패턴 = r\"네이버에서(.+)찾아\"\n",
    "\n",
    "matched = re.match(네이버_검색_패턴, \"네이버에서 SK텔링크 찾아줄래?\")\n",
    "if matched:  # matched != None\n",
    "    print(\"이제 네이버 검색할거야. :D\")\n",
    "    print(matched.groups())\n",
    "    print(matched.group(0))\n",
    "    print(matched.group(1))\n",
    "    \n",
    "#     검색어 = matched.groups()[0]\n",
    "    검색어 = matched.group(1)\n",
    "    print(\"이제 검색어 {}로 검색하겠습니다.\".format(검색어))\n",
    "else:\n",
    "    print(\"검색 못 함. :()\")"
   ]
  },
  {
   "cell_type": "markdown",
   "metadata": {},
   "source": [
    "## import"
   ]
  },
  {
   "cell_type": "code",
   "execution_count": 49,
   "metadata": {},
   "outputs": [],
   "source": [
    "import requests"
   ]
  },
  {
   "cell_type": "code",
   "execution_count": 50,
   "metadata": {},
   "outputs": [],
   "source": [
    "from bs4 import BeautifulSoup"
   ]
  },
  {
   "cell_type": "code",
   "execution_count": 51,
   "metadata": {},
   "outputs": [
    {
     "data": {
      "text/plain": [
       "['',\n",
       " '/Users/allieus/OneDrive - 기본 디렉터리/강의-외부-SKT-201801/repo/오후반',\n",
       " '/Users/allieus/anaconda3/lib/python37.zip',\n",
       " '/Users/allieus/anaconda3/lib/python3.7',\n",
       " '/Users/allieus/anaconda3/lib/python3.7/lib-dynload',\n",
       " '/Users/allieus/anaconda3/lib/python3.7/site-packages',\n",
       " '/Users/allieus/anaconda3/lib/python3.7/site-packages/aeosa',\n",
       " '/Users/allieus/anaconda3/lib/python3.7/site-packages/IPython/extensions',\n",
       " '/Users/allieus/.ipython']"
      ]
     },
     "execution_count": 51,
     "metadata": {},
     "output_type": "execute_result"
    }
   ],
   "source": [
    "import sys\n",
    "sys.path"
   ]
  },
  {
   "cell_type": "markdown",
   "metadata": {},
   "source": [
    "## Class"
   ]
  },
  {
   "cell_type": "code",
   "execution_count": 70,
   "metadata": {},
   "outputs": [],
   "source": [
    "class Person:\n",
    "    def __init__(self, name, age):  # 생성자 (Constructor)\n",
    "        self.name = name\n",
    "        self.age = age\n",
    "    \n",
    "    def 늙어간다(self, year):\n",
    "        self.age += year"
   ]
  },
  {
   "cell_type": "code",
   "execution_count": 71,
   "metadata": {},
   "outputs": [],
   "source": [
    "tom = Person('Tom', 10)  # Person 타입의 새로운 변수를 하나 생성\n",
    "steve = Person('Steve', 12)"
   ]
  },
  {
   "cell_type": "code",
   "execution_count": 72,
   "metadata": {},
   "outputs": [
    {
     "data": {
      "text/plain": [
       "('Tom', 10)"
      ]
     },
     "execution_count": 72,
     "metadata": {},
     "output_type": "execute_result"
    }
   ],
   "source": [
    "tom.name, tom.age"
   ]
  },
  {
   "cell_type": "code",
   "execution_count": 73,
   "metadata": {},
   "outputs": [
    {
     "data": {
      "text/plain": [
       "('Steve', 12)"
      ]
     },
     "execution_count": 73,
     "metadata": {},
     "output_type": "execute_result"
    }
   ],
   "source": [
    "steve.name, steve.age"
   ]
  },
  {
   "cell_type": "code",
   "execution_count": 74,
   "metadata": {},
   "outputs": [
    {
     "data": {
      "text/plain": [
       "20"
      ]
     },
     "execution_count": 74,
     "metadata": {},
     "output_type": "execute_result"
    }
   ],
   "source": [
    "tom.늙어간다(year=10)\n",
    "tom.age"
   ]
  },
  {
   "cell_type": "code",
   "execution_count": null,
   "metadata": {},
   "outputs": [],
   "source": []
  },
  {
   "cell_type": "code",
   "execution_count": null,
   "metadata": {},
   "outputs": [],
   "source": [
    "class Person:\n",
    "    def __init__(self, name, age):  # 생성자 (Constructor)\n",
    "        self.name = name\n",
    "        self.age = age\n",
    "    \n",
    "    def 늙어간다(self, year):\n",
    "        self.age += year"
   ]
  },
  {
   "cell_type": "markdown",
   "metadata": {},
   "source": [
    "```java\n",
    "// java code\n",
    "public class Person {\n",
    "    String name;\n",
    "    int age;\n",
    "\n",
    "    public Person(String name, int age) {\n",
    "        this.name = name;\n",
    "        this.age = age;\n",
    "    }\n",
    "    \n",
    "    public void 늙어간다(int year) {\n",
    "        this.age += year;\n",
    "    }\n",
    "}\n",
    "```"
   ]
  },
  {
   "cell_type": "code",
   "execution_count": null,
   "metadata": {},
   "outputs": [],
   "source": []
  },
  {
   "cell_type": "code",
   "execution_count": 79,
   "metadata": {},
   "outputs": [],
   "source": [
    "class Dog:\n",
    "#     tricks = []   # 클래스 변수\n",
    "    def __init__(self):\n",
    "        self.tricks = []  # 인스턴스 변수\n",
    "    \n",
    "    def add_trick(self, trick):\n",
    "        self.tricks.append(trick)"
   ]
  },
  {
   "cell_type": "code",
   "execution_count": 80,
   "metadata": {},
   "outputs": [],
   "source": [
    "dog1 = Dog()\n",
    "dog1.add_trick('roll over')\n",
    "\n",
    "dog2 = Dog()\n",
    "dog2.add_trick('play dead')"
   ]
  },
  {
   "cell_type": "code",
   "execution_count": 81,
   "metadata": {},
   "outputs": [
    {
     "data": {
      "text/plain": [
       "['roll over']"
      ]
     },
     "execution_count": 81,
     "metadata": {},
     "output_type": "execute_result"
    }
   ],
   "source": [
    "dog1.tricks"
   ]
  },
  {
   "cell_type": "code",
   "execution_count": 82,
   "metadata": {},
   "outputs": [
    {
     "data": {
      "text/plain": [
       "['play dead']"
      ]
     },
     "execution_count": 82,
     "metadata": {},
     "output_type": "execute_result"
    }
   ],
   "source": [
    "dog2.tricks"
   ]
  },
  {
   "cell_type": "code",
   "execution_count": null,
   "metadata": {},
   "outputs": [],
   "source": []
  }
 ],
 "metadata": {
  "kernelspec": {
   "display_name": "Python 3",
   "language": "python",
   "name": "python3"
  },
  "language_info": {
   "codemirror_mode": {
    "name": "ipython",
    "version": 3
   },
   "file_extension": ".py",
   "mimetype": "text/x-python",
   "name": "python",
   "nbconvert_exporter": "python",
   "pygments_lexer": "ipython3",
   "version": "3.7.0"
  }
 },
 "nbformat": 4,
 "nbformat_minor": 2
}
