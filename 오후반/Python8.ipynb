{
 "cells": [
  {
   "cell_type": "markdown",
   "metadata": {},
   "source": [
    "## 정규 표현식"
   ]
  },
  {
   "cell_type": "code",
   "execution_count": 18,
   "metadata": {},
   "outputs": [
    {
     "data": {
      "text/plain": [
       "'^01[016-9]-?[1-9]\\\\d{2,3}-?\\\\d{4}$'"
      ]
     },
     "execution_count": 18,
     "metadata": {},
     "output_type": "execute_result"
    }
   ],
   "source": [
    "# 휴대폰번호_패턴 = r\"^01[016-9][1-9]\\d{6,7}$\"\n",
    "# 휴대폰번호_패턴 = r\"^01[016-9]-{0,1}[1-9]\\d{2,3}-{0,1}\\d{4}$\"\n",
    "휴대폰번호_패턴 = r\"^01[016-9]-?[1-9]\\d{2,3}-?\\d{4}$\"\n",
    "휴대폰번호_패턴"
   ]
  },
  {
   "cell_type": "code",
   "execution_count": 22,
   "metadata": {},
   "outputs": [
    {
     "name": "stdout",
     "output_type": "stream",
     "text": [
      "<re.Match object; span=(0, 13), match='010-1234-1234'>\n",
      "휴대폰 번호입니다.\n"
     ]
    }
   ],
   "source": [
    "# 휴대폰번호_입력 = \"저 휴대폰 없어요.\"   # 결과는 ?\n",
    "# 휴대폰번호_입력 = \"01012341234\"     # 결과는?\n",
    "휴대폰번호_입력 = \"010-1234-1234\" # 결과는?\n",
    "# 휴대폰번호_입력 = \"01012341234abcd\" # 결과는?\n",
    "\n",
    "import re  # Regular Expression\n",
    "\n",
    "matched = re.match(휴대폰번호_패턴, 휴대폰번호_입력)\n",
    "print(matched)\n",
    "\n",
    "if matched:  # matched != None\n",
    "    print('휴대폰 번호입니다.')\n",
    "else:\n",
    "    print('휴대폰 번호가 아닙니다.')"
   ]
  },
  {
   "cell_type": "code",
   "execution_count": null,
   "metadata": {},
   "outputs": [],
   "source": []
  },
  {
   "cell_type": "code",
   "execution_count": 23,
   "metadata": {},
   "outputs": [],
   "source": [
    "import requests\n",
    "\n",
    "res = requests.get('http://naver.com')\n",
    "html = res.text"
   ]
  },
  {
   "cell_type": "code",
   "execution_count": 24,
   "metadata": {},
   "outputs": [
    {
     "data": {
      "text/plain": [
       "164598"
      ]
     },
     "execution_count": 24,
     "metadata": {},
     "output_type": "execute_result"
    }
   ],
   "source": [
    "len(html)"
   ]
  },
  {
   "cell_type": "code",
   "execution_count": 37,
   "metadata": {},
   "outputs": [],
   "source": [
    "# re.findall(r'\\d+', html)  # + : 1회 이상 반복\n",
    "# re.findall(r'[a-zA-Z\\d]+', html)\n",
    "# re.findall(r'[ㄱ-힣]+', html)\n",
    "# re.findall(r'이[ㄱ-힣]{1,3}', html)\n",
    "# re.findall(r'[김이박최][ㄱ-힣]{1,3}', html)"
   ]
  },
  {
   "cell_type": "code",
   "execution_count": null,
   "metadata": {},
   "outputs": [],
   "source": []
  },
  {
   "cell_type": "code",
   "execution_count": null,
   "metadata": {},
   "outputs": [],
   "source": [
    "text = \"네이버: SK텔링크\"\n",
    "\n",
    "text = \"네이버에서 SK텔링크 찾아줘.\"\n",
    "text = \"네이버에서 SK텔링크 찾아\"\n",
    "text = \"네이버에서 SK텔링크 찾아줄래?\"\n",
    "text = \"네이버에서 SK텔링크 찾아주지 않으련?\""
   ]
  },
  {
   "cell_type": "code",
   "execution_count": 48,
   "metadata": {},
   "outputs": [
    {
     "name": "stdout",
     "output_type": "stream",
     "text": [
      "이제 네이버 검색할거야. :D\n",
      "(' SK텔링크 ',)\n",
      "네이버에서 SK텔링크 찾아\n",
      " SK텔링크 \n",
      "이제 검색어  SK텔링크 로 검색하겠습니다.\n"
     ]
    }
   ],
   "source": [
    "네이버_검색_패턴 = r\"네이버에서(.+)찾아\"\n",
    "\n",
    "matched = re.match(네이버_검색_패턴, \"네이버에서 SK텔링크 찾아줄래?\")\n",
    "if matched:  # matched != None\n",
    "    print(\"이제 네이버 검색할거야. :D\")\n",
    "    print(matched.groups())\n",
    "    print(matched.group(0))\n",
    "    print(matched.group(1))\n",
    "    \n",
    "#     검색어 = matched.groups()[0]\n",
    "    검색어 = matched.group(1)\n",
    "    print(\"이제 검색어 {}로 검색하겠습니다.\".format(검색어))\n",
    "else:\n",
    "    print(\"검색 못 함. :()\")"
   ]
  },
  {
   "cell_type": "code",
   "execution_count": null,
   "metadata": {},
   "outputs": [],
   "source": []
  }
 ],
 "metadata": {
  "kernelspec": {
   "display_name": "Python 3",
   "language": "python",
   "name": "python3"
  },
  "language_info": {
   "codemirror_mode": {
    "name": "ipython",
    "version": 3
   },
   "file_extension": ".py",
   "mimetype": "text/x-python",
   "name": "python",
   "nbconvert_exporter": "python",
   "pygments_lexer": "ipython3",
   "version": "3.7.0"
  }
 },
 "nbformat": 4,
 "nbformat_minor": 2
}
