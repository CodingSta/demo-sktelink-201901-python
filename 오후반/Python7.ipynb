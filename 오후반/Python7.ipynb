{
 "cells": [
  {
   "cell_type": "markdown",
   "metadata": {},
   "source": [
    "## 주요 빌트인 함수와 정렬"
   ]
  },
  {
   "cell_type": "code",
   "execution_count": 2,
   "metadata": {},
   "outputs": [
    {
     "data": {
      "text/plain": [
       "[25, 34, 56, 3, 46, 55]"
      ]
     },
     "execution_count": 2,
     "metadata": {},
     "output_type": "execute_result"
    }
   ],
   "source": [
    "import random\n",
    "\n",
    "숫자_리스트 = random.sample(range(100), 6)\n",
    "숫자_리스트"
   ]
  },
  {
   "cell_type": "code",
   "execution_count": 5,
   "metadata": {},
   "outputs": [
    {
     "data": {
      "text/plain": [
       "[56, 55, 46, 34, 25, 3]"
      ]
     },
     "execution_count": 5,
     "metadata": {},
     "output_type": "execute_result"
    }
   ],
   "source": [
    "sorted(숫자_리스트, reverse=True)"
   ]
  },
  {
   "cell_type": "code",
   "execution_count": 6,
   "metadata": {},
   "outputs": [
    {
     "data": {
      "text/plain": [
       "[3, 34, 25, 55, 56, 46]"
      ]
     },
     "execution_count": 6,
     "metadata": {},
     "output_type": "execute_result"
    }
   ],
   "source": [
    "def key_fn(value):\n",
    "    return value % 10\n",
    "\n",
    "sorted(숫자_리스트, key=key_fn)"
   ]
  },
  {
   "cell_type": "code",
   "execution_count": 7,
   "metadata": {},
   "outputs": [],
   "source": [
    "학생_리스트 = [\n",
    "    {'이름': '철수', '국어': 100, '영어': 70, '수학': 50},\n",
    "    {'이름': '영희', '국어': 70, '영어': 90, '수학': 80},\n",
    "    {'이름': 'Steve', '국어': 60, '영어': 100, '수학': 80},\n",
    "]"
   ]
  },
  {
   "cell_type": "code",
   "execution_count": 19,
   "metadata": {},
   "outputs": [
    {
     "name": "stdout",
     "output_type": "stream",
     "text": [
      "1 영희 240\n",
      "2 Steve 240\n",
      "3 철수 220\n"
     ]
    }
   ],
   "source": [
    "# 풀이 1)\n",
    "def key_fn(학생):\n",
    "    return 학생['국어'] + 학생['영어'] + 학생['수학']\n",
    "\n",
    "정렬된_리스트 = sorted(학생_리스트, key=key_fn, reverse=True)\n",
    "\n",
    "rank = 1\n",
    "for 학생 in 정렬된_리스트:\n",
    "    총점 = 학생['국어'] + 학생['영어'] + 학생['수학']\n",
    "    print(rank, 학생['이름'], 총점)\n",
    "    rank += 1"
   ]
  },
  {
   "cell_type": "code",
   "execution_count": 31,
   "metadata": {},
   "outputs": [
    {
     "name": "stdout",
     "output_type": "stream",
     "text": [
      "1 영희 240\n",
      "2 Steve 240\n",
      "3 철수 220\n"
     ]
    }
   ],
   "source": [
    "# 풀이 2)\n",
    "for 학생 in 학생_리스트:\n",
    "    학생['총점'] = 학생['국어'] + 학생['영어'] + 학생['수학']\n",
    "    \n",
    "def key_fn(학생):\n",
    "    return 학생['총점']\n",
    "\n",
    "정렬된_리스트 = sorted(학생_리스트, key=key_fn, reverse=True)\n",
    "\n",
    "for rank, 학생 in enumerate(정렬된_리스트, 1):\n",
    "    print('{} {이름} {총점}'.format(rank, **학생))"
   ]
  },
  {
   "cell_type": "code",
   "execution_count": null,
   "metadata": {},
   "outputs": [],
   "source": []
  }
 ],
 "metadata": {
  "kernelspec": {
   "display_name": "Python 3",
   "language": "python",
   "name": "python3"
  },
  "language_info": {
   "codemirror_mode": {
    "name": "ipython",
    "version": 3
   },
   "file_extension": ".py",
   "mimetype": "text/x-python",
   "name": "python",
   "nbconvert_exporter": "python",
   "pygments_lexer": "ipython3",
   "version": "3.7.0"
  }
 },
 "nbformat": 4,
 "nbformat_minor": 2
}
