{
 "cells": [
  {
   "cell_type": "markdown",
   "metadata": {},
   "source": [
    "## 주요 빌트인 함수와 정렬"
   ]
  },
  {
   "cell_type": "code",
   "execution_count": 2,
   "metadata": {},
   "outputs": [
    {
     "data": {
      "text/plain": [
       "[25, 34, 56, 3, 46, 55]"
      ]
     },
     "execution_count": 2,
     "metadata": {},
     "output_type": "execute_result"
    }
   ],
   "source": [
    "import random\n",
    "\n",
    "숫자_리스트 = random.sample(range(100), 6)\n",
    "숫자_리스트"
   ]
  },
  {
   "cell_type": "code",
   "execution_count": 5,
   "metadata": {},
   "outputs": [
    {
     "data": {
      "text/plain": [
       "[56, 55, 46, 34, 25, 3]"
      ]
     },
     "execution_count": 5,
     "metadata": {},
     "output_type": "execute_result"
    }
   ],
   "source": [
    "sorted(숫자_리스트, reverse=True)"
   ]
  },
  {
   "cell_type": "code",
   "execution_count": 6,
   "metadata": {},
   "outputs": [
    {
     "data": {
      "text/plain": [
       "[3, 34, 25, 55, 56, 46]"
      ]
     },
     "execution_count": 6,
     "metadata": {},
     "output_type": "execute_result"
    }
   ],
   "source": [
    "def key_fn(value):\n",
    "    return value % 10\n",
    "\n",
    "sorted(숫자_리스트, key=key_fn)"
   ]
  },
  {
   "cell_type": "code",
   "execution_count": 7,
   "metadata": {},
   "outputs": [],
   "source": [
    "학생_리스트 = [\n",
    "    {'이름': '철수', '국어': 100, '영어': 70, '수학': 50},\n",
    "    {'이름': '영희', '국어': 70, '영어': 90, '수학': 80},\n",
    "    {'이름': 'Steve', '국어': 60, '영어': 100, '수학': 80},\n",
    "]"
   ]
  },
  {
   "cell_type": "code",
   "execution_count": 19,
   "metadata": {},
   "outputs": [
    {
     "name": "stdout",
     "output_type": "stream",
     "text": [
      "1 영희 240\n",
      "2 Steve 240\n",
      "3 철수 220\n"
     ]
    }
   ],
   "source": [
    "# 풀이 1)\n",
    "def key_fn(학생):\n",
    "    return 학생['국어'] + 학생['영어'] + 학생['수학']\n",
    "\n",
    "정렬된_리스트 = sorted(학생_리스트, key=key_fn, reverse=True)\n",
    "\n",
    "rank = 1\n",
    "for 학생 in 정렬된_리스트:\n",
    "    총점 = 학생['국어'] + 학생['영어'] + 학생['수학']\n",
    "    print(rank, 학생['이름'], 총점)\n",
    "    rank += 1"
   ]
  },
  {
   "cell_type": "code",
   "execution_count": 31,
   "metadata": {},
   "outputs": [
    {
     "name": "stdout",
     "output_type": "stream",
     "text": [
      "1 영희 240\n",
      "2 Steve 240\n",
      "3 철수 220\n"
     ]
    }
   ],
   "source": [
    "# 풀이 2)\n",
    "for 학생 in 학생_리스트:\n",
    "    학생['총점'] = 학생['국어'] + 학생['영어'] + 학생['수학']\n",
    "    \n",
    "def key_fn(학생):\n",
    "    return 학생['총점']\n",
    "\n",
    "정렬된_리스트 = sorted(학생_리스트, key=key_fn, reverse=True)\n",
    "\n",
    "for rank, 학생 in enumerate(정렬된_리스트, 1):\n",
    "    print('{} {이름} {총점}'.format(rank, **학생))"
   ]
  },
  {
   "cell_type": "code",
   "execution_count": 36,
   "metadata": {},
   "outputs": [
    {
     "name": "stdout",
     "output_type": "stream",
     "text": [
      "LG-UPLUS-최강가성비.csv       멜론_TOP100.csv\r\n"
     ]
    }
   ],
   "source": [
    "%ls *.csv"
   ]
  },
  {
   "cell_type": "markdown",
   "metadata": {},
   "source": [
    "## 멜론 데이터 정렬"
   ]
  },
  {
   "cell_type": "code",
   "execution_count": 37,
   "metadata": {},
   "outputs": [],
   "source": [
    "import csv\n",
    "\n",
    "with open(\"멜론_TOP100.csv\", \"rt\", encoding=\"utf8\") as f:\n",
    "    reader = csv.DictReader(f)\n",
    "    멜론_top100_리스트 = list(reader)"
   ]
  },
  {
   "cell_type": "code",
   "execution_count": 38,
   "metadata": {},
   "outputs": [
    {
     "data": {
      "text/plain": [
       "100"
      ]
     },
     "execution_count": 38,
     "metadata": {},
     "output_type": "execute_result"
    }
   ],
   "source": [
    "len(멜론_top100_리스트)"
   ]
  },
  {
   "cell_type": "code",
   "execution_count": 44,
   "metadata": {},
   "outputs": [
    {
     "data": {
      "text/plain": [
       "OrderedDict([('곡일련번호', '31346009'),\n",
       "             ('순위', '1'),\n",
       "             ('앨범', '삐삐'),\n",
       "             ('곡명', '삐삐'),\n",
       "             ('가수', '아이유'),\n",
       "             ('커버이미지_주소',\n",
       "              'https://cdnimg.melon.co.kr/cm/album/images/102/10/535/10210535_500.jpg/melon/resize/120/quality/80/optimize'),\n",
       "             ('좋아요', '61528')])"
      ]
     },
     "execution_count": 44,
     "metadata": {},
     "output_type": "execute_result"
    }
   ],
   "source": [
    "멜론_top100_리스트[0]"
   ]
  },
  {
   "cell_type": "code",
   "execution_count": 47,
   "metadata": {},
   "outputs": [
    {
     "name": "stdout",
     "output_type": "stream",
     "text": [
      "1 방탄소년단 - 봄날 359130\n",
      "2 방탄소년단 - DNA 323911\n",
      "3 아이유 - 밤편지 283167\n",
      "4 Wanna One (워너원) - 에너제틱 (Energetic) 268394\n",
      "5 iKON - 사랑을 했다 (LOVE SCENARIO) 267692\n",
      "6 멜로망스 - 선물 266869\n",
      "7 방탄소년단 - FAKE LOVE 253847\n",
      "8 숀 (SHAUN) - Way Back Home 225308\n",
      "9 Wanna One (워너원) - Beautiful 216065\n",
      "10 장덕철 - 그날처럼 208427\n"
     ]
    }
   ],
   "source": [
    "def key_fn(곡):\n",
    "    return int(곡['좋아요'])\n",
    "\n",
    "정렬된_리스트 = sorted(멜론_top100_리스트, key=key_fn, reverse=True)\n",
    "\n",
    "for rank, 곡 in enumerate(정렬된_리스트[:10], 1):\n",
    "    print('{} {가수} - {곡명} {좋아요}'.format(rank, **곡))\n",
    "\n",
    "# 좋아요(정수) 로 내림차순 정렬 => 좋아요 랭킹\n",
    "# 좋아요 랭킹 1위 ~ 10위까지만 출력해보세요."
   ]
  },
  {
   "cell_type": "markdown",
   "metadata": {},
   "source": [
    "### filter"
   ]
  },
  {
   "cell_type": "code",
   "execution_count": 48,
   "metadata": {},
   "outputs": [
    {
     "data": {
      "text/plain": [
       "100"
      ]
     },
     "execution_count": 48,
     "metadata": {},
     "output_type": "execute_result"
    }
   ],
   "source": [
    "len(멜론_top100_리스트)"
   ]
  },
  {
   "cell_type": "code",
   "execution_count": 49,
   "metadata": {},
   "outputs": [
    {
     "data": {
      "text/plain": [
       "57"
      ]
     },
     "execution_count": 49,
     "metadata": {},
     "output_type": "execute_result"
    }
   ],
   "source": [
    "# set comprehension 활용\n",
    "len({ 곡['가수'] for 곡 in 멜론_top100_리스트 })"
   ]
  },
  {
   "cell_type": "code",
   "execution_count": 50,
   "metadata": {},
   "outputs": [
    {
     "data": {
      "text/plain": [
       "[0, 1, 4, 9, 16, 25, 36, 49, 64, 81]"
      ]
     },
     "execution_count": 50,
     "metadata": {},
     "output_type": "execute_result"
    }
   ],
   "source": [
    "[i ** 2 for i in range(10)] # list comprehension"
   ]
  },
  {
   "cell_type": "code",
   "execution_count": 51,
   "metadata": {
    "collapsed": true
   },
   "outputs": [
    {
     "name": "stdout",
     "output_type": "stream",
     "text": [
      "방탄소년단 - IDOL (173279)\n",
      "방탄소년단 - I`m Fine (132847)\n",
      "방탄소년단 - FAKE LOVE (253847)\n",
      "방탄소년단 - Euphoria (129017)\n",
      "방탄소년단 - Answer : Love Myself (108151)\n",
      "방탄소년단 - 전하지 못한 진심 (Feat. Steve Aoki) (176653)\n",
      "방탄소년단 - Epiphany (101011)\n",
      "방탄소년단 - Trivia 轉 : Seesaw (98436)\n",
      "방탄소년단 - Trivia 起 : Just Dance (88970)\n",
      "방탄소년단 - Trivia 承 : Love (83610)\n",
      "방탄소년단 - Anpanman (138694)\n",
      "방탄소년단 - 봄날 (359130)\n",
      "방탄소년단 - DNA (323911)\n",
      "방탄소년단 - Airplane pt.2 (127355)\n"
     ]
    }
   ],
   "source": [
    "for 곡 in 멜론_top100_리스트:\n",
    "    if 곡['가수'] == '방탄소년단':\n",
    "        print('{가수} - {곡명} ({좋아요})'.format(**곡))"
   ]
  },
  {
   "cell_type": "code",
   "execution_count": 72,
   "metadata": {},
   "outputs": [
    {
     "data": {
      "text/plain": [
       "False"
      ]
     },
     "execution_count": 72,
     "metadata": {},
     "output_type": "execute_result"
    }
   ],
   "source": [
    "'사랑' in '사 랑해요'"
   ]
  },
  {
   "cell_type": "code",
   "execution_count": 71,
   "metadata": {},
   "outputs": [
    {
     "data": {
      "text/plain": [
       "False"
      ]
     },
     "execution_count": 71,
     "metadata": {},
     "output_type": "execute_result"
    }
   ],
   "source": [
    "'Love' in 'LOVE LOVE'  # 정규표현식"
   ]
  },
  {
   "cell_type": "code",
   "execution_count": 76,
   "metadata": {},
   "outputs": [
    {
     "name": "stdout",
     "output_type": "stream",
     "text": [
      "Coogie - 사임사임 (Feat. CHANGMO) (27564)\n",
      "바이브 - 가을 타나 봐 (28056)\n",
      "박원 - 나 (26696)\n",
      "임한별 - 이별하러 가는 길 (25182)\n",
      "바이브 - Not A Love (2508)\n",
      "nafla - 공상과학기술 (Feat. 기리보이, 스윙스) (13148)\n",
      "김효은 - 패 (Feat. 넉살, 딥플로우) (10536)\n",
      "뉴이스트 W - AND I (20736)\n",
      "뉴이스트 W - I Don’t Care (with 스푼즈) (13544)\n",
      "정승환 - 잘 지내요 (25169)\n",
      "10cm - Perfect (24732)\n",
      "뉴이스트 W - Signal (27270)\n",
      "뉴이스트 W - ylenoL (26136)\n",
      "뉴이스트 W - 중력달 (Gravity&Moon;) (26091)\n"
     ]
    }
   ],
   "source": [
    "def filter_fn(곡):\n",
    "#     return 곡['가수'] == '방탄소년단'  # 곡명에 \"방탄소년단\"이 포함된 곡\n",
    "#     return '사랑' in 곡['곡명']    # 곡명에 \"사랑\"이 포함된 곡\n",
    "    return 2000 <= int(곡['좋아요']) <= 30000  # 2000 <= 좋아요 <= 30000\n",
    "\n",
    "for 곡 in filter(filter_fn, 멜론_top100_리스트):\n",
    "    print('{가수} - {곡명} ({좋아요})'.format(**곡))"
   ]
  },
  {
   "cell_type": "markdown",
   "metadata": {},
   "source": [
    "## map"
   ]
  },
  {
   "cell_type": "code",
   "execution_count": 77,
   "metadata": {},
   "outputs": [
    {
     "data": {
      "text/plain": [
       "[0, 1, 2, 3, 4, 5, 6, 7, 8, 9]"
      ]
     },
     "execution_count": 77,
     "metadata": {},
     "output_type": "execute_result"
    }
   ],
   "source": [
    "숫자_리스트 = list(range(10))\n",
    "숫자_리스트"
   ]
  },
  {
   "cell_type": "code",
   "execution_count": 82,
   "metadata": {},
   "outputs": [
    {
     "data": {
      "text/plain": [
       "<map at 0x103584978>"
      ]
     },
     "execution_count": 82,
     "metadata": {},
     "output_type": "execute_result"
    }
   ],
   "source": [
    "def map_fn(value):\n",
    "    return value ** 2\n",
    "\n",
    "map(map_fn, 숫자_리스트)  # [0, 1, 4, 9, 16, 25, 36, 49, 64, 81]"
   ]
  },
  {
   "cell_type": "code",
   "execution_count": 80,
   "metadata": {},
   "outputs": [
    {
     "data": {
      "text/plain": [
       "[0, 1, 4, 9, 16, 25, 36, 49, 64, 81]"
      ]
     },
     "execution_count": 80,
     "metadata": {},
     "output_type": "execute_result"
    }
   ],
   "source": [
    "새로운_리스트 = []\n",
    "for i in 숫자_리스트:\n",
    "    새로운_리스트.append(i ** 2)\n",
    "새로운_리스트"
   ]
  },
  {
   "cell_type": "code",
   "execution_count": 81,
   "metadata": {},
   "outputs": [
    {
     "data": {
      "text/plain": [
       "[0, 1, 4, 9, 16, 25, 36, 49, 64, 81]"
      ]
     },
     "execution_count": 81,
     "metadata": {},
     "output_type": "execute_result"
    }
   ],
   "source": [
    "[i**2 for i in 숫자_리스트]"
   ]
  },
  {
   "cell_type": "code",
   "execution_count": null,
   "metadata": {},
   "outputs": [],
   "source": []
  },
  {
   "cell_type": "code",
   "execution_count": 85,
   "metadata": {},
   "outputs": [],
   "source": [
    "# range(100)\n",
    "\n",
    "# 짝수인 경우에 한해, 제곱으로 구성된 목록을 만들겠다.\n",
    "결과_리스트 = []\n",
    "for i in range(100):\n",
    "    if i % 2 == 0:\n",
    "        결과_리스트.append(i ** 2)\n",
    "# 결과_리스트"
   ]
  },
  {
   "cell_type": "code",
   "execution_count": 88,
   "metadata": {},
   "outputs": [
    {
     "name": "stdout",
     "output_type": "stream",
     "text": [
      "0\n",
      "4\n",
      "16\n",
      "36\n",
      "64\n",
      "100\n",
      "144\n",
      "196\n",
      "256\n",
      "324\n",
      "400\n",
      "484\n",
      "576\n",
      "676\n",
      "784\n",
      "900\n",
      "1024\n",
      "1156\n",
      "1296\n",
      "1444\n",
      "1600\n",
      "1764\n",
      "1936\n",
      "2116\n",
      "2304\n",
      "2500\n",
      "2704\n",
      "2916\n",
      "3136\n",
      "3364\n",
      "3600\n",
      "3844\n",
      "4096\n",
      "4356\n",
      "4624\n",
      "4900\n",
      "5184\n",
      "5476\n",
      "5776\n",
      "6084\n",
      "6400\n",
      "6724\n",
      "7056\n",
      "7396\n",
      "7744\n",
      "8100\n",
      "8464\n",
      "8836\n",
      "9216\n",
      "9604\n"
     ]
    }
   ],
   "source": [
    "def filter_fn(value):\n",
    "    return value % 2 == 0\n",
    "\n",
    "def map_fn(value):\n",
    "    return value ** 2\n",
    "\n",
    "for i in map(map_fn, filter(filter_fn, range(100))):\n",
    "    print(i)"
   ]
  },
  {
   "cell_type": "markdown",
   "metadata": {},
   "source": [
    "## max/min"
   ]
  },
  {
   "cell_type": "code",
   "execution_count": 92,
   "metadata": {},
   "outputs": [
    {
     "data": {
      "text/plain": [
       "-110"
      ]
     },
     "execution_count": 92,
     "metadata": {},
     "output_type": "execute_result"
    }
   ],
   "source": [
    "max([1, 100, -110], key=abs)"
   ]
  },
  {
   "cell_type": "code",
   "execution_count": 93,
   "metadata": {},
   "outputs": [
    {
     "data": {
      "text/plain": [
       "1"
      ]
     },
     "execution_count": 93,
     "metadata": {},
     "output_type": "execute_result"
    }
   ],
   "source": [
    "min([1, 100, -110], key=abs)"
   ]
  },
  {
   "cell_type": "code",
   "execution_count": 95,
   "metadata": {},
   "outputs": [
    {
     "data": {
      "text/plain": [
       "0"
      ]
     },
     "execution_count": 95,
     "metadata": {},
     "output_type": "execute_result"
    }
   ],
   "source": [
    "max([], default=0)"
   ]
  },
  {
   "cell_type": "code",
   "execution_count": 101,
   "metadata": {},
   "outputs": [
    {
     "data": {
      "text/plain": [
       "OrderedDict([('곡일련번호', '30244931'),\n",
       "             ('순위', '26'),\n",
       "             ('앨범', 'YOU NEVER WALK ALONE'),\n",
       "             ('곡명', '봄날'),\n",
       "             ('가수', '방탄소년단'),\n",
       "             ('커버이미지_주소',\n",
       "              'https://cdnimg.melon.co.kr/cm/album/images/100/37/969/10037969_500.jpg/melon/resize/120/quality/80/optimize'),\n",
       "             ('좋아요', '359130')])"
      ]
     },
     "execution_count": 101,
     "metadata": {},
     "output_type": "execute_result"
    }
   ],
   "source": [
    "# 좋아요 수가 가장 많은 곡?\n",
    "def key_fn(곡):\n",
    "    return int(곡['좋아요'])\n",
    "\n",
    "max(멜론_top100_리스트, key=key_fn)"
   ]
  },
  {
   "cell_type": "markdown",
   "metadata": {},
   "source": [
    "## 대소비교"
   ]
  },
  {
   "cell_type": "code",
   "execution_count": 102,
   "metadata": {},
   "outputs": [
    {
     "data": {
      "text/plain": [
       "False"
      ]
     },
     "execution_count": 102,
     "metadata": {},
     "output_type": "execute_result"
    }
   ],
   "source": [
    "10 < 9"
   ]
  },
  {
   "cell_type": "code",
   "execution_count": 105,
   "metadata": {},
   "outputs": [
    {
     "data": {
      "text/plain": [
       "True"
      ]
     },
     "execution_count": 105,
     "metadata": {},
     "output_type": "execute_result"
    }
   ],
   "source": [
    "\"10\" < \"9\"\n",
    "\n",
    "[\"1\", \"0\"] < [\"9\"]"
   ]
  },
  {
   "cell_type": "code",
   "execution_count": 113,
   "metadata": {},
   "outputs": [
    {
     "name": "stdout",
     "output_type": "stream",
     "text": [
      "(여자)아이들, 한(一), 69062\n",
      "10cm, 매트리스, 62312\n",
      "10cm, Perfect, 24732\n",
      "Apink (에이핑크), 1도 없어, 88037\n",
      "BLACKPINK, 뚜두뚜두 (DDU-DU DDU-DU), 192831\n",
      "BLACKPINK, Forever Young, 119422\n",
      "Coogie, 사임사임 (Feat. CHANGMO), 27564\n",
      "EXO, Universe, 155809\n",
      "EXO, 지나갈 테니 (Been Through), 88331\n",
      "EXO, Stay, 81556\n",
      "EXO-CBX (첸백시), 花요일 (Blooming Day), 110311\n",
      "Fitz & The Tantrums, HandClap, 156476\n",
      "NU`EST, 여보세요, 126064\n",
      "Red Velvet (레드벨벳), Power Up, 130949\n",
      "TWICE (트와이스), Dance The Night Away, 127052\n",
      "TWICE (트와이스), What is Love?, 121530\n",
      "Wanna One (워너원), 에너제틱 (Energetic), 268394\n",
      "Wanna One (워너원), Beautiful, 216065\n",
      "Wanna One (워너원), 약속해요 (I.P.U.), 137141\n",
      "Wanna One (워너원), BOOMERANG (부메랑), 124968\n",
      "Wanna One (워너원), 켜줘 (Light), 112878\n",
      "Wanna One (워너원) - 남바완, 11 (Prod. 다이나믹듀오), 67211\n",
      "Wanna One (워너원) - 더힐, 모래시계 (Prod. 헤이즈), 83296\n",
      "Wanna One (워너원) - 린온미, 영원+1 (Prod. NELL), 76313\n",
      "Wanna One (워너원) - 트리플포지션, 캥거루 (Kangaroo) (Prod. ZICO), 104852\n",
      "iKON, 사랑을 했다 (LOVE SCENARIO), 267692\n",
      "iKON, 죽겠다 (KILLING ME), 66253\n",
      "iKON, 이별길 (GOODBYE ROAD), 55396\n",
      "nafla, 공상과학기술 (Feat. 기리보이, 스윙스), 13148\n",
      "pH-1, Good Day (Feat. 팔로알토) (Prod. 코드 쿤스트), 54022\n",
      "기리보이, flex (Prod. By 기리보이), 72135\n",
      "김효은, 패 (Feat. 넉살, 딥플로우), 10536\n",
      "뉴이스트 W, WHERE YOU AT, 92753\n",
      "뉴이스트 W, Dejavu, 53081\n",
      "뉴이스트 W, 북극성 (Polaris), 32098\n",
      "뉴이스트 W, Signal, 27270\n",
      "뉴이스트 W, ylenoL, 26136\n",
      "뉴이스트 W, 중력달 (Gravity&Moon;), 26091\n",
      "뉴이스트 W, AND I, 20736\n",
      "뉴이스트 W, I Don’t Care (with 스푼즈), 13544\n",
      "닐로 (Nilo), 지나오다, 178367\n",
      "닐로 (Nilo), 넋두리, 81028\n",
      "레이 (LAY), Sheep (Alan Walker Relift), 30411\n",
      "로꼬, 주지마, 154263\n",
      "로꼬, 시간이 들겠지 (Feat. Colde), 48331\n",
      "로이킴, 그때 헤어지면 돼, 176025\n",
      "로이킴, 우리 그만하자, 95771\n",
      "마마무(Mamamoo), 별이 빛나는 밤, 145494\n",
      "마마무(Mamamoo), 너나 해 (Egotistic), 94861\n",
      "먼데이 키즈 (Monday Kiz), 가을 안부, 109447\n",
      "멜로망스, 선물, 266869\n",
      "멜로망스, You, 141103\n",
      "멜로망스, 동화, 81522\n",
      "멜로망스, 좋은 날, 33146\n",
      "모트 (Motte), 도망가지마, 48716\n",
      "바이브, 가을 타나 봐, 28056\n",
      "바이브, Not A Love, 2508\n",
      "박원, 나, 26696\n",
      "방탄소년단, 봄날, 359130\n",
      "방탄소년단, DNA, 323911\n",
      "방탄소년단, FAKE LOVE, 253847\n",
      "방탄소년단, 전하지 못한 진심 (Feat. Steve Aoki), 176653\n",
      "방탄소년단, IDOL, 173279\n",
      "방탄소년단, Anpanman, 138694\n",
      "방탄소년단, I`m Fine, 132847\n",
      "방탄소년단, Euphoria, 129017\n",
      "방탄소년단, Airplane pt.2, 127355\n",
      "방탄소년단, Answer : Love Myself, 108151\n",
      "방탄소년단, Epiphany, 101011\n",
      "방탄소년단, Trivia 轉 : Seesaw, 98436\n",
      "방탄소년단, Trivia 起 : Just Dance, 88970\n",
      "방탄소년단, Trivia 承 : Love, 83610\n",
      "백현 (BAEKHYUN), YOUNG, 91106\n",
      "벤, 열애중, 115805\n",
      "볼빨간사춘기, 여행, 190489\n",
      "비투비, 그리워하다, 203463\n",
      "비투비, 너 없인 안 된다, 132726\n",
      "선미, 사이렌 (Siren), 91516\n",
      "세븐틴, A-TEEN, 75932\n",
      "세븐틴, 어쩌나, 64770\n",
      "소녀시대-Oh!GG, 몰랐니 (Lil` Touch), 42853\n",
      "숀 (SHAUN), Way Back Home, 225308\n",
      "승리, 셋 셀테니 (1, 2, 3!), 78381\n",
      "아이유, 밤편지, 283167\n",
      "아이유, 삐삐, 61528\n",
      "양다일, 미안해, 115955\n",
      "여자친구 (GFRIEND), 밤 (Time for the moon night), 125760\n",
      "용준형, 소나기 (Feat. 10cm), 130935\n",
      "이수 (엠씨 더 맥스), My Way, 119657\n",
      "임창정, 하루도 그대를 사랑하지 않은 적이 없었다, 97984\n",
      "임한별, 이별하러 가는 길, 25182\n",
      "장덕철, 그날처럼, 208427\n",
      "저스디스 (JUSTHIS), IndiGO, 46739\n",
      "정승환, 잘 지내요, 25169\n",
      "지코 (ZICO), SoulMate (Feat. 아이유), 113443\n",
      "찬열, We Young, 53852\n",
      "청하, Love U, 61670\n",
      "펀치 (Punch), 헤어지는 중, 77050\n",
      "폴킴, 모든 날, 모든 순간 (Every day, Every Moment), 185706\n",
      "폴킴, 비, 156761\n"
     ]
    }
   ],
   "source": [
    "# 1차 : \"가수\" -> 오름차순\n",
    "# 2차 : \"좋아요\" -> 내림차순\n",
    "# Hint : list or tuple\n",
    "def key_fn(곡):\n",
    "    return 곡['가수'], int(곡['좋아요']) * -1\n",
    "\n",
    "정렬된_리스트 = sorted(멜론_top100_리스트, key=key_fn, reverse=False)\n",
    "\n",
    "for 곡 in 정렬된_리스트:\n",
    "    print('{가수}, {곡명}, {좋아요}'.format(**곡))"
   ]
  },
  {
   "cell_type": "markdown",
   "metadata": {},
   "source": [
    "## LG-UPLUS-최강가성비 데이터"
   ]
  },
  {
   "cell_type": "code",
   "execution_count": 114,
   "metadata": {},
   "outputs": [],
   "source": [
    "import csv\n",
    "\n",
    "with open(\"LG-UPLUS-최강가성비.csv\", \"rt\", encoding=\"utf8\") as f:\n",
    "    reader = csv.DictReader(f)\n",
    "    요금_리스트 = list(reader)"
   ]
  },
  {
   "cell_type": "code",
   "execution_count": 116,
   "metadata": {},
   "outputs": [
    {
     "data": {
      "text/plain": [
       "30"
      ]
     },
     "execution_count": 116,
     "metadata": {},
     "output_type": "execute_result"
    }
   ],
   "source": [
    "len(요금_리스트)"
   ]
  },
  {
   "cell_type": "code",
   "execution_count": 117,
   "metadata": {},
   "outputs": [
    {
     "data": {
      "text/plain": [
       "odict_keys(['휴대폰명', '모델명', '정상가(A)', '휴대폰지원금(B)', '다이렉트몰추가지원금(C)', '실제구입가(A-B-C)', '지원금 등록일', '구매하기'])"
      ]
     },
     "execution_count": 117,
     "metadata": {},
     "output_type": "execute_result"
    }
   ],
   "source": [
    "요금_리스트[0].keys()"
   ]
  },
  {
   "cell_type": "code",
   "execution_count": 119,
   "metadata": {},
   "outputs": [
    {
     "data": {
      "text/plain": [
       "OrderedDict([('휴대폰명', '갤럭시 A9 Pro'),\n",
       "             ('모델명', 'SM-G887N'),\n",
       "             ('정상가(A)', '599,500원'),\n",
       "             ('휴대폰지원금(B)', '400,000원'),\n",
       "             ('다이렉트몰추가지원금(C)', '0원'),\n",
       "             ('실제구입가(A-B-C)', '199,500원'),\n",
       "             ('지원금 등록일', '2019.01.29'),\n",
       "             ('구매하기', '구매')])"
      ]
     },
     "execution_count": 119,
     "metadata": {},
     "output_type": "execute_result"
    }
   ],
   "source": [
    "요금_리스트[0]"
   ]
  },
  {
   "cell_type": "code",
   "execution_count": 124,
   "metadata": {},
   "outputs": [
    {
     "data": {
      "text/plain": [
       "599500"
      ]
     },
     "execution_count": 124,
     "metadata": {},
     "output_type": "execute_result"
    }
   ],
   "source": [
    "int('599,500원'.replace(',', '').replace('원', ''))"
   ]
  },
  {
   "cell_type": "code",
   "execution_count": 125,
   "metadata": {},
   "outputs": [],
   "source": [
    "def 요금_문자열_to_정수(요금_문자열):\n",
    "    return int(요금_문자열.replace(',', '').replace('원', ''))\n",
    "\n",
    "# 데이터 전처리\n",
    "for 휴대폰 in 요금_리스트:\n",
    "    휴대폰['정상가(A)'] = 요금_문자열_to_정수(휴대폰['정상가(A)'])\n",
    "    휴대폰['휴대폰지원금(B)'] = 요금_문자열_to_정수(휴대폰['휴대폰지원금(B)'])\n",
    "    휴대폰['다이렉트몰추가지원금(C)'] = 요금_문자열_to_정수(휴대폰['다이렉트몰추가지원금(C)'])\n",
    "    휴대폰['실제구입가(A-B-C)'] = 요금_문자열_to_정수(휴대폰['실제구입가(A-B-C)'])"
   ]
  },
  {
   "cell_type": "code",
   "execution_count": 126,
   "metadata": {},
   "outputs": [
    {
     "name": "stdout",
     "output_type": "stream",
     "text": [
      "갤럭시 J6 : 0\n",
      "Q7 : 0\n",
      "카카오리틀프렌즈폰 : 0\n",
      "X5 : 0\n",
      "J2 Pro : 0\n",
      "갤럭시 On7 Prime : 0\n",
      "MVNO 리프레시 갤럭시 S8 64G : 0\n",
      "Q9 : 49400\n",
      "X2 : 71500\n",
      "갤럭시 J4+ : 75400\n",
      "LG 폴더 : 93500\n",
      "MVNO 리프레시 갤럭시 노트8 64G : 119000\n",
      "갤럭시 J3 2017 : 130350\n",
      "MVNO 리프레시 갤럭시 노트8 256G : 149000\n",
      "갤럭시 폴더 2017 : 183150\n",
      "Q8 (2018) : 189000\n",
      "갤럭시 A6 : 193600\n",
      "G7 : 198700\n",
      "갤럭시 A9 Pro : 199500\n",
      "갤럭시 A8 : 199500\n",
      "MVNO 리프레시 갤럭시 S9 64G : 480600\n",
      "G7+ : 526800\n",
      "갤럭시 S9 : 597000\n",
      "갤럭시 S9+ : 608000\n",
      "갤럭시 노트8 : 638800\n",
      "V40 : 699400\n",
      "MVNO 리프레시 아이폰X 64G : 708560\n",
      "갤럭시 노트9 : 794500\n",
      "MVNO 리프레시 아이폰X 256G : 866000\n",
      "갤럭시 노트9 512GB : 1053000\n"
     ]
    }
   ],
   "source": [
    "def key_fn(휴대폰):\n",
    "    return 휴대폰['실제구입가(A-B-C)']\n",
    "\n",
    "for 휴대폰 in sorted(요금_리스트, key=key_fn):\n",
    "    print('{휴대폰명} : {실제구입가(A-B-C)}'.format(**휴대폰))"
   ]
  },
  {
   "cell_type": "code",
   "execution_count": null,
   "metadata": {},
   "outputs": [],
   "source": []
  },
  {
   "cell_type": "markdown",
   "metadata": {},
   "source": [
    "## Pandas 샘플"
   ]
  },
  {
   "cell_type": "code",
   "execution_count": 127,
   "metadata": {},
   "outputs": [],
   "source": [
    "import pandas as pd  # 데이터 분석 및 데이터 전처리 라이브러리"
   ]
  },
  {
   "cell_type": "code",
   "execution_count": 130,
   "metadata": {
    "collapsed": true
   },
   "outputs": [
    {
     "name": "stdout",
     "output_type": "stream",
     "text": [
      "(30, 7)\n"
     ]
    },
    {
     "data": {
      "text/html": [
       "<div>\n",
       "<style scoped>\n",
       "    .dataframe tbody tr th:only-of-type {\n",
       "        vertical-align: middle;\n",
       "    }\n",
       "\n",
       "    .dataframe tbody tr th {\n",
       "        vertical-align: top;\n",
       "    }\n",
       "\n",
       "    .dataframe thead th {\n",
       "        text-align: right;\n",
       "    }\n",
       "</style>\n",
       "<table border=\"1\" class=\"dataframe\">\n",
       "  <thead>\n",
       "    <tr style=\"text-align: right;\">\n",
       "      <th></th>\n",
       "      <th>모델명</th>\n",
       "      <th>정상가(A)</th>\n",
       "      <th>휴대폰지원금(B)</th>\n",
       "      <th>다이렉트몰추가지원금(C)</th>\n",
       "      <th>실제구입가(A-B-C)</th>\n",
       "      <th>지원금 등록일</th>\n",
       "      <th>구매하기</th>\n",
       "    </tr>\n",
       "    <tr>\n",
       "      <th>휴대폰명</th>\n",
       "      <th></th>\n",
       "      <th></th>\n",
       "      <th></th>\n",
       "      <th></th>\n",
       "      <th></th>\n",
       "      <th></th>\n",
       "      <th></th>\n",
       "    </tr>\n",
       "  </thead>\n",
       "  <tbody>\n",
       "    <tr>\n",
       "      <th>갤럭시 A9 Pro</th>\n",
       "      <td>SM-G887N</td>\n",
       "      <td>599,500원</td>\n",
       "      <td>400,000원</td>\n",
       "      <td>0원</td>\n",
       "      <td>199,500원</td>\n",
       "      <td>2019.01.29</td>\n",
       "      <td>구매</td>\n",
       "    </tr>\n",
       "    <tr>\n",
       "      <th>Q9</th>\n",
       "      <td>LM-Q925L</td>\n",
       "      <td>499,400원</td>\n",
       "      <td>450,000원</td>\n",
       "      <td>0원</td>\n",
       "      <td>49,400원</td>\n",
       "      <td>2019.01.15</td>\n",
       "      <td>구매</td>\n",
       "    </tr>\n",
       "    <tr>\n",
       "      <th>갤럭시 J4+</th>\n",
       "      <td>SM-J415N</td>\n",
       "      <td>264,000원</td>\n",
       "      <td>164,000원</td>\n",
       "      <td>24,600원</td>\n",
       "      <td>75,400원</td>\n",
       "      <td>2018.11.24</td>\n",
       "      <td>구매</td>\n",
       "    </tr>\n",
       "    <tr>\n",
       "      <th>V40</th>\n",
       "      <td>LM-V409N</td>\n",
       "      <td>1,049,400원</td>\n",
       "      <td>350,000원</td>\n",
       "      <td>0원</td>\n",
       "      <td>699,400원</td>\n",
       "      <td>2018.10.24</td>\n",
       "      <td>구매</td>\n",
       "    </tr>\n",
       "    <tr>\n",
       "      <th>갤럭시 노트9</th>\n",
       "      <td>SM-N960N</td>\n",
       "      <td>1,094,500원</td>\n",
       "      <td>300,000원</td>\n",
       "      <td>0원</td>\n",
       "      <td>794,500원</td>\n",
       "      <td>2018.08.21</td>\n",
       "      <td>구매</td>\n",
       "    </tr>\n",
       "  </tbody>\n",
       "</table>\n",
       "</div>"
      ],
      "text/plain": [
       "                 모델명      정상가(A) 휴대폰지원금(B) 다이렉트몰추가지원금(C) 실제구입가(A-B-C)  \\\n",
       "휴대폰명                                                                    \n",
       "갤럭시 A9 Pro  SM-G887N    599,500원  400,000원            0원     199,500원   \n",
       "Q9          LM-Q925L    499,400원  450,000원            0원      49,400원   \n",
       "갤럭시 J4+     SM-J415N    264,000원  164,000원       24,600원      75,400원   \n",
       "V40         LM-V409N  1,049,400원  350,000원            0원     699,400원   \n",
       "갤럭시 노트9     SM-N960N  1,094,500원  300,000원            0원     794,500원   \n",
       "\n",
       "               지원금 등록일 구매하기  \n",
       "휴대폰명                         \n",
       "갤럭시 A9 Pro  2019.01.29   구매  \n",
       "Q9          2019.01.15   구매  \n",
       "갤럭시 J4+     2018.11.24   구매  \n",
       "V40         2018.10.24   구매  \n",
       "갤럭시 노트9     2018.08.21   구매  "
      ]
     },
     "execution_count": 130,
     "metadata": {},
     "output_type": "execute_result"
    }
   ],
   "source": [
    "df = pd.read_csv('LG-UPLUS-최강가성비.csv', index_col='휴대폰명')\n",
    "print(df.shape)\n",
    "df.head()"
   ]
  },
  {
   "cell_type": "code",
   "execution_count": 131,
   "metadata": {
    "collapsed": true
   },
   "outputs": [
    {
     "data": {
      "text/html": [
       "<div>\n",
       "<style scoped>\n",
       "    .dataframe tbody tr th:only-of-type {\n",
       "        vertical-align: middle;\n",
       "    }\n",
       "\n",
       "    .dataframe tbody tr th {\n",
       "        vertical-align: top;\n",
       "    }\n",
       "\n",
       "    .dataframe thead th {\n",
       "        text-align: right;\n",
       "    }\n",
       "</style>\n",
       "<table border=\"1\" class=\"dataframe\">\n",
       "  <thead>\n",
       "    <tr style=\"text-align: right;\">\n",
       "      <th></th>\n",
       "      <th>모델명</th>\n",
       "      <th>정상가(A)</th>\n",
       "      <th>휴대폰지원금(B)</th>\n",
       "      <th>다이렉트몰추가지원금(C)</th>\n",
       "      <th>실제구입가(A-B-C)</th>\n",
       "      <th>지원금 등록일</th>\n",
       "      <th>구매하기</th>\n",
       "    </tr>\n",
       "    <tr>\n",
       "      <th>휴대폰명</th>\n",
       "      <th></th>\n",
       "      <th></th>\n",
       "      <th></th>\n",
       "      <th></th>\n",
       "      <th></th>\n",
       "      <th></th>\n",
       "      <th></th>\n",
       "    </tr>\n",
       "  </thead>\n",
       "  <tbody>\n",
       "    <tr>\n",
       "      <th>갤럭시 J6</th>\n",
       "      <td>SM-J600L</td>\n",
       "      <td>330,000원</td>\n",
       "      <td>330,000원</td>\n",
       "      <td>0원</td>\n",
       "      <td>0원</td>\n",
       "      <td>2019.01.01</td>\n",
       "      <td>구매</td>\n",
       "    </tr>\n",
       "    <tr>\n",
       "      <th>Q7</th>\n",
       "      <td>LM-Q720L</td>\n",
       "      <td>419,100원</td>\n",
       "      <td>400,000원</td>\n",
       "      <td>19,100원</td>\n",
       "      <td>0원</td>\n",
       "      <td>2018.12.20</td>\n",
       "      <td>구매</td>\n",
       "    </tr>\n",
       "    <tr>\n",
       "      <th>카카오리틀프렌즈폰</th>\n",
       "      <td>SM-J330L-KA</td>\n",
       "      <td>286,000원</td>\n",
       "      <td>286,000원</td>\n",
       "      <td>0원</td>\n",
       "      <td>0원</td>\n",
       "      <td>2018.09.04</td>\n",
       "      <td>구매</td>\n",
       "    </tr>\n",
       "    <tr>\n",
       "      <th>X5</th>\n",
       "      <td>LM-X510L</td>\n",
       "      <td>363,000원</td>\n",
       "      <td>363,000원</td>\n",
       "      <td>0원</td>\n",
       "      <td>0원</td>\n",
       "      <td>2018.06.26</td>\n",
       "      <td>구매</td>\n",
       "    </tr>\n",
       "    <tr>\n",
       "      <th>J2 Pro</th>\n",
       "      <td>SM-J250N</td>\n",
       "      <td>199,100원</td>\n",
       "      <td>180,000원</td>\n",
       "      <td>19,100원</td>\n",
       "      <td>0원</td>\n",
       "      <td>2018.04.24</td>\n",
       "      <td>구매</td>\n",
       "    </tr>\n",
       "    <tr>\n",
       "      <th>갤럭시 On7 Prime</th>\n",
       "      <td>SM-G611L</td>\n",
       "      <td>344,300원</td>\n",
       "      <td>300,000원</td>\n",
       "      <td>44,300원</td>\n",
       "      <td>0원</td>\n",
       "      <td>2018.02.10</td>\n",
       "      <td>구매</td>\n",
       "    </tr>\n",
       "    <tr>\n",
       "      <th>MVNO 리프레시 갤럭시 S8 64G</th>\n",
       "      <td>RF-SM-G950N</td>\n",
       "      <td>484,000원</td>\n",
       "      <td>484,000원</td>\n",
       "      <td>0원</td>\n",
       "      <td>0원</td>\n",
       "      <td>2018.12.08</td>\n",
       "      <td>구매</td>\n",
       "    </tr>\n",
       "  </tbody>\n",
       "</table>\n",
       "</div>"
      ],
      "text/plain": [
       "                              모델명    정상가(A) 휴대폰지원금(B) 다이렉트몰추가지원금(C)  \\\n",
       "휴대폰명                                                                  \n",
       "갤럭시 J6                   SM-J600L  330,000원  330,000원            0원   \n",
       "Q7                       LM-Q720L  419,100원  400,000원       19,100원   \n",
       "카카오리틀프렌즈폰             SM-J330L-KA  286,000원  286,000원            0원   \n",
       "X5                       LM-X510L  363,000원  363,000원            0원   \n",
       "J2 Pro                   SM-J250N  199,100원  180,000원       19,100원   \n",
       "갤럭시 On7 Prime            SM-G611L  344,300원  300,000원       44,300원   \n",
       "MVNO 리프레시 갤럭시 S8 64G  RF-SM-G950N  484,000원  484,000원            0원   \n",
       "\n",
       "                     실제구입가(A-B-C)     지원금 등록일 구매하기  \n",
       "휴대폰명                                                \n",
       "갤럭시 J6                         0원  2019.01.01   구매  \n",
       "Q7                             0원  2018.12.20   구매  \n",
       "카카오리틀프렌즈폰                      0원  2018.09.04   구매  \n",
       "X5                             0원  2018.06.26   구매  \n",
       "J2 Pro                         0원  2018.04.24   구매  \n",
       "갤럭시 On7 Prime                  0원  2018.02.10   구매  \n",
       "MVNO 리프레시 갤럭시 S8 64G           0원  2018.12.08   구매  "
      ]
     },
     "execution_count": 131,
     "metadata": {},
     "output_type": "execute_result"
    }
   ],
   "source": [
    "mask = df['실제구입가(A-B-C)'] == '0원'  # Boolean Mask\n",
    "df.loc[mask]"
   ]
  },
  {
   "cell_type": "code",
   "execution_count": 132,
   "metadata": {},
   "outputs": [],
   "source": [
    "df.loc[mask].to_excel('실제구입가_빵원.xlsx')"
   ]
  },
  {
   "cell_type": "code",
   "execution_count": null,
   "metadata": {},
   "outputs": [],
   "source": []
  }
 ],
 "metadata": {
  "kernelspec": {
   "display_name": "Python 3",
   "language": "python",
   "name": "python3"
  },
  "language_info": {
   "codemirror_mode": {
    "name": "ipython",
    "version": 3
   },
   "file_extension": ".py",
   "mimetype": "text/x-python",
   "name": "python",
   "nbconvert_exporter": "python",
   "pygments_lexer": "ipython3",
   "version": "3.7.0"
  }
 },
 "nbformat": 4,
 "nbformat_minor": 2
}
