{
 "cells": [
  {
   "cell_type": "code",
   "execution_count": 1,
   "metadata": {},
   "outputs": [],
   "source": [
    "def 월급_계산(기본급, 야근시간):\n",
    "    return 기본급 + 야근시간 * 10000"
   ]
  },
  {
   "cell_type": "code",
   "execution_count": 2,
   "metadata": {},
   "outputs": [
    {
     "data": {
      "text/plain": [
       "1400000"
      ]
     },
     "execution_count": 2,
     "metadata": {},
     "output_type": "execute_result"
    }
   ],
   "source": [
    "월급_계산(1000000, 40)"
   ]
  },
  {
   "cell_type": "code",
   "execution_count": 3,
   "metadata": {},
   "outputs": [
    {
     "data": {
      "text/plain": [
       "10000000040"
      ]
     },
     "execution_count": 3,
     "metadata": {},
     "output_type": "execute_result"
    }
   ],
   "source": [
    "월급_계산(40, 1000000)"
   ]
  },
  {
   "cell_type": "code",
   "execution_count": 4,
   "metadata": {},
   "outputs": [
    {
     "data": {
      "text/plain": [
       "1400000"
      ]
     },
     "execution_count": 4,
     "metadata": {},
     "output_type": "execute_result"
    }
   ],
   "source": [
    "월급_계산(기본급=1000000, 야근시간=40)"
   ]
  },
  {
   "cell_type": "code",
   "execution_count": 5,
   "metadata": {},
   "outputs": [
    {
     "data": {
      "text/plain": [
       "1400000"
      ]
     },
     "execution_count": 5,
     "metadata": {},
     "output_type": "execute_result"
    }
   ],
   "source": [
    "월급_계산(야근시간=40, 기본급=1000000)"
   ]
  },
  {
   "cell_type": "code",
   "execution_count": 6,
   "metadata": {},
   "outputs": [
    {
     "data": {
      "text/plain": [
       "1400000"
      ]
     },
     "execution_count": 6,
     "metadata": {},
     "output_type": "execute_result"
    }
   ],
   "source": [
    "월급_계산(1000000, 야근시간=40)"
   ]
  },
  {
   "cell_type": "code",
   "execution_count": 7,
   "metadata": {},
   "outputs": [
    {
     "ename": "SyntaxError",
     "evalue": "positional argument follows keyword argument (<ipython-input-7-d783e6b9f982>, line 1)",
     "output_type": "error",
     "traceback": [
      "\u001b[0;36m  File \u001b[0;32m\"<ipython-input-7-d783e6b9f982>\"\u001b[0;36m, line \u001b[0;32m1\u001b[0m\n\u001b[0;31m    월급_계산(야근시간=40, 1000000)\u001b[0m\n\u001b[0m                           \n^\u001b[0m\n\u001b[0;31mSyntaxError\u001b[0m\u001b[0;31m:\u001b[0m positional argument follows keyword argument\n"
     ]
    }
   ],
   "source": [
    "월급_계산(야근시간=40, 1000000)"
   ]
  },
  {
   "cell_type": "code",
   "execution_count": 9,
   "metadata": {},
   "outputs": [
    {
     "data": {
      "text/plain": [
       "1000000"
      ]
     },
     "execution_count": 9,
     "metadata": {},
     "output_type": "execute_result"
    }
   ],
   "source": [
    "월급_계산(기본급=1000000, 야근시간=0)"
   ]
  },
  {
   "cell_type": "code",
   "execution_count": 13,
   "metadata": {},
   "outputs": [],
   "source": [
    "# 디폴트 인자\n",
    "def 월급_계산2(기본급, 야근시간=0):\n",
    "    return 기본급 + 야근시간 * 10000"
   ]
  },
  {
   "cell_type": "code",
   "execution_count": 14,
   "metadata": {},
   "outputs": [
    {
     "data": {
      "text/plain": [
       "1000000"
      ]
     },
     "execution_count": 14,
     "metadata": {},
     "output_type": "execute_result"
    }
   ],
   "source": [
    "월급_계산2(1000000)"
   ]
  },
  {
   "cell_type": "code",
   "execution_count": 15,
   "metadata": {},
   "outputs": [
    {
     "data": {
      "text/plain": [
       "1400000"
      ]
     },
     "execution_count": 15,
     "metadata": {},
     "output_type": "execute_result"
    }
   ],
   "source": [
    "월급_계산2(1000000, 40)"
   ]
  },
  {
   "cell_type": "code",
   "execution_count": null,
   "metadata": {},
   "outputs": [],
   "source": []
  },
  {
   "cell_type": "code",
   "execution_count": 16,
   "metadata": {},
   "outputs": [
    {
     "data": {
      "text/html": [
       "<div>\n",
       "<style scoped>\n",
       "    .dataframe tbody tr th:only-of-type {\n",
       "        vertical-align: middle;\n",
       "    }\n",
       "\n",
       "    .dataframe tbody tr th {\n",
       "        vertical-align: top;\n",
       "    }\n",
       "\n",
       "    .dataframe thead th {\n",
       "        text-align: right;\n",
       "    }\n",
       "</style>\n",
       "<table border=\"1\" class=\"dataframe\">\n",
       "  <thead>\n",
       "    <tr style=\"text-align: right;\">\n",
       "      <th></th>\n",
       "    </tr>\n",
       "  </thead>\n",
       "  <tbody>\n",
       "  </tbody>\n",
       "</table>\n",
       "</div>"
      ],
      "text/plain": [
       "Empty DataFrame\n",
       "Columns: []\n",
       "Index: []"
      ]
     },
     "execution_count": 16,
     "metadata": {},
     "output_type": "execute_result"
    }
   ],
   "source": [
    "import pandas\n",
    "\n",
    "pandas.DataFrame()"
   ]
  },
  {
   "cell_type": "markdown",
   "metadata": {},
   "source": [
    "## 문제 풀이"
   ]
  },
  {
   "cell_type": "markdown",
   "metadata": {},
   "source": [
    "### 문자열을 인자로 받아, 단어수를 리턴하는 함수"
   ]
  },
  {
   "cell_type": "code",
   "execution_count": 20,
   "metadata": {},
   "outputs": [
    {
     "data": {
      "text/plain": [
       "6"
      ]
     },
     "execution_count": 20,
     "metadata": {},
     "output_type": "execute_result"
    }
   ],
   "source": [
    "def 단어수_세기(문자열):\n",
    "#     word_list = 문자열.split()\n",
    "#     return len(word_list)\n",
    "    return len(문자열.split())\n",
    "\n",
    "단어수_세기(\"\"\"안녕 파이썬.\n",
    "\n",
    "장고.   루비. JavaScript\\tHello\"\"\")  # 6을 반환"
   ]
  },
  {
   "cell_type": "code",
   "execution_count": 26,
   "metadata": {},
   "outputs": [
    {
     "data": {
      "text/plain": [
       "10"
      ]
     },
     "execution_count": 26,
     "metadata": {},
     "output_type": "execute_result"
    }
   ],
   "source": [
    "def 글자수_세기(문자열):\n",
    "    글자수 = 0\n",
    "    for 한글자 in 문자열:\n",
    "        # if 한글자 != ' ':\n",
    "        # if 한글자 != ' ' and 한글자 != '\\n' and 한글자 != '\\r' and 한글자 != '\\t':\n",
    "        if 한글자 not in [' ', '\\n', '\\r', '\\t']:\n",
    "            글자수 += 1\n",
    "    return 글자수\n",
    "\n",
    "#         '\\n'\n",
    "#         '\\r'\n",
    "#         '\\t'\n",
    "\n",
    "글자수_세기(\"\"\"우리는 \\t\\t파이썬을\n",
    "\n",
    "즐겨요\"\"\")  # 10을 반환"
   ]
  },
  {
   "cell_type": "code",
   "execution_count": 21,
   "metadata": {},
   "outputs": [
    {
     "data": {
      "text/plain": [
       "1"
      ]
     },
     "execution_count": 21,
     "metadata": {},
     "output_type": "execute_result"
    }
   ],
   "source": [
    "len('\\n')"
   ]
  },
  {
   "cell_type": "code",
   "execution_count": null,
   "metadata": {},
   "outputs": [],
   "source": [
    "for 한글자 in \"우리는 파이썬을 즐겨요\":  # str 타입 => 목록\n",
    "    한글자\n",
    "\n",
    "글자 == ' '  # 공백인가?\n",
    "글자 != ' '  # 공백이 아닌가?"
   ]
  },
  {
   "cell_type": "markdown",
   "metadata": {},
   "source": [
    "### 봇에게 글자수를 세는 법을 알려줘봅시다."
   ]
  },
  {
   "cell_type": "code",
   "execution_count": 27,
   "metadata": {},
   "outputs": [],
   "source": [
    "text = '글자수 세어줘: 안녕 파이썬 장고'"
   ]
  },
  {
   "cell_type": "code",
   "execution_count": 30,
   "metadata": {},
   "outputs": [
    {
     "data": {
      "text/plain": [
       "True"
      ]
     },
     "execution_count": 30,
     "metadata": {},
     "output_type": "execute_result"
    }
   ],
   "source": [
    "if text.startswith('글자수 세어줘:'):\n",
    "    문자열 = text[8:]\n",
    "    단어수 = len(문자열.split())  # int 타입\n",
    "    response = '글자수는 {}글자입니다.'.format(단어수)"
   ]
  },
  {
   "cell_type": "markdown",
   "metadata": {},
   "source": [
    "## 크롤링"
   ]
  },
  {
   "cell_type": "code",
   "execution_count": 31,
   "metadata": {},
   "outputs": [],
   "source": [
    "import requests"
   ]
  },
  {
   "cell_type": "code",
   "execution_count": 32,
   "metadata": {},
   "outputs": [
    {
     "data": {
      "text/plain": [
       "<Response [200]>"
      ]
     },
     "execution_count": 32,
     "metadata": {},
     "output_type": "execute_result"
    }
   ],
   "source": [
    "응답 = requests.get(\"http://naver.com\")\n",
    "응답"
   ]
  },
  {
   "cell_type": "code",
   "execution_count": 34,
   "metadata": {},
   "outputs": [],
   "source": [
    "html = 응답.text"
   ]
  },
  {
   "cell_type": "code",
   "execution_count": 35,
   "metadata": {},
   "outputs": [
    {
     "data": {
      "text/plain": [
       "165644"
      ]
     },
     "execution_count": 35,
     "metadata": {},
     "output_type": "execute_result"
    }
   ],
   "source": [
    "len(html)"
   ]
  },
  {
   "cell_type": "code",
   "execution_count": 38,
   "metadata": {},
   "outputs": [
    {
     "data": {
      "text/plain": [
       "True"
      ]
     },
     "execution_count": 38,
     "metadata": {},
     "output_type": "execute_result"
    }
   ],
   "source": [
    "'손석희' in html"
   ]
  },
  {
   "cell_type": "code",
   "execution_count": 39,
   "metadata": {},
   "outputs": [],
   "source": [
    "from bs4 import BeautifulSoup"
   ]
  },
  {
   "cell_type": "code",
   "execution_count": 40,
   "metadata": {},
   "outputs": [],
   "source": [
    "soup = BeautifulSoup(html, 'html.parser')"
   ]
  },
  {
   "cell_type": "code",
   "execution_count": 43,
   "metadata": {
    "collapsed": true
   },
   "outputs": [
    {
     "data": {
      "text/plain": [
       "[<span class=\"ah_k\">손석희</span>,\n",
       " <span class=\"ah_k\">카이 제니</span>,\n",
       " <span class=\"ah_k\">일본 인플루엔자</span>,\n",
       " <span class=\"ah_k\">김웅</span>,\n",
       " <span class=\"ah_k\">카이</span>,\n",
       " <span class=\"ah_k\">제니 카이</span>,\n",
       " <span class=\"ah_k\">김웅 기자</span>,\n",
       " <span class=\"ah_k\">남연우</span>,\n",
       " <span class=\"ah_k\">대한민국 카타르</span>,\n",
       " <span class=\"ah_k\">한국 카타르</span>,\n",
       " <span class=\"ah_k\">안정환</span>,\n",
       " <span class=\"ah_k\">현대제철</span>,\n",
       " <span class=\"ah_k\">2019 간호사 국가고시</span>,\n",
       " <span class=\"ah_k\">류준열 혜리</span>,\n",
       " <span class=\"ah_k\">붐붐파워</span>,\n",
       " <span class=\"ah_k\">제니</span>,\n",
       " <span class=\"ah_k\">혜리</span>,\n",
       " <span class=\"ah_k\">백승호</span>,\n",
       " <span class=\"ah_k\">인플루엔자</span>,\n",
       " <span class=\"ah_k\">중국 이란</span>]"
      ]
     },
     "execution_count": 43,
     "metadata": {},
     "output_type": "execute_result"
    }
   ],
   "source": [
    "tag_list = soup.select('.PM_CL_realtimeKeyword_rolling .ah_k')\n",
    "tag_list"
   ]
  },
  {
   "cell_type": "code",
   "execution_count": 44,
   "metadata": {},
   "outputs": [
    {
     "data": {
      "text/plain": [
       "<span class=\"ah_k\">손석희</span>"
      ]
     },
     "execution_count": 44,
     "metadata": {},
     "output_type": "execute_result"
    }
   ],
   "source": [
    "tag_list[0]"
   ]
  },
  {
   "cell_type": "code",
   "execution_count": 45,
   "metadata": {},
   "outputs": [
    {
     "data": {
      "text/plain": [
       "bs4.element.Tag"
      ]
     },
     "execution_count": 45,
     "metadata": {},
     "output_type": "execute_result"
    }
   ],
   "source": [
    "type(tag_list[0])"
   ]
  },
  {
   "cell_type": "code",
   "execution_count": 46,
   "metadata": {},
   "outputs": [
    {
     "data": {
      "text/plain": [
       "'손석희'"
      ]
     },
     "execution_count": 46,
     "metadata": {},
     "output_type": "execute_result"
    }
   ],
   "source": [
    "tag_list[0].text"
   ]
  },
  {
   "cell_type": "code",
   "execution_count": 47,
   "metadata": {},
   "outputs": [
    {
     "name": "stdout",
     "output_type": "stream",
     "text": [
      "손석희\n",
      "카이 제니\n",
      "일본 인플루엔자\n",
      "김웅\n",
      "카이\n",
      "제니 카이\n",
      "김웅 기자\n",
      "남연우\n",
      "대한민국 카타르\n",
      "한국 카타르\n",
      "안정환\n",
      "현대제철\n",
      "2019 간호사 국가고시\n",
      "류준열 혜리\n",
      "붐붐파워\n",
      "제니\n",
      "혜리\n",
      "백승호\n",
      "인플루엔자\n",
      "중국 이란\n"
     ]
    }
   ],
   "source": [
    "for tag in tag_list:\n",
    "    print(tag.text)"
   ]
  },
  {
   "cell_type": "code",
   "execution_count": 49,
   "metadata": {},
   "outputs": [
    {
     "name": "stdout",
     "output_type": "stream",
     "text": [
      "손석희\n",
      "일본 인플루엔자\n",
      "김웅\n",
      "카이 제니\n",
      "김웅 기자\n",
      "카이\n",
      "제니 카이\n",
      "대한민국 카타르\n",
      "한국 카타르\n",
      "백석대학교\n",
      "현대제철\n",
      "남연우\n",
      "류준열 혜리\n",
      "2019 간호사 국가고시\n",
      "안정환\n",
      "혜리\n",
      "인플루엔자\n",
      "백승호\n",
      "제니\n",
      "임은주\n"
     ]
    }
   ],
   "source": [
    "# 정리\n",
    "\n",
    "import requests\n",
    "from bs4 import BeautifulSoup\n",
    "\n",
    "url = 'http://naver.com'\n",
    "응답 = requests.get(url)\n",
    "html = 응답.text\n",
    "\n",
    "soup = BeautifulSoup(html, 'html.parser')\n",
    "tag_list = soup.select('.PM_CL_realtimeKeyword_rolling .ah_k')\n",
    "\n",
    "for tag in tag_list:\n",
    "    print(tag.text)"
   ]
  },
  {
   "cell_type": "code",
   "execution_count": 50,
   "metadata": {},
   "outputs": [],
   "source": [
    "import requests\n",
    "from bs4 import BeautifulSoup\n",
    "\n",
    "def 네이버_실시간_검색어():\n",
    "    url = 'http://naver.com'\n",
    "    응답 = requests.get(url)\n",
    "    html = 응답.text\n",
    "\n",
    "    soup = BeautifulSoup(html, 'html.parser')\n",
    "    tag_list = soup.select('.PM_CL_realtimeKeyword_rolling .ah_k')\n",
    "    \n",
    "    keyword_list = []\n",
    "    for tag in tag_list:\n",
    "        keyword_list.append(tag.text)\n",
    "    return keyword_list"
   ]
  },
  {
   "cell_type": "code",
   "execution_count": 59,
   "metadata": {},
   "outputs": [
    {
     "name": "stdout",
     "output_type": "stream",
     "text": [
      "1 손석희\n",
      "2 일본 인플루엔자\n",
      "3 김웅\n",
      "4 김웅 기자\n",
      "5 카이 제니\n",
      "6 백석대학교\n",
      "7 대한민국 카타르\n",
      "8 카이\n",
      "9 제니 카이\n",
      "10 한국 카타르\n",
      "11 현대제철\n",
      "12 남연우\n",
      "13 2019 간호사 국가고시\n",
      "14 류준열 혜리\n",
      "15 안정환\n",
      "16 인플루엔자\n",
      "17 혜리\n",
      "18 백승호\n",
      "19 임은주\n",
      "20 제니\n"
     ]
    }
   ],
   "source": [
    "검색어_리스트 = 네이버_실시간_검색어()\n",
    "# response = '\\n'.join(검색어_리스트)  # str 타입\n",
    "# print(response)\n",
    "\n",
    "rank = 1\n",
    "message_list = []\n",
    "for 검색어 in 검색어_리스트:\n",
    "    message = '{} {}'.format(rank, 검색어)\n",
    "    message_list.append(message)\n",
    "    rank += 1\n",
    "\n",
    "response = '\\n'.join(message_list)\n",
    "print(response)"
   ]
  },
  {
   "cell_type": "code",
   "execution_count": null,
   "metadata": {},
   "outputs": [],
   "source": []
  }
 ],
 "metadata": {
  "kernelspec": {
   "display_name": "Python 3",
   "language": "python",
   "name": "python3"
  },
  "language_info": {
   "codemirror_mode": {
    "name": "ipython",
    "version": 3
   },
   "file_extension": ".py",
   "mimetype": "text/x-python",
   "name": "python",
   "nbconvert_exporter": "python",
   "pygments_lexer": "ipython3",
   "version": "3.7.0"
  }
 },
 "nbformat": 4,
 "nbformat_minor": 2
}
