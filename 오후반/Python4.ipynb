{
 "cells": [
  {
   "cell_type": "markdown",
   "metadata": {},
   "source": [
    "## 가수별 곡수 세기"
   ]
  },
  {
   "cell_type": "code",
   "execution_count": 2,
   "metadata": {},
   "outputs": [],
   "source": [
    "# 1) 데이터를 로컬에 다운받아, 멜론_TOP100.csv 파일로 저장\n",
    "import requests\n",
    "res = requests.get(\"https://goo.gl/iDUKrL\")\n",
    "with open(\"멜론_TOP100.csv\", \"wt\", encoding=\"utf8\") as f:\n",
    "    f.write(res.text)\n",
    "\n",
    "# 2) 로컬의 CSV 데이터를 리스트(내부 dict)구조로 획득\n",
    "import csv\n",
    "with open(\"멜론_TOP100.csv\", \"rt\", encoding=\"utf8\") as f:\n",
    "    reader = csv.DictReader(f)\n",
    "    멜론_top100_리스트 = list(reader)"
   ]
  },
  {
   "cell_type": "code",
   "execution_count": 6,
   "metadata": {
    "collapsed": true
   },
   "outputs": [
    {
     "data": {
      "text/plain": [
       "{'아이유': 2,\n",
       " '로꼬': 2,\n",
       " 'pH-1': 1,\n",
       " '임창정': 1,\n",
       " '방탄소년단': 14,\n",
       " 'iKON': 3,\n",
       " 'Coogie': 1,\n",
       " '로이킴': 2,\n",
       " '바이브': 2,\n",
       " '펀치 (Punch)': 1,\n",
       " '폴킴': 2,\n",
       " '백현 (BAEKHYUN)': 1,\n",
       " '선미': 1,\n",
       " '벤': 1,\n",
       " '숀 (SHAUN)': 1,\n",
       " 'EXO': 3,\n",
       " '찬열': 1,\n",
       " '기리보이': 1,\n",
       " 'EXO-CBX (첸백시)': 1,\n",
       " '저스디스 (JUSTHIS)': 1,\n",
       " '레이 (LAY)': 1,\n",
       " 'BLACKPINK': 2,\n",
       " '닐로 (Nilo)': 2,\n",
       " 'TWICE (트와이스)': 2,\n",
       " '박원': 1,\n",
       " 'Wanna One (워너원)': 5,\n",
       " 'Red Velvet (레드벨벳)': 1,\n",
       " '임한별': 1,\n",
       " '볼빨간사춘기': 1,\n",
       " 'Wanna One (워너원) - 트리플포지션': 1,\n",
       " '마마무(Mamamoo)': 2,\n",
       " '양다일': 1,\n",
       " '먼데이 키즈 (Monday Kiz)': 1,\n",
       " '비투비': 2,\n",
       " '멜로망스': 4,\n",
       " '승리': 1,\n",
       " 'Apink (에이핑크)': 1,\n",
       " '지코 (ZICO)': 1,\n",
       " '세븐틴': 2,\n",
       " '장덕철': 1,\n",
       " 'Wanna One (워너원) - 더힐': 1,\n",
       " '10cm': 2,\n",
       " 'nafla': 1,\n",
       " '(여자)아이들': 1,\n",
       " '뉴이스트 W': 8,\n",
       " '김효은': 1,\n",
       " '모트 (Motte)': 1,\n",
       " '이수 (엠씨 더 맥스)': 1,\n",
       " 'Wanna One (워너원) - 린온미': 1,\n",
       " '용준형': 1,\n",
       " 'Wanna One (워너원) - 남바완': 1,\n",
       " 'NU`EST': 1,\n",
       " '정승환': 1,\n",
       " 'Fitz & The Tantrums': 1,\n",
       " '여자친구 (GFRIEND)': 1,\n",
       " '청하': 1,\n",
       " '소녀시대-Oh!GG': 1}"
      ]
     },
     "execution_count": 6,
     "metadata": {},
     "output_type": "execute_result"
    }
   ],
   "source": [
    "# 풀이 1)\n",
    "가수별_곡수 = {}   # {'방탄소년단': 14, '아이유': 2}\n",
    "\n",
    "for 곡 in 멜론_top100_리스트:\n",
    "    가수 = 곡['가수']  # str 타입\n",
    "    if 가수 in 가수별_곡수:\n",
    "        가수별_곡수[가수] += 1\n",
    "    else:\n",
    "        가수별_곡수[가수] = 1\n",
    "        \n",
    "가수별_곡수"
   ]
  },
  {
   "cell_type": "code",
   "execution_count": null,
   "metadata": {},
   "outputs": [],
   "source": []
  },
  {
   "cell_type": "code",
   "execution_count": 15,
   "metadata": {},
   "outputs": [],
   "source": [
    "# 풀이 2)\n",
    "from collections import defaultdict\n",
    "\n",
    "가수별_곡수 = defaultdict(int)\n",
    "\n",
    "for 곡 in 멜론_top100_리스트:\n",
    "    가수 = 곡['가수']  # str 타입\n",
    "    가수별_곡수[가수] += 1\n",
    "        \n",
    "# 가수별_곡수"
   ]
  },
  {
   "cell_type": "code",
   "execution_count": 19,
   "metadata": {},
   "outputs": [],
   "source": [
    "# 풀이 3)\n",
    "\n",
    "가수_집합 = set()\n",
    "가수별_곡수 = {}\n",
    "\n",
    "for 곡 in 멜론_top100_리스트:\n",
    "    가수_집합.add(곡['가수'])\n",
    "    \n",
    "for 가수 in 가수_집합:\n",
    "    곡수_카운트 = 0\n",
    "    for 곡 in 멜론_top100_리스트:\n",
    "        if 곡['가수'] == 가수:\n",
    "            곡수_카운트 += 1\n",
    "    # 곡수_카운트\n",
    "    # 가수별_곡수.update({가수: 곡수_카운트})\n",
    "    가수별_곡수[가수] = 곡수_카운트\n",
    "    \n",
    "# 가수별_곡수"
   ]
  },
  {
   "cell_type": "code",
   "execution_count": 30,
   "metadata": {},
   "outputs": [
    {
     "name": "stdout",
     "output_type": "stream",
     "text": [
      " "
     ]
    },
    {
     "data": {
      "text/plain": [
       "14"
      ]
     },
     "execution_count": 30,
     "metadata": {},
     "output_type": "execute_result"
    }
   ],
   "source": [
    "# 풀이 4)\n",
    "\n",
    "from collections import Counter\n",
    "\n",
    "가수_리스트 = []\n",
    "\n",
    "for 곡 in 멜론_top100_리스트:\n",
    "    가수_리스트.append(곡['가수'])\n",
    "    \n",
    "가수별_곡수 = Counter(가수_리스트)\n",
    "가수별_곡수['방탄소년단']"
   ]
  },
  {
   "cell_type": "code",
   "execution_count": 36,
   "metadata": {},
   "outputs": [],
   "source": [
    "# %%timeit\n",
    "\n",
    "# 풀이 5)\n",
    "\n",
    "from collections import Counter\n",
    "\n",
    "# List Comprehension\n",
    "가수_리스트 = [\n",
    "    곡['가수']\n",
    "    for 곡 in 멜론_top100_리스트]\n",
    "    \n",
    "가수별_곡수 = Counter(가수_리스트)"
   ]
  },
  {
   "cell_type": "markdown",
   "metadata": {},
   "source": [
    "## 함수 (Functions)"
   ]
  },
  {
   "cell_type": "code",
   "execution_count": 41,
   "metadata": {},
   "outputs": [
    {
     "name": "stdout",
     "output_type": "stream",
     "text": [
      "--- 2단 ---\n",
      "2 1 2\n",
      "2 2 4\n",
      "2 3 6\n",
      "2 4 8\n",
      "2 5 10\n",
      "2 6 12\n",
      "2 7 14\n",
      "2 8 16\n",
      "2 9 18\n",
      "--- 4단 ---\n",
      "4 1 4\n",
      "4 2 8\n",
      "4 3 12\n",
      "4 4 16\n",
      "4 5 20\n",
      "4 6 24\n",
      "4 7 28\n",
      "4 8 32\n",
      "4 9 36\n",
      "### 7단 ###\n",
      "7 1 7\n",
      "7 2 14\n",
      "7 3 21\n",
      "7 4 28\n",
      "7 5 35\n",
      "7 6 42\n",
      "7 7 49\n",
      "7 8 56\n",
      "7 9 63\n"
     ]
    }
   ],
   "source": [
    "숫자 = 2\n",
    "\n",
    "print('--- {}단 ---'.format(숫자))\n",
    "for i in range(1, 10):\n",
    "    print(숫자, i, 숫자 * i)\n",
    "    \n",
    "## ----------------------------------\n",
    "\n",
    "숫자 = 4\n",
    "\n",
    "print('--- {}단 ---'.format(숫자))\n",
    "for i in range(1, 10):\n",
    "    print(숫자, i, 숫자 * i)\n",
    "    \n",
    "## -----------------------------------\n",
    "\n",
    "숫자 = 7\n",
    "\n",
    "print('### {}단 ###'.format(숫자))\n",
    "for i in range(1, 10):\n",
    "    print(숫자, i, 숫자 * i)"
   ]
  },
  {
   "cell_type": "code",
   "execution_count": 58,
   "metadata": {},
   "outputs": [],
   "source": [
    "def 구구단_출력(숫자):\n",
    "#     숫자 = 2\n",
    "    print('### {}단 ###'.format(숫자))\n",
    "    for i in range(1, 10):\n",
    "        print(숫자, i, 숫자 * i)"
   ]
  },
  {
   "cell_type": "code",
   "execution_count": 59,
   "metadata": {},
   "outputs": [
    {
     "name": "stdout",
     "output_type": "stream",
     "text": [
      "### 2단 ###\n",
      "2 1 2\n",
      "2 2 4\n",
      "2 3 6\n",
      "2 4 8\n",
      "2 5 10\n",
      "2 6 12\n",
      "2 7 14\n",
      "2 8 16\n",
      "2 9 18\n",
      "### 4단 ###\n",
      "4 1 4\n",
      "4 2 8\n",
      "4 3 12\n",
      "4 4 16\n",
      "4 5 20\n",
      "4 6 24\n",
      "4 7 28\n",
      "4 8 32\n",
      "4 9 36\n",
      "### 8단 ###\n",
      "8 1 8\n",
      "8 2 16\n",
      "8 3 24\n",
      "8 4 32\n",
      "8 5 40\n",
      "8 6 48\n",
      "8 7 56\n",
      "8 8 64\n",
      "8 9 72\n"
     ]
    }
   ],
   "source": [
    "구구단_출력(2)\n",
    "구구단_출력(4)\n",
    "구구단_출력(8)"
   ]
  },
  {
   "cell_type": "code",
   "execution_count": 66,
   "metadata": {},
   "outputs": [],
   "source": [
    "def 부가세_계산(결제금액):\n",
    "    부가세 = 결제금액 // 11\n",
    "    return 부가세"
   ]
  },
  {
   "cell_type": "code",
   "execution_count": 67,
   "metadata": {},
   "outputs": [],
   "source": [
    "금액 = 부가세_계산(20000)"
   ]
  },
  {
   "cell_type": "code",
   "execution_count": 68,
   "metadata": {},
   "outputs": [
    {
     "name": "stdout",
     "output_type": "stream",
     "text": [
      "1818\n"
     ]
    }
   ],
   "source": [
    "print(금액)"
   ]
  },
  {
   "cell_type": "code",
   "execution_count": 73,
   "metadata": {},
   "outputs": [],
   "source": [
    "def 부가세_계산2(결제금액):\n",
    "    부가세 = 결제금액 // 11\n",
    "    부가세_뺀_금액 = 결제금액 - 부가세\n",
    "    return 부가세_뺀_금액, 부가세"
   ]
  },
  {
   "cell_type": "code",
   "execution_count": 74,
   "metadata": {},
   "outputs": [],
   "source": [
    "금액1, 금액2 = 부가세_계산2(20000)"
   ]
  },
  {
   "cell_type": "code",
   "execution_count": 71,
   "metadata": {},
   "outputs": [],
   "source": [
    "i, j = [1, 2]"
   ]
  },
  {
   "cell_type": "markdown",
   "metadata": {},
   "source": [
    "## Telegram 연동"
   ]
  },
  {
   "cell_type": "code",
   "execution_count": 75,
   "metadata": {},
   "outputs": [],
   "source": [
    "TOKEN = \"745214408:AAGPGmS8wlcWE_3-B0rhx0BMkcoI5Y52qwg\""
   ]
  },
  {
   "cell_type": "code",
   "execution_count": 76,
   "metadata": {},
   "outputs": [],
   "source": [
    "import telegram\n",
    "bot = telegram.Bot(token=TOKEN)"
   ]
  },
  {
   "cell_type": "code",
   "execution_count": 83,
   "metadata": {},
   "outputs": [
    {
     "name": "stdout",
     "output_type": "stream",
     "text": [
      "chat_id : 42478249\n"
     ]
    }
   ],
   "source": [
    "for update in bot.getUpdates():\n",
    "    print('chat_id :', update.message.chat_id)"
   ]
  },
  {
   "cell_type": "markdown",
   "metadata": {},
   "source": [
    "1. 처음 실행하면, 출력되는 것이 없어요.\n",
    "2. 텔레그램 앱에서 여러분의 봇을 검색해서, 말을 걸어주세요.\n",
    "3. 위 코드를 다시 실행해주세요. => `chat_id` 가 나와요."
   ]
  },
  {
   "cell_type": "code",
   "execution_count": 82,
   "metadata": {},
   "outputs": [
    {
     "data": {
      "text/plain": [
       "<telegram.message.Message at 0x10a8b6198>"
      ]
     },
     "execution_count": 82,
     "metadata": {},
     "output_type": "execute_result"
    }
   ],
   "source": [
    "chat_id = '42478249'  # FIXME: 여러분의 대화방 ID\n",
    "bot.sendMessage(chat_id=chat_id, text='안녕 !!!!!!')"
   ]
  },
  {
   "cell_type": "code",
   "execution_count": null,
   "metadata": {},
   "outputs": [],
   "source": []
  },
  {
   "cell_type": "code",
   "execution_count": 92,
   "metadata": {},
   "outputs": [
    {
     "data": {
      "text/plain": [
       "<telegram.message.Message at 0x10d4feeb8>"
      ]
     },
     "execution_count": 92,
     "metadata": {},
     "output_type": "execute_result"
    }
   ],
   "source": [
    "import requests\n",
    "from bs4 import BeautifulSoup\n",
    "\n",
    "res = requests.get(\"http://naver.com\")\n",
    "html = res.text\n",
    "soup = BeautifulSoup(html, 'html.parser')\n",
    "tag_list = soup.select('.PM_CL_realtimeKeyword_rolling .ah_k')\n",
    "\n",
    "message_list = []\n",
    "\n",
    "for rank, tag in enumerate(tag_list, 1):  # 항상 하위 block 전에 콤마(:)를 씁니다.\n",
    "    label = tag.text\n",
    "    message = '{}: {}'.format(rank, label)\n",
    "    message_list.append(message)\n",
    "    \n",
    "메세지 = '\\n'.join(message_list)\n",
    "\n",
    "chat_id = '42478249'  # FIXME: 여러분의 대화방 ID\n",
    "bot.sendMessage(chat_id=chat_id, text=메세지)"
   ]
  },
  {
   "cell_type": "code",
   "execution_count": null,
   "metadata": {},
   "outputs": [],
   "source": []
  },
  {
   "cell_type": "code",
   "execution_count": null,
   "metadata": {},
   "outputs": [],
   "source": []
  }
 ],
 "metadata": {
  "kernelspec": {
   "display_name": "Python 3",
   "language": "python",
   "name": "python3"
  },
  "language_info": {
   "codemirror_mode": {
    "name": "ipython",
    "version": 3
   },
   "file_extension": ".py",
   "mimetype": "text/x-python",
   "name": "python",
   "nbconvert_exporter": "python",
   "pygments_lexer": "ipython3",
   "version": "3.7.0"
  }
 },
 "nbformat": 4,
 "nbformat_minor": 2
}
