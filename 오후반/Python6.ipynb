{
 "cells": [
  {
   "cell_type": "markdown",
   "metadata": {},
   "source": [
    "## 문자열 포맷팅"
   ]
  },
  {
   "cell_type": "code",
   "execution_count": 2,
   "metadata": {},
   "outputs": [
    {
     "data": {
      "text/plain": [
       "'저는 이진석입니다. 대전에서 왔어요.'"
      ]
     },
     "execution_count": 2,
     "metadata": {},
     "output_type": "execute_result"
    }
   ],
   "source": [
    "\"저는 {}입니다. {}에서 왔어요.\".format(\"이진석\", \"대전\")"
   ]
  },
  {
   "cell_type": "code",
   "execution_count": 3,
   "metadata": {},
   "outputs": [
    {
     "data": {
      "text/plain": [
       "'저는 이진석입니다. 대전에서 왔어요.'"
      ]
     },
     "execution_count": 3,
     "metadata": {},
     "output_type": "execute_result"
    }
   ],
   "source": [
    "\"저는 {0}입니다. {1}에서 왔어요.\".format(\"이진석\", \"대전\")"
   ]
  },
  {
   "cell_type": "code",
   "execution_count": 4,
   "metadata": {},
   "outputs": [
    {
     "data": {
      "text/plain": [
       "'저는 대전입니다. 이진석에서 왔어요.'"
      ]
     },
     "execution_count": 4,
     "metadata": {},
     "output_type": "execute_result"
    }
   ],
   "source": [
    "\"저는 {1}입니다. {0}에서 왔어요.\".format(\"이진석\", \"대전\")"
   ]
  },
  {
   "cell_type": "code",
   "execution_count": null,
   "metadata": {},
   "outputs": [],
   "source": []
  },
  {
   "cell_type": "code",
   "execution_count": 5,
   "metadata": {},
   "outputs": [
    {
     "data": {
      "text/plain": [
       "'저는 이진석입니다. 대전에서 왔어요. 대전 날씨가 좋아요.'"
      ]
     },
     "execution_count": 5,
     "metadata": {},
     "output_type": "execute_result"
    }
   ],
   "source": [
    "\"저는 {}입니다. {}에서 왔어요. {} 날씨가 좋아요.\".format(\"이진석\", \"대전\", \"대전\")"
   ]
  },
  {
   "cell_type": "code",
   "execution_count": 8,
   "metadata": {},
   "outputs": [
    {
     "data": {
      "text/plain": [
       "'저는 이진석입니다. 대전에서 왔어요. 대전 날씨가 좋아요.'"
      ]
     },
     "execution_count": 8,
     "metadata": {},
     "output_type": "execute_result"
    }
   ],
   "source": [
    "\"저는 {0}입니다. {1}에서 왔어요. {1} 날씨가 좋아요.\".format(\"이진석\", \"대전\")"
   ]
  },
  {
   "cell_type": "code",
   "execution_count": null,
   "metadata": {},
   "outputs": [],
   "source": []
  },
  {
   "cell_type": "code",
   "execution_count": 9,
   "metadata": {},
   "outputs": [
    {
     "data": {
      "text/plain": [
       "'저는 이진석입니다. 대전에서 왔어요. 대전 날씨가 좋아요.'"
      ]
     },
     "execution_count": 9,
     "metadata": {},
     "output_type": "execute_result"
    }
   ],
   "source": [
    "\"저는 {이름}입니다. {지역}에서 왔어요. {지역} 날씨가 좋아요.\".format(\n",
    "    이름=\"이진석\", 지역=\"대전\")"
   ]
  },
  {
   "cell_type": "code",
   "execution_count": null,
   "metadata": {},
   "outputs": [],
   "source": []
  },
  {
   "cell_type": "code",
   "execution_count": 10,
   "metadata": {},
   "outputs": [
    {
     "data": {
      "text/plain": [
       "'저는 이진석입니다. 대전에서 왔어요. 대전 날씨가 좋아요.'"
      ]
     },
     "execution_count": 10,
     "metadata": {},
     "output_type": "execute_result"
    }
   ],
   "source": [
    "개인정보 = {'이름': \"이진석\", '지역': \"대전\"}\n",
    "\n",
    "\"저는 {이름}입니다. {지역}에서 왔어요. {지역} 날씨가 좋아요.\".format(\n",
    "    이름=개인정보['이름'], 지역=개인정보['지역'])"
   ]
  },
  {
   "cell_type": "code",
   "execution_count": 12,
   "metadata": {},
   "outputs": [
    {
     "data": {
      "text/plain": [
       "'저는 이진석입니다. 대전에서 왔어요. 대전 날씨가 좋아요.'"
      ]
     },
     "execution_count": 12,
     "metadata": {},
     "output_type": "execute_result"
    }
   ],
   "source": [
    "개인정보 = {'이름': \"이진석\", '지역': \"대전\"}\n",
    "\n",
    "# ** => dict에 unpack 문법\n",
    "\"저는 {이름}입니다. {지역}에서 왔어요. {지역} 날씨가 좋아요.\".format(**개인정보)"
   ]
  },
  {
   "cell_type": "code",
   "execution_count": null,
   "metadata": {},
   "outputs": [],
   "source": []
  },
  {
   "cell_type": "code",
   "execution_count": 16,
   "metadata": {},
   "outputs": [
    {
     "data": {
      "text/plain": [
       "'저는 이진석입니다. 대전에서 왔어요.'"
      ]
     },
     "execution_count": 16,
     "metadata": {},
     "output_type": "execute_result"
    }
   ],
   "source": [
    "개인정보_리스트 = ['이진석', '대전', '볶음밥']\n",
    "\n",
    "'저는 {}입니다. {}에서 왔어요.'.format(개인정보_리스트[0], 개인정보_리스트[1])\n",
    "\n",
    "# * => list/tuple 등에 unpack 문법\n",
    "'저는 {}입니다. {}에서 왔어요.'.format(*개인정보_리스트)"
   ]
  },
  {
   "cell_type": "code",
   "execution_count": null,
   "metadata": {},
   "outputs": [],
   "source": []
  },
  {
   "cell_type": "code",
   "execution_count": 37,
   "metadata": {},
   "outputs": [
    {
     "name": "stdout",
     "output_type": "stream",
     "text": [
      "안녕하세요. 이진석님.\n",
      "\n",
      "저희 파이썬 쇼핑몰을 이용해주셔서 감사드립니다.\n",
      "\n",
      "총 구매금액은 1,580,000원이며, 구매해주신 내역은 아래와 같습니다.\n",
      "\n",
      "- 닌텐도 스위치: 300,000원\n",
      "- 에어팟: 230,000원\n",
      "- 아이패드 프로 3: 1,000,000원\n",
      "- 홍삼 엑기스: 50,000원\n",
      "\n",
      "이용에 감사드립니다.\n"
     ]
    }
   ],
   "source": [
    "구매정보 = {\n",
    "    '구매자': '이진석',\n",
    "    '구매한_상품목록': [\n",
    "        {'상품명': '닌텐도 스위치', '가격': 300000},\n",
    "        {'상품명': '에어팟', '가격': 230000},\n",
    "        {'상품명': '아이패드 프로 3', '가격': 1000000},\n",
    "        {'상품명': '홍삼 엑기스', '가격': 50000},\n",
    "    ]\n",
    "}\n",
    "\n",
    "구매설명_리스트 = []\n",
    "총구매금액 = 0\n",
    "for 상품 in 구매정보['구매한_상품목록']:\n",
    "    # 한줄_구매설명 = '- {}: {}'.format(상품['상품명'], 상품['가격'])\n",
    "    한줄_구매설명 = '- {상품명}: {가격:,}원'.format(**상품)\n",
    "    구매설명_리스트.append(한줄_구매설명)\n",
    "    총구매금액 += 상품['가격']\n",
    "구매설명_문자열 = '\\n'.join(구매설명_리스트)\n",
    "\n",
    "이메일_내용 = \"\"\"안녕하세요. {구매자}님.\n",
    "\n",
    "저희 파이썬 쇼핑몰을 이용해주셔서 감사드립니다.\n",
    "\n",
    "총 구매금액은 {총구매금액:,}원이며, 구매해주신 내역은 아래와 같습니다.\n",
    "\n",
    "{구매설명_문자열}\n",
    "\n",
    "이용에 감사드립니다.\"\"\".format(총구매금액=총구매금액, 구매설명_문자열=구매설명_문자열, **구매정보)\n",
    "\n",
    "print(이메일_내용)"
   ]
  },
  {
   "cell_type": "code",
   "execution_count": null,
   "metadata": {},
   "outputs": [],
   "source": []
  },
  {
   "cell_type": "code",
   "execution_count": 31,
   "metadata": {},
   "outputs": [
    {
     "data": {
      "text/plain": [
       "'1,000'"
      ]
     },
     "execution_count": 31,
     "metadata": {},
     "output_type": "execute_result"
    }
   ],
   "source": [
    "'1,000'"
   ]
  },
  {
   "cell_type": "code",
   "execution_count": 35,
   "metadata": {},
   "outputs": [
    {
     "data": {
      "text/plain": [
       "'1,234,567,890'"
      ]
     },
     "execution_count": 35,
     "metadata": {},
     "output_type": "execute_result"
    }
   ],
   "source": [
    "\"{값:,}\".format(값=1234567890)"
   ]
  },
  {
   "cell_type": "code",
   "execution_count": null,
   "metadata": {},
   "outputs": [],
   "source": []
  },
  {
   "cell_type": "markdown",
   "metadata": {},
   "source": [
    "## 이메일 보내기"
   ]
  },
  {
   "cell_type": "code",
   "execution_count": 38,
   "metadata": {},
   "outputs": [],
   "source": [
    "from envelopes import Envelope  # 팩키지 설치: pip install envelopes"
   ]
  },
  {
   "cell_type": "code",
   "execution_count": 40,
   "metadata": {},
   "outputs": [
    {
     "name": "stdout",
     "output_type": "stream",
     "text": [
      "암호를 입력하세요 : ········\n"
     ]
    }
   ],
   "source": [
    "from getpass import getpass\n",
    "\n",
    "유저명 = 'allieuslee'  # FIMXE: 각자의 네이버 아이디\n",
    "유저암호 = getpass(\"암호를 입력하세요 : \")"
   ]
  },
  {
   "cell_type": "code",
   "execution_count": 41,
   "metadata": {},
   "outputs": [],
   "source": [
    "서버주소 = 'smtp.naver.com'"
   ]
  },
  {
   "cell_type": "code",
   "execution_count": 45,
   "metadata": {},
   "outputs": [
    {
     "data": {
      "text/plain": [
       "(<envelopes.conn.SMTP at 0x10338cd30>, {})"
      ]
     },
     "execution_count": 45,
     "metadata": {},
     "output_type": "execute_result"
    }
   ],
   "source": [
    "from envelopes import Envelope\n",
    "\n",
    "envelope = Envelope(\n",
    "    from_addr='allieuslee@naver.com',  # FIXME: 여러분의 네이버 메일 주소\n",
    "    to_addr='me@askcompany.kr',\n",
    "    subject='파이썬 6일차. 이메일 테스트 ~ - 이진석',\n",
    "    text_body=\"우리는 오늘도 파이썬을 익힙니다. ;)\"\n",
    ")\n",
    "envelope.add_attachment('python-logo.png')\n",
    "\n",
    "envelope.send(서버주소, login=유저명, password=유저암호, tls=True)"
   ]
  },
  {
   "cell_type": "code",
   "execution_count": 43,
   "metadata": {},
   "outputs": [
    {
     "data": {
      "text/plain": [
       "'/Users/allieus/OneDrive - 기본 디렉터리/강의-외부-SKT-201801/repo/오후반'"
      ]
     },
     "execution_count": 43,
     "metadata": {},
     "output_type": "execute_result"
    }
   ],
   "source": [
    "%pwd"
   ]
  },
  {
   "cell_type": "code",
   "execution_count": 44,
   "metadata": {},
   "outputs": [
    {
     "name": "stdout",
     "output_type": "stream",
     "text": [
      "Python.ipynb         Python6.ipynb        telegram_server.py\r\n",
      "Python3.ipynb        \u001b[1m\u001b[36m__pycache__\u001b[m\u001b[m/         telegram_server2.py\r\n",
      "Python4.ipynb        naver.py             telegram_test.py\r\n",
      "Python5.ipynb        python-logo.png      멜론_TOP100.csv\r\n"
     ]
    }
   ],
   "source": [
    "%ls"
   ]
  },
  {
   "cell_type": "code",
   "execution_count": null,
   "metadata": {},
   "outputs": [],
   "source": []
  },
  {
   "cell_type": "markdown",
   "metadata": {},
   "source": [
    "## 템플릿 시스템을 활용하여, 복잡한 문자열 조합"
   ]
  },
  {
   "cell_type": "code",
   "execution_count": 49,
   "metadata": {},
   "outputs": [
    {
     "name": "stdout",
     "output_type": "stream",
     "text": [
      "저는 이진석입니다.\n",
      "대전에서 왔어요.\n",
      "대전날씨가 좋아요.\n"
     ]
    }
   ],
   "source": [
    "from jinja2 import Template  # 팩키지 설치 : pip install jinja2\n",
    "\n",
    "인사_템플릿 = Template('''저는 {{이름}}입니다.\n",
    "{{지역}}에서 왔어요.\n",
    "{{지역}}날씨가 좋아요.\n",
    "''')\n",
    "\n",
    "print(인사_템플릿.render(이름='이진석', 지역='대전'))"
   ]
  },
  {
   "cell_type": "code",
   "execution_count": 64,
   "metadata": {},
   "outputs": [
    {
     "name": "stdout",
     "output_type": "stream",
     "text": [
      "저는 이진석입니다.\n",
      "대전에서 왔어요.\n",
      "대전날씨가 좋아요.\n",
      "\n",
      "저는 아래 메뉴가 좋아요.\n",
      "- 떡볶이\n",
      "- 라면\n",
      "- 만두\n",
      "\n",
      "\n",
      "저는 아래 영화가 좋아요. ;)\n",
      "- 괴물\n",
      "- 킹덤\n",
      "- 나디아\n",
      "\n"
     ]
    }
   ],
   "source": [
    "from jinja2 import Template  # 팩키지 설치 : pip install jinja2\n",
    "\n",
    "인사_템플릿 = Template('''저는 {{ 이름 }}입니다.\n",
    "{{ 지역 }}에서 왔어요.\n",
    "{{ 지역 }}날씨가 좋아요.\n",
    "\n",
    "저는 아래 메뉴가 좋아요.\n",
    "{% for 메뉴명 in 좋아하는_메뉴 %}- {{ 메뉴명 }}\n",
    "{% endfor %}\n",
    "\n",
    "저는 아래 영화가 좋아요. ;)\n",
    "{% for 영화명 in 좋아하는_영화 %}- {{ 영화명 }}\n",
    "{% endfor %}\n",
    "''')\n",
    "\n",
    "좋아하는_메뉴 = ['떡볶이', '라면', '만두']\n",
    "좋아하는_영화 = ['괴물', '킹덤', '나디아']  # TODO: 추가하시고, 템플릿에도 반영해보세요.\n",
    "\n",
    "print(인사_템플릿.render(이름='이진석', 지역='대전',\n",
    "                      좋아하는_메뉴=좋아하는_메뉴, 좋아하는_영화=좋아하는_영화))"
   ]
  },
  {
   "cell_type": "code",
   "execution_count": null,
   "metadata": {},
   "outputs": [],
   "source": []
  },
  {
   "cell_type": "markdown",
   "metadata": {},
   "source": [
    "## 네이버 검색 크롤링"
   ]
  },
  {
   "cell_type": "code",
   "execution_count": 65,
   "metadata": {},
   "outputs": [],
   "source": [
    "url = 'https://search.naver.com/search.naver'\n",
    "\n",
    "params = {\n",
    "    'where': 'post',\n",
    "    'sm': 'tab_jum',\n",
    "    'query': '파이썬 크롤링',\n",
    "}"
   ]
  },
  {
   "cell_type": "code",
   "execution_count": 66,
   "metadata": {},
   "outputs": [],
   "source": [
    "import requests\n",
    "from bs4 import BeautifulSoup"
   ]
  },
  {
   "cell_type": "code",
   "execution_count": 67,
   "metadata": {},
   "outputs": [
    {
     "data": {
      "text/plain": [
       "<Response [200]>"
      ]
     },
     "execution_count": 67,
     "metadata": {},
     "output_type": "execute_result"
    }
   ],
   "source": [
    "res = requests.get(url, params=params)\n",
    "res"
   ]
  },
  {
   "cell_type": "code",
   "execution_count": 69,
   "metadata": {},
   "outputs": [
    {
     "data": {
      "text/plain": [
       "199779"
      ]
     },
     "execution_count": 69,
     "metadata": {},
     "output_type": "execute_result"
    }
   ],
   "source": [
    "len(res.text)"
   ]
  },
  {
   "cell_type": "code",
   "execution_count": 70,
   "metadata": {},
   "outputs": [
    {
     "data": {
      "text/plain": [
       "True"
      ]
     },
     "execution_count": 70,
     "metadata": {},
     "output_type": "execute_result"
    }
   ],
   "source": [
    "'초보 웹크롤링' in res.text"
   ]
  },
  {
   "cell_type": "code",
   "execution_count": 71,
   "metadata": {},
   "outputs": [],
   "source": [
    "html = res.text\n",
    "soup = BeautifulSoup(html, 'html.parser')"
   ]
  },
  {
   "cell_type": "code",
   "execution_count": 73,
   "metadata": {},
   "outputs": [
    {
     "name": "stdout",
     "output_type": "stream",
     "text": [
      "<a class=\"sh_blog_title _sp_each_url _sp_each_title\" href=\"https://blog.naver.com/luckperson7?Redirect=Log&amp;logNo=221200031639\" onclick=\"return goOtherCR(this, 'a=blg*i.tit&amp;r=1&amp;i=90000003_0000000000000033808C9F97&amp;u='+urlencode(this.href))\" target=\"_blank\" title=\"파이썬으로 배우는 초보 웹크롤링(Beautifulsoup라이브러리 설치)\"><strong class=\"hl\">파이썬</strong>으로 배우는 초보 웹<strong class=\"hl\">크롤링</strong>...</a>\n",
      "<a class=\"sh_blog_title _sp_each_url _sp_each_title\" href=\"https://blog.naver.com/dragon1086?Redirect=Log&amp;logNo=221037326999\" onclick=\"return goOtherCR(this, 'a=blg*i.tit&amp;r=2&amp;i=90000003_000000000000003376D9F297&amp;u='+urlencode(this.href))\" target=\"_blank\" title=\"[음반 차트 분석]파이썬3 및 BeautifulSoup로 일간 벅스차트 크롤링(1)\">분석]<strong class=\"hl\">파이썬</strong>3 및 BeautifulSoup로 일간 벅스차트 <strong class=\"hl\">크롤링</strong>(1)</a>\n",
      "<a class=\"sh_blog_title _sp_each_url _sp_each_title\" href=\"https://blog.naver.com/popqser2?Redirect=Log&amp;logNo=221426114267\" onclick=\"return goOtherCR(this, 'a=blg*i.tit&amp;r=3&amp;i=90000003_00000000000000338E065EDB&amp;u='+urlencode(this.href))\" target=\"_blank\" title=\"파이썬 - 보안뉴스 크롤링 텔레그램 봇 만들기\"><strong class=\"hl\">파이썬</strong> - 보안뉴스 <strong class=\"hl\">크롤링</strong> 텔레그램 봇 만들기</a>\n",
      "<a class=\"sh_blog_title _sp_each_url _sp_each_title\" href=\"https://blog.naver.com/21ahn?Redirect=Log&amp;logNo=221319540023\" onclick=\"return goOtherCR(this, 'a=blg*i.tit&amp;r=4&amp;i=90000003_000000000000003387AC2D37&amp;u='+urlencode(this.href))\" target=\"_blank\" title=\"[파이썬] urllib활용 네이버 영화 리뷰 크롤링\">[<strong class=\"hl\">파이썬</strong>] urllib활용 네이버 영화 리뷰 <strong class=\"hl\">크롤링</strong></a>\n",
      "<a class=\"sh_blog_title _sp_each_url _sp_each_title\" href=\"https://baek2sm.blog.me/221376506043\" onclick=\"return goOtherCR(this, 'a=blg*i.tit&amp;r=5&amp;i=90000003_00000000000000338B1168BB&amp;u='+urlencode(this.href))\" target=\"_blank\" title=\"파이썬 웹 크롤링 [1편] with Selenium, Chrome\"><strong class=\"hl\">파이썬</strong> 웹 <strong class=\"hl\">크롤링</strong> [1편] with Selenium, Chrome</a>\n",
      "<a class=\"sh_blog_title _sp_each_url _sp_each_title\" href=\"https://kiddwannabe.blog.me/221185808375\" onclick=\"return goOtherCR(this, 'a=blg*i.tit&amp;r=6&amp;i=90000003_00000000000000337FB397F7&amp;u='+urlencode(this.href))\" target=\"_blank\" title=\"파이썬크롤링) 접속 차단되었을때 User-Agent지정\"><strong class=\"hl\">파이썬크롤링</strong>) 접속 차단되었을때 User-Agent지정</a>\n",
      "<a class=\"sh_blog_title _sp_each_url _sp_each_title\" href=\"https://blog.naver.com/rickman2?Redirect=Log&amp;logNo=221405952000\" onclick=\"return goOtherCR(this, 'a=blg*i.tit&amp;r=7&amp;i=90000003_00000000000000338CD2B800&amp;u='+urlencode(this.href))\" target=\"_blank\" title=\"파이썬(Python) - Beautifulsoup 뷰티풀 수프 이용해 보기 1부 : 웹 크롤링 개념\"><strong class=\"hl\">파이썬</strong>(Python) - Beautifulsoup... 보기 1부 : 웹 <strong class=\"hl\">크롤링</strong> 개념</a>\n",
      "<a class=\"sh_blog_title _sp_each_url _sp_each_title\" href=\"https://blog.naver.com/yogoho210?Redirect=Log&amp;logNo=220942309343\" onclick=\"return goOtherCR(this, 'a=blg*i.tit&amp;r=8&amp;i=90000003_0000000000000033713017DF&amp;u='+urlencode(this.href))\" target=\"_blank\" title=\"(강남역) 파이썬 강좌 - 웹크롤링 프로그램을 만들며 배워봅시다!\">(강남역) <strong class=\"hl\">파이썬</strong> 강좌 - 웹<strong class=\"hl\">크롤링</strong> 프로그램을 만들며 배워봅시다!</a>\n",
      "<a class=\"sh_blog_title _sp_each_url _sp_each_title\" href=\"https://blog.naver.com/12heejin?Redirect=Log&amp;logNo=221393773230\" onclick=\"return goOtherCR(this, 'a=blg*i.tit&amp;r=9&amp;i=90000003_00000000000000338C18E2AE&amp;u='+urlencode(this.href))\" target=\"_blank\" title=\"극켬의 일간대사1 : 모니터링 사이트 공지/정보 모니터링(파이썬과 뷰티풀숲, 그리고 셀레늄) - 데이터크롤링과 업무 자동화\">모니터링(<strong class=\"hl\">파이썬</strong>과 뷰티풀숲, 그리고 셀레늄) - 데이터<strong class=\"hl\">크롤링</strong>과...</a>\n",
      "<a class=\"sh_blog_title _sp_each_url _sp_each_title\" href=\"https://blog.naver.com/5yshil?Redirect=Log&amp;logNo=221344632527\" onclick=\"return goOtherCR(this, 'a=blg*i.tit&amp;r=10&amp;i=90000003_0000000000000033892B0ECF&amp;u='+urlencode(this.href))\" target=\"_blank\" title=\"[파이썬으로 개발 시작하기 CAMP] - 파이썬 웹 크롤링\">[<strong class=\"hl\">파이썬</strong>으로 개발 시작하기 CAMP] - <strong class=\"hl\">파이썬</strong> 웹 <strong class=\"hl\">크롤링</strong></a>\n"
     ]
    }
   ],
   "source": [
    "# id => #id\n",
    "# class => .class\n",
    "tag_list = soup.select('#elThumbnailResultArea .sh_blog_title')\n",
    "\n",
    "for tag in tag_list:\n",
    "    print(tag)"
   ]
  },
  {
   "cell_type": "code",
   "execution_count": null,
   "metadata": {},
   "outputs": [],
   "source": []
  }
 ],
 "metadata": {
  "kernelspec": {
   "display_name": "Python 3",
   "language": "python",
   "name": "python3"
  },
  "language_info": {
   "codemirror_mode": {
    "name": "ipython",
    "version": 3
   },
   "file_extension": ".py",
   "mimetype": "text/x-python",
   "name": "python",
   "nbconvert_exporter": "python",
   "pygments_lexer": "ipython3",
   "version": "3.7.0"
  }
 },
 "nbformat": 4,
 "nbformat_minor": 2
}
