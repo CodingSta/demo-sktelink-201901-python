{
 "cells": [
  {
   "cell_type": "markdown",
   "metadata": {},
   "source": [
    "## 문자열 포맷팅"
   ]
  },
  {
   "cell_type": "code",
   "execution_count": 2,
   "metadata": {},
   "outputs": [
    {
     "data": {
      "text/plain": [
       "'저는 이진석입니다. 대전에서 왔어요.'"
      ]
     },
     "execution_count": 2,
     "metadata": {},
     "output_type": "execute_result"
    }
   ],
   "source": [
    "\"저는 {}입니다. {}에서 왔어요.\".format(\"이진석\", \"대전\")"
   ]
  },
  {
   "cell_type": "code",
   "execution_count": 3,
   "metadata": {},
   "outputs": [
    {
     "data": {
      "text/plain": [
       "'저는 이진석입니다. 대전에서 왔어요.'"
      ]
     },
     "execution_count": 3,
     "metadata": {},
     "output_type": "execute_result"
    }
   ],
   "source": [
    "\"저는 {0}입니다. {1}에서 왔어요.\".format(\"이진석\", \"대전\")"
   ]
  },
  {
   "cell_type": "code",
   "execution_count": 4,
   "metadata": {},
   "outputs": [
    {
     "data": {
      "text/plain": [
       "'저는 대전입니다. 이진석에서 왔어요.'"
      ]
     },
     "execution_count": 4,
     "metadata": {},
     "output_type": "execute_result"
    }
   ],
   "source": [
    "\"저는 {1}입니다. {0}에서 왔어요.\".format(\"이진석\", \"대전\")"
   ]
  },
  {
   "cell_type": "code",
   "execution_count": null,
   "metadata": {},
   "outputs": [],
   "source": []
  },
  {
   "cell_type": "code",
   "execution_count": 5,
   "metadata": {},
   "outputs": [
    {
     "data": {
      "text/plain": [
       "'저는 이진석입니다. 대전에서 왔어요. 대전 날씨가 좋아요.'"
      ]
     },
     "execution_count": 5,
     "metadata": {},
     "output_type": "execute_result"
    }
   ],
   "source": [
    "\"저는 {}입니다. {}에서 왔어요. {} 날씨가 좋아요.\".format(\"이진석\", \"대전\", \"대전\")"
   ]
  },
  {
   "cell_type": "code",
   "execution_count": 8,
   "metadata": {},
   "outputs": [
    {
     "data": {
      "text/plain": [
       "'저는 이진석입니다. 대전에서 왔어요. 대전 날씨가 좋아요.'"
      ]
     },
     "execution_count": 8,
     "metadata": {},
     "output_type": "execute_result"
    }
   ],
   "source": [
    "\"저는 {0}입니다. {1}에서 왔어요. {1} 날씨가 좋아요.\".format(\"이진석\", \"대전\")"
   ]
  },
  {
   "cell_type": "code",
   "execution_count": null,
   "metadata": {},
   "outputs": [],
   "source": []
  },
  {
   "cell_type": "code",
   "execution_count": 9,
   "metadata": {},
   "outputs": [
    {
     "data": {
      "text/plain": [
       "'저는 이진석입니다. 대전에서 왔어요. 대전 날씨가 좋아요.'"
      ]
     },
     "execution_count": 9,
     "metadata": {},
     "output_type": "execute_result"
    }
   ],
   "source": [
    "\"저는 {이름}입니다. {지역}에서 왔어요. {지역} 날씨가 좋아요.\".format(\n",
    "    이름=\"이진석\", 지역=\"대전\")"
   ]
  },
  {
   "cell_type": "code",
   "execution_count": null,
   "metadata": {},
   "outputs": [],
   "source": []
  },
  {
   "cell_type": "code",
   "execution_count": 10,
   "metadata": {},
   "outputs": [
    {
     "data": {
      "text/plain": [
       "'저는 이진석입니다. 대전에서 왔어요. 대전 날씨가 좋아요.'"
      ]
     },
     "execution_count": 10,
     "metadata": {},
     "output_type": "execute_result"
    }
   ],
   "source": [
    "개인정보 = {'이름': \"이진석\", '지역': \"대전\"}\n",
    "\n",
    "\"저는 {이름}입니다. {지역}에서 왔어요. {지역} 날씨가 좋아요.\".format(\n",
    "    이름=개인정보['이름'], 지역=개인정보['지역'])"
   ]
  },
  {
   "cell_type": "code",
   "execution_count": 12,
   "metadata": {},
   "outputs": [
    {
     "data": {
      "text/plain": [
       "'저는 이진석입니다. 대전에서 왔어요. 대전 날씨가 좋아요.'"
      ]
     },
     "execution_count": 12,
     "metadata": {},
     "output_type": "execute_result"
    }
   ],
   "source": [
    "개인정보 = {'이름': \"이진석\", '지역': \"대전\"}\n",
    "\n",
    "# ** => dict에 unpack 문법\n",
    "\"저는 {이름}입니다. {지역}에서 왔어요. {지역} 날씨가 좋아요.\".format(**개인정보)"
   ]
  },
  {
   "cell_type": "code",
   "execution_count": null,
   "metadata": {},
   "outputs": [],
   "source": []
  },
  {
   "cell_type": "code",
   "execution_count": 16,
   "metadata": {},
   "outputs": [
    {
     "data": {
      "text/plain": [
       "'저는 이진석입니다. 대전에서 왔어요.'"
      ]
     },
     "execution_count": 16,
     "metadata": {},
     "output_type": "execute_result"
    }
   ],
   "source": [
    "개인정보_리스트 = ['이진석', '대전', '볶음밥']\n",
    "\n",
    "'저는 {}입니다. {}에서 왔어요.'.format(개인정보_리스트[0], 개인정보_리스트[1])\n",
    "\n",
    "# * => list/tuple 등에 unpack 문법\n",
    "'저는 {}입니다. {}에서 왔어요.'.format(*개인정보_리스트)"
   ]
  },
  {
   "cell_type": "code",
   "execution_count": null,
   "metadata": {},
   "outputs": [],
   "source": []
  },
  {
   "cell_type": "code",
   "execution_count": 37,
   "metadata": {},
   "outputs": [
    {
     "name": "stdout",
     "output_type": "stream",
     "text": [
      "안녕하세요. 이진석님.\n",
      "\n",
      "저희 파이썬 쇼핑몰을 이용해주셔서 감사드립니다.\n",
      "\n",
      "총 구매금액은 1,580,000원이며, 구매해주신 내역은 아래와 같습니다.\n",
      "\n",
      "- 닌텐도 스위치: 300,000원\n",
      "- 에어팟: 230,000원\n",
      "- 아이패드 프로 3: 1,000,000원\n",
      "- 홍삼 엑기스: 50,000원\n",
      "\n",
      "이용에 감사드립니다.\n"
     ]
    }
   ],
   "source": [
    "구매정보 = {\n",
    "    '구매자': '이진석',\n",
    "    '구매한_상품목록': [\n",
    "        {'상품명': '닌텐도 스위치', '가격': 300000},\n",
    "        {'상품명': '에어팟', '가격': 230000},\n",
    "        {'상품명': '아이패드 프로 3', '가격': 1000000},\n",
    "        {'상품명': '홍삼 엑기스', '가격': 50000},\n",
    "    ]\n",
    "}\n",
    "\n",
    "구매설명_리스트 = []\n",
    "총구매금액 = 0\n",
    "for 상품 in 구매정보['구매한_상품목록']:\n",
    "    # 한줄_구매설명 = '- {}: {}'.format(상품['상품명'], 상품['가격'])\n",
    "    한줄_구매설명 = '- {상품명}: {가격:,}원'.format(**상품)\n",
    "    구매설명_리스트.append(한줄_구매설명)\n",
    "    총구매금액 += 상품['가격']\n",
    "구매설명_문자열 = '\\n'.join(구매설명_리스트)\n",
    "\n",
    "이메일_내용 = \"\"\"안녕하세요. {구매자}님.\n",
    "\n",
    "저희 파이썬 쇼핑몰을 이용해주셔서 감사드립니다.\n",
    "\n",
    "총 구매금액은 {총구매금액:,}원이며, 구매해주신 내역은 아래와 같습니다.\n",
    "\n",
    "{구매설명_문자열}\n",
    "\n",
    "이용에 감사드립니다.\"\"\".format(총구매금액=총구매금액, 구매설명_문자열=구매설명_문자열, **구매정보)\n",
    "\n",
    "print(이메일_내용)"
   ]
  },
  {
   "cell_type": "code",
   "execution_count": null,
   "metadata": {},
   "outputs": [],
   "source": []
  },
  {
   "cell_type": "code",
   "execution_count": 31,
   "metadata": {},
   "outputs": [
    {
     "data": {
      "text/plain": [
       "'1,000'"
      ]
     },
     "execution_count": 31,
     "metadata": {},
     "output_type": "execute_result"
    }
   ],
   "source": [
    "'1,000'"
   ]
  },
  {
   "cell_type": "code",
   "execution_count": 35,
   "metadata": {},
   "outputs": [
    {
     "data": {
      "text/plain": [
       "'1,234,567,890'"
      ]
     },
     "execution_count": 35,
     "metadata": {},
     "output_type": "execute_result"
    }
   ],
   "source": [
    "\"{값:,}\".format(값=1234567890)"
   ]
  },
  {
   "cell_type": "code",
   "execution_count": null,
   "metadata": {},
   "outputs": [],
   "source": []
  },
  {
   "cell_type": "code",
   "execution_count": null,
   "metadata": {},
   "outputs": [],
   "source": []
  }
 ],
 "metadata": {
  "kernelspec": {
   "display_name": "Python 3",
   "language": "python",
   "name": "python3"
  },
  "language_info": {
   "codemirror_mode": {
    "name": "ipython",
    "version": 3
   },
   "file_extension": ".py",
   "mimetype": "text/x-python",
   "name": "python",
   "nbconvert_exporter": "python",
   "pygments_lexer": "ipython3",
   "version": "3.7.0"
  }
 },
 "nbformat": 4,
 "nbformat_minor": 2
}
