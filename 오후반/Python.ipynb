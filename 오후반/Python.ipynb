{
 "cells": [
  {
   "cell_type": "code",
   "execution_count": 1,
   "metadata": {},
   "outputs": [
    {
     "data": {
      "text/plain": [
       "1267650600228229401496703205376"
      ]
     },
     "execution_count": 1,
     "metadata": {},
     "output_type": "execute_result"
    }
   ],
   "source": [
    "2 ** 100"
   ]
  },
  {
   "cell_type": "code",
   "execution_count": 2,
   "metadata": {},
   "outputs": [
    {
     "data": {
      "text/plain": [
       "'hello hello hello '"
      ]
     },
     "execution_count": 2,
     "metadata": {},
     "output_type": "execute_result"
    }
   ],
   "source": [
    "\"hello \" * 3"
   ]
  },
  {
   "cell_type": "code",
   "execution_count": 3,
   "metadata": {},
   "outputs": [
    {
     "data": {
      "text/plain": [
       "'C:\\\\Users\\\\allieus'"
      ]
     },
     "execution_count": 3,
     "metadata": {},
     "output_type": "execute_result"
    }
   ],
   "source": [
    "%pwd"
   ]
  },
  {
   "cell_type": "markdown",
   "metadata": {},
   "source": [
    "# 파이썬 차근차근 시작하기\n",
    "## 첫째 날\n",
    "\n",
    "+ 파이썬 설치\n",
    "    - Anaconda Python 설치\n",
    "+ 파이썬 기초문법\n",
    "    - 기본 데이터타입\n",
    "    - 기본 자료구조\n",
    "    - 제어구조"
   ]
  },
  {
   "cell_type": "markdown",
   "metadata": {},
   "source": [
    "## 변수와 기본 자료구조형"
   ]
  },
  {
   "cell_type": "code",
   "execution_count": 4,
   "metadata": {},
   "outputs": [
    {
     "data": {
      "text/plain": [
       "100"
      ]
     },
     "execution_count": 4,
     "metadata": {},
     "output_type": "execute_result"
    }
   ],
   "source": [
    "100  # 정수형 (int)"
   ]
  },
  {
   "cell_type": "code",
   "execution_count": 5,
   "metadata": {},
   "outputs": [
    {
     "data": {
      "text/plain": [
       "3.141592"
      ]
     },
     "execution_count": 5,
     "metadata": {},
     "output_type": "execute_result"
    }
   ],
   "source": [
    "3.141592  # 실수형 (float)"
   ]
  },
  {
   "cell_type": "code",
   "execution_count": 6,
   "metadata": {},
   "outputs": [
    {
     "data": {
      "text/plain": [
       "'이진석'"
      ]
     },
     "execution_count": 6,
     "metadata": {},
     "output_type": "execute_result"
    }
   ],
   "source": [
    "\"이진석\"  # 문자열 (str)"
   ]
  },
  {
   "cell_type": "code",
   "execution_count": 7,
   "metadata": {},
   "outputs": [],
   "source": [
    "# 이진석"
   ]
  },
  {
   "cell_type": "code",
   "execution_count": 8,
   "metadata": {},
   "outputs": [],
   "source": [
    "age = 20"
   ]
  },
  {
   "cell_type": "code",
   "execution_count": 9,
   "metadata": {},
   "outputs": [
    {
     "name": "stdout",
     "output_type": "stream",
     "text": [
      "20\n"
     ]
    }
   ],
   "source": [
    "print(age)"
   ]
  },
  {
   "cell_type": "code",
   "execution_count": 10,
   "metadata": {},
   "outputs": [
    {
     "name": "stdout",
     "output_type": "stream",
     "text": [
      "30\n"
     ]
    }
   ],
   "source": [
    "age = 30\n",
    "print(age)"
   ]
  },
  {
   "cell_type": "code",
   "execution_count": 11,
   "metadata": {},
   "outputs": [
    {
     "data": {
      "text/plain": [
       "30"
      ]
     },
     "execution_count": 11,
     "metadata": {},
     "output_type": "execute_result"
    }
   ],
   "source": [
    "나이 = 30\n",
    "나이"
   ]
  },
  {
   "cell_type": "code",
   "execution_count": 12,
   "metadata": {},
   "outputs": [],
   "source": [
    "# first name = \"Chinseok\""
   ]
  },
  {
   "cell_type": "code",
   "execution_count": 13,
   "metadata": {},
   "outputs": [],
   "source": [
    "first_name = \"Chinseok\"\n",
    "firstName = \"Chinseok\""
   ]
  },
  {
   "cell_type": "markdown",
   "metadata": {},
   "source": [
    "## 기본 데이터 타입"
   ]
  },
  {
   "cell_type": "code",
   "execution_count": 14,
   "metadata": {},
   "outputs": [
    {
     "data": {
      "text/plain": [
       "3"
      ]
     },
     "execution_count": 14,
     "metadata": {},
     "output_type": "execute_result"
    }
   ],
   "source": [
    "1 + 2"
   ]
  },
  {
   "cell_type": "code",
   "execution_count": 15,
   "metadata": {},
   "outputs": [
    {
     "data": {
      "text/plain": [
       "30"
      ]
     },
     "execution_count": 15,
     "metadata": {},
     "output_type": "execute_result"
    }
   ],
   "source": [
    "10 + 20"
   ]
  },
  {
   "cell_type": "code",
   "execution_count": 16,
   "metadata": {},
   "outputs": [
    {
     "data": {
      "text/plain": [
       "10.0"
      ]
     },
     "execution_count": 16,
     "metadata": {},
     "output_type": "execute_result"
    }
   ],
   "source": [
    "40 / 4  # Python3에서는 항상 / 의 결과는 실수형"
   ]
  },
  {
   "cell_type": "code",
   "execution_count": 17,
   "metadata": {},
   "outputs": [
    {
     "data": {
      "text/plain": [
       "10"
      ]
     },
     "execution_count": 17,
     "metadata": {},
     "output_type": "execute_result"
    }
   ],
   "source": [
    "40 // 4  # 몫"
   ]
  },
  {
   "cell_type": "code",
   "execution_count": 18,
   "metadata": {},
   "outputs": [
    {
     "data": {
      "text/plain": [
       "1"
      ]
     },
     "execution_count": 18,
     "metadata": {},
     "output_type": "execute_result"
    }
   ],
   "source": [
    "40 % 3"
   ]
  },
  {
   "cell_type": "code",
   "execution_count": 19,
   "metadata": {},
   "outputs": [
    {
     "data": {
      "text/plain": [
       "(13, 1)"
      ]
     },
     "execution_count": 19,
     "metadata": {},
     "output_type": "execute_result"
    }
   ],
   "source": [
    "divmod(40, 3)  # 몫과 나머지를 한 번에 계산"
   ]
  },
  {
   "cell_type": "code",
   "execution_count": 20,
   "metadata": {},
   "outputs": [
    {
     "data": {
      "text/plain": [
       "1000"
      ]
     },
     "execution_count": 20,
     "metadata": {},
     "output_type": "execute_result"
    }
   ],
   "source": [
    "1_000"
   ]
  },
  {
   "cell_type": "code",
   "execution_count": 21,
   "metadata": {},
   "outputs": [
    {
     "data": {
      "text/plain": [
       "10000"
      ]
     },
     "execution_count": 21,
     "metadata": {},
     "output_type": "execute_result"
    }
   ],
   "source": [
    "1_0000"
   ]
  },
  {
   "cell_type": "code",
   "execution_count": 22,
   "metadata": {},
   "outputs": [
    {
     "data": {
      "text/plain": [
       "False"
      ]
     },
     "execution_count": 22,
     "metadata": {},
     "output_type": "execute_result"
    }
   ],
   "source": [
    "1000 == \"1,000\""
   ]
  },
  {
   "cell_type": "code",
   "execution_count": 23,
   "metadata": {},
   "outputs": [
    {
     "data": {
      "text/plain": [
       "False"
      ]
     },
     "execution_count": 23,
     "metadata": {},
     "output_type": "execute_result"
    }
   ],
   "source": [
    "3 == \"3\""
   ]
  },
  {
   "cell_type": "code",
   "execution_count": null,
   "metadata": {},
   "outputs": [],
   "source": []
  },
  {
   "cell_type": "code",
   "execution_count": 24,
   "metadata": {},
   "outputs": [
    {
     "data": {
      "text/plain": [
       "True"
      ]
     },
     "execution_count": 24,
     "metadata": {},
     "output_type": "execute_result"
    }
   ],
   "source": [
    "1 < 9"
   ]
  },
  {
   "cell_type": "code",
   "execution_count": 25,
   "metadata": {},
   "outputs": [
    {
     "data": {
      "text/plain": [
       "False"
      ]
     },
     "execution_count": 25,
     "metadata": {},
     "output_type": "execute_result"
    }
   ],
   "source": [
    "10 < 9 "
   ]
  },
  {
   "cell_type": "code",
   "execution_count": 26,
   "metadata": {},
   "outputs": [],
   "source": [
    "# \"1\" < 9"
   ]
  },
  {
   "cell_type": "code",
   "execution_count": 27,
   "metadata": {},
   "outputs": [
    {
     "data": {
      "text/plain": [
       "True"
      ]
     },
     "execution_count": 27,
     "metadata": {},
     "output_type": "execute_result"
    }
   ],
   "source": [
    "\"1\" < \"9\""
   ]
  },
  {
   "cell_type": "code",
   "execution_count": 28,
   "metadata": {},
   "outputs": [
    {
     "data": {
      "text/plain": [
       "True"
      ]
     },
     "execution_count": 28,
     "metadata": {},
     "output_type": "execute_result"
    }
   ],
   "source": [
    "\"10\" < \"9\""
   ]
  },
  {
   "cell_type": "code",
   "execution_count": 29,
   "metadata": {},
   "outputs": [
    {
     "data": {
      "text/plain": [
       "49"
      ]
     },
     "execution_count": 29,
     "metadata": {},
     "output_type": "execute_result"
    }
   ],
   "source": [
    "ord('1')"
   ]
  },
  {
   "cell_type": "code",
   "execution_count": 30,
   "metadata": {},
   "outputs": [
    {
     "data": {
      "text/plain": [
       "12593"
      ]
     },
     "execution_count": 30,
     "metadata": {},
     "output_type": "execute_result"
    }
   ],
   "source": [
    "ord(\"ㄱ\")"
   ]
  },
  {
   "cell_type": "code",
   "execution_count": null,
   "metadata": {},
   "outputs": [],
   "source": []
  },
  {
   "cell_type": "code",
   "execution_count": 31,
   "metadata": {},
   "outputs": [],
   "source": [
    "이름 = \"이진석\"\n",
    "이름 = '이진석'\n",
    "이름 = \"\"\"이진석\"\"\"\n",
    "이름 = '''이진석'''"
   ]
  },
  {
   "cell_type": "code",
   "execution_count": 32,
   "metadata": {},
   "outputs": [
    {
     "data": {
      "text/plain": [
       "\"Tom's House\""
      ]
     },
     "execution_count": 32,
     "metadata": {},
     "output_type": "execute_result"
    }
   ],
   "source": [
    "'Tom\\'s House'"
   ]
  },
  {
   "cell_type": "code",
   "execution_count": 33,
   "metadata": {},
   "outputs": [
    {
     "data": {
      "text/plain": [
       "\"Tom's House\""
      ]
     },
     "execution_count": 33,
     "metadata": {},
     "output_type": "execute_result"
    }
   ],
   "source": [
    "\"Tom's House\""
   ]
  },
  {
   "cell_type": "code",
   "execution_count": 34,
   "metadata": {},
   "outputs": [
    {
     "data": {
      "text/plain": [
       "'Toms \\' \"s House'"
      ]
     },
     "execution_count": 34,
     "metadata": {},
     "output_type": "execute_result"
    }
   ],
   "source": [
    "\"\"\"Toms ' \"s House\"\"\""
   ]
  },
  {
   "cell_type": "code",
   "execution_count": 35,
   "metadata": {},
   "outputs": [
    {
     "name": "stdout",
     "output_type": "stream",
     "text": [
      "버려진 담배꽁초\n",
      "흔들리는 처량함\n",
      "휘청거리는 휜 맥주 뚜껑에\n",
      "난 또 감상에 젖어\n"
     ]
    }
   ],
   "source": [
    "폴킴_노래가사 = \"버려진 담배꽁초\\n\" + \\\n",
    "    \"흔들리는 처량함\\n\" + \\\n",
    "    \"휘청거리는 휜 맥주 뚜껑에\\n\" + \\\n",
    "    \"난 또 감상에 젖어\"\n",
    "print(폴킴_노래가사)"
   ]
  },
  {
   "cell_type": "code",
   "execution_count": 36,
   "metadata": {},
   "outputs": [
    {
     "name": "stdout",
     "output_type": "stream",
     "text": [
      "버려진 담배꽁초\n",
      "흔들리는 처량함\n",
      "휘청거리는 휜 맥주 뚜껑에\n",
      "난 또 감상에 젖어\n"
     ]
    }
   ],
   "source": [
    "폴킴_노래가사 = \"\"\"버려진 담배꽁초\n",
    "흔들리는 처량함\n",
    "휘청거리는 휜 맥주 뚜껑에\n",
    "난 또 감상에 젖어\"\"\"\n",
    "print(폴킴_노래가사)"
   ]
  },
  {
   "cell_type": "code",
   "execution_count": null,
   "metadata": {},
   "outputs": [],
   "source": []
  },
  {
   "cell_type": "code",
   "execution_count": 37,
   "metadata": {},
   "outputs": [
    {
     "name": "stdout",
     "output_type": "stream",
     "text": [
      "안녕하세요. 이진석님. 대구에 사시네요.\n",
      "안녕하세요. 아이유님. 서울에 사시네요.\n"
     ]
    }
   ],
   "source": [
    "print(\"안녕하세요. 이진석님. 대구에 사시네요.\")\n",
    "print(\"안녕하세요. 아이유님. 서울에 사시네요.\")"
   ]
  },
  {
   "cell_type": "code",
   "execution_count": null,
   "metadata": {},
   "outputs": [],
   "source": []
  },
  {
   "cell_type": "code",
   "execution_count": 38,
   "metadata": {},
   "outputs": [
    {
     "name": "stdout",
     "output_type": "stream",
     "text": [
      "안녕하세요. 이진석님. 대전에 사시네요.\n"
     ]
    }
   ],
   "source": [
    "이름 = \"이진석\"\n",
    "지역 = \"대전\"\n",
    "\n",
    "# 메세지 = \"안녕하세요. 이진석님. 대구에 사시네요.\"\n",
    "# 메세지 = \"안녕하세요. \" + 이름 + \"님. \" + 지역 + \"에 사시네요.\"\n",
    "메세지 = \"안녕하세요. {}님. {}에 사시네요.\".format(이름, 지역)\n",
    "\n",
    "print(메세지)"
   ]
  },
  {
   "cell_type": "code",
   "execution_count": null,
   "metadata": {},
   "outputs": [],
   "source": []
  },
  {
   "cell_type": "code",
   "execution_count": 39,
   "metadata": {},
   "outputs": [
    {
     "data": {
      "text/plain": [
       "True"
      ]
     },
     "execution_count": 39,
     "metadata": {},
     "output_type": "execute_result"
    }
   ],
   "source": [
    "True"
   ]
  },
  {
   "cell_type": "code",
   "execution_count": 40,
   "metadata": {},
   "outputs": [
    {
     "data": {
      "text/plain": [
       "False"
      ]
     },
     "execution_count": 40,
     "metadata": {},
     "output_type": "execute_result"
    }
   ],
   "source": [
    "False"
   ]
  },
  {
   "cell_type": "code",
   "execution_count": 41,
   "metadata": {},
   "outputs": [],
   "source": [
    "식사여부 = False"
   ]
  },
  {
   "cell_type": "code",
   "execution_count": 42,
   "metadata": {},
   "outputs": [
    {
     "data": {
      "text/plain": [
       "True"
      ]
     },
     "execution_count": 42,
     "metadata": {},
     "output_type": "execute_result"
    }
   ],
   "source": [
    "1 < 9"
   ]
  },
  {
   "cell_type": "code",
   "execution_count": 43,
   "metadata": {},
   "outputs": [
    {
     "data": {
      "text/plain": [
       "True"
      ]
     },
     "execution_count": 43,
     "metadata": {},
     "output_type": "execute_result"
    }
   ],
   "source": [
    "\"10\" < \"9\""
   ]
  },
  {
   "cell_type": "code",
   "execution_count": 44,
   "metadata": {},
   "outputs": [
    {
     "data": {
      "text/plain": [
       "False"
      ]
     },
     "execution_count": 44,
     "metadata": {},
     "output_type": "execute_result"
    }
   ],
   "source": [
    "10 == \"10\""
   ]
  },
  {
   "cell_type": "code",
   "execution_count": 45,
   "metadata": {},
   "outputs": [
    {
     "data": {
      "text/plain": [
       "True"
      ]
     },
     "execution_count": 45,
     "metadata": {},
     "output_type": "execute_result"
    }
   ],
   "source": [
    "10 != \"10\""
   ]
  },
  {
   "cell_type": "code",
   "execution_count": 46,
   "metadata": {},
   "outputs": [
    {
     "data": {
      "text/plain": [
       "51"
      ]
     },
     "execution_count": 46,
     "metadata": {},
     "output_type": "execute_result"
    }
   ],
   "source": [
    "ord(\"3\")"
   ]
  },
  {
   "cell_type": "code",
   "execution_count": 47,
   "metadata": {},
   "outputs": [
    {
     "data": {
      "text/plain": [
       "False"
      ]
     },
     "execution_count": 47,
     "metadata": {},
     "output_type": "execute_result"
    }
   ],
   "source": [
    "51 == \"3\""
   ]
  },
  {
   "cell_type": "code",
   "execution_count": 48,
   "metadata": {},
   "outputs": [
    {
     "data": {
      "text/plain": [
       "True"
      ]
     },
     "execution_count": 48,
     "metadata": {},
     "output_type": "execute_result"
    }
   ],
   "source": [
    "51 == ord(\"3\")"
   ]
  },
  {
   "cell_type": "code",
   "execution_count": null,
   "metadata": {},
   "outputs": [],
   "source": []
  },
  {
   "cell_type": "code",
   "execution_count": 49,
   "metadata": {},
   "outputs": [],
   "source": [
    "저녁메뉴 = \"삼겹살\""
   ]
  },
  {
   "cell_type": "code",
   "execution_count": 50,
   "metadata": {},
   "outputs": [
    {
     "data": {
      "text/plain": [
       "'삼겹살'"
      ]
     },
     "execution_count": 50,
     "metadata": {},
     "output_type": "execute_result"
    }
   ],
   "source": [
    "저녁메뉴"
   ]
  },
  {
   "cell_type": "markdown",
   "metadata": {},
   "source": [
    "## Day 2"
   ]
  },
  {
   "cell_type": "markdown",
   "metadata": {},
   "source": [
    "### 리스트"
   ]
  },
  {
   "cell_type": "code",
   "execution_count": 1,
   "metadata": {},
   "outputs": [],
   "source": [
    "이름 = \"이진석\""
   ]
  },
  {
   "cell_type": "code",
   "execution_count": 3,
   "metadata": {},
   "outputs": [
    {
     "data": {
      "text/plain": [
       "['김치찌개', '볶음밥', '탕수육']"
      ]
     },
     "execution_count": 3,
     "metadata": {},
     "output_type": "execute_result"
    }
   ],
   "source": [
    "# 좋아하는_음식들 = []\n",
    "좋아하는_음식들 = [\"김치찌개\", \"볶음밥\", \"탕수육\"]\n",
    "좋아하는_음식들"
   ]
  },
  {
   "cell_type": "code",
   "execution_count": 4,
   "metadata": {},
   "outputs": [
    {
     "data": {
      "text/plain": [
       "['김치찌개', '볶음밥', '탕수육', '라면']"
      ]
     },
     "execution_count": 4,
     "metadata": {},
     "output_type": "execute_result"
    }
   ],
   "source": [
    "좋아하는_음식들.append(\"라면\")  # 끝에 1개 추가\n",
    "좋아하는_음식들"
   ]
  },
  {
   "cell_type": "code",
   "execution_count": 6,
   "metadata": {},
   "outputs": [
    {
     "data": {
      "text/plain": [
       "['김치찌개', '볶음밥', '탕수육', '라면', '라면', '라면']"
      ]
     },
     "execution_count": 6,
     "metadata": {},
     "output_type": "execute_result"
    }
   ],
   "source": [
    "좋아하는_음식들.append(\"라면\")  # 끝에 1개 추가\n",
    "좋아하는_음식들"
   ]
  },
  {
   "cell_type": "code",
   "execution_count": 7,
   "metadata": {},
   "outputs": [
    {
     "data": {
      "text/plain": [
       "6"
      ]
     },
     "execution_count": 7,
     "metadata": {},
     "output_type": "execute_result"
    }
   ],
   "source": [
    "len(좋아하는_음식들)"
   ]
  },
  {
   "cell_type": "code",
   "execution_count": 8,
   "metadata": {},
   "outputs": [
    {
     "data": {
      "text/plain": [
       "'김치찌개'"
      ]
     },
     "execution_count": 8,
     "metadata": {},
     "output_type": "execute_result"
    }
   ],
   "source": [
    "좋아하는_음식들[0]"
   ]
  },
  {
   "cell_type": "code",
   "execution_count": 9,
   "metadata": {},
   "outputs": [
    {
     "ename": "IndexError",
     "evalue": "list index out of range",
     "output_type": "error",
     "traceback": [
      "\u001b[0;31m---------------------------------------------------------------------------\u001b[0m",
      "\u001b[0;31mIndexError\u001b[0m                                Traceback (most recent call last)",
      "\u001b[0;32m<ipython-input-9-44b181b2b20f>\u001b[0m in \u001b[0;36m<module>\u001b[0;34m()\u001b[0m\n\u001b[0;32m----> 1\u001b[0;31m \u001b[0m좋아하는_음식들\u001b[0m\u001b[0;34m[\u001b[0m\u001b[0;36m6\u001b[0m\u001b[0;34m]\u001b[0m\u001b[0;34m\u001b[0m\u001b[0m\n\u001b[0m",
      "\u001b[0;31mIndexError\u001b[0m: list index out of range"
     ]
    }
   ],
   "source": [
    "좋아하는_음식들[6]"
   ]
  },
  {
   "cell_type": "code",
   "execution_count": 13,
   "metadata": {},
   "outputs": [
    {
     "data": {
      "text/plain": [
       "'라면'"
      ]
     },
     "execution_count": 13,
     "metadata": {},
     "output_type": "execute_result"
    }
   ],
   "source": [
    "# 좋아하는_음식들[len(좋아하는_음식들)-1]  # 리스트 끝 값\n",
    "좋아하는_음식들[-1]"
   ]
  },
  {
   "cell_type": "code",
   "execution_count": 14,
   "metadata": {},
   "outputs": [
    {
     "data": {
      "text/plain": [
       "'T'"
      ]
     },
     "execution_count": 14,
     "metadata": {},
     "output_type": "execute_result"
    }
   ],
   "source": [
    "알파벳 = \"ABCDEFGHIJKLMNOPQRSTUVWXYZ\"\n",
    "알파벳[19]  # 20번째 글자"
   ]
  },
  {
   "cell_type": "code",
   "execution_count": 15,
   "metadata": {},
   "outputs": [
    {
     "data": {
      "text/plain": [
       "['김치찌개', '볶음밥', '탕수육', '라면', '라면', '라면']"
      ]
     },
     "execution_count": 15,
     "metadata": {},
     "output_type": "execute_result"
    }
   ],
   "source": [
    "좋아하는_음식들"
   ]
  },
  {
   "cell_type": "code",
   "execution_count": 16,
   "metadata": {},
   "outputs": [
    {
     "data": {
      "text/plain": [
       "['김치찌개', '짬뽕', '볶음밥', '탕수육', '라면', '라면', '라면']"
      ]
     },
     "execution_count": 16,
     "metadata": {},
     "output_type": "execute_result"
    }
   ],
   "source": [
    "좋아하는_음식들.insert(1, '짬뽕')\n",
    "좋아하는_음식들"
   ]
  },
  {
   "cell_type": "code",
   "execution_count": 18,
   "metadata": {},
   "outputs": [
    {
     "data": {
      "text/plain": [
       "['김치찌개', '짬뽕', '볶음밥', '탕수육', '라면', '라면', '라면', '오므라이스', '짜장면', '만두']"
      ]
     },
     "execution_count": 18,
     "metadata": {},
     "output_type": "execute_result"
    }
   ],
   "source": [
    "# 좋아하는_음식들.append('오므라이스')\n",
    "# 좋아하는_음식들.append('짜장면')\n",
    "# 좋아하는_음식들.append('만두')\n",
    "\n",
    "좋아하는_음식들.extend(['오므라이스', '짜장면', '만두'])\n",
    "\n",
    "좋아하는_음식들"
   ]
  },
  {
   "cell_type": "code",
   "execution_count": 19,
   "metadata": {
    "collapsed": true
   },
   "outputs": [
    {
     "data": {
      "text/plain": [
       "['김치찌개',\n",
       " '짬뽕',\n",
       " '볶음밥',\n",
       " '탕수육',\n",
       " '라면',\n",
       " '라면',\n",
       " '라면',\n",
       " '오므라이스',\n",
       " '짜장면',\n",
       " '만두',\n",
       " '순',\n",
       " '대',\n",
       " '국',\n",
       " '밥']"
      ]
     },
     "execution_count": 19,
     "metadata": {},
     "output_type": "execute_result"
    }
   ],
   "source": [
    "# 좋아하는_음식들.extend('순대국밥')  # 이렇게 쓰시면 안 되요.\n",
    "좋아하는_음식들.extend(['순대국밥'])\n",
    "좋아하는_음식들"
   ]
  },
  {
   "cell_type": "code",
   "execution_count": 20,
   "metadata": {},
   "outputs": [],
   "source": [
    "음식들 = [\n",
    "    '짬뽕',\n",
    "    '라면',\n",
    "    '국수'\n",
    "]"
   ]
  },
  {
   "cell_type": "code",
   "execution_count": 21,
   "metadata": {},
   "outputs": [
    {
     "data": {
      "text/plain": [
       "['김치찌개',\n",
       " '짬뽕',\n",
       " '볶음밥',\n",
       " '탕수육',\n",
       " '라면',\n",
       " '라면',\n",
       " '라면',\n",
       " '오므라이스',\n",
       " '짜장면',\n",
       " '만두',\n",
       " '순',\n",
       " '대',\n",
       " '국',\n",
       " '밥']"
      ]
     },
     "execution_count": 21,
     "metadata": {},
     "output_type": "execute_result"
    }
   ],
   "source": [
    "좋아하는_음식들"
   ]
  },
  {
   "cell_type": "code",
   "execution_count": 22,
   "metadata": {},
   "outputs": [
    {
     "data": {
      "text/plain": [
       "['김치찌개',\n",
       " '볶음밥',\n",
       " '탕수육',\n",
       " '라면',\n",
       " '라면',\n",
       " '라면',\n",
       " '오므라이스',\n",
       " '짜장면',\n",
       " '만두',\n",
       " '순',\n",
       " '대',\n",
       " '국',\n",
       " '밥']"
      ]
     },
     "execution_count": 22,
     "metadata": {},
     "output_type": "execute_result"
    }
   ],
   "source": [
    "좋아하는_음식들.remove('짬뽕')\n",
    "# 좋아하는_음식들.pop(1)\n",
    "좋아하는_음식들"
   ]
  },
  {
   "cell_type": "code",
   "execution_count": 23,
   "metadata": {},
   "outputs": [
    {
     "ename": "ValueError",
     "evalue": "list.remove(x): x not in list",
     "output_type": "error",
     "traceback": [
      "\u001b[0;31m---------------------------------------------------------------------------\u001b[0m",
      "\u001b[0;31mValueError\u001b[0m                                Traceback (most recent call last)",
      "\u001b[0;32m<ipython-input-23-39754e1d0e6e>\u001b[0m in \u001b[0;36m<module>\u001b[0;34m()\u001b[0m\n\u001b[0;32m----> 1\u001b[0;31m \u001b[0m좋아하는_음식들\u001b[0m\u001b[0;34m.\u001b[0m\u001b[0mremove\u001b[0m\u001b[0;34m(\u001b[0m\u001b[0;34m'짬뽕'\u001b[0m\u001b[0;34m)\u001b[0m\u001b[0;34m\u001b[0m\u001b[0m\n\u001b[0m",
      "\u001b[0;31mValueError\u001b[0m: list.remove(x): x not in list"
     ]
    }
   ],
   "source": [
    "좋아하는_음식들.remove('짬뽕')"
   ]
  },
  {
   "cell_type": "code",
   "execution_count": 24,
   "metadata": {},
   "outputs": [
    {
     "data": {
      "text/plain": [
       "['김치찌개', '볶음밥', '탕수육', '라면', '라면', '오므라이스', '짜장면', '만두', '순', '대', '국', '밥']"
      ]
     },
     "execution_count": 24,
     "metadata": {},
     "output_type": "execute_result"
    }
   ],
   "source": [
    "좋아하는_음식들.remove('라면')\n",
    "좋아하는_음식들"
   ]
  },
  {
   "cell_type": "code",
   "execution_count": null,
   "metadata": {},
   "outputs": [],
   "source": []
  },
  {
   "cell_type": "code",
   "execution_count": 27,
   "metadata": {},
   "outputs": [
    {
     "name": "stdout",
     "output_type": "stream",
     "text": [
      "['김치찌개', '볶음밥', '탕수육', '라면', '라면', '오므라이스', '짜장면', '만두', '순', '대', '국', '밥', '울면', '냉우동']\n"
     ]
    }
   ],
   "source": [
    "좋아하는_음식들.extend(['울면', '냉우동'])\n",
    "print(좋아하는_음식들)"
   ]
  },
  {
   "cell_type": "code",
   "execution_count": 28,
   "metadata": {},
   "outputs": [
    {
     "data": {
      "text/plain": [
       "['김치찌개',\n",
       " '볶음밥',\n",
       " '탕수육',\n",
       " '라면',\n",
       " '라면',\n",
       " '오므라이스',\n",
       " '짜장면',\n",
       " '만두',\n",
       " '순',\n",
       " '대',\n",
       " '국',\n",
       " '밥',\n",
       " '울면',\n",
       " '냉우동']"
      ]
     },
     "execution_count": 28,
     "metadata": {},
     "output_type": "execute_result"
    }
   ],
   "source": [
    "좋아하는_음식들"
   ]
  },
  {
   "cell_type": "code",
   "execution_count": 30,
   "metadata": {},
   "outputs": [],
   "source": [
    "from pprint import pprint  # pretty print"
   ]
  },
  {
   "cell_type": "code",
   "execution_count": 31,
   "metadata": {},
   "outputs": [
    {
     "name": "stdout",
     "output_type": "stream",
     "text": [
      "['김치찌개',\n",
      " '볶음밥',\n",
      " '탕수육',\n",
      " '라면',\n",
      " '라면',\n",
      " '오므라이스',\n",
      " '짜장면',\n",
      " '만두',\n",
      " '순',\n",
      " '대',\n",
      " '국',\n",
      " '밥',\n",
      " '울면',\n",
      " '냉우동']\n"
     ]
    }
   ],
   "source": [
    "pprint(좋아하는_음식들)"
   ]
  },
  {
   "cell_type": "code",
   "execution_count": null,
   "metadata": {},
   "outputs": [],
   "source": []
  },
  {
   "cell_type": "code",
   "execution_count": 32,
   "metadata": {},
   "outputs": [
    {
     "data": {
      "text/plain": [
       "'ABCDEFGHIJKLMNOPQRSTUVWXYZ'"
      ]
     },
     "execution_count": 32,
     "metadata": {},
     "output_type": "execute_result"
    }
   ],
   "source": [
    "알파벳"
   ]
  },
  {
   "cell_type": "code",
   "execution_count": 39,
   "metadata": {},
   "outputs": [
    {
     "name": "stdout",
     "output_type": "stream",
     "text": [
      "ABC\n",
      "XYZ\n",
      "DEFGHIJKLMNOPQRSTUVW\n",
      "DFHJLNPRTV\n",
      "DGJMPSV\n",
      "DHLPT\n"
     ]
    }
   ],
   "source": [
    "print(알파벳[:3])     # 처음 3글자\n",
    "print(알파벳[-3:])    # 마지막 3글자\n",
    "print(알파벳[3:-3])\n",
    "print(알파벳[3:-3:2])\n",
    "print(알파벳[3:-3:3])\n",
    "print(알파벳[3:-3:4])"
   ]
  },
  {
   "cell_type": "code",
   "execution_count": 41,
   "metadata": {},
   "outputs": [
    {
     "name": "stdout",
     "output_type": "stream",
     "text": [
      "ZYXWVUTSRQPONMLKJIHGFEDCBA\n"
     ]
    }
   ],
   "source": [
    "print(알파벳[::-1])"
   ]
  },
  {
   "cell_type": "code",
   "execution_count": null,
   "metadata": {},
   "outputs": [],
   "source": []
  },
  {
   "cell_type": "code",
   "execution_count": 46,
   "metadata": {},
   "outputs": [],
   "source": [
    "좋아하는_음식들 = [\n",
    "    \"김치찌개\", \"볶음밥\", \"탕수육\", \"김밥\", \"육개장\",\n",
    "    \"똠양꿍\", \"숯불구이\", \"국밥\", \"시래기\", \"수육\",\n",
    "]"
   ]
  },
  {
   "cell_type": "code",
   "execution_count": 47,
   "metadata": {},
   "outputs": [
    {
     "data": {
      "text/plain": [
       "'볶음밥'"
      ]
     },
     "execution_count": 47,
     "metadata": {},
     "output_type": "execute_result"
    }
   ],
   "source": [
    "# 2번째로 좋아하는 메뉴 -> 1번 인덱스\n",
    "좋아하는_음식들[1]"
   ]
  },
  {
   "cell_type": "code",
   "execution_count": 48,
   "metadata": {},
   "outputs": [
    {
     "data": {
      "text/plain": [
       "['김밥', '육개장', '똠양꿍', '숯불구이']"
      ]
     },
     "execution_count": 48,
     "metadata": {},
     "output_type": "execute_result"
    }
   ],
   "source": [
    "# 4번째~7번째 좋아하는 것\n",
    "좋아하는_음식들[3:7]"
   ]
  },
  {
   "cell_type": "code",
   "execution_count": 49,
   "metadata": {},
   "outputs": [
    {
     "data": {
      "text/plain": [
       "['국밥', '시래기', '수육']"
      ]
     },
     "execution_count": 49,
     "metadata": {},
     "output_type": "execute_result"
    }
   ],
   "source": [
    "좋아하는_음식들[-3:]"
   ]
  },
  {
   "cell_type": "code",
   "execution_count": 50,
   "metadata": {},
   "outputs": [
    {
     "data": {
      "text/plain": [
       "['수육', '시래기', '국밥', '숯불구이', '똠양꿍', '육개장', '김밥', '탕수육', '볶음밥', '김치찌개']"
      ]
     },
     "execution_count": 50,
     "metadata": {},
     "output_type": "execute_result"
    }
   ],
   "source": [
    "좋아하는_음식들[::-1]"
   ]
  },
  {
   "cell_type": "code",
   "execution_count": null,
   "metadata": {},
   "outputs": [],
   "source": []
  },
  {
   "cell_type": "code",
   "execution_count": 51,
   "metadata": {},
   "outputs": [],
   "source": [
    "import seaborn"
   ]
  },
  {
   "cell_type": "code",
   "execution_count": 57,
   "metadata": {},
   "outputs": [
    {
     "name": "stdout",
     "output_type": "stream",
     "text": [
      "(891, 15)\n"
     ]
    },
    {
     "data": {
      "text/html": [
       "<div>\n",
       "<style scoped>\n",
       "    .dataframe tbody tr th:only-of-type {\n",
       "        vertical-align: middle;\n",
       "    }\n",
       "\n",
       "    .dataframe tbody tr th {\n",
       "        vertical-align: top;\n",
       "    }\n",
       "\n",
       "    .dataframe thead th {\n",
       "        text-align: right;\n",
       "    }\n",
       "</style>\n",
       "<table border=\"1\" class=\"dataframe\">\n",
       "  <thead>\n",
       "    <tr style=\"text-align: right;\">\n",
       "      <th></th>\n",
       "      <th>survived</th>\n",
       "      <th>pclass</th>\n",
       "      <th>sex</th>\n",
       "      <th>age</th>\n",
       "      <th>sibsp</th>\n",
       "      <th>parch</th>\n",
       "      <th>fare</th>\n",
       "      <th>embarked</th>\n",
       "      <th>class</th>\n",
       "      <th>who</th>\n",
       "      <th>adult_male</th>\n",
       "      <th>deck</th>\n",
       "      <th>embark_town</th>\n",
       "      <th>alive</th>\n",
       "      <th>alone</th>\n",
       "    </tr>\n",
       "  </thead>\n",
       "  <tbody>\n",
       "    <tr>\n",
       "      <th>888</th>\n",
       "      <td>0</td>\n",
       "      <td>3</td>\n",
       "      <td>female</td>\n",
       "      <td>NaN</td>\n",
       "      <td>1</td>\n",
       "      <td>2</td>\n",
       "      <td>23.45</td>\n",
       "      <td>S</td>\n",
       "      <td>Third</td>\n",
       "      <td>woman</td>\n",
       "      <td>False</td>\n",
       "      <td>NaN</td>\n",
       "      <td>Southampton</td>\n",
       "      <td>no</td>\n",
       "      <td>False</td>\n",
       "    </tr>\n",
       "    <tr>\n",
       "      <th>889</th>\n",
       "      <td>1</td>\n",
       "      <td>1</td>\n",
       "      <td>male</td>\n",
       "      <td>26.0</td>\n",
       "      <td>0</td>\n",
       "      <td>0</td>\n",
       "      <td>30.00</td>\n",
       "      <td>C</td>\n",
       "      <td>First</td>\n",
       "      <td>man</td>\n",
       "      <td>True</td>\n",
       "      <td>C</td>\n",
       "      <td>Cherbourg</td>\n",
       "      <td>yes</td>\n",
       "      <td>True</td>\n",
       "    </tr>\n",
       "    <tr>\n",
       "      <th>890</th>\n",
       "      <td>0</td>\n",
       "      <td>3</td>\n",
       "      <td>male</td>\n",
       "      <td>32.0</td>\n",
       "      <td>0</td>\n",
       "      <td>0</td>\n",
       "      <td>7.75</td>\n",
       "      <td>Q</td>\n",
       "      <td>Third</td>\n",
       "      <td>man</td>\n",
       "      <td>True</td>\n",
       "      <td>NaN</td>\n",
       "      <td>Queenstown</td>\n",
       "      <td>no</td>\n",
       "      <td>True</td>\n",
       "    </tr>\n",
       "  </tbody>\n",
       "</table>\n",
       "</div>"
      ],
      "text/plain": [
       "     survived  pclass     sex   age  sibsp  parch   fare embarked  class  \\\n",
       "888         0       3  female   NaN      1      2  23.45        S  Third   \n",
       "889         1       1    male  26.0      0      0  30.00        C  First   \n",
       "890         0       3    male  32.0      0      0   7.75        Q  Third   \n",
       "\n",
       "       who  adult_male deck  embark_town alive  alone  \n",
       "888  woman       False  NaN  Southampton    no  False  \n",
       "889    man        True    C    Cherbourg   yes   True  \n",
       "890    man        True  NaN   Queenstown    no   True  "
      ]
     },
     "execution_count": 57,
     "metadata": {},
     "output_type": "execute_result"
    }
   ],
   "source": [
    "df = seaborn.load_dataset('titanic')\n",
    "print(df.shape)\n",
    "df.iloc[-3:]"
   ]
  },
  {
   "cell_type": "code",
   "execution_count": null,
   "metadata": {},
   "outputs": [],
   "source": []
  },
  {
   "cell_type": "code",
   "execution_count": 59,
   "metadata": {},
   "outputs": [],
   "source": [
    "메뉴1 = 좋아하는_음식들[0]\n",
    "메뉴2 = 좋아하는_음식들[1]\n",
    "메뉴3 = 좋아하는_음식들[2]"
   ]
  },
  {
   "cell_type": "code",
   "execution_count": 62,
   "metadata": {},
   "outputs": [],
   "source": [
    "메뉴1, 메뉴2, 메뉴3 = 좋아하는_음식들[:3]  # unpack"
   ]
  },
  {
   "cell_type": "code",
   "execution_count": 66,
   "metadata": {},
   "outputs": [
    {
     "data": {
      "text/plain": [
       "20"
      ]
     },
     "execution_count": 66,
     "metadata": {},
     "output_type": "execute_result"
    }
   ],
   "source": [
    "# i = 10\n",
    "# j = 20\n",
    "\n",
    "# [i, j] = [10, 20]  # list문법을 썼지만,\n",
    "# (i, j) = (10, 20)  # 다음 페이지에 나올 tuple형태로 많이 씁니다.\n",
    "i, j = 10, 20      # 소괄호는 생략이 가능하다.\n",
    "\n",
    "j"
   ]
  },
  {
   "cell_type": "code",
   "execution_count": 68,
   "metadata": {},
   "outputs": [
    {
     "ename": "ValueError",
     "evalue": "not enough values to unpack (expected 2, got 1)",
     "output_type": "error",
     "traceback": [
      "\u001b[0;31m---------------------------------------------------------------------------\u001b[0m",
      "\u001b[0;31mValueError\u001b[0m                                Traceback (most recent call last)",
      "\u001b[0;32m<ipython-input-68-e2d3002d12d2>\u001b[0m in \u001b[0;36m<module>\u001b[0;34m()\u001b[0m\n\u001b[0;32m----> 1\u001b[0;31m \u001b[0mi\u001b[0m\u001b[0;34m,\u001b[0m \u001b[0mj\u001b[0m \u001b[0;34m=\u001b[0m \u001b[0;36m10\u001b[0m\u001b[0;34m,\u001b[0m \u001b[0;31m# 20, 30\u001b[0m\u001b[0;34m\u001b[0m\u001b[0m\n\u001b[0m",
      "\u001b[0;31mValueError\u001b[0m: not enough values to unpack (expected 2, got 1)"
     ]
    }
   ],
   "source": [
    "i, j = 10, # 20, 30"
   ]
  },
  {
   "cell_type": "code",
   "execution_count": null,
   "metadata": {},
   "outputs": [],
   "source": []
  },
  {
   "cell_type": "code",
   "execution_count": 70,
   "metadata": {},
   "outputs": [],
   "source": [
    "# 좋아하는_음식들 = [\"김치찌개\", \"볶음밥\", \"탕수육\"]  # 리스트 (list)\n",
    "좋아하는_음식들 = (\"김치찌개\", \"볶음밥\", \"탕수육\")  # 튜플 (tuple)"
   ]
  },
  {
   "cell_type": "code",
   "execution_count": 71,
   "metadata": {},
   "outputs": [],
   "source": [
    "좋아하는_음식들 = (\"김치찌개\", \"볶음밥\", \"탕수육\", \"짬뽕\")"
   ]
  },
  {
   "cell_type": "code",
   "execution_count": null,
   "metadata": {},
   "outputs": [],
   "source": []
  },
  {
   "cell_type": "code",
   "execution_count": 72,
   "metadata": {},
   "outputs": [],
   "source": [
    "x = 1\n",
    "y = 2\n",
    "\n",
    "# temp = x\n",
    "# x = y\n",
    "# y = temp\n",
    "\n",
    "x, y = y, x"
   ]
  },
  {
   "cell_type": "markdown",
   "metadata": {},
   "source": [
    "## 집합"
   ]
  },
  {
   "cell_type": "code",
   "execution_count": 73,
   "metadata": {},
   "outputs": [
    {
     "data": {
      "text/plain": [
       "['김치찌개', '라면', '라면', '볶음밥']"
      ]
     },
     "execution_count": 73,
     "metadata": {},
     "output_type": "execute_result"
    }
   ],
   "source": [
    "메뉴들_리스트 = ['김치찌개', '라면', '라면', '볶음밥']\n",
    "메뉴들_리스트"
   ]
  },
  {
   "cell_type": "code",
   "execution_count": 74,
   "metadata": {},
   "outputs": [
    {
     "data": {
      "text/plain": [
       "{'김치찌개', '라면', '볶음밥'}"
      ]
     },
     "execution_count": 74,
     "metadata": {},
     "output_type": "execute_result"
    }
   ],
   "source": [
    "메뉴들_집합 = {'김치찌개', '라면', '라면', '볶음밥'}\n",
    "메뉴들_집합"
   ]
  },
  {
   "cell_type": "code",
   "execution_count": 75,
   "metadata": {},
   "outputs": [
    {
     "data": {
      "text/plain": [
       "{'김치찌개', '라면', '볶음밥', '짬뽕'}"
      ]
     },
     "execution_count": 75,
     "metadata": {},
     "output_type": "execute_result"
    }
   ],
   "source": [
    "메뉴들_집합.add('짬뽕')\n",
    "메뉴들_집합.add('짬뽕')\n",
    "메뉴들_집합.add('짬뽕')\n",
    "메뉴들_집합.add('라면')\n",
    "메뉴들_집합"
   ]
  },
  {
   "cell_type": "code",
   "execution_count": null,
   "metadata": {},
   "outputs": [],
   "source": []
  },
  {
   "cell_type": "code",
   "execution_count": 76,
   "metadata": {},
   "outputs": [],
   "source": [
    "철수가_좋아하는_메뉴 = {'김치찌개', '라면', '라면', '볶음밥'}\n",
    "영희가_좋아하는_메뉴 = {'김치찜', '참치라면', '볶음밥', '철판볶음밥'}"
   ]
  },
  {
   "cell_type": "code",
   "execution_count": 78,
   "metadata": {},
   "outputs": [
    {
     "data": {
      "text/plain": [
       "{'볶음밥'}"
      ]
     },
     "execution_count": 78,
     "metadata": {},
     "output_type": "execute_result"
    }
   ],
   "source": [
    "철수가_좋아하는_메뉴 & 영희가_좋아하는_메뉴  # 둘 다 좋아하는 메뉴"
   ]
  },
  {
   "cell_type": "code",
   "execution_count": 79,
   "metadata": {},
   "outputs": [
    {
     "data": {
      "text/plain": [
       "{'김치찌개', '김치찜', '라면', '볶음밥', '참치라면', '철판볶음밥'}"
      ]
     },
     "execution_count": 79,
     "metadata": {},
     "output_type": "execute_result"
    }
   ],
   "source": [
    "철수가_좋아하는_메뉴 | 영희가_좋아하는_메뉴  # 두 사람이 좋아하는 전체 메뉴"
   ]
  },
  {
   "cell_type": "code",
   "execution_count": 80,
   "metadata": {},
   "outputs": [
    {
     "data": {
      "text/plain": [
       "{'김치찌개', '라면'}"
      ]
     },
     "execution_count": 80,
     "metadata": {},
     "output_type": "execute_result"
    }
   ],
   "source": [
    "철수가_좋아하는_메뉴 - 영희가_좋아하는_메뉴  # 철수만 좋아하는 메뉴"
   ]
  },
  {
   "cell_type": "code",
   "execution_count": 82,
   "metadata": {},
   "outputs": [
    {
     "data": {
      "text/plain": [
       "{'김치찌개', '김치찜', '라면', '참치라면', '철판볶음밥'}"
      ]
     },
     "execution_count": 82,
     "metadata": {},
     "output_type": "execute_result"
    }
   ],
   "source": [
    "철수가_좋아하는_메뉴 ^ 영희가_좋아하는_메뉴  # 대칭 차집합"
   ]
  },
  {
   "cell_type": "code",
   "execution_count": null,
   "metadata": {},
   "outputs": [],
   "source": []
  },
  {
   "cell_type": "code",
   "execution_count": 83,
   "metadata": {},
   "outputs": [],
   "source": [
    "철수가_좋아하는_메뉴 = ['김치찌개', '라면', '라면', '볶음밥']\n",
    "영희가_좋아하는_메뉴 = ['김치찜', '참치라면', '볶음밥', '철판볶음밥']"
   ]
  },
  {
   "cell_type": "code",
   "execution_count": 88,
   "metadata": {},
   "outputs": [
    {
     "data": {
      "text/plain": [
       "{'볶음밥'}"
      ]
     },
     "execution_count": 88,
     "metadata": {},
     "output_type": "execute_result"
    }
   ],
   "source": [
    "set(철수가_좋아하는_메뉴) & set(영희가_좋아하는_메뉴)"
   ]
  },
  {
   "cell_type": "code",
   "execution_count": null,
   "metadata": {},
   "outputs": [],
   "source": []
  },
  {
   "cell_type": "code",
   "execution_count": null,
   "metadata": {},
   "outputs": [],
   "source": []
  },
  {
   "cell_type": "code",
   "execution_count": 84,
   "metadata": {},
   "outputs": [
    {
     "data": {
      "text/plain": [
       "123"
      ]
     },
     "execution_count": 84,
     "metadata": {},
     "output_type": "execute_result"
    }
   ],
   "source": [
    "int(\"123\")  # str -> int\n",
    "\n",
    "[]   # = list()\n",
    "()   # = tuple()"
   ]
  },
  {
   "cell_type": "code",
   "execution_count": 86,
   "metadata": {},
   "outputs": [
    {
     "data": {
      "text/plain": [
       "(1, 2, 3)"
      ]
     },
     "execution_count": 86,
     "metadata": {},
     "output_type": "execute_result"
    }
   ],
   "source": [
    "tuple([1, 2, 3])"
   ]
  },
  {
   "cell_type": "code",
   "execution_count": null,
   "metadata": {},
   "outputs": [],
   "source": []
  },
  {
   "cell_type": "code",
   "execution_count": 90,
   "metadata": {},
   "outputs": [
    {
     "data": {
      "text/plain": [
       "['H', 'e', 'l', 'l', 'o', ' ', 'P', 'y', 't', 'h', 'o', 'n']"
      ]
     },
     "execution_count": 90,
     "metadata": {},
     "output_type": "execute_result"
    }
   ],
   "source": [
    "list(\"Hello Python\")"
   ]
  },
  {
   "cell_type": "code",
   "execution_count": null,
   "metadata": {},
   "outputs": [],
   "source": []
  },
  {
   "cell_type": "code",
   "execution_count": 92,
   "metadata": {},
   "outputs": [
    {
     "data": {
      "text/plain": [
       "100"
      ]
     },
     "execution_count": 92,
     "metadata": {},
     "output_type": "execute_result"
    }
   ],
   "source": [
    "철수_성적 = [100, 90, 80]\n",
    "철수_성적[0]"
   ]
  },
  {
   "cell_type": "code",
   "execution_count": 93,
   "metadata": {},
   "outputs": [
    {
     "data": {
      "text/plain": [
       "{'국어': 100, '영어': 90, '수학': 80}"
      ]
     },
     "execution_count": 93,
     "metadata": {},
     "output_type": "execute_result"
    }
   ],
   "source": [
    "철수_성적 = {\n",
    "    '국어': 100,\n",
    "    '영어': 90,\n",
    "    '수학': 80,\n",
    "}\n",
    "철수_성적"
   ]
  },
  {
   "cell_type": "code",
   "execution_count": 94,
   "metadata": {},
   "outputs": [
    {
     "data": {
      "text/plain": [
       "100"
      ]
     },
     "execution_count": 94,
     "metadata": {},
     "output_type": "execute_result"
    }
   ],
   "source": [
    "철수_성적['국어']"
   ]
  },
  {
   "cell_type": "code",
   "execution_count": 95,
   "metadata": {},
   "outputs": [
    {
     "ename": "KeyError",
     "evalue": "'사회'",
     "output_type": "error",
     "traceback": [
      "\u001b[0;31m---------------------------------------------------------------------------\u001b[0m",
      "\u001b[0;31mKeyError\u001b[0m                                  Traceback (most recent call last)",
      "\u001b[0;32m<ipython-input-95-cd9f50e023af>\u001b[0m in \u001b[0;36m<module>\u001b[0;34m()\u001b[0m\n\u001b[0;32m----> 1\u001b[0;31m \u001b[0m철수_성적\u001b[0m\u001b[0;34m[\u001b[0m\u001b[0;34m'사회'\u001b[0m\u001b[0;34m]\u001b[0m\u001b[0;34m\u001b[0m\u001b[0m\n\u001b[0m",
      "\u001b[0;31mKeyError\u001b[0m: '사회'"
     ]
    }
   ],
   "source": [
    "철수_성적['사회']"
   ]
  },
  {
   "cell_type": "code",
   "execution_count": 96,
   "metadata": {},
   "outputs": [
    {
     "data": {
      "text/plain": [
       "{'국어': 100, '영어': 90, '수학': 80, '사회': 70}"
      ]
     },
     "execution_count": 96,
     "metadata": {},
     "output_type": "execute_result"
    }
   ],
   "source": [
    "철수_성적['사회'] = 70\n",
    "철수_성적"
   ]
  },
  {
   "cell_type": "code",
   "execution_count": 98,
   "metadata": {},
   "outputs": [
    {
     "data": {
      "text/plain": [
       "{'국어': 100, '영어': 90, '수학': 80, '사회': 70, '과학': 80, '음악': 70, '미술': 90}"
      ]
     },
     "execution_count": 98,
     "metadata": {},
     "output_type": "execute_result"
    }
   ],
   "source": [
    "철수_성적.update({\n",
    "    '과학': 90,\n",
    "    '과학': 80,\n",
    "    '음악': 70,\n",
    "    '미술': 90,\n",
    "})\n",
    "철수_성적"
   ]
  },
  {
   "cell_type": "code",
   "execution_count": null,
   "metadata": {},
   "outputs": [],
   "source": []
  },
  {
   "cell_type": "code",
   "execution_count": 99,
   "metadata": {},
   "outputs": [
    {
     "data": {
      "text/plain": [
       "10"
      ]
     },
     "execution_count": 99,
     "metadata": {},
     "output_type": "execute_result"
    }
   ],
   "source": [
    "i = 10\n",
    "# i = i + 10\n",
    "i += 10"
   ]
  },
  {
   "cell_type": "code",
   "execution_count": null,
   "metadata": {},
   "outputs": [],
   "source": []
  },
  {
   "cell_type": "code",
   "execution_count": 105,
   "metadata": {},
   "outputs": [
    {
     "data": {
      "text/plain": [
       "{'국어': 100,\n",
       " '영어': 90,\n",
       " '수학': 80,\n",
       " '사회': 70,\n",
       " '과학': 80,\n",
       " '음악': 70,\n",
       " '미술': 90,\n",
       " '지리': 10}"
      ]
     },
     "execution_count": 105,
     "metadata": {},
     "output_type": "execute_result"
    }
   ],
   "source": [
    "철수_성적['지리'] = 0\n",
    "철수_성적['지리'] += 10\n",
    "\n",
    "# 철수_성적['지리'] = 철수_성적['지리'] + 10\n",
    "\n",
    "철수_성적"
   ]
  },
  {
   "cell_type": "code",
   "execution_count": null,
   "metadata": {},
   "outputs": [],
   "source": []
  },
  {
   "cell_type": "code",
   "execution_count": 106,
   "metadata": {},
   "outputs": [
    {
     "data": {
      "text/plain": [
       "{'국어': 100, '영어': 90, '수학': 80, '사회': 70, '과학': 80, '음악': 70, '미술': 90}"
      ]
     },
     "execution_count": 106,
     "metadata": {},
     "output_type": "execute_result"
    }
   ],
   "source": [
    "del 철수_성적['지리']\n",
    "철수_성적"
   ]
  },
  {
   "cell_type": "code",
   "execution_count": 107,
   "metadata": {},
   "outputs": [
    {
     "ename": "KeyError",
     "evalue": "'지리'",
     "output_type": "error",
     "traceback": [
      "\u001b[0;31m---------------------------------------------------------------------------\u001b[0m",
      "\u001b[0;31mKeyError\u001b[0m                                  Traceback (most recent call last)",
      "\u001b[0;32m<ipython-input-107-f7a2050266ff>\u001b[0m in \u001b[0;36m<module>\u001b[0;34m()\u001b[0m\n\u001b[0;32m----> 1\u001b[0;31m \u001b[0;32mdel\u001b[0m \u001b[0m철수_성적\u001b[0m\u001b[0;34m[\u001b[0m\u001b[0;34m'지리'\u001b[0m\u001b[0;34m]\u001b[0m\u001b[0;34m\u001b[0m\u001b[0m\n\u001b[0m\u001b[1;32m      2\u001b[0m \u001b[0m철수_성적\u001b[0m\u001b[0;34m\u001b[0m\u001b[0m\n",
      "\u001b[0;31mKeyError\u001b[0m: '지리'"
     ]
    }
   ],
   "source": [
    "del 철수_성적['지리']\n",
    "철수_성적"
   ]
  },
  {
   "cell_type": "code",
   "execution_count": null,
   "metadata": {},
   "outputs": [],
   "source": []
  },
  {
   "cell_type": "markdown",
   "metadata": {},
   "source": [
    "## 멜론 데이터 가져오기"
   ]
  },
  {
   "cell_type": "code",
   "execution_count": 117,
   "metadata": {},
   "outputs": [
    {
     "data": {
      "text/plain": [
       "[OrderedDict([('곡일련번호', '31346009'),\n",
       "              ('순위', '1'),\n",
       "              ('앨범', '삐삐'),\n",
       "              ('곡명', '삐삐'),\n",
       "              ('가수', '아이유'),\n",
       "              ('커버이미지_주소',\n",
       "               'https://cdnimg.melon.co.kr/cm/album/images/102/10/535/10210535_500.jpg/melon/resize/120/quality/80/optimize'),\n",
       "              ('좋아요', '61528')]),\n",
       " OrderedDict([('곡일련번호', '31344113'),\n",
       "              ('순위', '2'),\n",
       "              ('앨범', '시간이 들겠지'),\n",
       "              ('곡명', '시간이 들겠지 (Feat. Colde)'),\n",
       "              ('가수', '로꼬'),\n",
       "              ('커버이미지_주소',\n",
       "               'https://cdnimg.melon.co.kr/cm/album/images/102/10/198/10210198_500.jpg/melon/resize/120/quality/80/optimize'),\n",
       "              ('좋아요', '48331')]),\n",
       " OrderedDict([('곡일련번호', '31340985'),\n",
       "              ('순위', '3'),\n",
       "              ('앨범', '쇼미더머니 777 Episode 1'),\n",
       "              ('곡명', 'Good Day (Feat. 팔로알토) (Prod. 코드 쿤스트)'),\n",
       "              ('가수', 'pH-1'),\n",
       "              ('커버이미지_주소',\n",
       "               'https://cdnimg.melon.co.kr/cm/album/images/102/09/647/10209647_500.jpg/melon/resize/120/quality/80/optimize'),\n",
       "              ('좋아요', '54022')]),\n",
       " OrderedDict([('곡일련번호', '31316695'),\n",
       "              ('순위', '4'),\n",
       "              ('앨범', '하루도 그대를 사랑하지 않은 적이 없었다'),\n",
       "              ('곡명', '하루도 그대를 사랑하지 않은 적이 없었다'),\n",
       "              ('가수', '임창정'),\n",
       "              ('커버이미지_주소',\n",
       "               'https://cdnimg.melon.co.kr/cm/album/images/102/05/805/10205805_500.jpg/melon/resize/120/quality/80/optimize'),\n",
       "              ('좋아요', '97984')]),\n",
       " OrderedDict([('곡일련번호', '31266290'),\n",
       "              ('순위', '5'),\n",
       "              ('앨범', 'LOVE YOURSELF 結 `Answer`'),\n",
       "              ('곡명', 'IDOL'),\n",
       "              ('가수', '방탄소년단'),\n",
       "              ('커버이미지_주소',\n",
       "               'https://cdnimg.melon.co.kr/cm/album/images/101/97/480/10197480_500.jpg/melon/resize/120/quality/80/optimize'),\n",
       "              ('좋아요', '173279')]),\n",
       " OrderedDict([('곡일련번호', '31331745'),\n",
       "              ('순위', '6'),\n",
       "              ('앨범', 'NEW KIDS : THE FINAL'),\n",
       "              ('곡명', '이별길 (GOODBYE ROAD)'),\n",
       "              ('가수', 'iKON'),\n",
       "              ('커버이미지_주소',\n",
       "               'https://cdnimg.melon.co.kr/cm/album/images/102/08/358/10208358_500.jpg/melon/resize/120/quality/80/optimize'),\n",
       "              ('좋아요', '55396')]),\n",
       " OrderedDict([('곡일련번호', '31340982'),\n",
       "              ('순위', '7'),\n",
       "              ('앨범', '쇼미더머니 777 Episode 1'),\n",
       "              ('곡명', '사임사임 (Feat. CHANGMO)'),\n",
       "              ('가수', 'Coogie'),\n",
       "              ('커버이미지_주소',\n",
       "               'https://cdnimg.melon.co.kr/cm/album/images/102/09/647/10209647_500.jpg/melon/resize/120/quality/80/optimize'),\n",
       "              ('좋아요', '27564')]),\n",
       " OrderedDict([('곡일련번호', '31266289'),\n",
       "              ('순위', '8'),\n",
       "              ('앨범', 'LOVE YOURSELF 結 `Answer`'),\n",
       "              ('곡명', 'I`m Fine'),\n",
       "              ('가수', '방탄소년단'),\n",
       "              ('커버이미지_주소',\n",
       "               'https://cdnimg.melon.co.kr/cm/album/images/101/97/480/10197480_500.jpg/melon/resize/120/quality/80/optimize'),\n",
       "              ('좋아요', '132847')]),\n",
       " OrderedDict([('곡일련번호', '31314142'),\n",
       "              ('순위', '9'),\n",
       "              ('앨범', '우리 그만하자'),\n",
       "              ('곡명', '우리 그만하자'),\n",
       "              ('가수', '로이킴'),\n",
       "              ('커버이미지_주소',\n",
       "               'https://cdnimg.melon.co.kr/cm/album/images/102/05/438/10205438_500.jpg/melon/resize/120/quality/80/optimize'),\n",
       "              ('좋아요', '95771')]),\n",
       " OrderedDict([('곡일련번호', '31085237'),\n",
       "              ('순위', '10'),\n",
       "              ('앨범', 'LOVE YOURSELF 轉 `Tear`'),\n",
       "              ('곡명', 'FAKE LOVE'),\n",
       "              ('가수', '방탄소년단'),\n",
       "              ('커버이미지_주소',\n",
       "               'https://cdnimg.melon.co.kr/cm/album/images/101/68/559/10168559_500.jpg/melon/resize/120/quality/80/optimize'),\n",
       "              ('좋아요', '253847')]),\n",
       " OrderedDict([('곡일련번호', '31314144'),\n",
       "              ('순위', '11'),\n",
       "              ('앨범', '가을 타나 봐'),\n",
       "              ('곡명', '가을 타나 봐'),\n",
       "              ('가수', '바이브'),\n",
       "              ('커버이미지_주소',\n",
       "               'https://cdnimg.melon.co.kr/cm/album/images/102/05/439/10205439_500.jpg/melon/resize/120/quality/80/optimize'),\n",
       "              ('좋아요', '28056')]),\n",
       " OrderedDict([('곡일련번호', '31266282'),\n",
       "              ('순위', '12'),\n",
       "              ('앨범', 'LOVE YOURSELF 結 `Answer`'),\n",
       "              ('곡명', 'Euphoria'),\n",
       "              ('가수', '방탄소년단'),\n",
       "              ('커버이미지_주소',\n",
       "               'https://cdnimg.melon.co.kr/cm/album/images/101/97/480/10197480_500.jpg/melon/resize/120/quality/80/optimize'),\n",
       "              ('좋아요', '129017')]),\n",
       " OrderedDict([('곡일련번호', '31302310'),\n",
       "              ('순위', '13'),\n",
       "              ('앨범', '헤어지는 중'),\n",
       "              ('곡명', '헤어지는 중'),\n",
       "              ('가수', '펀치 (Punch)'),\n",
       "              ('커버이미지_주소',\n",
       "               'https://cdnimg.melon.co.kr/cm/album/images/102/03/500/10203500_500.jpg/melon/resize/120/quality/80/optimize'),\n",
       "              ('좋아요', '77050')]),\n",
       " OrderedDict([('곡일련번호', '31266291'),\n",
       "              ('순위', '14'),\n",
       "              ('앨범', 'LOVE YOURSELF 結 `Answer`'),\n",
       "              ('곡명', 'Answer : Love Myself'),\n",
       "              ('가수', '방탄소년단'),\n",
       "              ('커버이미지_주소',\n",
       "               'https://cdnimg.melon.co.kr/cm/album/images/101/97/480/10197480_500.jpg/melon/resize/120/quality/80/optimize'),\n",
       "              ('좋아요', '108151')]),\n",
       " OrderedDict([('곡일련번호', '31085238'),\n",
       "              ('순위', '15'),\n",
       "              ('앨범', 'LOVE YOURSELF 轉 `Tear`'),\n",
       "              ('곡명', '전하지 못한 진심 (Feat. Steve Aoki)'),\n",
       "              ('가수', '방탄소년단'),\n",
       "              ('커버이미지_주소',\n",
       "               'https://cdnimg.melon.co.kr/cm/album/images/101/68/559/10168559_500.jpg/melon/resize/120/quality/80/optimize'),\n",
       "              ('좋아요', '176653')]),\n",
       " OrderedDict([('곡일련번호', '31266288'),\n",
       "              ('순위', '16'),\n",
       "              ('앨범', 'LOVE YOURSELF 結 `Answer`'),\n",
       "              ('곡명', 'Epiphany'),\n",
       "              ('가수', '방탄소년단'),\n",
       "              ('커버이미지_주소',\n",
       "               'https://cdnimg.melon.co.kr/cm/album/images/101/97/480/10197480_500.jpg/melon/resize/120/quality/80/optimize'),\n",
       "              ('좋아요', '101011')]),\n",
       " OrderedDict([('곡일련번호', '31266286'),\n",
       "              ('순위', '17'),\n",
       "              ('앨범', 'LOVE YOURSELF 結 `Answer`'),\n",
       "              ('곡명', 'Trivia 轉 : Seesaw'),\n",
       "              ('가수', '방탄소년단'),\n",
       "              ('커버이미지_주소',\n",
       "               'https://cdnimg.melon.co.kr/cm/album/images/101/97/480/10197480_500.jpg/melon/resize/120/quality/80/optimize'),\n",
       "              ('좋아요', '98436')]),\n",
       " OrderedDict([('곡일련번호', '30962526'),\n",
       "              ('순위', '18'),\n",
       "              ('앨범', '`키스 먼저 할까요?` OST Part.3'),\n",
       "              ('곡명', '모든 날, 모든 순간 (Every day, Every Moment)'),\n",
       "              ('가수', '폴킴'),\n",
       "              ('커버이미지_주소',\n",
       "               'https://cdnimg.melon.co.kr/cm/album/images/101/49/492/10149492_500.jpg/melon/resize/120/quality/80/optimize'),\n",
       "              ('좋아요', '185706')]),\n",
       " OrderedDict([('곡일련번호', '31280273'),\n",
       "              ('순위', '19'),\n",
       "              ('앨범', 'YOUNG'),\n",
       "              ('곡명', 'YOUNG'),\n",
       "              ('가수', '백현 (BAEKHYUN)'),\n",
       "              ('커버이미지_주소',\n",
       "               'https://cdnimg.melon.co.kr/cm/album/images/101/99/959/10199959_500.jpg/melon/resize/120/quality/80/optimize'),\n",
       "              ('좋아요', '91106')]),\n",
       " OrderedDict([('곡일련번호', '31266292'),\n",
       "              ('순위', '20'),\n",
       "              ('앨범', 'LOVE YOURSELF 結 `Answer`'),\n",
       "              ('곡명', 'Trivia 起 : Just Dance'),\n",
       "              ('가수', '방탄소년단'),\n",
       "              ('커버이미지_주소',\n",
       "               'https://cdnimg.melon.co.kr/cm/album/images/101/97/480/10197480_500.jpg/melon/resize/120/quality/80/optimize'),\n",
       "              ('좋아요', '88970')]),\n",
       " OrderedDict([('곡일련번호', '31286161'),\n",
       "              ('순위', '21'),\n",
       "              ('앨범', 'WARNING'),\n",
       "              ('곡명', '사이렌 (Siren)'),\n",
       "              ('가수', '선미'),\n",
       "              ('커버이미지_주소',\n",
       "               'https://cdnimg.melon.co.kr/cm/album/images/102/00/838/10200838_500.jpg/melon/resize/120/quality/80/optimize'),\n",
       "              ('좋아요', '91516')]),\n",
       " OrderedDict([('곡일련번호', '31266300'),\n",
       "              ('순위', '22'),\n",
       "              ('앨범', 'LOVE YOURSELF 結 `Answer`'),\n",
       "              ('곡명', 'Trivia 承 : Love'),\n",
       "              ('가수', '방탄소년단'),\n",
       "              ('커버이미지_주소',\n",
       "               'https://cdnimg.melon.co.kr/cm/album/images/101/97/480/10197480_500.jpg/melon/resize/120/quality/80/optimize'),\n",
       "              ('좋아요', '83610')]),\n",
       " OrderedDict([('곡일련번호', '31062863'),\n",
       "              ('순위', '23'),\n",
       "              ('앨범', 'RECIPE'),\n",
       "              ('곡명', '열애중'),\n",
       "              ('가수', '벤'),\n",
       "              ('커버이미지_주소',\n",
       "               'https://cdnimg.melon.co.kr/cm/album/images/101/64/839/10164839_500.jpg/melon/resize/120/quality/80/optimize'),\n",
       "              ('좋아요', '115805')]),\n",
       " OrderedDict([('곡일련번호', '31151836'),\n",
       "              ('순위', '24'),\n",
       "              ('앨범', 'Take'),\n",
       "              ('곡명', 'Way Back Home'),\n",
       "              ('가수', '숀 (SHAUN)'),\n",
       "              ('커버이미지_주소',\n",
       "               'https://cdnimg.melon.co.kr/cm/album/images/101/79/508/10179508_500.jpg/melon/resize/120/quality/80/optimize'),\n",
       "              ('좋아요', '225308')]),\n",
       " OrderedDict([('곡일련번호', '31085244'),\n",
       "              ('순위', '25'),\n",
       "              ('앨범', 'LOVE YOURSELF 轉 `Tear`'),\n",
       "              ('곡명', 'Anpanman'),\n",
       "              ('가수', '방탄소년단'),\n",
       "              ('커버이미지_주소',\n",
       "               'https://cdnimg.melon.co.kr/cm/album/images/101/68/559/10168559_500.jpg/melon/resize/120/quality/80/optimize'),\n",
       "              ('좋아요', '138694')]),\n",
       " OrderedDict([('곡일련번호', '30244931'),\n",
       "              ('순위', '26'),\n",
       "              ('앨범', 'YOU NEVER WALK ALONE'),\n",
       "              ('곡명', '봄날'),\n",
       "              ('가수', '방탄소년단'),\n",
       "              ('커버이미지_주소',\n",
       "               'https://cdnimg.melon.co.kr/cm/album/images/100/37/969/10037969_500.jpg/melon/resize/120/quality/80/optimize'),\n",
       "              ('좋아요', '359130')]),\n",
       " OrderedDict([('곡일련번호', '30637982'),\n",
       "              ('순위', '27'),\n",
       "              ('앨범', 'LOVE YOURSELF 承 `Her`'),\n",
       "              ('곡명', 'DNA'),\n",
       "              ('가수', '방탄소년단'),\n",
       "              ('커버이미지_주소',\n",
       "               'https://cdnimg.melon.co.kr/cm/album/images/100/97/112/10097112_500.jpg/melon/resize/120/quality/80/optimize'),\n",
       "              ('좋아요', '323911')]),\n",
       " OrderedDict([('곡일련번호', '31085243'),\n",
       "              ('순위', '28'),\n",
       "              ('앨범', 'LOVE YOURSELF 轉 `Tear`'),\n",
       "              ('곡명', 'Airplane pt.2'),\n",
       "              ('가수', '방탄소년단'),\n",
       "              ('커버이미지_주소',\n",
       "               'https://cdnimg.melon.co.kr/cm/album/images/101/68/559/10168559_500.jpg/melon/resize/120/quality/80/optimize'),\n",
       "              ('좋아요', '127355')]),\n",
       " OrderedDict([('곡일련번호', '30806536'),\n",
       "              ('순위', '29'),\n",
       "              ('앨범', 'Universe - 겨울 스페셜 앨범, 2017'),\n",
       "              ('곡명', 'Universe'),\n",
       "              ('가수', 'EXO'),\n",
       "              ('커버이미지_주소',\n",
       "               'https://cdnimg.melon.co.kr/cm/album/images/101/22/917/10122917_500.jpg/melon/resize/120/quality/80/optimize'),\n",
       "              ('좋아요', '155809')]),\n",
       " OrderedDict([('곡일련번호', '31309079'),\n",
       "              ('순위', '30'),\n",
       "              ('앨범', 'We Young'),\n",
       "              ('곡명', 'We Young'),\n",
       "              ('가수', '찬열'),\n",
       "              ('커버이미지_주소',\n",
       "               'https://cdnimg.melon.co.kr/cm/album/images/102/04/604/10204604_500.jpg/melon/resize/120/quality/80/optimize'),\n",
       "              ('좋아요', '53852')]),\n",
       " OrderedDict([('곡일련번호', '31219546'),\n",
       "              ('순위', '31'),\n",
       "              ('앨범', 'Dingo X Indigo Music'),\n",
       "              ('곡명', 'flex (Prod. By 기리보이)'),\n",
       "              ('가수', '기리보이'),\n",
       "              ('커버이미지_주소',\n",
       "               'https://cdnimg.melon.co.kr/cm/album/images/101/89/965/10189965_500.jpg/melon/resize/120/quality/80/optimize'),\n",
       "              ('좋아요', '72135')]),\n",
       " OrderedDict([('곡일련번호', '31009483'),\n",
       "              ('순위', '32'),\n",
       "              ('앨범', 'Blooming Days - The 2nd Mini Album'),\n",
       "              ('곡명', '花요일 (Blooming Day)'),\n",
       "              ('가수', 'EXO-CBX (첸백시)'),\n",
       "              ('커버이미지_주소',\n",
       "               'https://cdnimg.melon.co.kr/cm/album/images/101/56/597/10156597_500.jpg/melon/resize/120/quality/80/optimize'),\n",
       "              ('좋아요', '110311')]),\n",
       " OrderedDict([('곡일련번호', '31144690'),\n",
       "              ('순위', '33'),\n",
       "              ('앨범', 'IM'),\n",
       "              ('곡명', 'IndiGO'),\n",
       "              ('가수', '저스디스 (JUSTHIS)'),\n",
       "              ('커버이미지_주소',\n",
       "               'https://cdnimg.melon.co.kr/cm/album/images/101/78/566/10178566_500.jpg/melon/resize/120/quality/80/optimize'),\n",
       "              ('좋아요', '46739')]),\n",
       " OrderedDict([('곡일련번호', '31278454'),\n",
       "              ('순위', '34'),\n",
       "              ('앨범', 'Sheep (Alan Walker Relift)'),\n",
       "              ('곡명', 'Sheep (Alan Walker Relift)'),\n",
       "              ('가수', '레이 (LAY)'),\n",
       "              ('커버이미지_주소',\n",
       "               'https://cdnimg.melon.co.kr/cm/album/images/101/99/693/10199693_500.jpg/melon/resize/120/quality/80/optimize'),\n",
       "              ('좋아요', '30411')]),\n",
       " OrderedDict([('곡일련번호', '31131273'),\n",
       "              ('순위', '35'),\n",
       "              ('앨범', 'SQUARE UP'),\n",
       "              ('곡명', '뚜두뚜두 (DDU-DU DDU-DU)'),\n",
       "              ('가수', 'BLACKPINK'),\n",
       "              ('커버이미지_주소',\n",
       "               'https://cdnimg.melon.co.kr/cm/album/images/101/76/415/10176415_500.jpg/melon/resize/120/quality/80/optimize'),\n",
       "              ('좋아요', '192831')]),\n",
       " OrderedDict([('곡일련번호', '30699142'),\n",
       "              ('순위', '36'),\n",
       "              ('앨범', 'About You'),\n",
       "              ('곡명', '지나오다'),\n",
       "              ('가수', '닐로 (Nilo)'),\n",
       "              ('커버이미지_주소',\n",
       "               'https://cdnimg.melon.co.kr/cm/album/images/101/06/853/10106853_500.jpg/melon/resize/120/quality/80/optimize'),\n",
       "              ('좋아요', '178367')]),\n",
       " OrderedDict([('곡일련번호', '31175119'),\n",
       "              ('순위', '37'),\n",
       "              ('앨범', 'Summer Nights'),\n",
       "              ('곡명', 'Dance The Night Away'),\n",
       "              ('가수', 'TWICE (트와이스)'),\n",
       "              ('커버이미지_주소',\n",
       "               'https://cdnimg.melon.co.kr/cm/album/images/101/83/127/10183127_500.jpg/melon/resize/120/quality/80/optimize'),\n",
       "              ('좋아요', '127052')]),\n",
       " OrderedDict([('곡일련번호', '31331750'),\n",
       "              ('순위', '38'),\n",
       "              ('앨범', 'r'),\n",
       "              ('곡명', '나'),\n",
       "              ('가수', '박원'),\n",
       "              ('커버이미지_주소',\n",
       "               'https://cdnimg.melon.co.kr/cm/album/images/102/08/360/10208360_500.jpg/melon/resize/120/quality/80/optimize'),\n",
       "              ('좋아요', '26696')]),\n",
       " OrderedDict([('곡일련번호', '31113240'),\n",
       "              ('순위', '39'),\n",
       "              ('앨범', '1÷χ=1 (UNDIVIDED)'),\n",
       "              ('곡명', '켜줘 (Light)'),\n",
       "              ('가수', 'Wanna One (워너원)'),\n",
       "              ('커버이미지_주소',\n",
       "               'https://cdnimg.melon.co.kr/cm/album/images/101/73/365/10173365_500.jpg/melon/resize/120/quality/80/optimize'),\n",
       "              ('좋아요', '112878')]),\n",
       " OrderedDict([('곡일련번호', '31230093'),\n",
       "              ('순위', '40'),\n",
       "              ('앨범', 'Summer Magic - Summer Mini Album'),\n",
       "              ('곡명', 'Power Up'),\n",
       "              ('가수', 'Red Velvet (레드벨벳)'),\n",
       "              ('커버이미지_주소',\n",
       "               'https://cdnimg.melon.co.kr/cm/album/images/101/91/694/10191694_500.jpg/melon/resize/120/quality/80/optimize'),\n",
       "              ('좋아요', '130949')]),\n",
       " OrderedDict([('곡일련번호', '30568338'),\n",
       "              ('순위', '41'),\n",
       "              ('앨범', '1X1=1(TO BE ONE)'),\n",
       "              ('곡명', '에너제틱 (Energetic)'),\n",
       "              ('가수', 'Wanna One (워너원)'),\n",
       "              ('커버이미지_주소',\n",
       "               'https://cdnimg.melon.co.kr/cm/album/images/100/85/951/10085951_500.jpg/melon/resize/120/quality/80/optimize'),\n",
       "              ('좋아요', '268394')]),\n",
       " OrderedDict([('곡일련번호', '30859584'),\n",
       "              ('순위', '42'),\n",
       "              ('앨범', 'Return'),\n",
       "              ('곡명', '사랑을 했다 (LOVE SCENARIO)'),\n",
       "              ('가수', 'iKON'),\n",
       "              ('커버이미지_주소',\n",
       "               'https://cdnimg.melon.co.kr/cm/album/images/101/32/945/10132945_500.jpg/melon/resize/120/quality/80/optimize'),\n",
       "              ('좋아요', '267692')]),\n",
       " OrderedDict([('곡일련번호', '31304766'),\n",
       "              ('순위', '43'),\n",
       "              ('앨범', '이별하러 가는 길'),\n",
       "              ('곡명', '이별하러 가는 길'),\n",
       "              ('가수', '임한별'),\n",
       "              ('커버이미지_주소',\n",
       "               'https://cdnimg.melon.co.kr/cm/album/images/102/03/965/10203965_500.jpg/melon/resize/120/quality/80/optimize'),\n",
       "              ('좋아요', '25182')]),\n",
       " OrderedDict([('곡일련번호', '30960341'),\n",
       "              ('순위', '44'),\n",
       "              ('앨범', '0+1=1 (I PROMISE YOU)'),\n",
       "              ('곡명', 'BOOMERANG (부메랑)'),\n",
       "              ('가수', 'Wanna One (워너원)'),\n",
       "              ('커버이미지_주소',\n",
       "               'https://cdnimg.melon.co.kr/cm/album/images/101/44/723/10144723_2_500.jpg/melon/resize/120/quality/80/optimize'),\n",
       "              ('좋아요', '124968')]),\n",
       " OrderedDict([('곡일련번호', '30725482'),\n",
       "              ('순위', '45'),\n",
       "              ('앨범', '1-1=0 (NOTHING WITHOUT YOU)'),\n",
       "              ('곡명', 'Beautiful'),\n",
       "              ('가수', 'Wanna One (워너원)'),\n",
       "              ('커버이미지_주소',\n",
       "               'https://cdnimg.melon.co.kr/cm/album/images/101/11/029/10111029_500.jpg/melon/resize/120/quality/80/optimize'),\n",
       "              ('좋아요', '216065')]),\n",
       " OrderedDict([('곡일련번호', '31093710'),\n",
       "              ('순위', '46'),\n",
       "              ('앨범', 'Red Diary Page.2'),\n",
       "              ('곡명', '여행'),\n",
       "              ('가수', '볼빨간사춘기'),\n",
       "              ('커버이미지_주소',\n",
       "               'https://cdnimg.melon.co.kr/cm/album/images/101/70/069/10170069_500.jpg/melon/resize/120/quality/80/optimize'),\n",
       "              ('좋아요', '190489')]),\n",
       " OrderedDict([('곡일련번호', '31113241'),\n",
       "              ('순위', '47'),\n",
       "              ('앨범', '1÷χ=1 (UNDIVIDED)'),\n",
       "              ('곡명', '캥거루 (Kangaroo) (Prod. ZICO)'),\n",
       "              ('가수', 'Wanna One (워너원) - 트리플포지션'),\n",
       "              ('커버이미지_주소',\n",
       "               'https://cdnimg.melon.co.kr/cm/album/images/101/73/365/10173365_500.jpg/melon/resize/120/quality/80/optimize'),\n",
       "              ('좋아요', '104852')]),\n",
       " OrderedDict([('곡일련번호', '31189241'),\n",
       "              ('순위', '48'),\n",
       "              ('앨범', 'RED MOON'),\n",
       "              ('곡명', '너나 해 (Egotistic)'),\n",
       "              ('가수', '마마무(Mamamoo)'),\n",
       "              ('커버이미지_주소',\n",
       "               'https://cdnimg.melon.co.kr/cm/album/images/101/85/416/10185416_500.jpg/melon/resize/120/quality/80/optimize'),\n",
       "              ('좋아요', '94861')]),\n",
       " OrderedDict([('곡일련번호', '30884950'),\n",
       "              ('순위', '49'),\n",
       "              ('앨범', '그때 헤어지면 돼'),\n",
       "              ('곡명', '그때 헤어지면 돼'),\n",
       "              ('가수', '로이킴'),\n",
       "              ('커버이미지_주소',\n",
       "               'https://cdnimg.melon.co.kr/cm/album/images/101/37/574/10137574_500.jpg/melon/resize/120/quality/80/optimize'),\n",
       "              ('좋아요', '176025')]),\n",
       " OrderedDict([('곡일련번호', '30809895'),\n",
       "              ('순위', '50'),\n",
       "              ('앨범', 'inside'),\n",
       "              ('곡명', '미안해'),\n",
       "              ('가수', '양다일'),\n",
       "              ('커버이미지_주소',\n",
       "               'https://cdnimg.melon.co.kr/cm/album/images/101/23/639/10123639_500.jpg/melon/resize/120/quality/80/optimize'),\n",
       "              ('좋아요', '115955')]),\n",
       " OrderedDict([('곡일련번호', '31224316'),\n",
       "              ('순위', '51'),\n",
       "              ('앨범', 'NEW KIDS : CONTINUE'),\n",
       "              ('곡명', '죽겠다 (KILLING ME)'),\n",
       "              ('가수', 'iKON'),\n",
       "              ('커버이미지_주소',\n",
       "               'https://cdnimg.melon.co.kr/cm/album/images/101/90/854/10190854_500.jpg/melon/resize/120/quality/80/optimize'),\n",
       "              ('좋아요', '66253')]),\n",
       " OrderedDict([('곡일련번호', '8235260'),\n",
       "              ('순위', '52'),\n",
       "              ('앨범', '비'),\n",
       "              ('곡명', '비'),\n",
       "              ('가수', '폴킴'),\n",
       "              ('커버이미지_주소',\n",
       "               'https://cdnimg.melon.co.kr/cm/album/images/026/92/501/2692501_500.jpg/melon/resize/120/quality/80/optimize'),\n",
       "              ('좋아요', '156761')]),\n",
       " OrderedDict([('곡일련번호', '30669593'),\n",
       "              ('순위', '53'),\n",
       "              ('앨범', '가을 안부'),\n",
       "              ('곡명', '가을 안부'),\n",
       "              ('가수', '먼데이 키즈 (Monday Kiz)'),\n",
       "              ('커버이미지_주소',\n",
       "               'https://cdnimg.melon.co.kr/cm/album/images/101/02/177/10102177_500.jpg/melon/resize/120/quality/80/optimize'),\n",
       "              ('좋아요', '109447')]),\n",
       " OrderedDict([('곡일련번호', '31133898'),\n",
       "              ('순위', '54'),\n",
       "              ('앨범', 'THIS IS US'),\n",
       "              ('곡명', '너 없인 안 된다'),\n",
       "              ('가수', '비투비'),\n",
       "              ('커버이미지_주소',\n",
       "               'https://cdnimg.melon.co.kr/cm/album/images/101/75/106/10175106_500.jpg/melon/resize/120/quality/80/optimize'),\n",
       "              ('좋아요', '132726')]),\n",
       " OrderedDict([('곡일련번호', '31346039'),\n",
       "              ('순위', '55'),\n",
       "              ('앨범', 'ABOUT ME'),\n",
       "              ('곡명', 'Not A Love'),\n",
       "              ('가수', '바이브'),\n",
       "              ('커버이미지_주소',\n",
       "               'https://cdnimg.melon.co.kr/cm/album/images/102/10/541/10210541_500.jpg/melon/resize/120/quality/80/optimize'),\n",
       "              ('좋아요', '2508')]),\n",
       " OrderedDict([('곡일련번호', '31164090'),\n",
       "              ('순위', '56'),\n",
       "              ('앨범', 'The Fairy Tale'),\n",
       "              ('곡명', '동화'),\n",
       "              ('가수', '멜로망스'),\n",
       "              ('커버이미지_주소',\n",
       "               'https://cdnimg.melon.co.kr/cm/album/images/101/81/438/10181438_500.jpg/melon/resize/120/quality/80/optimize'),\n",
       "              ('좋아요', '81522')]),\n",
       " OrderedDict([('곡일련번호', '31199873'),\n",
       "              ('순위', '57'),\n",
       "              ('앨범', 'THE GREAT SEUNGRI'),\n",
       "              ('곡명', '셋 셀테니 (1, 2, 3!)'),\n",
       "              ('가수', '승리'),\n",
       "              ('커버이미지_주소',\n",
       "               'https://cdnimg.melon.co.kr/cm/album/images/101/87/129/10187129_500.jpg/melon/resize/120/quality/80/optimize'),\n",
       "              ('좋아요', '78381')]),\n",
       " OrderedDict([('곡일련번호', '31161280'),\n",
       "              ('순위', '58'),\n",
       "              ('앨범', 'ONE & SIX'),\n",
       "              ('곡명', '1도 없어'),\n",
       "              ('가수', 'Apink (에이핑크)'),\n",
       "              ('커버이미지_주소',\n",
       "               'https://cdnimg.melon.co.kr/cm/album/images/101/81/013/10181013_500.jpg/melon/resize/120/quality/80/optimize'),\n",
       "              ('좋아요', '88037')]),\n",
       " OrderedDict([('곡일련번호', '30314784'),\n",
       "              ('순위', '59'),\n",
       "              ('앨범', '밤편지'),\n",
       "              ('곡명', '밤편지'),\n",
       "              ('가수', '아이유'),\n",
       "              ('커버이미지_주소',\n",
       "               'https://cdnimg.melon.co.kr/cm/album/images/100/47/890/10047890_500.jpg/melon/resize/120/quality/80/optimize'),\n",
       "              ('좋아요', '283167')]),\n",
       " OrderedDict([('곡일련번호', '31215747'),\n",
       "              ('순위', '60'),\n",
       "              ('앨범', 'SoulMate'),\n",
       "              ('곡명', 'SoulMate (Feat. 아이유)'),\n",
       "              ('가수', '지코 (ZICO)'),\n",
       "              ('커버이미지_주소',\n",
       "               'https://cdnimg.melon.co.kr/cm/album/images/101/89/402/10189402_500.jpg/melon/resize/120/quality/80/optimize'),\n",
       "              ('좋아요', '113443')]),\n",
       " OrderedDict([('곡일련번호', '31189085'),\n",
       "              ('순위', '61'),\n",
       "              ('앨범', 'SEVENTEEN 5TH MINI ALBUM `YOU MAKE MY DAY`'),\n",
       "              ('곡명', '어쩌나'),\n",
       "              ('가수', '세븐틴'),\n",
       "              ('커버이미지_주소',\n",
       "               'https://cdnimg.melon.co.kr/cm/album/images/101/85/387/10185387_500.jpg/melon/resize/120/quality/80/optimize'),\n",
       "              ('좋아요', '64770')]),\n",
       " OrderedDict([('곡일련번호', '31244486'),\n",
       "              ('순위', '62'),\n",
       "              ('앨범', 'A-TEEN Part.3'),\n",
       "              ('곡명', 'A-TEEN'),\n",
       "              ('가수', '세븐틴'),\n",
       "              ('커버이미지_주소',\n",
       "               'https://cdnimg.melon.co.kr/cm/album/images/101/94/044/10194044_500.jpg/melon/resize/120/quality/80/optimize'),\n",
       "              ('좋아요', '75932')]),\n",
       " OrderedDict([('곡일련번호', '30755375'),\n",
       "              ('순위', '63'),\n",
       "              ('앨범', '그날처럼'),\n",
       "              ('곡명', '그날처럼'),\n",
       "              ('가수', '장덕철'),\n",
       "              ('커버이미지_주소',\n",
       "               'https://cdnimg.melon.co.kr/cm/album/images/101/15/186/10115186_500.jpg/melon/resize/120/quality/80/optimize'),\n",
       "              ('좋아요', '208427')]),\n",
       " OrderedDict([('곡일련번호', '31113243'),\n",
       "              ('순위', '64'),\n",
       "              ('앨범', '1÷χ=1 (UNDIVIDED)'),\n",
       "              ('곡명', '모래시계 (Prod. 헤이즈)'),\n",
       "              ('가수', 'Wanna One (워너원) - 더힐'),\n",
       "              ('커버이미지_주소',\n",
       "               'https://cdnimg.melon.co.kr/cm/album/images/101/73/365/10173365_500.jpg/melon/resize/120/quality/80/optimize'),\n",
       "              ('좋아요', '83296')]),\n",
       " OrderedDict([('곡일련번호', '30672529'),\n",
       "              ('순위', '65'),\n",
       "              ('앨범', 'Brother Act.'),\n",
       "              ('곡명', '그리워하다'),\n",
       "              ('가수', '비투비'),\n",
       "              ('커버이미지_주소',\n",
       "               'https://cdnimg.melon.co.kr/cm/album/images/101/02/658/10102658_500.jpg/melon/resize/120/quality/80/optimize'),\n",
       "              ('좋아요', '203463')]),\n",
       " OrderedDict([('곡일련번호', '9642570'),\n",
       "              ('순위', '66'),\n",
       "              ('앨범', '넋두리'),\n",
       "              ('곡명', '넋두리'),\n",
       "              ('가수', '닐로 (Nilo)'),\n",
       "              ('커버이미지_주소',\n",
       "               'https://cdnimg.melon.co.kr/cm/album/images/027/10/553/2710553_500.jpg/melon/resize/120/quality/80/optimize'),\n",
       "              ('좋아요', '81028')]),\n",
       " OrderedDict([('곡일련번호', '30930312'),\n",
       "              ('순위', '67'),\n",
       "              ('앨범', '0+1=1 (I PROMISE YOU)'),\n",
       "              ('곡명', '약속해요 (I.P.U.)'),\n",
       "              ('가수', 'Wanna One (워너원)'),\n",
       "              ('커버이미지_주소',\n",
       "               'https://cdnimg.melon.co.kr/cm/album/images/101/44/723/10144723_2_500.jpg/melon/resize/120/quality/80/optimize'),\n",
       "              ('좋아요', '137141')]),\n",
       " OrderedDict([('곡일련번호', '31263577'),\n",
       "              ('순위', '68'),\n",
       "              ('앨범', '4.1'),\n",
       "              ('곡명', '매트리스'),\n",
       "              ('가수', '10cm'),\n",
       "              ('커버이미지_주소',\n",
       "               'https://cdnimg.melon.co.kr/cm/album/images/101/96/980/10196980_500.jpg/melon/resize/120/quality/80/optimize'),\n",
       "              ('좋아요', '62312')]),\n",
       " OrderedDict([('곡일련번호', '31340983'),\n",
       "              ('순위', '69'),\n",
       "              ('앨범', '쇼미더머니 777 Episode 1'),\n",
       "              ('곡명', '공상과학기술 (Feat. 기리보이, 스윙스)'),\n",
       "              ('가수', 'nafla'),\n",
       "              ('커버이미지_주소',\n",
       "               'https://cdnimg.melon.co.kr/cm/album/images/102/09/647/10209647_500.jpg/melon/resize/120/quality/80/optimize'),\n",
       "              ('좋아요', '13148')]),\n",
       " OrderedDict([('곡일련번호', '31131274'),\n",
       "              ('순위', '70'),\n",
       "              ('앨범', 'SQUARE UP'),\n",
       "              ('곡명', 'Forever Young'),\n",
       "              ('가수', 'BLACKPINK'),\n",
       "              ('커버이미지_주소',\n",
       "               'https://cdnimg.melon.co.kr/cm/album/images/101/76/415/10176415_500.jpg/melon/resize/120/quality/80/optimize'),\n",
       "              ('좋아요', '119422')]),\n",
       " OrderedDict([('곡일련번호', '31246870'),\n",
       "              ('순위', '71'),\n",
       "              ('앨범', '한(一)'),\n",
       "              ('곡명', '한(一)'),\n",
       "              ('가수', '(여자)아이들'),\n",
       "              ('커버이미지_주소',\n",
       "               'https://cdnimg.melon.co.kr/cm/album/images/101/94/362/10194362_500.jpg/melon/resize/120/quality/80/optimize'),\n",
       "              ('좋아요', '69062')]),\n",
       " OrderedDict([('곡일련번호', '31035061'),\n",
       "              ('순위', '72'),\n",
       "              ('앨범', '건반 위의 하이에나 Part.4'),\n",
       "              ('곡명', '주지마'),\n",
       "              ('가수', '로꼬'),\n",
       "              ('커버이미지_주소',\n",
       "               'https://cdnimg.melon.co.kr/cm/album/images/101/60/487/10160487_500.jpg/melon/resize/120/quality/80/optimize'),\n",
       "              ('좋아요', '154263')]),\n",
       " OrderedDict([('곡일련번호', '31147211'),\n",
       "              ('순위', '73'),\n",
       "              ('앨범', 'WHO, YOU'),\n",
       "              ('곡명', 'Dejavu'),\n",
       "              ('가수', '뉴이스트 W'),\n",
       "              ('커버이미지_주소',\n",
       "               'https://cdnimg.melon.co.kr/cm/album/images/101/78/912/10178912_500.jpg/melon/resize/120/quality/80/optimize'),\n",
       "              ('좋아요', '53081')]),\n",
       " OrderedDict([('곡일련번호', '30849733'),\n",
       "              ('순위', '74'),\n",
       "              ('앨범', '투유 프로젝트 - 슈가맨2 Part.2'),\n",
       "              ('곡명', 'You'),\n",
       "              ('가수', '멜로망스'),\n",
       "              ('커버이미지_주소',\n",
       "               'https://cdnimg.melon.co.kr/cm/album/images/101/31/018/10131018_500.jpg/melon/resize/120/quality/80/optimize'),\n",
       "              ('좋아요', '141103')]),\n",
       " OrderedDict([('곡일련번호', '31340984'),\n",
       "              ('순위', '75'),\n",
       "              ('앨범', '쇼미더머니 777 Episode 1'),\n",
       "              ('곡명', '패 (Feat. 넉살, 딥플로우)'),\n",
       "              ('가수', '김효은'),\n",
       "              ('커버이미지_주소',\n",
       "               'https://cdnimg.melon.co.kr/cm/album/images/102/09/647/10209647_500.jpg/melon/resize/120/quality/80/optimize'),\n",
       "              ('좋아요', '10536')]),\n",
       " OrderedDict([('곡일련번호', '31309947'),\n",
       "              ('순위', '76'),\n",
       "              ('앨범', 'A-TEEN Part.4'),\n",
       "              ('곡명', '도망가지마'),\n",
       "              ('가수', '모트 (Motte)'),\n",
       "              ('커버이미지_주소',\n",
       "               'https://cdnimg.melon.co.kr/cm/album/images/102/04/722/10204722_500.jpg/melon/resize/120/quality/80/optimize'),\n",
       "              ('좋아요', '48716')]),\n",
       " OrderedDict([('곡일련번호', '30721801'),\n",
       "              ('순위', '77'),\n",
       "              ('앨범', '돈꽃 OST Part.1'),\n",
       "              ('곡명', 'My Way'),\n",
       "              ('가수', '이수 (엠씨 더 맥스)'),\n",
       "              ('커버이미지_주소',\n",
       "               'https://cdnimg.melon.co.kr/cm/album/images/101/10/396/10110396_500.jpg/melon/resize/120/quality/80/optimize'),\n",
       "              ('좋아요', '119657')]),\n",
       " OrderedDict([('곡일련번호', '30514366'),\n",
       "              ('순위', '78'),\n",
       "              ('앨범', 'Moonlight'),\n",
       "              ('곡명', '선물'),\n",
       "              ('가수', '멜로망스'),\n",
       "              ('커버이미지_주소',\n",
       "               'https://cdnimg.melon.co.kr/cm/album/images/100/78/176/10078176_500.jpg/melon/resize/120/quality/80/optimize'),\n",
       "              ('좋아요', '266869')]),\n",
       " OrderedDict([('곡일련번호', '31227367'),\n",
       "              ('순위', '79'),\n",
       "              ('앨범', '미스터 션샤인 OST Part.5'),\n",
       "              ('곡명', '좋은 날'),\n",
       "              ('가수', '멜로망스'),\n",
       "              ('커버이미지_주소',\n",
       "               'https://cdnimg.melon.co.kr/cm/album/images/101/91/294/10191294_500.jpg/melon/resize/120/quality/80/optimize'),\n",
       "              ('좋아요', '33146')]),\n",
       " OrderedDict([('곡일련번호', '31113242'),\n",
       "              ('순위', '80'),\n",
       "              ('앨범', '1÷χ=1 (UNDIVIDED)'),\n",
       "              ('곡명', '영원+1 (Prod. NELL)'),\n",
       "              ('가수', 'Wanna One (워너원) - 린온미'),\n",
       "              ('커버이미지_주소',\n",
       "               'https://cdnimg.melon.co.kr/cm/album/images/101/73/365/10173365_500.jpg/melon/resize/120/quality/80/optimize'),\n",
       "              ('좋아요', '76313')]),\n",
       " OrderedDict([('곡일련번호', '31266377'),\n",
       "              ('순위', '81'),\n",
       "              ('앨범', '미스터 션샤인 OST Part.10'),\n",
       "              ('곡명', 'AND I'),\n",
       "              ('가수', '뉴이스트 W'),\n",
       "              ('커버이미지_주소',\n",
       "               'https://cdnimg.melon.co.kr/cm/album/images/101/97/500/10197500_500.jpg/melon/resize/120/quality/80/optimize'),\n",
       "              ('좋아요', '20736')]),\n",
       " OrderedDict([('곡일련번호', '31331749'),\n",
       "              ('순위', '82'),\n",
       "              ('앨범', 'I Don’t Care (with 스푼즈)'),\n",
       "              ('곡명', 'I Don’t Care (with 스푼즈)'),\n",
       "              ('가수', '뉴이스트 W'),\n",
       "              ('커버이미지_주소',\n",
       "               'https://cdnimg.melon.co.kr/cm/album/images/102/08/359/10208359_500.jpg/melon/resize/120/quality/80/optimize'),\n",
       "              ('좋아요', '13544')]),\n",
       " OrderedDict([('곡일련번호', '31147212'),\n",
       "              ('순위', '83'),\n",
       "              ('앨범', 'WHO, YOU'),\n",
       "              ('곡명', '북극성 (Polaris)'),\n",
       "              ('가수', '뉴이스트 W'),\n",
       "              ('커버이미지_주소',\n",
       "               'https://cdnimg.melon.co.kr/cm/album/images/101/78/912/10178912_500.jpg/melon/resize/120/quality/80/optimize'),\n",
       "              ('좋아요', '32098')]),\n",
       " OrderedDict([('곡일련번호', '30970444'),\n",
       "              ('순위', '84'),\n",
       "              ('앨범', '소나기 (Feat. 10cm)'),\n",
       "              ('곡명', '소나기 (Feat. 10cm)'),\n",
       "              ('가수', '용준형'),\n",
       "              ('커버이미지_주소',\n",
       "               'https://cdnimg.melon.co.kr/cm/album/images/101/50/572/10150572_500.jpg/melon/resize/120/quality/80/optimize'),\n",
       "              ('좋아요', '130935')]),\n",
       " OrderedDict([('곡일련번호', '31113244'),\n",
       "              ('순위', '85'),\n",
       "              ('앨범', '1÷χ=1 (UNDIVIDED)'),\n",
       "              ('곡명', '11 (Prod. 다이나믹듀오)'),\n",
       "              ('가수', 'Wanna One (워너원) - 남바완'),\n",
       "              ('커버이미지_주소',\n",
       "               'https://cdnimg.melon.co.kr/cm/album/images/101/73/365/10173365_500.jpg/melon/resize/120/quality/80/optimize'),\n",
       "              ('좋아요', '67211')]),\n",
       " OrderedDict([('곡일련번호', '4032981'),\n",
       "              ('순위', '86'),\n",
       "              ('앨범', 'THE SECOND MINI ALBUM `여보세요`'),\n",
       "              ('곡명', '여보세요'),\n",
       "              ('가수', 'NU`EST'),\n",
       "              ('커버이미지_주소',\n",
       "               'https://cdnimg.melon.co.kr/cm/album/images/021/75/137/2175137_500.jpg/melon/resize/120/quality/80/optimize'),\n",
       "              ('좋아요', '126064')]),\n",
       " OrderedDict([('곡일련번호', '31299371'),\n",
       "              ('순위', '87'),\n",
       "              ('앨범', '라이프 OST Part.6'),\n",
       "              ('곡명', '잘 지내요'),\n",
       "              ('가수', '정승환'),\n",
       "              ('커버이미지_주소',\n",
       "               'https://cdnimg.melon.co.kr/cm/album/images/102/02/962/10202962_500.jpg/melon/resize/120/quality/80/optimize'),\n",
       "              ('좋아요', '25169')]),\n",
       " OrderedDict([('곡일련번호', '30806539'),\n",
       "              ('순위', '88'),\n",
       "              ('앨범', 'Universe - 겨울 스페셜 앨범, 2017'),\n",
       "              ('곡명', '지나갈 테니 (Been Through)'),\n",
       "              ('가수', 'EXO'),\n",
       "              ('커버이미지_주소',\n",
       "               'https://cdnimg.melon.co.kr/cm/album/images/101/22/917/10122917_500.jpg/melon/resize/120/quality/80/optimize'),\n",
       "              ('좋아요', '88331')]),\n",
       " OrderedDict([('곡일련번호', '31324696'),\n",
       "              ('순위', '89'),\n",
       "              ('앨범', '연애플레이리스트3 Part.1'),\n",
       "              ('곡명', 'Perfect'),\n",
       "              ('가수', '10cm'),\n",
       "              ('커버이미지_주소',\n",
       "               'https://cdnimg.melon.co.kr/cm/album/images/102/07/153/10207153_500.jpg/melon/resize/120/quality/80/optimize'),\n",
       "              ('좋아요', '24732')]),\n",
       " OrderedDict([('곡일련번호', '8111603'),\n",
       "              ('순위', '90'),\n",
       "              ('앨범', 'Fitz and The Tantrums (Deluxe)'),\n",
       "              ('곡명', 'HandClap'),\n",
       "              ('가수', 'Fitz & The Tantrums'),\n",
       "              ('커버이미지_주소',\n",
       "               'https://cdnimg.melon.co.kr/cm/album/images/026/75/179/2675179_500.jpg/melon/resize/120/quality/80/optimize'),\n",
       "              ('좋아요', '156476')]),\n",
       " OrderedDict([('곡일련번호', '30661885'),\n",
       "              ('순위', '91'),\n",
       "              ('앨범', 'W, HERE'),\n",
       "              ('곡명', 'WHERE YOU AT'),\n",
       "              ('가수', '뉴이스트 W'),\n",
       "              ('커버이미지_주소',\n",
       "               'https://cdnimg.melon.co.kr/cm/album/images/101/00/941/10100941_500.jpg/melon/resize/120/quality/80/optimize'),\n",
       "              ('좋아요', '92753')]),\n",
       " OrderedDict([('곡일련번호', '31006730'),\n",
       "              ('순위', '92'),\n",
       "              ('앨범', 'What is Love?'),\n",
       "              ('곡명', 'What is Love?'),\n",
       "              ('가수', 'TWICE (트와이스)'),\n",
       "              ('커버이미지_주소',\n",
       "               'https://cdnimg.melon.co.kr/cm/album/images/101/56/195/10156195_500.jpg/melon/resize/120/quality/80/optimize'),\n",
       "              ('좋아요', '121530')]),\n",
       " OrderedDict([('곡일련번호', '31052421'),\n",
       "              ('순위', '93'),\n",
       "              ('앨범', \"여자친구 The 6th Mini Album 'Time for the moon night'\"),\n",
       "              ('곡명', '밤 (Time for the moon night)'),\n",
       "              ('가수', '여자친구 (GFRIEND)'),\n",
       "              ('커버이미지_주소',\n",
       "               'https://cdnimg.melon.co.kr/cm/album/images/101/63/106/10163106_500.jpg/melon/resize/120/quality/80/optimize'),\n",
       "              ('좋아요', '125760')]),\n",
       " OrderedDict([('곡일련번호', '31194610'),\n",
       "              ('순위', '94'),\n",
       "              ('앨범', 'Blooming Blue'),\n",
       "              ('곡명', 'Love U'),\n",
       "              ('가수', '청하'),\n",
       "              ('커버이미지_주소',\n",
       "               'https://cdnimg.melon.co.kr/cm/album/images/101/86/254/10186254_500.jpg/melon/resize/120/quality/80/optimize'),\n",
       "              ('좋아요', '61670')]),\n",
       " OrderedDict([('곡일련번호', '31147210'),\n",
       "              ('순위', '95'),\n",
       "              ('앨범', 'WHO, YOU'),\n",
       "              ('곡명', 'Signal'),\n",
       "              ('가수', '뉴이스트 W'),\n",
       "              ('커버이미지_주소',\n",
       "               'https://cdnimg.melon.co.kr/cm/album/images/101/78/912/10178912_500.jpg/melon/resize/120/quality/80/optimize'),\n",
       "              ('좋아요', '27270')]),\n",
       " OrderedDict([('곡일련번호', '30937275'),\n",
       "              ('순위', '96'),\n",
       "              ('앨범', 'Yellow Flower'),\n",
       "              ('곡명', '별이 빛나는 밤'),\n",
       "              ('가수', '마마무(Mamamoo)'),\n",
       "              ('커버이미지_주소',\n",
       "               'https://cdnimg.melon.co.kr/cm/album/images/101/45/303/10145303_500.jpg/melon/resize/120/quality/80/optimize'),\n",
       "              ('좋아요', '145494')]),\n",
       " OrderedDict([('곡일련번호', '31147213'),\n",
       "              ('순위', '97'),\n",
       "              ('앨범', 'WHO, YOU'),\n",
       "              ('곡명', 'ylenoL'),\n",
       "              ('가수', '뉴이스트 W'),\n",
       "              ('커버이미지_주소',\n",
       "               'https://cdnimg.melon.co.kr/cm/album/images/101/78/912/10178912_500.jpg/melon/resize/120/quality/80/optimize'),\n",
       "              ('좋아요', '26136')]),\n",
       " OrderedDict([('곡일련번호', '31288765'),\n",
       "              ('순위', '98'),\n",
       "              ('앨범', '몰랐니 - The 1st Single Album'),\n",
       "              ('곡명', '몰랐니 (Lil` Touch)'),\n",
       "              ('가수', '소녀시대-Oh!GG'),\n",
       "              ('커버이미지_주소',\n",
       "               'https://cdnimg.melon.co.kr/cm/album/images/102/01/272/10201272_500.jpg/melon/resize/120/quality/80/optimize'),\n",
       "              ('좋아요', '42853')]),\n",
       " OrderedDict([('곡일련번호', '31147214'),\n",
       "              ('순위', '99'),\n",
       "              ('앨범', 'WHO, YOU'),\n",
       "              ('곡명', '중력달 (Gravity&Moon;)'),\n",
       "              ('가수', '뉴이스트 W'),\n",
       "              ('커버이미지_주소',\n",
       "               'https://cdnimg.melon.co.kr/cm/album/images/101/78/912/10178912_500.jpg/melon/resize/120/quality/80/optimize'),\n",
       "              ('좋아요', '26091')]),\n",
       " OrderedDict([('곡일련번호', '30806540'),\n",
       "              ('순위', '100'),\n",
       "              ('앨범', 'Universe - 겨울 스페셜 앨범, 2017'),\n",
       "              ('곡명', 'Stay'),\n",
       "              ('가수', 'EXO'),\n",
       "              ('커버이미지_주소',\n",
       "               'https://cdnimg.melon.co.kr/cm/album/images/101/22/917/10122917_500.jpg/melon/resize/120/quality/80/optimize'),\n",
       "              ('좋아요', '81556')])]"
      ]
     },
     "execution_count": 117,
     "metadata": {},
     "output_type": "execute_result"
    }
   ],
   "source": [
    "# 1) 데이터를 로컬에 다운받아, 멜론_TOP100.csv 파일로 저장\n",
    "import requests\n",
    "res = requests.get(\"https://goo.gl/iDUKrL\")\n",
    "with open(\"멜론_TOP100.csv\", \"wt\", encoding=\"utf8\") as f:\n",
    "    f.write(res.text)\n",
    "\n",
    "# 2) 로컬의 CSV 데이터를 리스트(내부 dict)구조로 획득\n",
    "import csv\n",
    "with open(\"멜론_TOP100.csv\", \"rt\", encoding=\"utf8\") as f:\n",
    "    reader = csv.DictReader(f)\n",
    "    멜론_top100_리스트 = list(reader)\n",
    "\n",
    "멜론_top100_리스트"
   ]
  },
  {
   "cell_type": "code",
   "execution_count": 110,
   "metadata": {},
   "outputs": [
    {
     "data": {
      "text/plain": [
       "100"
      ]
     },
     "execution_count": 110,
     "metadata": {},
     "output_type": "execute_result"
    }
   ],
   "source": [
    "len(멜론_top100_리스트)"
   ]
  },
  {
   "cell_type": "code",
   "execution_count": 115,
   "metadata": {},
   "outputs": [
    {
     "name": "stdout",
     "output_type": "stream",
     "text": [
      "We Young 찬열\n"
     ]
    }
   ],
   "source": [
    "print(\n",
    "    멜론_top100_리스트[29]['곡명'],\n",
    "    멜론_top100_리스트[29]['가수'])"
   ]
  },
  {
   "cell_type": "code",
   "execution_count": null,
   "metadata": {},
   "outputs": [],
   "source": []
  },
  {
   "cell_type": "markdown",
   "metadata": {},
   "source": [
    "## 네이버 실시간 검색어 순위"
   ]
  },
  {
   "cell_type": "code",
   "execution_count": 120,
   "metadata": {},
   "outputs": [
    {
     "name": "stdout",
     "output_type": "stream",
     "text": [
      "1: 위메프 반값특가\n",
      "2: 박환희\n",
      "3: 바레인\n",
      "4: 섬유근육통\n",
      "5: 이미연\n",
      "6: 대한민국 바레인\n",
      "7: 바스코\n",
      "8: 한국 바레인\n",
      "9: 카타르 이라크\n",
      "10: 부경대학교\n",
      "11: 이하정\n",
      "12: 오늘 축구경기\n",
      "13: 다우니 어도러블\n",
      "14: 유재석\n",
      "15: 트루디\n",
      "16: 체리블렛\n",
      "17: 소이현\n",
      "18: 더쇼\n",
      "19: 한해\n",
      "20: 라이머\n"
     ]
    }
   ],
   "source": [
    "import requests\n",
    "from bs4 import BeautifulSoup\n",
    "\n",
    "res = requests.get(\"http://naver.com\")\n",
    "html = res.text\n",
    "soup = BeautifulSoup(html, 'html.parser')\n",
    "tag_list = soup.select('.PM_CL_realtimeKeyword_rolling .ah_k')\n",
    "\n",
    "for rank, tag in enumerate(tag_list, 1):  # 항상 하위 block 전에 콤마(:)를 씁니다.\n",
    "    label = tag.text\n",
    "    print('{}: {}'.format(rank, label))"
   ]
  },
  {
   "cell_type": "markdown",
   "metadata": {},
   "source": [
    "## 다음 실시간 이슈 검색어"
   ]
  },
  {
   "cell_type": "code",
   "execution_count": 134,
   "metadata": {},
   "outputs": [
    {
     "name": "stdout",
     "output_type": "stream",
     "text": [
      "1: 아시안컵 토너먼트\n",
      "2: 한국 바레인\n",
      "3: 위메프\n",
      "4: 박환희\n",
      "5: 유재석\n",
      "6: 나경원\n",
      "7: 8000원 중식 뷔페\n",
      "8: 세븐틴\n",
      "9: 카타르 이라크\n",
      "10: 생방송 투데이\n",
      "11: 아시안컵 토너먼트\n",
      "12: 한국 바레인\n",
      "13: 위메프\n",
      "14: 박환희\n",
      "15: 유재석\n",
      "16: 나경원\n",
      "17: 8000원 중식 뷔페\n",
      "18: 세븐틴\n",
      "19: 카타르 이라크\n",
      "20: 생방송 투데이\n"
     ]
    }
   ],
   "source": [
    "import requests\n",
    "from bs4 import BeautifulSoup\n",
    "\n",
    "res = requests.get('http://daum.net')\n",
    "html = res.text\n",
    "\n",
    "soup = BeautifulSoup(html, 'html.parser')\n",
    "tag_list = soup.select('.list_hotissue [aria-hidden] a')\n",
    "\n",
    "for rank, tag in enumerate(tag_list, 1):\n",
    "    label = tag.text\n",
    "    print('{}: {}'.format(rank, label))"
   ]
  },
  {
   "cell_type": "code",
   "execution_count": null,
   "metadata": {},
   "outputs": [],
   "source": []
  }
 ],
 "metadata": {
  "kernelspec": {
   "display_name": "Python 3",
   "language": "python",
   "name": "python3"
  },
  "language_info": {
   "codemirror_mode": {
    "name": "ipython",
    "version": 3
   },
   "file_extension": ".py",
   "mimetype": "text/x-python",
   "name": "python",
   "nbconvert_exporter": "python",
   "pygments_lexer": "ipython3",
   "version": "3.7.0"
  }
 },
 "nbformat": 4,
 "nbformat_minor": 2
}
