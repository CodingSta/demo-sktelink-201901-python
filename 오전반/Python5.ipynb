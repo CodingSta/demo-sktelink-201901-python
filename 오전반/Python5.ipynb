{
 "cells": [
  {
   "cell_type": "markdown",
   "metadata": {},
   "source": [
    "## 함수 (2)"
   ]
  },
  {
   "cell_type": "code",
   "execution_count": 1,
   "metadata": {},
   "outputs": [],
   "source": [
    "def 월급_계산(기본급, 야근시간):\n",
    "    return 기본급 + 야근시간 * 10000"
   ]
  },
  {
   "cell_type": "code",
   "execution_count": 4,
   "metadata": {},
   "outputs": [
    {
     "data": {
      "text/plain": [
       "1400000"
      ]
     },
     "execution_count": 4,
     "metadata": {},
     "output_type": "execute_result"
    }
   ],
   "source": [
    "# 함수 호출 시 인자를 지정하는 데\n",
    "# 순서에 맞춰 인자를 지정합니다. => 위치에 기반한 인자\n",
    "월급_계산(1000000, 40)"
   ]
  },
  {
   "cell_type": "code",
   "execution_count": 3,
   "metadata": {},
   "outputs": [
    {
     "data": {
      "text/plain": [
       "10000000040"
      ]
     },
     "execution_count": 3,
     "metadata": {},
     "output_type": "execute_result"
    }
   ],
   "source": [
    "월급_계산(40, 1000000)"
   ]
  },
  {
   "cell_type": "code",
   "execution_count": 5,
   "metadata": {},
   "outputs": [
    {
     "data": {
      "text/plain": [
       "1400000"
      ]
     },
     "execution_count": 5,
     "metadata": {},
     "output_type": "execute_result"
    }
   ],
   "source": [
    "# 함수 호출 시 인자를 지정하는 데\n",
    "# 이름을 지정해서 인자를 지정합니다. => 이름에 기반한 인자\n",
    "월급_계산(기본급=1000000, 야근시간=40)"
   ]
  },
  {
   "cell_type": "code",
   "execution_count": 6,
   "metadata": {},
   "outputs": [
    {
     "data": {
      "text/plain": [
       "1400000"
      ]
     },
     "execution_count": 6,
     "metadata": {},
     "output_type": "execute_result"
    }
   ],
   "source": [
    "월급_계산(야근시간=40, 기본급=1000000)"
   ]
  },
  {
   "cell_type": "code",
   "execution_count": 7,
   "metadata": {},
   "outputs": [
    {
     "data": {
      "text/plain": [
       "1400000"
      ]
     },
     "execution_count": 7,
     "metadata": {},
     "output_type": "execute_result"
    }
   ],
   "source": [
    "월급_계산(1000000, 야근시간=40)"
   ]
  },
  {
   "cell_type": "code",
   "execution_count": 9,
   "metadata": {},
   "outputs": [
    {
     "ename": "TypeError",
     "evalue": "월급_계산() missing 1 required positional argument: '야근시간'",
     "output_type": "error",
     "traceback": [
      "\u001b[0;31m---------------------------------------------------------------------------\u001b[0m",
      "\u001b[0;31mTypeError\u001b[0m                                 Traceback (most recent call last)",
      "\u001b[0;32m<ipython-input-9-e647d51b0fbc>\u001b[0m in \u001b[0;36m<module>\u001b[0;34m()\u001b[0m\n\u001b[0;32m----> 1\u001b[0;31m \u001b[0m월급_계산\u001b[0m\u001b[0;34m(\u001b[0m\u001b[0;36m1000000\u001b[0m\u001b[0;34m)\u001b[0m\u001b[0;34m\u001b[0m\u001b[0m\n\u001b[0m",
      "\u001b[0;31mTypeError\u001b[0m: 월급_계산() missing 1 required positional argument: '야근시간'"
     ]
    }
   ],
   "source": [
    "월급_계산(1000000)"
   ]
  },
  {
   "cell_type": "code",
   "execution_count": 8,
   "metadata": {},
   "outputs": [],
   "source": [
    "# 디폴트 인자\n",
    "def 월급_계산2(기본급, 야근시간=0):\n",
    "    return 기본급 + 야근시간 * 10000"
   ]
  },
  {
   "cell_type": "code",
   "execution_count": 10,
   "metadata": {},
   "outputs": [
    {
     "data": {
      "text/plain": [
       "1000000"
      ]
     },
     "execution_count": 10,
     "metadata": {},
     "output_type": "execute_result"
    }
   ],
   "source": [
    "월급_계산2(1000000)"
   ]
  },
  {
   "cell_type": "code",
   "execution_count": 11,
   "metadata": {},
   "outputs": [
    {
     "data": {
      "text/plain": [
       "1400000"
      ]
     },
     "execution_count": 11,
     "metadata": {},
     "output_type": "execute_result"
    }
   ],
   "source": [
    "월급_계산2(1000000, 40)"
   ]
  },
  {
   "cell_type": "code",
   "execution_count": 12,
   "metadata": {},
   "outputs": [
    {
     "data": {
      "text/plain": [
       "1400000"
      ]
     },
     "execution_count": 12,
     "metadata": {},
     "output_type": "execute_result"
    }
   ],
   "source": [
    "월급_계산2(1000000, 야근시간=40)"
   ]
  },
  {
   "cell_type": "code",
   "execution_count": null,
   "metadata": {},
   "outputs": [],
   "source": []
  },
  {
   "cell_type": "code",
   "execution_count": 13,
   "metadata": {},
   "outputs": [],
   "source": [
    "import requests\n",
    "\n",
    "응답 = requests.get(\"http://naver.com\")"
   ]
  },
  {
   "cell_type": "code",
   "execution_count": 14,
   "metadata": {},
   "outputs": [],
   "source": [
    "import pandas\n",
    "\n",
    "df = pandas.DataFrame()"
   ]
  },
  {
   "cell_type": "markdown",
   "metadata": {},
   "source": [
    "## 코딩을 해봅시다. :D"
   ]
  },
  {
   "cell_type": "code",
   "execution_count": 21,
   "metadata": {},
   "outputs": [],
   "source": [
    "# 1) 문자열을 인자로 받아, 단어수를 리턴하는 함수를 작성하기\n",
    "\n",
    "def 단어수_세기(문자열):\n",
    "#     word_list = 문자열.split()\n",
    "#     return len(word_list)\n",
    "    return len(문자열.split())"
   ]
  },
  {
   "cell_type": "code",
   "execution_count": 22,
   "metadata": {},
   "outputs": [
    {
     "data": {
      "text/plain": [
       "2"
      ]
     },
     "execution_count": 22,
     "metadata": {},
     "output_type": "execute_result"
    }
   ],
   "source": [
    "단어수_세기(\"안녕. 반가워.\")  # => 2"
   ]
  },
  {
   "cell_type": "code",
   "execution_count": 15,
   "metadata": {},
   "outputs": [
    {
     "data": {
      "text/plain": [
       "['안녕.', '반가워.', '나는', '이진석이야.']"
      ]
     },
     "execution_count": 15,
     "metadata": {},
     "output_type": "execute_result"
    }
   ],
   "source": [
    "\"안녕.    반가워.    나는 이진석이야.\".split()  # 구분자: white spaces"
   ]
  },
  {
   "cell_type": "code",
   "execution_count": 16,
   "metadata": {},
   "outputs": [
    {
     "data": {
      "text/plain": [
       "4"
      ]
     },
     "execution_count": 16,
     "metadata": {},
     "output_type": "execute_result"
    }
   ],
   "source": [
    "len(\"안녕.    반가워.    나는 이진석이야.\".split())"
   ]
  },
  {
   "cell_type": "code",
   "execution_count": 23,
   "metadata": {},
   "outputs": [
    {
     "data": {
      "text/plain": [
       "12"
      ]
     },
     "execution_count": 23,
     "metadata": {},
     "output_type": "execute_result"
    }
   ],
   "source": [
    "# 2)\n",
    "\n",
    "\"안녕 반가워 나는 이진석이야\"  # 문자열이라는 목록\n",
    "\n",
    "counter = 0\n",
    "\n",
    "for 글자 in \"안녕 반가워 나는 이진석이야\":\n",
    "    if 글자 != ' ':\n",
    "        counter += 1\n",
    "        \n",
    "counter\n",
    "\n",
    "# 글자 == ' '  # 공백인가?\n",
    "# 글자 != ' '  # 공백이 아닌가?"
   ]
  },
  {
   "cell_type": "code",
   "execution_count": 28,
   "metadata": {},
   "outputs": [],
   "source": [
    "def 공백이_아닌_글자수_세기(문자열):\n",
    "    counter = 0\n",
    "    \n",
    "    for 글자 in 문자열:\n",
    "        if 글자 != ' ':\n",
    "            counter += 1\n",
    "\n",
    "    return counter"
   ]
  },
  {
   "cell_type": "code",
   "execution_count": 29,
   "metadata": {},
   "outputs": [
    {
     "data": {
      "text/plain": [
       "12"
      ]
     },
     "execution_count": 29,
     "metadata": {},
     "output_type": "execute_result"
    }
   ],
   "source": [
    "공백이_아닌_글자수_세기(\"안녕 반가워 나는 이진석이야\")"
   ]
  },
  {
   "cell_type": "code",
   "execution_count": 34,
   "metadata": {},
   "outputs": [],
   "source": [
    "def 홀짝여부(숫자):\n",
    "    if 숫자 % 2 != 0:\n",
    "        return '홀수입니다.'\n",
    "#     return None\n",
    "    else:\n",
    "        return '짝수입니다.'"
   ]
  },
  {
   "cell_type": "code",
   "execution_count": 35,
   "metadata": {},
   "outputs": [
    {
     "data": {
      "text/plain": [
       "'홀수입니다.'"
      ]
     },
     "execution_count": 35,
     "metadata": {},
     "output_type": "execute_result"
    }
   ],
   "source": [
    "홀짝여부(1)"
   ]
  },
  {
   "cell_type": "code",
   "execution_count": 36,
   "metadata": {},
   "outputs": [
    {
     "name": "stdout",
     "output_type": "stream",
     "text": [
      "짝수입니다.\n"
     ]
    }
   ],
   "source": [
    "print(홀짝여부(2))"
   ]
  },
  {
   "cell_type": "code",
   "execution_count": 39,
   "metadata": {},
   "outputs": [
    {
     "data": {
      "text/plain": [
       "True"
      ]
     },
     "execution_count": 39,
     "metadata": {},
     "output_type": "execute_result"
    }
   ],
   "source": [
    "\"안녕 파이썬\".startswith(\"안녕\")"
   ]
  },
  {
   "cell_type": "code",
   "execution_count": 40,
   "metadata": {},
   "outputs": [
    {
     "data": {
      "text/plain": [
       "'단어수 세어줘: 안녕 파이썬'"
      ]
     },
     "execution_count": 40,
     "metadata": {},
     "output_type": "execute_result"
    }
   ],
   "source": [
    "text = \"단어수 세어줘: 안녕 파이썬\"\n",
    "\n",
    "if text.startswith('단어수 세어줘:'):\n",
    "    문자열 = text[8:]\n",
    "    단어수 = len(문자열.split())  # int 타입\n",
    "    response = '단어수는 {}개입니다.'.format(단어수)"
   ]
  },
  {
   "cell_type": "markdown",
   "metadata": {},
   "source": [
    "## 크롤링 기본"
   ]
  },
  {
   "cell_type": "code",
   "execution_count": 42,
   "metadata": {},
   "outputs": [
    {
     "data": {
      "text/plain": [
       "<Response [200]>"
      ]
     },
     "execution_count": 42,
     "metadata": {},
     "output_type": "execute_result"
    }
   ],
   "source": [
    "import requests\n",
    "\n",
    "응답 = requests.get(\"http://naver.com\")\n",
    "응답"
   ]
  },
  {
   "cell_type": "code",
   "execution_count": 48,
   "metadata": {},
   "outputs": [],
   "source": [
    "html = 응답.text"
   ]
  },
  {
   "cell_type": "code",
   "execution_count": 49,
   "metadata": {},
   "outputs": [
    {
     "data": {
      "text/plain": [
       "True"
      ]
     },
     "execution_count": 49,
     "metadata": {},
     "output_type": "execute_result"
    }
   ],
   "source": [
    "'손석희' in html"
   ]
  },
  {
   "cell_type": "code",
   "execution_count": 50,
   "metadata": {},
   "outputs": [
    {
     "data": {
      "text/plain": [
       "165192"
      ]
     },
     "execution_count": 50,
     "metadata": {},
     "output_type": "execute_result"
    }
   ],
   "source": [
    "len(html)"
   ]
  },
  {
   "cell_type": "code",
   "execution_count": 51,
   "metadata": {},
   "outputs": [],
   "source": [
    "from bs4 import BeautifulSoup\n",
    "\n",
    "soup = BeautifulSoup(html, 'html.parser')"
   ]
  },
  {
   "cell_type": "code",
   "execution_count": 54,
   "metadata": {
    "collapsed": true
   },
   "outputs": [
    {
     "data": {
      "text/plain": [
       "[<span class=\"ah_k\">손석희</span>,\n",
       " <span class=\"ah_k\">김병조</span>,\n",
       " <span class=\"ah_k\">히든프라이스</span>,\n",
       " <span class=\"ah_k\">중국 이란</span>,\n",
       " <span class=\"ah_k\">일본 인플루엔자</span>,\n",
       " <span class=\"ah_k\">남연우</span>,\n",
       " <span class=\"ah_k\">김정훈 김진아</span>,\n",
       " <span class=\"ah_k\">김진아</span>,\n",
       " <span class=\"ah_k\">연애의 맛 김진아</span>,\n",
       " <span class=\"ah_k\">백승호</span>,\n",
       " <span class=\"ah_k\">박진성 시인</span>,\n",
       " <span class=\"ah_k\">치타 남자친구</span>,\n",
       " <span class=\"ah_k\">치타</span>,\n",
       " <span class=\"ah_k\">첼시 토트넘</span>,\n",
       " <span class=\"ah_k\">한국 카타르</span>,\n",
       " <span class=\"ah_k\">수영 정경호</span>,\n",
       " <span class=\"ah_k\">대한민국 카타르</span>,\n",
       " <span class=\"ah_k\">이란 중국</span>,\n",
       " <span class=\"ah_k\">일본 베트남</span>,\n",
       " <span class=\"ah_k\">넷플릭스 킹덤</span>]"
      ]
     },
     "execution_count": 54,
     "metadata": {},
     "output_type": "execute_result"
    }
   ],
   "source": [
    "tag_list = soup.select('.PM_CL_realtimeKeyword_rolling .ah_k')\n",
    "tag_list"
   ]
  },
  {
   "cell_type": "code",
   "execution_count": 56,
   "metadata": {},
   "outputs": [
    {
     "data": {
      "text/plain": [
       "bs4.element.Tag"
      ]
     },
     "execution_count": 56,
     "metadata": {},
     "output_type": "execute_result"
    }
   ],
   "source": [
    "type(tag_list[0])"
   ]
  },
  {
   "cell_type": "code",
   "execution_count": 57,
   "metadata": {},
   "outputs": [
    {
     "data": {
      "text/plain": [
       "<span class=\"ah_k\">손석희</span>"
      ]
     },
     "execution_count": 57,
     "metadata": {},
     "output_type": "execute_result"
    }
   ],
   "source": [
    "tag_list[0]"
   ]
  },
  {
   "cell_type": "code",
   "execution_count": 58,
   "metadata": {},
   "outputs": [
    {
     "data": {
      "text/plain": [
       "'손석희'"
      ]
     },
     "execution_count": 58,
     "metadata": {},
     "output_type": "execute_result"
    }
   ],
   "source": [
    "tag_list[0].text"
   ]
  },
  {
   "cell_type": "code",
   "execution_count": 59,
   "metadata": {},
   "outputs": [
    {
     "name": "stdout",
     "output_type": "stream",
     "text": [
      "손석희\n",
      "김병조\n",
      "히든프라이스\n",
      "중국 이란\n",
      "일본 인플루엔자\n",
      "남연우\n",
      "김정훈 김진아\n",
      "김진아\n",
      "연애의 맛 김진아\n",
      "백승호\n",
      "박진성 시인\n",
      "치타 남자친구\n",
      "치타\n",
      "첼시 토트넘\n",
      "한국 카타르\n",
      "수영 정경호\n",
      "대한민국 카타르\n",
      "이란 중국\n",
      "일본 베트남\n",
      "넷플릭스 킹덤\n"
     ]
    }
   ],
   "source": [
    "for tag in tag_list:\n",
    "    print(tag.text)"
   ]
  },
  {
   "cell_type": "code",
   "execution_count": 60,
   "metadata": {},
   "outputs": [
    {
     "name": "stdout",
     "output_type": "stream",
     "text": [
      "손석희\n",
      "히든프라이스\n",
      "김병조\n",
      "일본 인플루엔자\n",
      "중국 이란\n",
      "남연우\n",
      "김진아\n",
      "김정훈 김진아\n",
      "백승호\n",
      "조해주\n",
      "연애의 맛 김진아\n",
      "대한민국 카타르\n",
      "봄이오나봄\n",
      "치타\n",
      "수영 정경호\n",
      "한국 카타르\n",
      "일본 베트남\n",
      "넷플릭스 킹덤\n",
      "이란 중국\n",
      "첼시 토트넘\n"
     ]
    }
   ],
   "source": [
    "import requests\n",
    "from bs4 import BeautifulSoup\n",
    "\n",
    "url = 'http://naver.com'\n",
    "응답 = requests.get(url)\n",
    "html = 응답.text\n",
    "\n",
    "soup = BeautifulSoup(html, 'html.parser')\n",
    "\n",
    "tag_list = soup.select('.PM_CL_realtimeKeyword_rolling .ah_k')\n",
    "for tag in tag_list:\n",
    "    print(tag.text)"
   ]
  },
  {
   "cell_type": "code",
   "execution_count": 61,
   "metadata": {},
   "outputs": [],
   "source": [
    "import requests\n",
    "from bs4 import BeautifulSoup\n",
    "\n",
    "def 네이버_실시간_검색어():\n",
    "    url = 'http://naver.com'\n",
    "    응답 = requests.get(url)\n",
    "    html = 응답.text\n",
    "\n",
    "    soup = BeautifulSoup(html, 'html.parser')\n",
    "\n",
    "    tag_list = soup.select('.PM_CL_realtimeKeyword_rolling .ah_k')\n",
    "    \n",
    "    keyword_list = []\n",
    "    for tag in tag_list:\n",
    "        keyword_list.append(tag.text)\n",
    "    \n",
    "    return keyword_list"
   ]
  },
  {
   "cell_type": "code",
   "execution_count": 66,
   "metadata": {},
   "outputs": [],
   "source": [
    "메세지 = '\\n'.join(네이버_실시간_검색어())"
   ]
  },
  {
   "cell_type": "code",
   "execution_count": 68,
   "metadata": {},
   "outputs": [
    {
     "name": "stdout",
     "output_type": "stream",
     "text": [
      "1 손석희\n",
      "2 히든프라이스\n",
      "3 일본 인플루엔자\n",
      "4 중국 이란\n",
      "5 남연우\n",
      "6 김병조\n",
      "7 김진아\n",
      "8 백승호\n",
      "9 조해주\n",
      "10 대한민국 카타르\n",
      "11 연애의 맛 김진아\n",
      "12 김정훈 김진아\n",
      "13 한국 카타르\n",
      "14 일본 베트남\n",
      "15 수영 정경호\n",
      "16 넷플릭스 킹덤\n",
      "17 베트남 일본\n",
      "18 이란 중국\n",
      "19 첼시 토트넘\n",
      "20 치타\n"
     ]
    }
   ],
   "source": [
    "rank = 1\n",
    "for keyword in 네이버_실시간_검색어():\n",
    "    message = '{} {}'.format(rank, keyword)\n",
    "    rank += 1"
   ]
  },
  {
   "cell_type": "code",
   "execution_count": null,
   "metadata": {},
   "outputs": [],
   "source": []
  }
 ],
 "metadata": {
  "kernelspec": {
   "display_name": "Python 3",
   "language": "python",
   "name": "python3"
  },
  "language_info": {
   "codemirror_mode": {
    "name": "ipython",
    "version": 3
   },
   "file_extension": ".py",
   "mimetype": "text/x-python",
   "name": "python",
   "nbconvert_exporter": "python",
   "pygments_lexer": "ipython3",
   "version": "3.7.0"
  }
 },
 "nbformat": 4,
 "nbformat_minor": 2
}
