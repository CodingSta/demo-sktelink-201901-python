{
 "cells": [
  {
   "cell_type": "markdown",
   "metadata": {},
   "source": [
    "# Python\n",
    "## Day 1\n",
    "\n",
    "+ 파이썬 기본 문법\n",
    "+ 데이터 타입\n",
    "+ 기본 자료구조\n",
    "+ 제어구조\n",
    "    - for\n",
    "    - while\n",
    "\n",
    "---\n",
    "\n",
    "1. 파이썬 기본 문법\n",
    "1. 데이터 타입\n",
    "1. 기본 자료구조\n",
    "1. 제어구조\n",
    "    - for\n",
    "    - while"
   ]
  },
  {
   "cell_type": "code",
   "execution_count": 1,
   "metadata": {},
   "outputs": [
    {
     "data": {
      "text/plain": [
       "10715086071862673209484250490600018105614048117055336074437503883703510511249361224931983788156958581275946729175531468251871452856923140435984577574698574803934567774824230985421074605062371141877954182153046474983581941267398767559165543946077062914571196477686542167660429831652624386837205668069376"
      ]
     },
     "execution_count": 1,
     "metadata": {},
     "output_type": "execute_result"
    }
   ],
   "source": [
    "2 ** 1000"
   ]
  },
  {
   "cell_type": "code",
   "execution_count": 2,
   "metadata": {},
   "outputs": [
    {
     "data": {
      "text/plain": [
       "10715086071862673209484250490600018105614048117055336074437503883703510511249361224931983788156958581275946729175531468251871452856923140435984577574698574803934567774824230985421074605062371141877954182153046474983581941267398767559165543946077062914571196477686542167660429831652624386837205668069376"
      ]
     },
     "execution_count": 2,
     "metadata": {},
     "output_type": "execute_result"
    }
   ],
   "source": [
    "2 ** 1000"
   ]
  },
  {
   "cell_type": "code",
   "execution_count": 3,
   "metadata": {},
   "outputs": [
    {
     "data": {
      "text/plain": [
       "'이진석'"
      ]
     },
     "execution_count": 3,
     "metadata": {},
     "output_type": "execute_result"
    }
   ],
   "source": [
    "\"이진석\"  # 문자열 (str)"
   ]
  },
  {
   "cell_type": "code",
   "execution_count": 4,
   "metadata": {},
   "outputs": [
    {
     "data": {
      "text/plain": [
       "100"
      ]
     },
     "execution_count": 4,
     "metadata": {},
     "output_type": "execute_result"
    }
   ],
   "source": [
    "100  # 정수형 (int)"
   ]
  },
  {
   "cell_type": "code",
   "execution_count": 5,
   "metadata": {},
   "outputs": [
    {
     "data": {
      "text/plain": [
       "123.456"
      ]
     },
     "execution_count": 5,
     "metadata": {},
     "output_type": "execute_result"
    }
   ],
   "source": [
    "123.456  # 실수형 (float)"
   ]
  },
  {
   "cell_type": "code",
   "execution_count": 6,
   "metadata": {},
   "outputs": [],
   "source": [
    "name = \"이진석\""
   ]
  },
  {
   "cell_type": "code",
   "execution_count": 7,
   "metadata": {},
   "outputs": [
    {
     "name": "stdout",
     "output_type": "stream",
     "text": [
      "이진석\n"
     ]
    }
   ],
   "source": [
    "print(name)"
   ]
  },
  {
   "cell_type": "code",
   "execution_count": 8,
   "metadata": {},
   "outputs": [],
   "source": [
    "age = 20\n",
    "나이 = 20"
   ]
  },
  {
   "cell_type": "code",
   "execution_count": 9,
   "metadata": {},
   "outputs": [
    {
     "name": "stdout",
     "output_type": "stream",
     "text": [
      "20 20\n"
     ]
    }
   ],
   "source": [
    "print(age, 나이)"
   ]
  },
  {
   "cell_type": "code",
   "execution_count": 10,
   "metadata": {},
   "outputs": [
    {
     "data": {
      "text/plain": [
       "30"
      ]
     },
     "execution_count": 10,
     "metadata": {},
     "output_type": "execute_result"
    }
   ],
   "source": [
    "10 + 20"
   ]
  },
  {
   "cell_type": "code",
   "execution_count": 11,
   "metadata": {},
   "outputs": [
    {
     "data": {
      "text/plain": [
       "'1020'"
      ]
     },
     "execution_count": 11,
     "metadata": {},
     "output_type": "execute_result"
    }
   ],
   "source": [
    "\"10\" + \"20\""
   ]
  },
  {
   "cell_type": "code",
   "execution_count": 12,
   "metadata": {},
   "outputs": [
    {
     "data": {
      "text/plain": [
       "'hello hello hello '"
      ]
     },
     "execution_count": 12,
     "metadata": {},
     "output_type": "execute_result"
    }
   ],
   "source": [
    "\"hello \" * 3"
   ]
  },
  {
   "cell_type": "code",
   "execution_count": 13,
   "metadata": {},
   "outputs": [
    {
     "data": {
      "text/plain": [
       "20"
      ]
     },
     "execution_count": 13,
     "metadata": {},
     "output_type": "execute_result"
    }
   ],
   "source": [
    "age"
   ]
  },
  {
   "cell_type": "code",
   "execution_count": 14,
   "metadata": {},
   "outputs": [
    {
     "data": {
      "text/plain": [
       "30"
      ]
     },
     "execution_count": 14,
     "metadata": {},
     "output_type": "execute_result"
    }
   ],
   "source": [
    "age = 30\n",
    "age"
   ]
  },
  {
   "cell_type": "code",
   "execution_count": 15,
   "metadata": {},
   "outputs": [],
   "source": [
    "first_name = \"Chinseok\"\n",
    "firstName = \"Chinseok\""
   ]
  },
  {
   "cell_type": "code",
   "execution_count": 16,
   "metadata": {},
   "outputs": [
    {
     "data": {
      "text/plain": [
       "5.0"
      ]
     },
     "execution_count": 16,
     "metadata": {},
     "output_type": "execute_result"
    }
   ],
   "source": [
    "10 / 2"
   ]
  },
  {
   "cell_type": "code",
   "execution_count": 17,
   "metadata": {},
   "outputs": [
    {
     "data": {
      "text/plain": [
       "3.3333333333333335"
      ]
     },
     "execution_count": 17,
     "metadata": {},
     "output_type": "execute_result"
    }
   ],
   "source": [
    "10 / 3"
   ]
  },
  {
   "cell_type": "code",
   "execution_count": 18,
   "metadata": {},
   "outputs": [
    {
     "data": {
      "text/plain": [
       "'3.33'"
      ]
     },
     "execution_count": 18,
     "metadata": {},
     "output_type": "execute_result"
    }
   ],
   "source": [
    "'{:.3}'.format(10/3)"
   ]
  },
  {
   "cell_type": "code",
   "execution_count": 19,
   "metadata": {},
   "outputs": [
    {
     "data": {
      "text/plain": [
       "3"
      ]
     },
     "execution_count": 19,
     "metadata": {},
     "output_type": "execute_result"
    }
   ],
   "source": [
    "10 // 3  # 몫"
   ]
  },
  {
   "cell_type": "code",
   "execution_count": 20,
   "metadata": {},
   "outputs": [
    {
     "data": {
      "text/plain": [
       "1"
      ]
     },
     "execution_count": 20,
     "metadata": {},
     "output_type": "execute_result"
    }
   ],
   "source": [
    "10 % 3  # 나머지"
   ]
  },
  {
   "cell_type": "markdown",
   "metadata": {},
   "source": [
    "## 문자열"
   ]
  },
  {
   "cell_type": "code",
   "execution_count": 21,
   "metadata": {},
   "outputs": [],
   "source": [
    "이름 = \"이진석\"\n",
    "이름 = '이진석'\n",
    "이름 = \"\"\"이진석\"\"\"\n",
    "이름 = '''이진석'''"
   ]
  },
  {
   "cell_type": "code",
   "execution_count": 22,
   "metadata": {},
   "outputs": [
    {
     "data": {
      "text/plain": [
       "\"Tom's House\""
      ]
     },
     "execution_count": 22,
     "metadata": {},
     "output_type": "execute_result"
    }
   ],
   "source": [
    "'Tom\\'s House'"
   ]
  },
  {
   "cell_type": "code",
   "execution_count": 23,
   "metadata": {},
   "outputs": [
    {
     "data": {
      "text/plain": [
       "\"Tom's House\""
      ]
     },
     "execution_count": 23,
     "metadata": {},
     "output_type": "execute_result"
    }
   ],
   "source": [
    "\"Tom's House\""
   ]
  },
  {
   "cell_type": "code",
   "execution_count": 24,
   "metadata": {},
   "outputs": [
    {
     "name": "stdout",
     "output_type": "stream",
     "text": [
      "버려진 담배꽁초\n",
      "흔들리는 처량함\n",
      "휘청거리는 휜 맥주 뚜껑에\n",
      "난 또 감상에 젖어\n"
     ]
    }
   ],
   "source": [
    "가사 = \"버려진 담배꽁초\\n\" + \\\n",
    "    \"흔들리는 처량함\\n\" + \\\n",
    "    \"휘청거리는 휜 맥주 뚜껑에\\n\" + \\\n",
    "    \"난 또 감상에 젖어\"\n",
    "print(가사)"
   ]
  },
  {
   "cell_type": "code",
   "execution_count": 25,
   "metadata": {},
   "outputs": [
    {
     "name": "stdout",
     "output_type": "stream",
     "text": [
      "버려진 담배꽁초\n",
      "흔들리는 처량함\n",
      "휘청거리는 휜 맥주 뚜껑에\n",
      "난 또 감상에 젖어\n"
     ]
    }
   ],
   "source": [
    "가사 = \"\"\"버려진 담배꽁초\n",
    "흔들리는 처량함\n",
    "휘청거리는 휜 맥주 뚜껑에\n",
    "난 또 감상에 젖어\"\"\"\n",
    "print(가사)"
   ]
  },
  {
   "cell_type": "code",
   "execution_count": 26,
   "metadata": {},
   "outputs": [
    {
     "data": {
      "text/plain": [
       "False"
      ]
     },
     "execution_count": 26,
     "metadata": {},
     "output_type": "execute_result"
    }
   ],
   "source": [
    "10 < 9"
   ]
  },
  {
   "cell_type": "code",
   "execution_count": 27,
   "metadata": {},
   "outputs": [
    {
     "data": {
      "text/plain": [
       "True"
      ]
     },
     "execution_count": 27,
     "metadata": {},
     "output_type": "execute_result"
    }
   ],
   "source": [
    "\"10\" < \"9\""
   ]
  },
  {
   "cell_type": "code",
   "execution_count": 28,
   "metadata": {},
   "outputs": [
    {
     "name": "stdout",
     "output_type": "stream",
     "text": [
      "안녕하세요. 이진석님. 대구에 사시지요?\n",
      "안녕하세요. 아이유님. 서울에 사시지요?\n"
     ]
    }
   ],
   "source": [
    "print(\"안녕하세요. 이진석님. 대구에 사시지요?\")\n",
    "print(\"안녕하세요. 아이유님. 서울에 사시지요?\")"
   ]
  },
  {
   "cell_type": "code",
   "execution_count": 29,
   "metadata": {},
   "outputs": [
    {
     "name": "stdout",
     "output_type": "stream",
     "text": [
      "안녕하세요. 이진석님. 대구에 사시지요?\n"
     ]
    }
   ],
   "source": [
    "이름 = \"이진석\"\n",
    "지역 = \"대구\"\n",
    "\n",
    "print(\"안녕하세요. {}님. {}에 사시지요?\".format(이름, 지역))"
   ]
  },
  {
   "cell_type": "code",
   "execution_count": 30,
   "metadata": {},
   "outputs": [],
   "source": [
    "\"이진석\"\n",
    "10\n",
    "True\n",
    "이수여부 = False"
   ]
  },
  {
   "cell_type": "code",
   "execution_count": 31,
   "metadata": {},
   "outputs": [
    {
     "data": {
      "text/plain": [
       "False"
      ]
     },
     "execution_count": 31,
     "metadata": {},
     "output_type": "execute_result"
    }
   ],
   "source": [
    "10 < 9"
   ]
  },
  {
   "cell_type": "code",
   "execution_count": 32,
   "metadata": {},
   "outputs": [
    {
     "data": {
      "text/plain": [
       "False"
      ]
     },
     "execution_count": 32,
     "metadata": {},
     "output_type": "execute_result"
    }
   ],
   "source": [
    "\"3\" == 3  # 값이 같으냐?"
   ]
  },
  {
   "cell_type": "code",
   "execution_count": 33,
   "metadata": {},
   "outputs": [
    {
     "data": {
      "text/plain": [
       "51"
      ]
     },
     "execution_count": 33,
     "metadata": {},
     "output_type": "execute_result"
    }
   ],
   "source": [
    "ord(\"3\")"
   ]
  },
  {
   "cell_type": "code",
   "execution_count": 34,
   "metadata": {
    "scrolled": true
   },
   "outputs": [
    {
     "ename": "SyntaxError",
     "evalue": "can't assign to literal (<ipython-input-34-db7c2d0f20c5>, line 1)",
     "output_type": "error",
     "traceback": [
      "\u001b[0;36m  File \u001b[0;32m\"<ipython-input-34-db7c2d0f20c5>\"\u001b[0;36m, line \u001b[0;32m1\u001b[0m\n\u001b[0;31m    \"3\" = 3\u001b[0m\n\u001b[0m           ^\u001b[0m\n\u001b[0;31mSyntaxError\u001b[0m\u001b[0;31m:\u001b[0m can't assign to literal\n"
     ]
    }
   ],
   "source": [
    "# \"3\" = 3"
   ]
  },
  {
   "cell_type": "code",
   "execution_count": 35,
   "metadata": {},
   "outputs": [
    {
     "data": {
      "text/plain": [
       "True"
      ]
     },
     "execution_count": 35,
     "metadata": {},
     "output_type": "execute_result"
    }
   ],
   "source": [
    "\"9\" < \"90\""
   ]
  },
  {
   "cell_type": "code",
   "execution_count": 36,
   "metadata": {},
   "outputs": [
    {
     "data": {
      "text/plain": [
       "False"
      ]
     },
     "execution_count": 36,
     "metadata": {},
     "output_type": "execute_result"
    }
   ],
   "source": [
    "51 == \"3\""
   ]
  },
  {
   "cell_type": "code",
   "execution_count": 37,
   "metadata": {},
   "outputs": [
    {
     "data": {
      "text/plain": [
       "True"
      ]
     },
     "execution_count": 37,
     "metadata": {},
     "output_type": "execute_result"
    }
   ],
   "source": [
    "51 == ord(\"3\")"
   ]
  },
  {
   "cell_type": "code",
   "execution_count": 38,
   "metadata": {},
   "outputs": [],
   "source": [
    "음식 = \"김치찌개\""
   ]
  },
  {
   "cell_type": "code",
   "execution_count": 39,
   "metadata": {},
   "outputs": [
    {
     "data": {
      "text/plain": [
       "'김치찌개'"
      ]
     },
     "execution_count": 39,
     "metadata": {},
     "output_type": "execute_result"
    }
   ],
   "source": [
    "음식"
   ]
  },
  {
   "cell_type": "markdown",
   "metadata": {},
   "source": [
    "## Day 2"
   ]
  },
  {
   "cell_type": "markdown",
   "metadata": {},
   "source": [
    "### 리스트"
   ]
  },
  {
   "cell_type": "code",
   "execution_count": 2,
   "metadata": {},
   "outputs": [],
   "source": [
    "이름 = \"이진석\"  # 대입 (assign)"
   ]
  },
  {
   "cell_type": "code",
   "execution_count": 3,
   "metadata": {},
   "outputs": [],
   "source": [
    "# 좋아하는_메뉴들 = []\n",
    "좋아하는_메뉴들 = [\"김치찌개\", \"막걸리\", \"파전\"]"
   ]
  },
  {
   "cell_type": "code",
   "execution_count": 4,
   "metadata": {},
   "outputs": [
    {
     "data": {
      "text/plain": [
       "list"
      ]
     },
     "execution_count": 4,
     "metadata": {},
     "output_type": "execute_result"
    }
   ],
   "source": [
    "type(좋아하는_메뉴들)"
   ]
  },
  {
   "cell_type": "code",
   "execution_count": 7,
   "metadata": {},
   "outputs": [
    {
     "data": {
      "text/plain": [
       "['김치찌개', '막걸리', '파전', '짬뽕', '짬뽕']"
      ]
     },
     "execution_count": 7,
     "metadata": {},
     "output_type": "execute_result"
    }
   ],
   "source": [
    "좋아하는_메뉴들.append('짬뽕')  # 끝에 추가\n",
    "좋아하는_메뉴들"
   ]
  },
  {
   "cell_type": "code",
   "execution_count": 10,
   "metadata": {},
   "outputs": [
    {
     "data": {
      "text/plain": [
       "'짬뽕'"
      ]
     },
     "execution_count": 10,
     "metadata": {},
     "output_type": "execute_result"
    }
   ],
   "source": [
    "좋아하는_메뉴들[4]"
   ]
  },
  {
   "cell_type": "code",
   "execution_count": 14,
   "metadata": {},
   "outputs": [
    {
     "data": {
      "text/plain": [
       "'짬뽕'"
      ]
     },
     "execution_count": 14,
     "metadata": {},
     "output_type": "execute_result"
    }
   ],
   "source": [
    "# idx = len(좋아하는_메뉴들) - 1\n",
    "# 좋아하는_메뉴들[idx]\n",
    "\n",
    "# 좋아하는_메뉴들[len(좋아하는_메뉴들) - 1]\n",
    "\n",
    "좋아하는_메뉴들[-1]"
   ]
  },
  {
   "cell_type": "code",
   "execution_count": 15,
   "metadata": {},
   "outputs": [
    {
     "data": {
      "text/plain": [
       "['김치찌개', '막걸리', '파전', '짬뽕', '짬뽕']"
      ]
     },
     "execution_count": 15,
     "metadata": {},
     "output_type": "execute_result"
    }
   ],
   "source": [
    "좋아하는_메뉴들"
   ]
  },
  {
   "cell_type": "code",
   "execution_count": 16,
   "metadata": {},
   "outputs": [
    {
     "data": {
      "text/plain": [
       "['김치찌개', '짜장면', '막걸리', '파전', '짬뽕', '짬뽕']"
      ]
     },
     "execution_count": 16,
     "metadata": {},
     "output_type": "execute_result"
    }
   ],
   "source": [
    "좋아하는_메뉴들.insert(1, \"짜장면\")\n",
    "좋아하는_메뉴들"
   ]
  },
  {
   "cell_type": "code",
   "execution_count": 17,
   "metadata": {},
   "outputs": [
    {
     "data": {
      "text/plain": [
       "True"
      ]
     },
     "execution_count": 17,
     "metadata": {},
     "output_type": "execute_result"
    }
   ],
   "source": [
    "'김치찌개' in 좋아하는_메뉴들"
   ]
  },
  {
   "cell_type": "code",
   "execution_count": 18,
   "metadata": {},
   "outputs": [
    {
     "data": {
      "text/plain": [
       "['김치찌개', '막걸리', '파전', '짬뽕', '짬뽕']"
      ]
     },
     "execution_count": 18,
     "metadata": {},
     "output_type": "execute_result"
    }
   ],
   "source": [
    "좋아하는_메뉴들.remove(\"짜장면\")\n",
    "# 좋아하는_메뉴들.pop(1)\n",
    "좋아하는_메뉴들"
   ]
  },
  {
   "cell_type": "code",
   "execution_count": 19,
   "metadata": {},
   "outputs": [
    {
     "ename": "ValueError",
     "evalue": "list.remove(x): x not in list",
     "output_type": "error",
     "traceback": [
      "\u001b[0;31m---------------------------------------------------------------------------\u001b[0m",
      "\u001b[0;31mValueError\u001b[0m                                Traceback (most recent call last)",
      "\u001b[0;32m<ipython-input-19-5f9a3045c57c>\u001b[0m in \u001b[0;36m<module>\u001b[0;34m()\u001b[0m\n\u001b[0;32m----> 1\u001b[0;31m \u001b[0m좋아하는_메뉴들\u001b[0m\u001b[0;34m.\u001b[0m\u001b[0mremove\u001b[0m\u001b[0;34m(\u001b[0m\u001b[0;34m\"짜장면\"\u001b[0m\u001b[0;34m)\u001b[0m\u001b[0;34m\u001b[0m\u001b[0m\n\u001b[0m\u001b[1;32m      2\u001b[0m \u001b[0m좋아하는_메뉴들\u001b[0m\u001b[0;34m\u001b[0m\u001b[0m\n",
      "\u001b[0;31mValueError\u001b[0m: list.remove(x): x not in list"
     ]
    }
   ],
   "source": [
    "좋아하는_메뉴들.remove(\"짜장면\")\n",
    "좋아하는_메뉴들"
   ]
  },
  {
   "cell_type": "code",
   "execution_count": 21,
   "metadata": {},
   "outputs": [
    {
     "data": {
      "text/plain": [
       "['김치찌개', '막걸리', '파전', '짬뽕', '짬뽕', '탕수육', '울면', '냉우동']"
      ]
     },
     "execution_count": 21,
     "metadata": {},
     "output_type": "execute_result"
    }
   ],
   "source": [
    "# 좋아하는_메뉴들.append('탕수육')\n",
    "# 좋아하는_메뉴들.append('울면')\n",
    "# 좋아하는_메뉴들.append('냉우동')\n",
    "\n",
    "좋아하는_메뉴들.extend(['탕수육', '울면', '냉우동'])\n",
    "\n",
    "좋아하는_메뉴들"
   ]
  },
  {
   "cell_type": "code",
   "execution_count": 22,
   "metadata": {},
   "outputs": [
    {
     "data": {
      "text/plain": [
       "['김치찌개', '막걸리', '파전', '짬뽕', '짬뽕', '탕수육', '울면', '냉우동', '볶', '음', '밥']"
      ]
     },
     "execution_count": 22,
     "metadata": {},
     "output_type": "execute_result"
    }
   ],
   "source": [
    "좋아하는_메뉴들.extend('볶음밥')\n",
    "# 좋아하는_메뉴들.extend(['볶음밥'])\n",
    "\n",
    "좋아하는_메뉴들"
   ]
  },
  {
   "cell_type": "code",
   "execution_count": null,
   "metadata": {},
   "outputs": [],
   "source": []
  },
  {
   "cell_type": "code",
   "execution_count": 25,
   "metadata": {},
   "outputs": [
    {
     "data": {
      "text/plain": [
       "26"
      ]
     },
     "execution_count": 25,
     "metadata": {},
     "output_type": "execute_result"
    }
   ],
   "source": [
    "알파벳 = \"ABCDEFGHIJKLMNOPQRSTUVWXYZ\"\n",
    "len(알파벳)"
   ]
  },
  {
   "cell_type": "code",
   "execution_count": 29,
   "metadata": {},
   "outputs": [
    {
     "data": {
      "text/plain": [
       "'CDEFGHIJKLMNOPQRSTUVWX'"
      ]
     },
     "execution_count": 29,
     "metadata": {},
     "output_type": "execute_result"
    }
   ],
   "source": [
    "# 알파벳[1:25]\n",
    "알파벳[2:-2]"
   ]
  },
  {
   "cell_type": "code",
   "execution_count": 31,
   "metadata": {},
   "outputs": [
    {
     "data": {
      "text/plain": [
       "'CEGIKMOQSUW'"
      ]
     },
     "execution_count": 31,
     "metadata": {},
     "output_type": "execute_result"
    }
   ],
   "source": [
    "알파벳[2:-2:2]"
   ]
  },
  {
   "cell_type": "code",
   "execution_count": 37,
   "metadata": {},
   "outputs": [
    {
     "data": {
      "text/plain": [
       "'ZYXWVUTSRQPONMLKJIHGFEDCBA'"
      ]
     },
     "execution_count": 37,
     "metadata": {},
     "output_type": "execute_result"
    }
   ],
   "source": [
    "알파벳[::-1]"
   ]
  },
  {
   "cell_type": "code",
   "execution_count": 38,
   "metadata": {},
   "outputs": [
    {
     "data": {
      "text/plain": [
       "'ABC'"
      ]
     },
     "execution_count": 38,
     "metadata": {},
     "output_type": "execute_result"
    }
   ],
   "source": [
    "알파벳[:3]"
   ]
  },
  {
   "cell_type": "code",
   "execution_count": null,
   "metadata": {},
   "outputs": [],
   "source": []
  },
  {
   "cell_type": "code",
   "execution_count": 40,
   "metadata": {},
   "outputs": [
    {
     "data": {
      "text/plain": [
       "['김치찌개', '막걸리', '파전', '짬뽕', '짬뽕', '탕수육', '울면', '냉우동', '볶음밥', '라면', '잔치국수']"
      ]
     },
     "execution_count": 40,
     "metadata": {},
     "output_type": "execute_result"
    }
   ],
   "source": [
    "좋아하는_메뉴들 = [\n",
    "    '김치찌개', '막걸리', '파전', '짬뽕', '짬뽕',\n",
    "    '탕수육', '울면', '냉우동', '볶음밥', '라면', '잔치국수',\n",
    "]\n",
    "좋아하는_메뉴들"
   ]
  },
  {
   "cell_type": "code",
   "execution_count": 45,
   "metadata": {},
   "outputs": [
    {
     "data": {
      "text/plain": [
       "'막걸리'"
      ]
     },
     "execution_count": 45,
     "metadata": {},
     "output_type": "execute_result"
    }
   ],
   "source": [
    "# 2번째로 좋아하는 메뉴\n",
    "좋아하는_메뉴들[1]"
   ]
  },
  {
   "cell_type": "code",
   "execution_count": 47,
   "metadata": {},
   "outputs": [
    {
     "data": {
      "text/plain": [
       "['짬뽕', '짬뽕', '탕수육', '울면']"
      ]
     },
     "execution_count": 47,
     "metadata": {},
     "output_type": "execute_result"
    }
   ],
   "source": [
    "# 4번째~7번째로 좋아하는 메뉴\n",
    "좋아하는_메뉴들[3:7]"
   ]
  },
  {
   "cell_type": "code",
   "execution_count": 48,
   "metadata": {},
   "outputs": [
    {
     "data": {
      "text/plain": [
       "['볶음밥', '라면', '잔치국수']"
      ]
     },
     "execution_count": 48,
     "metadata": {},
     "output_type": "execute_result"
    }
   ],
   "source": [
    "# 하위 3개 메뉴\n",
    "좋아하는_메뉴들[-3:]"
   ]
  },
  {
   "cell_type": "code",
   "execution_count": 49,
   "metadata": {},
   "outputs": [
    {
     "data": {
      "text/plain": [
       "['잔치국수', '라면', '볶음밥', '냉우동', '울면', '탕수육', '짬뽕', '짬뽕', '파전', '막걸리', '김치찌개']"
      ]
     },
     "execution_count": 49,
     "metadata": {},
     "output_type": "execute_result"
    }
   ],
   "source": [
    "# 거꾸로\n",
    "좋아하는_메뉴들[::-1]"
   ]
  },
  {
   "cell_type": "code",
   "execution_count": null,
   "metadata": {},
   "outputs": [],
   "source": []
  },
  {
   "cell_type": "code",
   "execution_count": 54,
   "metadata": {},
   "outputs": [
    {
     "name": "stdout",
     "output_type": "stream",
     "text": [
      "(891, 15)\n"
     ]
    },
    {
     "data": {
      "text/html": [
       "<div>\n",
       "<style scoped>\n",
       "    .dataframe tbody tr th:only-of-type {\n",
       "        vertical-align: middle;\n",
       "    }\n",
       "\n",
       "    .dataframe tbody tr th {\n",
       "        vertical-align: top;\n",
       "    }\n",
       "\n",
       "    .dataframe thead th {\n",
       "        text-align: right;\n",
       "    }\n",
       "</style>\n",
       "<table border=\"1\" class=\"dataframe\">\n",
       "  <thead>\n",
       "    <tr style=\"text-align: right;\">\n",
       "      <th></th>\n",
       "      <th>survived</th>\n",
       "      <th>pclass</th>\n",
       "      <th>sex</th>\n",
       "      <th>age</th>\n",
       "      <th>sibsp</th>\n",
       "      <th>parch</th>\n",
       "      <th>fare</th>\n",
       "      <th>embarked</th>\n",
       "      <th>class</th>\n",
       "      <th>who</th>\n",
       "      <th>adult_male</th>\n",
       "      <th>deck</th>\n",
       "      <th>embark_town</th>\n",
       "      <th>alive</th>\n",
       "      <th>alone</th>\n",
       "    </tr>\n",
       "  </thead>\n",
       "  <tbody>\n",
       "    <tr>\n",
       "      <th>0</th>\n",
       "      <td>0</td>\n",
       "      <td>3</td>\n",
       "      <td>male</td>\n",
       "      <td>22.0</td>\n",
       "      <td>1</td>\n",
       "      <td>0</td>\n",
       "      <td>7.2500</td>\n",
       "      <td>S</td>\n",
       "      <td>Third</td>\n",
       "      <td>man</td>\n",
       "      <td>True</td>\n",
       "      <td>NaN</td>\n",
       "      <td>Southampton</td>\n",
       "      <td>no</td>\n",
       "      <td>False</td>\n",
       "    </tr>\n",
       "    <tr>\n",
       "      <th>1</th>\n",
       "      <td>1</td>\n",
       "      <td>1</td>\n",
       "      <td>female</td>\n",
       "      <td>38.0</td>\n",
       "      <td>1</td>\n",
       "      <td>0</td>\n",
       "      <td>71.2833</td>\n",
       "      <td>C</td>\n",
       "      <td>First</td>\n",
       "      <td>woman</td>\n",
       "      <td>False</td>\n",
       "      <td>C</td>\n",
       "      <td>Cherbourg</td>\n",
       "      <td>yes</td>\n",
       "      <td>False</td>\n",
       "    </tr>\n",
       "    <tr>\n",
       "      <th>2</th>\n",
       "      <td>1</td>\n",
       "      <td>3</td>\n",
       "      <td>female</td>\n",
       "      <td>26.0</td>\n",
       "      <td>0</td>\n",
       "      <td>0</td>\n",
       "      <td>7.9250</td>\n",
       "      <td>S</td>\n",
       "      <td>Third</td>\n",
       "      <td>woman</td>\n",
       "      <td>False</td>\n",
       "      <td>NaN</td>\n",
       "      <td>Southampton</td>\n",
       "      <td>yes</td>\n",
       "      <td>True</td>\n",
       "    </tr>\n",
       "    <tr>\n",
       "      <th>3</th>\n",
       "      <td>1</td>\n",
       "      <td>1</td>\n",
       "      <td>female</td>\n",
       "      <td>35.0</td>\n",
       "      <td>1</td>\n",
       "      <td>0</td>\n",
       "      <td>53.1000</td>\n",
       "      <td>S</td>\n",
       "      <td>First</td>\n",
       "      <td>woman</td>\n",
       "      <td>False</td>\n",
       "      <td>C</td>\n",
       "      <td>Southampton</td>\n",
       "      <td>yes</td>\n",
       "      <td>False</td>\n",
       "    </tr>\n",
       "    <tr>\n",
       "      <th>4</th>\n",
       "      <td>0</td>\n",
       "      <td>3</td>\n",
       "      <td>male</td>\n",
       "      <td>35.0</td>\n",
       "      <td>0</td>\n",
       "      <td>0</td>\n",
       "      <td>8.0500</td>\n",
       "      <td>S</td>\n",
       "      <td>Third</td>\n",
       "      <td>man</td>\n",
       "      <td>True</td>\n",
       "      <td>NaN</td>\n",
       "      <td>Southampton</td>\n",
       "      <td>no</td>\n",
       "      <td>True</td>\n",
       "    </tr>\n",
       "  </tbody>\n",
       "</table>\n",
       "</div>"
      ],
      "text/plain": [
       "   survived  pclass     sex   age  sibsp  parch     fare embarked  class  \\\n",
       "0         0       3    male  22.0      1      0   7.2500        S  Third   \n",
       "1         1       1  female  38.0      1      0  71.2833        C  First   \n",
       "2         1       3  female  26.0      0      0   7.9250        S  Third   \n",
       "3         1       1  female  35.0      1      0  53.1000        S  First   \n",
       "4         0       3    male  35.0      0      0   8.0500        S  Third   \n",
       "\n",
       "     who  adult_male deck  embark_town alive  alone  \n",
       "0    man        True  NaN  Southampton    no  False  \n",
       "1  woman       False    C    Cherbourg   yes  False  \n",
       "2  woman       False  NaN  Southampton   yes   True  \n",
       "3  woman       False    C  Southampton   yes  False  \n",
       "4    man        True  NaN  Southampton    no   True  "
      ]
     },
     "execution_count": 54,
     "metadata": {},
     "output_type": "execute_result"
    }
   ],
   "source": [
    "import seaborn\n",
    "\n",
    "df = seaborn.load_dataset('titanic')\n",
    "print(df.shape)\n",
    "df.iloc[:5]"
   ]
  },
  {
   "cell_type": "code",
   "execution_count": null,
   "metadata": {},
   "outputs": [],
   "source": []
  },
  {
   "cell_type": "code",
   "execution_count": 55,
   "metadata": {},
   "outputs": [
    {
     "data": {
      "text/plain": [
       "['김치찌개', '막걸리', '파전', '짬뽕', '짬뽕', '탕수육', '울면', '냉우동', '볶음밥', '라면', '잔치국수']"
      ]
     },
     "execution_count": 55,
     "metadata": {},
     "output_type": "execute_result"
    }
   ],
   "source": [
    "좋아하는_메뉴들"
   ]
  },
  {
   "cell_type": "code",
   "execution_count": 57,
   "metadata": {},
   "outputs": [],
   "source": [
    "가장_좋아하는_메뉴 = 좋아하는_메뉴들[0]\n",
    "두번째로_좋아하는_메뉴 = 좋아하는_메뉴들[1]\n",
    "세번째로_좋아하는_메뉴 = 좋아하는_메뉴들[2]"
   ]
  },
  {
   "cell_type": "code",
   "execution_count": 69,
   "metadata": {},
   "outputs": [],
   "source": [
    "메뉴1, 메뉴2, 메뉴3 = 좋아하는_메뉴들[-3:]  # unpack"
   ]
  },
  {
   "cell_type": "code",
   "execution_count": 67,
   "metadata": {},
   "outputs": [],
   "source": [
    "# 이름 = \"이진석\"\n",
    "# 나이 = 10\n",
    "\n",
    "# 이름, 나이 = [\"이진석\", 10]\n",
    "\n",
    "# 이름, 나이 = \"이진석\", 10  # tuple\n",
    "# 이름, = \"이진석\", 10\n",
    "이름 = \"이진석\", 10"
   ]
  },
  {
   "cell_type": "code",
   "execution_count": 63,
   "metadata": {},
   "outputs": [
    {
     "data": {
      "text/plain": [
       "[]"
      ]
     },
     "execution_count": 63,
     "metadata": {},
     "output_type": "execute_result"
    }
   ],
   "source": [
    "메뉴들 = ['김치찌개']\n",
    "# 메뉴들[:3]\n",
    "메뉴들[10:]"
   ]
  },
  {
   "cell_type": "code",
   "execution_count": null,
   "metadata": {},
   "outputs": [],
   "source": []
  },
  {
   "cell_type": "code",
   "execution_count": 71,
   "metadata": {},
   "outputs": [
    {
     "name": "stdout",
     "output_type": "stream",
     "text": [
      "20 10\n"
     ]
    }
   ],
   "source": [
    "i = 10\n",
    "j = 20\n",
    "\n",
    "# temp = i\n",
    "# i = j\n",
    "# j = temp\n",
    "\n",
    "i, j = j, i\n",
    "\n",
    "print(i, j)"
   ]
  },
  {
   "cell_type": "code",
   "execution_count": null,
   "metadata": {},
   "outputs": [],
   "source": []
  },
  {
   "cell_type": "markdown",
   "metadata": {},
   "source": [
    "### 튜플"
   ]
  },
  {
   "cell_type": "code",
   "execution_count": 72,
   "metadata": {},
   "outputs": [
    {
     "name": "stdout",
     "output_type": "stream",
     "text": [
      "<class 'tuple'>\n"
     ]
    },
    {
     "data": {
      "text/plain": [
       "('김치찌개', '막걸리', '파전')"
      ]
     },
     "execution_count": 72,
     "metadata": {},
     "output_type": "execute_result"
    }
   ],
   "source": [
    "# 좋아하는_메뉴들 = ['김치찌개', '막걸리', '파전']  # 리스트\n",
    "좋아하는_메뉴들 = ('김치찌개', '막걸리', '파전')  # 튜플\n",
    "print(type(좋아하는_메뉴들))\n",
    "좋아하는_메뉴들"
   ]
  },
  {
   "cell_type": "code",
   "execution_count": 73,
   "metadata": {},
   "outputs": [
    {
     "ename": "AttributeError",
     "evalue": "'tuple' object has no attribute 'append'",
     "output_type": "error",
     "traceback": [
      "\u001b[0;31m---------------------------------------------------------------------------\u001b[0m",
      "\u001b[0;31mAttributeError\u001b[0m                            Traceback (most recent call last)",
      "\u001b[0;32m<ipython-input-73-74738fe4cea3>\u001b[0m in \u001b[0;36m<module>\u001b[0;34m()\u001b[0m\n\u001b[0;32m----> 1\u001b[0;31m \u001b[0m좋아하는_메뉴들\u001b[0m\u001b[0;34m.\u001b[0m\u001b[0mappend\u001b[0m\u001b[0;34m(\u001b[0m\u001b[0;34m'짬뽕'\u001b[0m\u001b[0;34m)\u001b[0m\u001b[0;34m\u001b[0m\u001b[0m\n\u001b[0m",
      "\u001b[0;31mAttributeError\u001b[0m: 'tuple' object has no attribute 'append'"
     ]
    }
   ],
   "source": [
    "좋아하는_메뉴들.append('짬뽕')"
   ]
  },
  {
   "cell_type": "code",
   "execution_count": 74,
   "metadata": {},
   "outputs": [
    {
     "data": {
      "text/plain": [
       "('김치찌개', '라면')"
      ]
     },
     "execution_count": 74,
     "metadata": {},
     "output_type": "execute_result"
    }
   ],
   "source": [
    "('김치찌개', '라면')"
   ]
  },
  {
   "cell_type": "code",
   "execution_count": 76,
   "metadata": {},
   "outputs": [
    {
     "data": {
      "text/plain": [
       "('김치찌개', '라면')"
      ]
     },
     "execution_count": 76,
     "metadata": {},
     "output_type": "execute_result"
    }
   ],
   "source": [
    "names = '김치찌개', '라면'\n",
    "names"
   ]
  },
  {
   "cell_type": "code",
   "execution_count": 77,
   "metadata": {},
   "outputs": [
    {
     "data": {
      "text/plain": [
       "['김치찌개', '라면']"
      ]
     },
     "execution_count": 77,
     "metadata": {},
     "output_type": "execute_result"
    }
   ],
   "source": [
    "list(names)"
   ]
  },
  {
   "cell_type": "markdown",
   "metadata": {},
   "source": [
    "### 집합"
   ]
  },
  {
   "cell_type": "code",
   "execution_count": 78,
   "metadata": {},
   "outputs": [
    {
     "data": {
      "text/plain": [
       "{'김치찌개', '꽁치', '라면', '파스타'}"
      ]
     },
     "execution_count": 78,
     "metadata": {},
     "output_type": "execute_result"
    }
   ],
   "source": [
    "철수가_좋아하는_메뉴 = {'김치찌개', '꽁치', '라면', '파스타', '꽁치'}\n",
    "철수가_좋아하는_메뉴"
   ]
  },
  {
   "cell_type": "code",
   "execution_count": 79,
   "metadata": {},
   "outputs": [
    {
     "data": {
      "text/plain": [
       "{'김치찌개', '레몬티', '신라면'}"
      ]
     },
     "execution_count": 79,
     "metadata": {},
     "output_type": "execute_result"
    }
   ],
   "source": [
    "영희가_좋아하는_메뉴 = {'신라면', '레몬티', '김치찌개'}\n",
    "영희가_좋아하는_메뉴"
   ]
  },
  {
   "cell_type": "code",
   "execution_count": 82,
   "metadata": {},
   "outputs": [
    {
     "data": {
      "text/plain": [
       "{'꽁치', '라면', '레몬티', '신라면', '파스타'}"
      ]
     },
     "execution_count": 82,
     "metadata": {},
     "output_type": "execute_result"
    }
   ],
   "source": [
    "철수가_좋아하는_메뉴 ^ 영희가_좋아하는_메뉴"
   ]
  },
  {
   "cell_type": "code",
   "execution_count": null,
   "metadata": {},
   "outputs": [],
   "source": []
  },
  {
   "cell_type": "code",
   "execution_count": 83,
   "metadata": {},
   "outputs": [
    {
     "data": {
      "text/plain": [
       "['김치찌개', '꽁치', '라면', '파스타', '꽁치']"
      ]
     },
     "execution_count": 83,
     "metadata": {},
     "output_type": "execute_result"
    }
   ],
   "source": [
    "철수가_좋아하는_메뉴 = ['김치찌개', '꽁치', '라면', '파스타', '꽁치']\n",
    "철수가_좋아하는_메뉴"
   ]
  },
  {
   "cell_type": "code",
   "execution_count": 86,
   "metadata": {},
   "outputs": [
    {
     "data": {
      "text/plain": [
       "['라면', '김치찌개', '파스타', '꽁치']"
      ]
     },
     "execution_count": 86,
     "metadata": {},
     "output_type": "execute_result"
    }
   ],
   "source": [
    "list(set(철수가_좋아하는_메뉴))  # 중복이 배제된 리스트"
   ]
  },
  {
   "cell_type": "markdown",
   "metadata": {},
   "source": [
    "### 사전"
   ]
  },
  {
   "cell_type": "code",
   "execution_count": 87,
   "metadata": {},
   "outputs": [],
   "source": [
    "철수_성적 = [100, 90, 80]  # 국, 영, 수 순서"
   ]
  },
  {
   "cell_type": "code",
   "execution_count": 88,
   "metadata": {},
   "outputs": [
    {
     "data": {
      "text/plain": [
       "{'국어': 100, '영어': 90, '수학': 80}"
      ]
     },
     "execution_count": 88,
     "metadata": {},
     "output_type": "execute_result"
    }
   ],
   "source": [
    "철수_성적 = {\n",
    "    \"국어\": 100,\n",
    "    \"영어\": 90,\n",
    "    \"수학\": 80,\n",
    "}\n",
    "철수_성적"
   ]
  },
  {
   "cell_type": "code",
   "execution_count": 89,
   "metadata": {},
   "outputs": [
    {
     "data": {
      "text/plain": [
       "100"
      ]
     },
     "execution_count": 89,
     "metadata": {},
     "output_type": "execute_result"
    }
   ],
   "source": [
    "철수_성적['국어']"
   ]
  },
  {
   "cell_type": "code",
   "execution_count": 90,
   "metadata": {},
   "outputs": [
    {
     "ename": "KeyError",
     "evalue": "'사회'",
     "output_type": "error",
     "traceback": [
      "\u001b[0;31m---------------------------------------------------------------------------\u001b[0m",
      "\u001b[0;31mKeyError\u001b[0m                                  Traceback (most recent call last)",
      "\u001b[0;32m<ipython-input-90-cd9f50e023af>\u001b[0m in \u001b[0;36m<module>\u001b[0;34m()\u001b[0m\n\u001b[0;32m----> 1\u001b[0;31m \u001b[0m철수_성적\u001b[0m\u001b[0;34m[\u001b[0m\u001b[0;34m'사회'\u001b[0m\u001b[0;34m]\u001b[0m\u001b[0;34m\u001b[0m\u001b[0m\n\u001b[0m",
      "\u001b[0;31mKeyError\u001b[0m: '사회'"
     ]
    }
   ],
   "source": [
    "철수_성적['사회']"
   ]
  },
  {
   "cell_type": "code",
   "execution_count": 92,
   "metadata": {},
   "outputs": [
    {
     "data": {
      "text/plain": [
       "{'국어': 100, '영어': 90, '수학': 80, '사회': 95}"
      ]
     },
     "execution_count": 92,
     "metadata": {},
     "output_type": "execute_result"
    }
   ],
   "source": [
    "철수_성적['사회'] = 95\n",
    "철수_성적"
   ]
  },
  {
   "cell_type": "code",
   "execution_count": 93,
   "metadata": {},
   "outputs": [
    {
     "data": {
      "text/plain": [
       "{'국어': 100, '영어': 90, '수학': 80, '사회': 90, '역사': 80, '과학': 85}"
      ]
     },
     "execution_count": 93,
     "metadata": {},
     "output_type": "execute_result"
    }
   ],
   "source": [
    "철수_성적.update({\n",
    "    '사회': 90,\n",
    "    '역사': 80,\n",
    "    '음악': 100,\n",
    "})\n",
    "철수_성적"
   ]
  },
  {
   "cell_type": "code",
   "execution_count": null,
   "metadata": {},
   "outputs": [],
   "source": []
  },
  {
   "cell_type": "code",
   "execution_count": 95,
   "metadata": {},
   "outputs": [
    {
     "data": {
      "text/plain": [
       "{'a': 1}"
      ]
     },
     "execution_count": 95,
     "metadata": {},
     "output_type": "execute_result"
    }
   ],
   "source": [
    "[]  #      => list()\n",
    "()  #      => tuple()\n",
    "{}  # dict => dict()\n",
    "            # set()\n",
    "{1, 2}  # set\n",
    "{'a': 1}  # dict"
   ]
  },
  {
   "cell_type": "code",
   "execution_count": null,
   "metadata": {},
   "outputs": [],
   "source": []
  },
  {
   "cell_type": "code",
   "execution_count": null,
   "metadata": {},
   "outputs": [],
   "source": [
    "i = 10\n",
    "\n",
    "# i = i + 10\n",
    "i += 10"
   ]
  },
  {
   "cell_type": "code",
   "execution_count": 97,
   "metadata": {},
   "outputs": [
    {
     "ename": "KeyError",
     "evalue": "'삐삐'",
     "output_type": "error",
     "traceback": [
      "\u001b[0;31m---------------------------------------------------------------------------\u001b[0m",
      "\u001b[0;31mKeyError\u001b[0m                                  Traceback (most recent call last)",
      "\u001b[0;32m<ipython-input-97-ba73b2fbcb25>\u001b[0m in \u001b[0;36m<module>\u001b[0;34m()\u001b[0m\n\u001b[1;32m      1\u001b[0m \u001b[0m좋아요_사전\u001b[0m \u001b[0;34m=\u001b[0m \u001b[0;34m{\u001b[0m\u001b[0;34m}\u001b[0m\u001b[0;34m\u001b[0m\u001b[0m\n\u001b[0;32m----> 2\u001b[0;31m \u001b[0m좋아요_사전\u001b[0m\u001b[0;34m[\u001b[0m\u001b[0;34m'삐삐'\u001b[0m\u001b[0;34m]\u001b[0m \u001b[0;34m+=\u001b[0m \u001b[0;36m10000\u001b[0m\u001b[0;34m\u001b[0m\u001b[0m\n\u001b[0m",
      "\u001b[0;31mKeyError\u001b[0m: '삐삐'"
     ]
    }
   ],
   "source": [
    "좋아요_사전 = {}\n",
    "좋아요_사전['삐삐'] += 10000"
   ]
  },
  {
   "cell_type": "code",
   "execution_count": 98,
   "metadata": {},
   "outputs": [
    {
     "data": {
      "text/plain": [
       "{'삐삐': 10000}"
      ]
     },
     "execution_count": 98,
     "metadata": {},
     "output_type": "execute_result"
    }
   ],
   "source": [
    "좋아요_사전 = {'삐삐': 0}\n",
    "좋아요_사전['삐삐'] += 10000\n",
    "좋아요_사전"
   ]
  },
  {
   "cell_type": "code",
   "execution_count": 99,
   "metadata": {},
   "outputs": [],
   "source": [
    "철수_성적 = {\n",
    "    \"국어\": 100,\n",
    "    \"영어\": 90,\n",
    "    \"수학\": 80,\n",
    "}"
   ]
  },
  {
   "cell_type": "code",
   "execution_count": 101,
   "metadata": {},
   "outputs": [
    {
     "data": {
      "text/plain": [
       "{'국어': 100, '영어': 90}"
      ]
     },
     "execution_count": 101,
     "metadata": {},
     "output_type": "execute_result"
    }
   ],
   "source": [
    "del 철수_성적['수학']\n",
    "철수_성적"
   ]
  },
  {
   "cell_type": "code",
   "execution_count": null,
   "metadata": {},
   "outputs": [],
   "source": []
  },
  {
   "cell_type": "code",
   "execution_count": 110,
   "metadata": {},
   "outputs": [
    {
     "data": {
      "text/plain": [
       "[OrderedDict([('곡일련번호', '31346009'),\n",
       "              ('순위', '1'),\n",
       "              ('앨범', '삐삐'),\n",
       "              ('곡명', '삐삐'),\n",
       "              ('가수', '아이유'),\n",
       "              ('커버이미지_주소',\n",
       "               'https://cdnimg.melon.co.kr/cm/album/images/102/10/535/10210535_500.jpg/melon/resize/120/quality/80/optimize'),\n",
       "              ('좋아요', '61528')]),\n",
       " OrderedDict([('곡일련번호', '31344113'),\n",
       "              ('순위', '2'),\n",
       "              ('앨범', '시간이 들겠지'),\n",
       "              ('곡명', '시간이 들겠지 (Feat. Colde)'),\n",
       "              ('가수', '로꼬'),\n",
       "              ('커버이미지_주소',\n",
       "               'https://cdnimg.melon.co.kr/cm/album/images/102/10/198/10210198_500.jpg/melon/resize/120/quality/80/optimize'),\n",
       "              ('좋아요', '48331')]),\n",
       " OrderedDict([('곡일련번호', '31340985'),\n",
       "              ('순위', '3'),\n",
       "              ('앨범', '쇼미더머니 777 Episode 1'),\n",
       "              ('곡명', 'Good Day (Feat. 팔로알토) (Prod. 코드 쿤스트)'),\n",
       "              ('가수', 'pH-1'),\n",
       "              ('커버이미지_주소',\n",
       "               'https://cdnimg.melon.co.kr/cm/album/images/102/09/647/10209647_500.jpg/melon/resize/120/quality/80/optimize'),\n",
       "              ('좋아요', '54022')]),\n",
       " OrderedDict([('곡일련번호', '31316695'),\n",
       "              ('순위', '4'),\n",
       "              ('앨범', '하루도 그대를 사랑하지 않은 적이 없었다'),\n",
       "              ('곡명', '하루도 그대를 사랑하지 않은 적이 없었다'),\n",
       "              ('가수', '임창정'),\n",
       "              ('커버이미지_주소',\n",
       "               'https://cdnimg.melon.co.kr/cm/album/images/102/05/805/10205805_500.jpg/melon/resize/120/quality/80/optimize'),\n",
       "              ('좋아요', '97984')]),\n",
       " OrderedDict([('곡일련번호', '31266290'),\n",
       "              ('순위', '5'),\n",
       "              ('앨범', 'LOVE YOURSELF 結 `Answer`'),\n",
       "              ('곡명', 'IDOL'),\n",
       "              ('가수', '방탄소년단'),\n",
       "              ('커버이미지_주소',\n",
       "               'https://cdnimg.melon.co.kr/cm/album/images/101/97/480/10197480_500.jpg/melon/resize/120/quality/80/optimize'),\n",
       "              ('좋아요', '173279')]),\n",
       " OrderedDict([('곡일련번호', '31331745'),\n",
       "              ('순위', '6'),\n",
       "              ('앨범', 'NEW KIDS : THE FINAL'),\n",
       "              ('곡명', '이별길 (GOODBYE ROAD)'),\n",
       "              ('가수', 'iKON'),\n",
       "              ('커버이미지_주소',\n",
       "               'https://cdnimg.melon.co.kr/cm/album/images/102/08/358/10208358_500.jpg/melon/resize/120/quality/80/optimize'),\n",
       "              ('좋아요', '55396')]),\n",
       " OrderedDict([('곡일련번호', '31340982'),\n",
       "              ('순위', '7'),\n",
       "              ('앨범', '쇼미더머니 777 Episode 1'),\n",
       "              ('곡명', '사임사임 (Feat. CHANGMO)'),\n",
       "              ('가수', 'Coogie'),\n",
       "              ('커버이미지_주소',\n",
       "               'https://cdnimg.melon.co.kr/cm/album/images/102/09/647/10209647_500.jpg/melon/resize/120/quality/80/optimize'),\n",
       "              ('좋아요', '27564')]),\n",
       " OrderedDict([('곡일련번호', '31266289'),\n",
       "              ('순위', '8'),\n",
       "              ('앨범', 'LOVE YOURSELF 結 `Answer`'),\n",
       "              ('곡명', 'I`m Fine'),\n",
       "              ('가수', '방탄소년단'),\n",
       "              ('커버이미지_주소',\n",
       "               'https://cdnimg.melon.co.kr/cm/album/images/101/97/480/10197480_500.jpg/melon/resize/120/quality/80/optimize'),\n",
       "              ('좋아요', '132847')]),\n",
       " OrderedDict([('곡일련번호', '31314142'),\n",
       "              ('순위', '9'),\n",
       "              ('앨범', '우리 그만하자'),\n",
       "              ('곡명', '우리 그만하자'),\n",
       "              ('가수', '로이킴'),\n",
       "              ('커버이미지_주소',\n",
       "               'https://cdnimg.melon.co.kr/cm/album/images/102/05/438/10205438_500.jpg/melon/resize/120/quality/80/optimize'),\n",
       "              ('좋아요', '95771')]),\n",
       " OrderedDict([('곡일련번호', '31085237'),\n",
       "              ('순위', '10'),\n",
       "              ('앨범', 'LOVE YOURSELF 轉 `Tear`'),\n",
       "              ('곡명', 'FAKE LOVE'),\n",
       "              ('가수', '방탄소년단'),\n",
       "              ('커버이미지_주소',\n",
       "               'https://cdnimg.melon.co.kr/cm/album/images/101/68/559/10168559_500.jpg/melon/resize/120/quality/80/optimize'),\n",
       "              ('좋아요', '253847')]),\n",
       " OrderedDict([('곡일련번호', '31314144'),\n",
       "              ('순위', '11'),\n",
       "              ('앨범', '가을 타나 봐'),\n",
       "              ('곡명', '가을 타나 봐'),\n",
       "              ('가수', '바이브'),\n",
       "              ('커버이미지_주소',\n",
       "               'https://cdnimg.melon.co.kr/cm/album/images/102/05/439/10205439_500.jpg/melon/resize/120/quality/80/optimize'),\n",
       "              ('좋아요', '28056')]),\n",
       " OrderedDict([('곡일련번호', '31266282'),\n",
       "              ('순위', '12'),\n",
       "              ('앨범', 'LOVE YOURSELF 結 `Answer`'),\n",
       "              ('곡명', 'Euphoria'),\n",
       "              ('가수', '방탄소년단'),\n",
       "              ('커버이미지_주소',\n",
       "               'https://cdnimg.melon.co.kr/cm/album/images/101/97/480/10197480_500.jpg/melon/resize/120/quality/80/optimize'),\n",
       "              ('좋아요', '129017')]),\n",
       " OrderedDict([('곡일련번호', '31302310'),\n",
       "              ('순위', '13'),\n",
       "              ('앨범', '헤어지는 중'),\n",
       "              ('곡명', '헤어지는 중'),\n",
       "              ('가수', '펀치 (Punch)'),\n",
       "              ('커버이미지_주소',\n",
       "               'https://cdnimg.melon.co.kr/cm/album/images/102/03/500/10203500_500.jpg/melon/resize/120/quality/80/optimize'),\n",
       "              ('좋아요', '77050')]),\n",
       " OrderedDict([('곡일련번호', '31266291'),\n",
       "              ('순위', '14'),\n",
       "              ('앨범', 'LOVE YOURSELF 結 `Answer`'),\n",
       "              ('곡명', 'Answer : Love Myself'),\n",
       "              ('가수', '방탄소년단'),\n",
       "              ('커버이미지_주소',\n",
       "               'https://cdnimg.melon.co.kr/cm/album/images/101/97/480/10197480_500.jpg/melon/resize/120/quality/80/optimize'),\n",
       "              ('좋아요', '108151')]),\n",
       " OrderedDict([('곡일련번호', '31085238'),\n",
       "              ('순위', '15'),\n",
       "              ('앨범', 'LOVE YOURSELF 轉 `Tear`'),\n",
       "              ('곡명', '전하지 못한 진심 (Feat. Steve Aoki)'),\n",
       "              ('가수', '방탄소년단'),\n",
       "              ('커버이미지_주소',\n",
       "               'https://cdnimg.melon.co.kr/cm/album/images/101/68/559/10168559_500.jpg/melon/resize/120/quality/80/optimize'),\n",
       "              ('좋아요', '176653')]),\n",
       " OrderedDict([('곡일련번호', '31266288'),\n",
       "              ('순위', '16'),\n",
       "              ('앨범', 'LOVE YOURSELF 結 `Answer`'),\n",
       "              ('곡명', 'Epiphany'),\n",
       "              ('가수', '방탄소년단'),\n",
       "              ('커버이미지_주소',\n",
       "               'https://cdnimg.melon.co.kr/cm/album/images/101/97/480/10197480_500.jpg/melon/resize/120/quality/80/optimize'),\n",
       "              ('좋아요', '101011')]),\n",
       " OrderedDict([('곡일련번호', '31266286'),\n",
       "              ('순위', '17'),\n",
       "              ('앨범', 'LOVE YOURSELF 結 `Answer`'),\n",
       "              ('곡명', 'Trivia 轉 : Seesaw'),\n",
       "              ('가수', '방탄소년단'),\n",
       "              ('커버이미지_주소',\n",
       "               'https://cdnimg.melon.co.kr/cm/album/images/101/97/480/10197480_500.jpg/melon/resize/120/quality/80/optimize'),\n",
       "              ('좋아요', '98436')]),\n",
       " OrderedDict([('곡일련번호', '30962526'),\n",
       "              ('순위', '18'),\n",
       "              ('앨범', '`키스 먼저 할까요?` OST Part.3'),\n",
       "              ('곡명', '모든 날, 모든 순간 (Every day, Every Moment)'),\n",
       "              ('가수', '폴킴'),\n",
       "              ('커버이미지_주소',\n",
       "               'https://cdnimg.melon.co.kr/cm/album/images/101/49/492/10149492_500.jpg/melon/resize/120/quality/80/optimize'),\n",
       "              ('좋아요', '185706')]),\n",
       " OrderedDict([('곡일련번호', '31280273'),\n",
       "              ('순위', '19'),\n",
       "              ('앨범', 'YOUNG'),\n",
       "              ('곡명', 'YOUNG'),\n",
       "              ('가수', '백현 (BAEKHYUN)'),\n",
       "              ('커버이미지_주소',\n",
       "               'https://cdnimg.melon.co.kr/cm/album/images/101/99/959/10199959_500.jpg/melon/resize/120/quality/80/optimize'),\n",
       "              ('좋아요', '91106')]),\n",
       " OrderedDict([('곡일련번호', '31266292'),\n",
       "              ('순위', '20'),\n",
       "              ('앨범', 'LOVE YOURSELF 結 `Answer`'),\n",
       "              ('곡명', 'Trivia 起 : Just Dance'),\n",
       "              ('가수', '방탄소년단'),\n",
       "              ('커버이미지_주소',\n",
       "               'https://cdnimg.melon.co.kr/cm/album/images/101/97/480/10197480_500.jpg/melon/resize/120/quality/80/optimize'),\n",
       "              ('좋아요', '88970')]),\n",
       " OrderedDict([('곡일련번호', '31286161'),\n",
       "              ('순위', '21'),\n",
       "              ('앨범', 'WARNING'),\n",
       "              ('곡명', '사이렌 (Siren)'),\n",
       "              ('가수', '선미'),\n",
       "              ('커버이미지_주소',\n",
       "               'https://cdnimg.melon.co.kr/cm/album/images/102/00/838/10200838_500.jpg/melon/resize/120/quality/80/optimize'),\n",
       "              ('좋아요', '91516')]),\n",
       " OrderedDict([('곡일련번호', '31266300'),\n",
       "              ('순위', '22'),\n",
       "              ('앨범', 'LOVE YOURSELF 結 `Answer`'),\n",
       "              ('곡명', 'Trivia 承 : Love'),\n",
       "              ('가수', '방탄소년단'),\n",
       "              ('커버이미지_주소',\n",
       "               'https://cdnimg.melon.co.kr/cm/album/images/101/97/480/10197480_500.jpg/melon/resize/120/quality/80/optimize'),\n",
       "              ('좋아요', '83610')]),\n",
       " OrderedDict([('곡일련번호', '31062863'),\n",
       "              ('순위', '23'),\n",
       "              ('앨범', 'RECIPE'),\n",
       "              ('곡명', '열애중'),\n",
       "              ('가수', '벤'),\n",
       "              ('커버이미지_주소',\n",
       "               'https://cdnimg.melon.co.kr/cm/album/images/101/64/839/10164839_500.jpg/melon/resize/120/quality/80/optimize'),\n",
       "              ('좋아요', '115805')]),\n",
       " OrderedDict([('곡일련번호', '31151836'),\n",
       "              ('순위', '24'),\n",
       "              ('앨범', 'Take'),\n",
       "              ('곡명', 'Way Back Home'),\n",
       "              ('가수', '숀 (SHAUN)'),\n",
       "              ('커버이미지_주소',\n",
       "               'https://cdnimg.melon.co.kr/cm/album/images/101/79/508/10179508_500.jpg/melon/resize/120/quality/80/optimize'),\n",
       "              ('좋아요', '225308')]),\n",
       " OrderedDict([('곡일련번호', '31085244'),\n",
       "              ('순위', '25'),\n",
       "              ('앨범', 'LOVE YOURSELF 轉 `Tear`'),\n",
       "              ('곡명', 'Anpanman'),\n",
       "              ('가수', '방탄소년단'),\n",
       "              ('커버이미지_주소',\n",
       "               'https://cdnimg.melon.co.kr/cm/album/images/101/68/559/10168559_500.jpg/melon/resize/120/quality/80/optimize'),\n",
       "              ('좋아요', '138694')]),\n",
       " OrderedDict([('곡일련번호', '30244931'),\n",
       "              ('순위', '26'),\n",
       "              ('앨범', 'YOU NEVER WALK ALONE'),\n",
       "              ('곡명', '봄날'),\n",
       "              ('가수', '방탄소년단'),\n",
       "              ('커버이미지_주소',\n",
       "               'https://cdnimg.melon.co.kr/cm/album/images/100/37/969/10037969_500.jpg/melon/resize/120/quality/80/optimize'),\n",
       "              ('좋아요', '359130')]),\n",
       " OrderedDict([('곡일련번호', '30637982'),\n",
       "              ('순위', '27'),\n",
       "              ('앨범', 'LOVE YOURSELF 承 `Her`'),\n",
       "              ('곡명', 'DNA'),\n",
       "              ('가수', '방탄소년단'),\n",
       "              ('커버이미지_주소',\n",
       "               'https://cdnimg.melon.co.kr/cm/album/images/100/97/112/10097112_500.jpg/melon/resize/120/quality/80/optimize'),\n",
       "              ('좋아요', '323911')]),\n",
       " OrderedDict([('곡일련번호', '31085243'),\n",
       "              ('순위', '28'),\n",
       "              ('앨범', 'LOVE YOURSELF 轉 `Tear`'),\n",
       "              ('곡명', 'Airplane pt.2'),\n",
       "              ('가수', '방탄소년단'),\n",
       "              ('커버이미지_주소',\n",
       "               'https://cdnimg.melon.co.kr/cm/album/images/101/68/559/10168559_500.jpg/melon/resize/120/quality/80/optimize'),\n",
       "              ('좋아요', '127355')]),\n",
       " OrderedDict([('곡일련번호', '30806536'),\n",
       "              ('순위', '29'),\n",
       "              ('앨범', 'Universe - 겨울 스페셜 앨범, 2017'),\n",
       "              ('곡명', 'Universe'),\n",
       "              ('가수', 'EXO'),\n",
       "              ('커버이미지_주소',\n",
       "               'https://cdnimg.melon.co.kr/cm/album/images/101/22/917/10122917_500.jpg/melon/resize/120/quality/80/optimize'),\n",
       "              ('좋아요', '155809')]),\n",
       " OrderedDict([('곡일련번호', '31309079'),\n",
       "              ('순위', '30'),\n",
       "              ('앨범', 'We Young'),\n",
       "              ('곡명', 'We Young'),\n",
       "              ('가수', '찬열'),\n",
       "              ('커버이미지_주소',\n",
       "               'https://cdnimg.melon.co.kr/cm/album/images/102/04/604/10204604_500.jpg/melon/resize/120/quality/80/optimize'),\n",
       "              ('좋아요', '53852')]),\n",
       " OrderedDict([('곡일련번호', '31219546'),\n",
       "              ('순위', '31'),\n",
       "              ('앨범', 'Dingo X Indigo Music'),\n",
       "              ('곡명', 'flex (Prod. By 기리보이)'),\n",
       "              ('가수', '기리보이'),\n",
       "              ('커버이미지_주소',\n",
       "               'https://cdnimg.melon.co.kr/cm/album/images/101/89/965/10189965_500.jpg/melon/resize/120/quality/80/optimize'),\n",
       "              ('좋아요', '72135')]),\n",
       " OrderedDict([('곡일련번호', '31009483'),\n",
       "              ('순위', '32'),\n",
       "              ('앨범', 'Blooming Days - The 2nd Mini Album'),\n",
       "              ('곡명', '花요일 (Blooming Day)'),\n",
       "              ('가수', 'EXO-CBX (첸백시)'),\n",
       "              ('커버이미지_주소',\n",
       "               'https://cdnimg.melon.co.kr/cm/album/images/101/56/597/10156597_500.jpg/melon/resize/120/quality/80/optimize'),\n",
       "              ('좋아요', '110311')]),\n",
       " OrderedDict([('곡일련번호', '31144690'),\n",
       "              ('순위', '33'),\n",
       "              ('앨범', 'IM'),\n",
       "              ('곡명', 'IndiGO'),\n",
       "              ('가수', '저스디스 (JUSTHIS)'),\n",
       "              ('커버이미지_주소',\n",
       "               'https://cdnimg.melon.co.kr/cm/album/images/101/78/566/10178566_500.jpg/melon/resize/120/quality/80/optimize'),\n",
       "              ('좋아요', '46739')]),\n",
       " OrderedDict([('곡일련번호', '31278454'),\n",
       "              ('순위', '34'),\n",
       "              ('앨범', 'Sheep (Alan Walker Relift)'),\n",
       "              ('곡명', 'Sheep (Alan Walker Relift)'),\n",
       "              ('가수', '레이 (LAY)'),\n",
       "              ('커버이미지_주소',\n",
       "               'https://cdnimg.melon.co.kr/cm/album/images/101/99/693/10199693_500.jpg/melon/resize/120/quality/80/optimize'),\n",
       "              ('좋아요', '30411')]),\n",
       " OrderedDict([('곡일련번호', '31131273'),\n",
       "              ('순위', '35'),\n",
       "              ('앨범', 'SQUARE UP'),\n",
       "              ('곡명', '뚜두뚜두 (DDU-DU DDU-DU)'),\n",
       "              ('가수', 'BLACKPINK'),\n",
       "              ('커버이미지_주소',\n",
       "               'https://cdnimg.melon.co.kr/cm/album/images/101/76/415/10176415_500.jpg/melon/resize/120/quality/80/optimize'),\n",
       "              ('좋아요', '192831')]),\n",
       " OrderedDict([('곡일련번호', '30699142'),\n",
       "              ('순위', '36'),\n",
       "              ('앨범', 'About You'),\n",
       "              ('곡명', '지나오다'),\n",
       "              ('가수', '닐로 (Nilo)'),\n",
       "              ('커버이미지_주소',\n",
       "               'https://cdnimg.melon.co.kr/cm/album/images/101/06/853/10106853_500.jpg/melon/resize/120/quality/80/optimize'),\n",
       "              ('좋아요', '178367')]),\n",
       " OrderedDict([('곡일련번호', '31175119'),\n",
       "              ('순위', '37'),\n",
       "              ('앨범', 'Summer Nights'),\n",
       "              ('곡명', 'Dance The Night Away'),\n",
       "              ('가수', 'TWICE (트와이스)'),\n",
       "              ('커버이미지_주소',\n",
       "               'https://cdnimg.melon.co.kr/cm/album/images/101/83/127/10183127_500.jpg/melon/resize/120/quality/80/optimize'),\n",
       "              ('좋아요', '127052')]),\n",
       " OrderedDict([('곡일련번호', '31331750'),\n",
       "              ('순위', '38'),\n",
       "              ('앨범', 'r'),\n",
       "              ('곡명', '나'),\n",
       "              ('가수', '박원'),\n",
       "              ('커버이미지_주소',\n",
       "               'https://cdnimg.melon.co.kr/cm/album/images/102/08/360/10208360_500.jpg/melon/resize/120/quality/80/optimize'),\n",
       "              ('좋아요', '26696')]),\n",
       " OrderedDict([('곡일련번호', '31113240'),\n",
       "              ('순위', '39'),\n",
       "              ('앨범', '1÷χ=1 (UNDIVIDED)'),\n",
       "              ('곡명', '켜줘 (Light)'),\n",
       "              ('가수', 'Wanna One (워너원)'),\n",
       "              ('커버이미지_주소',\n",
       "               'https://cdnimg.melon.co.kr/cm/album/images/101/73/365/10173365_500.jpg/melon/resize/120/quality/80/optimize'),\n",
       "              ('좋아요', '112878')]),\n",
       " OrderedDict([('곡일련번호', '31230093'),\n",
       "              ('순위', '40'),\n",
       "              ('앨범', 'Summer Magic - Summer Mini Album'),\n",
       "              ('곡명', 'Power Up'),\n",
       "              ('가수', 'Red Velvet (레드벨벳)'),\n",
       "              ('커버이미지_주소',\n",
       "               'https://cdnimg.melon.co.kr/cm/album/images/101/91/694/10191694_500.jpg/melon/resize/120/quality/80/optimize'),\n",
       "              ('좋아요', '130949')]),\n",
       " OrderedDict([('곡일련번호', '30568338'),\n",
       "              ('순위', '41'),\n",
       "              ('앨범', '1X1=1(TO BE ONE)'),\n",
       "              ('곡명', '에너제틱 (Energetic)'),\n",
       "              ('가수', 'Wanna One (워너원)'),\n",
       "              ('커버이미지_주소',\n",
       "               'https://cdnimg.melon.co.kr/cm/album/images/100/85/951/10085951_500.jpg/melon/resize/120/quality/80/optimize'),\n",
       "              ('좋아요', '268394')]),\n",
       " OrderedDict([('곡일련번호', '30859584'),\n",
       "              ('순위', '42'),\n",
       "              ('앨범', 'Return'),\n",
       "              ('곡명', '사랑을 했다 (LOVE SCENARIO)'),\n",
       "              ('가수', 'iKON'),\n",
       "              ('커버이미지_주소',\n",
       "               'https://cdnimg.melon.co.kr/cm/album/images/101/32/945/10132945_500.jpg/melon/resize/120/quality/80/optimize'),\n",
       "              ('좋아요', '267692')]),\n",
       " OrderedDict([('곡일련번호', '31304766'),\n",
       "              ('순위', '43'),\n",
       "              ('앨범', '이별하러 가는 길'),\n",
       "              ('곡명', '이별하러 가는 길'),\n",
       "              ('가수', '임한별'),\n",
       "              ('커버이미지_주소',\n",
       "               'https://cdnimg.melon.co.kr/cm/album/images/102/03/965/10203965_500.jpg/melon/resize/120/quality/80/optimize'),\n",
       "              ('좋아요', '25182')]),\n",
       " OrderedDict([('곡일련번호', '30960341'),\n",
       "              ('순위', '44'),\n",
       "              ('앨범', '0+1=1 (I PROMISE YOU)'),\n",
       "              ('곡명', 'BOOMERANG (부메랑)'),\n",
       "              ('가수', 'Wanna One (워너원)'),\n",
       "              ('커버이미지_주소',\n",
       "               'https://cdnimg.melon.co.kr/cm/album/images/101/44/723/10144723_2_500.jpg/melon/resize/120/quality/80/optimize'),\n",
       "              ('좋아요', '124968')]),\n",
       " OrderedDict([('곡일련번호', '30725482'),\n",
       "              ('순위', '45'),\n",
       "              ('앨범', '1-1=0 (NOTHING WITHOUT YOU)'),\n",
       "              ('곡명', 'Beautiful'),\n",
       "              ('가수', 'Wanna One (워너원)'),\n",
       "              ('커버이미지_주소',\n",
       "               'https://cdnimg.melon.co.kr/cm/album/images/101/11/029/10111029_500.jpg/melon/resize/120/quality/80/optimize'),\n",
       "              ('좋아요', '216065')]),\n",
       " OrderedDict([('곡일련번호', '31093710'),\n",
       "              ('순위', '46'),\n",
       "              ('앨범', 'Red Diary Page.2'),\n",
       "              ('곡명', '여행'),\n",
       "              ('가수', '볼빨간사춘기'),\n",
       "              ('커버이미지_주소',\n",
       "               'https://cdnimg.melon.co.kr/cm/album/images/101/70/069/10170069_500.jpg/melon/resize/120/quality/80/optimize'),\n",
       "              ('좋아요', '190489')]),\n",
       " OrderedDict([('곡일련번호', '31113241'),\n",
       "              ('순위', '47'),\n",
       "              ('앨범', '1÷χ=1 (UNDIVIDED)'),\n",
       "              ('곡명', '캥거루 (Kangaroo) (Prod. ZICO)'),\n",
       "              ('가수', 'Wanna One (워너원) - 트리플포지션'),\n",
       "              ('커버이미지_주소',\n",
       "               'https://cdnimg.melon.co.kr/cm/album/images/101/73/365/10173365_500.jpg/melon/resize/120/quality/80/optimize'),\n",
       "              ('좋아요', '104852')]),\n",
       " OrderedDict([('곡일련번호', '31189241'),\n",
       "              ('순위', '48'),\n",
       "              ('앨범', 'RED MOON'),\n",
       "              ('곡명', '너나 해 (Egotistic)'),\n",
       "              ('가수', '마마무(Mamamoo)'),\n",
       "              ('커버이미지_주소',\n",
       "               'https://cdnimg.melon.co.kr/cm/album/images/101/85/416/10185416_500.jpg/melon/resize/120/quality/80/optimize'),\n",
       "              ('좋아요', '94861')]),\n",
       " OrderedDict([('곡일련번호', '30884950'),\n",
       "              ('순위', '49'),\n",
       "              ('앨범', '그때 헤어지면 돼'),\n",
       "              ('곡명', '그때 헤어지면 돼'),\n",
       "              ('가수', '로이킴'),\n",
       "              ('커버이미지_주소',\n",
       "               'https://cdnimg.melon.co.kr/cm/album/images/101/37/574/10137574_500.jpg/melon/resize/120/quality/80/optimize'),\n",
       "              ('좋아요', '176025')]),\n",
       " OrderedDict([('곡일련번호', '30809895'),\n",
       "              ('순위', '50'),\n",
       "              ('앨범', 'inside'),\n",
       "              ('곡명', '미안해'),\n",
       "              ('가수', '양다일'),\n",
       "              ('커버이미지_주소',\n",
       "               'https://cdnimg.melon.co.kr/cm/album/images/101/23/639/10123639_500.jpg/melon/resize/120/quality/80/optimize'),\n",
       "              ('좋아요', '115955')]),\n",
       " OrderedDict([('곡일련번호', '31224316'),\n",
       "              ('순위', '51'),\n",
       "              ('앨범', 'NEW KIDS : CONTINUE'),\n",
       "              ('곡명', '죽겠다 (KILLING ME)'),\n",
       "              ('가수', 'iKON'),\n",
       "              ('커버이미지_주소',\n",
       "               'https://cdnimg.melon.co.kr/cm/album/images/101/90/854/10190854_500.jpg/melon/resize/120/quality/80/optimize'),\n",
       "              ('좋아요', '66253')]),\n",
       " OrderedDict([('곡일련번호', '8235260'),\n",
       "              ('순위', '52'),\n",
       "              ('앨범', '비'),\n",
       "              ('곡명', '비'),\n",
       "              ('가수', '폴킴'),\n",
       "              ('커버이미지_주소',\n",
       "               'https://cdnimg.melon.co.kr/cm/album/images/026/92/501/2692501_500.jpg/melon/resize/120/quality/80/optimize'),\n",
       "              ('좋아요', '156761')]),\n",
       " OrderedDict([('곡일련번호', '30669593'),\n",
       "              ('순위', '53'),\n",
       "              ('앨범', '가을 안부'),\n",
       "              ('곡명', '가을 안부'),\n",
       "              ('가수', '먼데이 키즈 (Monday Kiz)'),\n",
       "              ('커버이미지_주소',\n",
       "               'https://cdnimg.melon.co.kr/cm/album/images/101/02/177/10102177_500.jpg/melon/resize/120/quality/80/optimize'),\n",
       "              ('좋아요', '109447')]),\n",
       " OrderedDict([('곡일련번호', '31133898'),\n",
       "              ('순위', '54'),\n",
       "              ('앨범', 'THIS IS US'),\n",
       "              ('곡명', '너 없인 안 된다'),\n",
       "              ('가수', '비투비'),\n",
       "              ('커버이미지_주소',\n",
       "               'https://cdnimg.melon.co.kr/cm/album/images/101/75/106/10175106_500.jpg/melon/resize/120/quality/80/optimize'),\n",
       "              ('좋아요', '132726')]),\n",
       " OrderedDict([('곡일련번호', '31346039'),\n",
       "              ('순위', '55'),\n",
       "              ('앨범', 'ABOUT ME'),\n",
       "              ('곡명', 'Not A Love'),\n",
       "              ('가수', '바이브'),\n",
       "              ('커버이미지_주소',\n",
       "               'https://cdnimg.melon.co.kr/cm/album/images/102/10/541/10210541_500.jpg/melon/resize/120/quality/80/optimize'),\n",
       "              ('좋아요', '2508')]),\n",
       " OrderedDict([('곡일련번호', '31164090'),\n",
       "              ('순위', '56'),\n",
       "              ('앨범', 'The Fairy Tale'),\n",
       "              ('곡명', '동화'),\n",
       "              ('가수', '멜로망스'),\n",
       "              ('커버이미지_주소',\n",
       "               'https://cdnimg.melon.co.kr/cm/album/images/101/81/438/10181438_500.jpg/melon/resize/120/quality/80/optimize'),\n",
       "              ('좋아요', '81522')]),\n",
       " OrderedDict([('곡일련번호', '31199873'),\n",
       "              ('순위', '57'),\n",
       "              ('앨범', 'THE GREAT SEUNGRI'),\n",
       "              ('곡명', '셋 셀테니 (1, 2, 3!)'),\n",
       "              ('가수', '승리'),\n",
       "              ('커버이미지_주소',\n",
       "               'https://cdnimg.melon.co.kr/cm/album/images/101/87/129/10187129_500.jpg/melon/resize/120/quality/80/optimize'),\n",
       "              ('좋아요', '78381')]),\n",
       " OrderedDict([('곡일련번호', '31161280'),\n",
       "              ('순위', '58'),\n",
       "              ('앨범', 'ONE & SIX'),\n",
       "              ('곡명', '1도 없어'),\n",
       "              ('가수', 'Apink (에이핑크)'),\n",
       "              ('커버이미지_주소',\n",
       "               'https://cdnimg.melon.co.kr/cm/album/images/101/81/013/10181013_500.jpg/melon/resize/120/quality/80/optimize'),\n",
       "              ('좋아요', '88037')]),\n",
       " OrderedDict([('곡일련번호', '30314784'),\n",
       "              ('순위', '59'),\n",
       "              ('앨범', '밤편지'),\n",
       "              ('곡명', '밤편지'),\n",
       "              ('가수', '아이유'),\n",
       "              ('커버이미지_주소',\n",
       "               'https://cdnimg.melon.co.kr/cm/album/images/100/47/890/10047890_500.jpg/melon/resize/120/quality/80/optimize'),\n",
       "              ('좋아요', '283167')]),\n",
       " OrderedDict([('곡일련번호', '31215747'),\n",
       "              ('순위', '60'),\n",
       "              ('앨범', 'SoulMate'),\n",
       "              ('곡명', 'SoulMate (Feat. 아이유)'),\n",
       "              ('가수', '지코 (ZICO)'),\n",
       "              ('커버이미지_주소',\n",
       "               'https://cdnimg.melon.co.kr/cm/album/images/101/89/402/10189402_500.jpg/melon/resize/120/quality/80/optimize'),\n",
       "              ('좋아요', '113443')]),\n",
       " OrderedDict([('곡일련번호', '31189085'),\n",
       "              ('순위', '61'),\n",
       "              ('앨범', 'SEVENTEEN 5TH MINI ALBUM `YOU MAKE MY DAY`'),\n",
       "              ('곡명', '어쩌나'),\n",
       "              ('가수', '세븐틴'),\n",
       "              ('커버이미지_주소',\n",
       "               'https://cdnimg.melon.co.kr/cm/album/images/101/85/387/10185387_500.jpg/melon/resize/120/quality/80/optimize'),\n",
       "              ('좋아요', '64770')]),\n",
       " OrderedDict([('곡일련번호', '31244486'),\n",
       "              ('순위', '62'),\n",
       "              ('앨범', 'A-TEEN Part.3'),\n",
       "              ('곡명', 'A-TEEN'),\n",
       "              ('가수', '세븐틴'),\n",
       "              ('커버이미지_주소',\n",
       "               'https://cdnimg.melon.co.kr/cm/album/images/101/94/044/10194044_500.jpg/melon/resize/120/quality/80/optimize'),\n",
       "              ('좋아요', '75932')]),\n",
       " OrderedDict([('곡일련번호', '30755375'),\n",
       "              ('순위', '63'),\n",
       "              ('앨범', '그날처럼'),\n",
       "              ('곡명', '그날처럼'),\n",
       "              ('가수', '장덕철'),\n",
       "              ('커버이미지_주소',\n",
       "               'https://cdnimg.melon.co.kr/cm/album/images/101/15/186/10115186_500.jpg/melon/resize/120/quality/80/optimize'),\n",
       "              ('좋아요', '208427')]),\n",
       " OrderedDict([('곡일련번호', '31113243'),\n",
       "              ('순위', '64'),\n",
       "              ('앨범', '1÷χ=1 (UNDIVIDED)'),\n",
       "              ('곡명', '모래시계 (Prod. 헤이즈)'),\n",
       "              ('가수', 'Wanna One (워너원) - 더힐'),\n",
       "              ('커버이미지_주소',\n",
       "               'https://cdnimg.melon.co.kr/cm/album/images/101/73/365/10173365_500.jpg/melon/resize/120/quality/80/optimize'),\n",
       "              ('좋아요', '83296')]),\n",
       " OrderedDict([('곡일련번호', '30672529'),\n",
       "              ('순위', '65'),\n",
       "              ('앨범', 'Brother Act.'),\n",
       "              ('곡명', '그리워하다'),\n",
       "              ('가수', '비투비'),\n",
       "              ('커버이미지_주소',\n",
       "               'https://cdnimg.melon.co.kr/cm/album/images/101/02/658/10102658_500.jpg/melon/resize/120/quality/80/optimize'),\n",
       "              ('좋아요', '203463')]),\n",
       " OrderedDict([('곡일련번호', '9642570'),\n",
       "              ('순위', '66'),\n",
       "              ('앨범', '넋두리'),\n",
       "              ('곡명', '넋두리'),\n",
       "              ('가수', '닐로 (Nilo)'),\n",
       "              ('커버이미지_주소',\n",
       "               'https://cdnimg.melon.co.kr/cm/album/images/027/10/553/2710553_500.jpg/melon/resize/120/quality/80/optimize'),\n",
       "              ('좋아요', '81028')]),\n",
       " OrderedDict([('곡일련번호', '30930312'),\n",
       "              ('순위', '67'),\n",
       "              ('앨범', '0+1=1 (I PROMISE YOU)'),\n",
       "              ('곡명', '약속해요 (I.P.U.)'),\n",
       "              ('가수', 'Wanna One (워너원)'),\n",
       "              ('커버이미지_주소',\n",
       "               'https://cdnimg.melon.co.kr/cm/album/images/101/44/723/10144723_2_500.jpg/melon/resize/120/quality/80/optimize'),\n",
       "              ('좋아요', '137141')]),\n",
       " OrderedDict([('곡일련번호', '31263577'),\n",
       "              ('순위', '68'),\n",
       "              ('앨범', '4.1'),\n",
       "              ('곡명', '매트리스'),\n",
       "              ('가수', '10cm'),\n",
       "              ('커버이미지_주소',\n",
       "               'https://cdnimg.melon.co.kr/cm/album/images/101/96/980/10196980_500.jpg/melon/resize/120/quality/80/optimize'),\n",
       "              ('좋아요', '62312')]),\n",
       " OrderedDict([('곡일련번호', '31340983'),\n",
       "              ('순위', '69'),\n",
       "              ('앨범', '쇼미더머니 777 Episode 1'),\n",
       "              ('곡명', '공상과학기술 (Feat. 기리보이, 스윙스)'),\n",
       "              ('가수', 'nafla'),\n",
       "              ('커버이미지_주소',\n",
       "               'https://cdnimg.melon.co.kr/cm/album/images/102/09/647/10209647_500.jpg/melon/resize/120/quality/80/optimize'),\n",
       "              ('좋아요', '13148')]),\n",
       " OrderedDict([('곡일련번호', '31131274'),\n",
       "              ('순위', '70'),\n",
       "              ('앨범', 'SQUARE UP'),\n",
       "              ('곡명', 'Forever Young'),\n",
       "              ('가수', 'BLACKPINK'),\n",
       "              ('커버이미지_주소',\n",
       "               'https://cdnimg.melon.co.kr/cm/album/images/101/76/415/10176415_500.jpg/melon/resize/120/quality/80/optimize'),\n",
       "              ('좋아요', '119422')]),\n",
       " OrderedDict([('곡일련번호', '31246870'),\n",
       "              ('순위', '71'),\n",
       "              ('앨범', '한(一)'),\n",
       "              ('곡명', '한(一)'),\n",
       "              ('가수', '(여자)아이들'),\n",
       "              ('커버이미지_주소',\n",
       "               'https://cdnimg.melon.co.kr/cm/album/images/101/94/362/10194362_500.jpg/melon/resize/120/quality/80/optimize'),\n",
       "              ('좋아요', '69062')]),\n",
       " OrderedDict([('곡일련번호', '31035061'),\n",
       "              ('순위', '72'),\n",
       "              ('앨범', '건반 위의 하이에나 Part.4'),\n",
       "              ('곡명', '주지마'),\n",
       "              ('가수', '로꼬'),\n",
       "              ('커버이미지_주소',\n",
       "               'https://cdnimg.melon.co.kr/cm/album/images/101/60/487/10160487_500.jpg/melon/resize/120/quality/80/optimize'),\n",
       "              ('좋아요', '154263')]),\n",
       " OrderedDict([('곡일련번호', '31147211'),\n",
       "              ('순위', '73'),\n",
       "              ('앨범', 'WHO, YOU'),\n",
       "              ('곡명', 'Dejavu'),\n",
       "              ('가수', '뉴이스트 W'),\n",
       "              ('커버이미지_주소',\n",
       "               'https://cdnimg.melon.co.kr/cm/album/images/101/78/912/10178912_500.jpg/melon/resize/120/quality/80/optimize'),\n",
       "              ('좋아요', '53081')]),\n",
       " OrderedDict([('곡일련번호', '30849733'),\n",
       "              ('순위', '74'),\n",
       "              ('앨범', '투유 프로젝트 - 슈가맨2 Part.2'),\n",
       "              ('곡명', 'You'),\n",
       "              ('가수', '멜로망스'),\n",
       "              ('커버이미지_주소',\n",
       "               'https://cdnimg.melon.co.kr/cm/album/images/101/31/018/10131018_500.jpg/melon/resize/120/quality/80/optimize'),\n",
       "              ('좋아요', '141103')]),\n",
       " OrderedDict([('곡일련번호', '31340984'),\n",
       "              ('순위', '75'),\n",
       "              ('앨범', '쇼미더머니 777 Episode 1'),\n",
       "              ('곡명', '패 (Feat. 넉살, 딥플로우)'),\n",
       "              ('가수', '김효은'),\n",
       "              ('커버이미지_주소',\n",
       "               'https://cdnimg.melon.co.kr/cm/album/images/102/09/647/10209647_500.jpg/melon/resize/120/quality/80/optimize'),\n",
       "              ('좋아요', '10536')]),\n",
       " OrderedDict([('곡일련번호', '31309947'),\n",
       "              ('순위', '76'),\n",
       "              ('앨범', 'A-TEEN Part.4'),\n",
       "              ('곡명', '도망가지마'),\n",
       "              ('가수', '모트 (Motte)'),\n",
       "              ('커버이미지_주소',\n",
       "               'https://cdnimg.melon.co.kr/cm/album/images/102/04/722/10204722_500.jpg/melon/resize/120/quality/80/optimize'),\n",
       "              ('좋아요', '48716')]),\n",
       " OrderedDict([('곡일련번호', '30721801'),\n",
       "              ('순위', '77'),\n",
       "              ('앨범', '돈꽃 OST Part.1'),\n",
       "              ('곡명', 'My Way'),\n",
       "              ('가수', '이수 (엠씨 더 맥스)'),\n",
       "              ('커버이미지_주소',\n",
       "               'https://cdnimg.melon.co.kr/cm/album/images/101/10/396/10110396_500.jpg/melon/resize/120/quality/80/optimize'),\n",
       "              ('좋아요', '119657')]),\n",
       " OrderedDict([('곡일련번호', '30514366'),\n",
       "              ('순위', '78'),\n",
       "              ('앨범', 'Moonlight'),\n",
       "              ('곡명', '선물'),\n",
       "              ('가수', '멜로망스'),\n",
       "              ('커버이미지_주소',\n",
       "               'https://cdnimg.melon.co.kr/cm/album/images/100/78/176/10078176_500.jpg/melon/resize/120/quality/80/optimize'),\n",
       "              ('좋아요', '266869')]),\n",
       " OrderedDict([('곡일련번호', '31227367'),\n",
       "              ('순위', '79'),\n",
       "              ('앨범', '미스터 션샤인 OST Part.5'),\n",
       "              ('곡명', '좋은 날'),\n",
       "              ('가수', '멜로망스'),\n",
       "              ('커버이미지_주소',\n",
       "               'https://cdnimg.melon.co.kr/cm/album/images/101/91/294/10191294_500.jpg/melon/resize/120/quality/80/optimize'),\n",
       "              ('좋아요', '33146')]),\n",
       " OrderedDict([('곡일련번호', '31113242'),\n",
       "              ('순위', '80'),\n",
       "              ('앨범', '1÷χ=1 (UNDIVIDED)'),\n",
       "              ('곡명', '영원+1 (Prod. NELL)'),\n",
       "              ('가수', 'Wanna One (워너원) - 린온미'),\n",
       "              ('커버이미지_주소',\n",
       "               'https://cdnimg.melon.co.kr/cm/album/images/101/73/365/10173365_500.jpg/melon/resize/120/quality/80/optimize'),\n",
       "              ('좋아요', '76313')]),\n",
       " OrderedDict([('곡일련번호', '31266377'),\n",
       "              ('순위', '81'),\n",
       "              ('앨범', '미스터 션샤인 OST Part.10'),\n",
       "              ('곡명', 'AND I'),\n",
       "              ('가수', '뉴이스트 W'),\n",
       "              ('커버이미지_주소',\n",
       "               'https://cdnimg.melon.co.kr/cm/album/images/101/97/500/10197500_500.jpg/melon/resize/120/quality/80/optimize'),\n",
       "              ('좋아요', '20736')]),\n",
       " OrderedDict([('곡일련번호', '31331749'),\n",
       "              ('순위', '82'),\n",
       "              ('앨범', 'I Don’t Care (with 스푼즈)'),\n",
       "              ('곡명', 'I Don’t Care (with 스푼즈)'),\n",
       "              ('가수', '뉴이스트 W'),\n",
       "              ('커버이미지_주소',\n",
       "               'https://cdnimg.melon.co.kr/cm/album/images/102/08/359/10208359_500.jpg/melon/resize/120/quality/80/optimize'),\n",
       "              ('좋아요', '13544')]),\n",
       " OrderedDict([('곡일련번호', '31147212'),\n",
       "              ('순위', '83'),\n",
       "              ('앨범', 'WHO, YOU'),\n",
       "              ('곡명', '북극성 (Polaris)'),\n",
       "              ('가수', '뉴이스트 W'),\n",
       "              ('커버이미지_주소',\n",
       "               'https://cdnimg.melon.co.kr/cm/album/images/101/78/912/10178912_500.jpg/melon/resize/120/quality/80/optimize'),\n",
       "              ('좋아요', '32098')]),\n",
       " OrderedDict([('곡일련번호', '30970444'),\n",
       "              ('순위', '84'),\n",
       "              ('앨범', '소나기 (Feat. 10cm)'),\n",
       "              ('곡명', '소나기 (Feat. 10cm)'),\n",
       "              ('가수', '용준형'),\n",
       "              ('커버이미지_주소',\n",
       "               'https://cdnimg.melon.co.kr/cm/album/images/101/50/572/10150572_500.jpg/melon/resize/120/quality/80/optimize'),\n",
       "              ('좋아요', '130935')]),\n",
       " OrderedDict([('곡일련번호', '31113244'),\n",
       "              ('순위', '85'),\n",
       "              ('앨범', '1÷χ=1 (UNDIVIDED)'),\n",
       "              ('곡명', '11 (Prod. 다이나믹듀오)'),\n",
       "              ('가수', 'Wanna One (워너원) - 남바완'),\n",
       "              ('커버이미지_주소',\n",
       "               'https://cdnimg.melon.co.kr/cm/album/images/101/73/365/10173365_500.jpg/melon/resize/120/quality/80/optimize'),\n",
       "              ('좋아요', '67211')]),\n",
       " OrderedDict([('곡일련번호', '4032981'),\n",
       "              ('순위', '86'),\n",
       "              ('앨범', 'THE SECOND MINI ALBUM `여보세요`'),\n",
       "              ('곡명', '여보세요'),\n",
       "              ('가수', 'NU`EST'),\n",
       "              ('커버이미지_주소',\n",
       "               'https://cdnimg.melon.co.kr/cm/album/images/021/75/137/2175137_500.jpg/melon/resize/120/quality/80/optimize'),\n",
       "              ('좋아요', '126064')]),\n",
       " OrderedDict([('곡일련번호', '31299371'),\n",
       "              ('순위', '87'),\n",
       "              ('앨범', '라이프 OST Part.6'),\n",
       "              ('곡명', '잘 지내요'),\n",
       "              ('가수', '정승환'),\n",
       "              ('커버이미지_주소',\n",
       "               'https://cdnimg.melon.co.kr/cm/album/images/102/02/962/10202962_500.jpg/melon/resize/120/quality/80/optimize'),\n",
       "              ('좋아요', '25169')]),\n",
       " OrderedDict([('곡일련번호', '30806539'),\n",
       "              ('순위', '88'),\n",
       "              ('앨범', 'Universe - 겨울 스페셜 앨범, 2017'),\n",
       "              ('곡명', '지나갈 테니 (Been Through)'),\n",
       "              ('가수', 'EXO'),\n",
       "              ('커버이미지_주소',\n",
       "               'https://cdnimg.melon.co.kr/cm/album/images/101/22/917/10122917_500.jpg/melon/resize/120/quality/80/optimize'),\n",
       "              ('좋아요', '88331')]),\n",
       " OrderedDict([('곡일련번호', '31324696'),\n",
       "              ('순위', '89'),\n",
       "              ('앨범', '연애플레이리스트3 Part.1'),\n",
       "              ('곡명', 'Perfect'),\n",
       "              ('가수', '10cm'),\n",
       "              ('커버이미지_주소',\n",
       "               'https://cdnimg.melon.co.kr/cm/album/images/102/07/153/10207153_500.jpg/melon/resize/120/quality/80/optimize'),\n",
       "              ('좋아요', '24732')]),\n",
       " OrderedDict([('곡일련번호', '8111603'),\n",
       "              ('순위', '90'),\n",
       "              ('앨범', 'Fitz and The Tantrums (Deluxe)'),\n",
       "              ('곡명', 'HandClap'),\n",
       "              ('가수', 'Fitz & The Tantrums'),\n",
       "              ('커버이미지_주소',\n",
       "               'https://cdnimg.melon.co.kr/cm/album/images/026/75/179/2675179_500.jpg/melon/resize/120/quality/80/optimize'),\n",
       "              ('좋아요', '156476')]),\n",
       " OrderedDict([('곡일련번호', '30661885'),\n",
       "              ('순위', '91'),\n",
       "              ('앨범', 'W, HERE'),\n",
       "              ('곡명', 'WHERE YOU AT'),\n",
       "              ('가수', '뉴이스트 W'),\n",
       "              ('커버이미지_주소',\n",
       "               'https://cdnimg.melon.co.kr/cm/album/images/101/00/941/10100941_500.jpg/melon/resize/120/quality/80/optimize'),\n",
       "              ('좋아요', '92753')]),\n",
       " OrderedDict([('곡일련번호', '31006730'),\n",
       "              ('순위', '92'),\n",
       "              ('앨범', 'What is Love?'),\n",
       "              ('곡명', 'What is Love?'),\n",
       "              ('가수', 'TWICE (트와이스)'),\n",
       "              ('커버이미지_주소',\n",
       "               'https://cdnimg.melon.co.kr/cm/album/images/101/56/195/10156195_500.jpg/melon/resize/120/quality/80/optimize'),\n",
       "              ('좋아요', '121530')]),\n",
       " OrderedDict([('곡일련번호', '31052421'),\n",
       "              ('순위', '93'),\n",
       "              ('앨범', \"여자친구 The 6th Mini Album 'Time for the moon night'\"),\n",
       "              ('곡명', '밤 (Time for the moon night)'),\n",
       "              ('가수', '여자친구 (GFRIEND)'),\n",
       "              ('커버이미지_주소',\n",
       "               'https://cdnimg.melon.co.kr/cm/album/images/101/63/106/10163106_500.jpg/melon/resize/120/quality/80/optimize'),\n",
       "              ('좋아요', '125760')]),\n",
       " OrderedDict([('곡일련번호', '31194610'),\n",
       "              ('순위', '94'),\n",
       "              ('앨범', 'Blooming Blue'),\n",
       "              ('곡명', 'Love U'),\n",
       "              ('가수', '청하'),\n",
       "              ('커버이미지_주소',\n",
       "               'https://cdnimg.melon.co.kr/cm/album/images/101/86/254/10186254_500.jpg/melon/resize/120/quality/80/optimize'),\n",
       "              ('좋아요', '61670')]),\n",
       " OrderedDict([('곡일련번호', '31147210'),\n",
       "              ('순위', '95'),\n",
       "              ('앨범', 'WHO, YOU'),\n",
       "              ('곡명', 'Signal'),\n",
       "              ('가수', '뉴이스트 W'),\n",
       "              ('커버이미지_주소',\n",
       "               'https://cdnimg.melon.co.kr/cm/album/images/101/78/912/10178912_500.jpg/melon/resize/120/quality/80/optimize'),\n",
       "              ('좋아요', '27270')]),\n",
       " OrderedDict([('곡일련번호', '30937275'),\n",
       "              ('순위', '96'),\n",
       "              ('앨범', 'Yellow Flower'),\n",
       "              ('곡명', '별이 빛나는 밤'),\n",
       "              ('가수', '마마무(Mamamoo)'),\n",
       "              ('커버이미지_주소',\n",
       "               'https://cdnimg.melon.co.kr/cm/album/images/101/45/303/10145303_500.jpg/melon/resize/120/quality/80/optimize'),\n",
       "              ('좋아요', '145494')]),\n",
       " OrderedDict([('곡일련번호', '31147213'),\n",
       "              ('순위', '97'),\n",
       "              ('앨범', 'WHO, YOU'),\n",
       "              ('곡명', 'ylenoL'),\n",
       "              ('가수', '뉴이스트 W'),\n",
       "              ('커버이미지_주소',\n",
       "               'https://cdnimg.melon.co.kr/cm/album/images/101/78/912/10178912_500.jpg/melon/resize/120/quality/80/optimize'),\n",
       "              ('좋아요', '26136')]),\n",
       " OrderedDict([('곡일련번호', '31288765'),\n",
       "              ('순위', '98'),\n",
       "              ('앨범', '몰랐니 - The 1st Single Album'),\n",
       "              ('곡명', '몰랐니 (Lil` Touch)'),\n",
       "              ('가수', '소녀시대-Oh!GG'),\n",
       "              ('커버이미지_주소',\n",
       "               'https://cdnimg.melon.co.kr/cm/album/images/102/01/272/10201272_500.jpg/melon/resize/120/quality/80/optimize'),\n",
       "              ('좋아요', '42853')]),\n",
       " OrderedDict([('곡일련번호', '31147214'),\n",
       "              ('순위', '99'),\n",
       "              ('앨범', 'WHO, YOU'),\n",
       "              ('곡명', '중력달 (Gravity&Moon;)'),\n",
       "              ('가수', '뉴이스트 W'),\n",
       "              ('커버이미지_주소',\n",
       "               'https://cdnimg.melon.co.kr/cm/album/images/101/78/912/10178912_500.jpg/melon/resize/120/quality/80/optimize'),\n",
       "              ('좋아요', '26091')]),\n",
       " OrderedDict([('곡일련번호', '30806540'),\n",
       "              ('순위', '100'),\n",
       "              ('앨범', 'Universe - 겨울 스페셜 앨범, 2017'),\n",
       "              ('곡명', 'Stay'),\n",
       "              ('가수', 'EXO'),\n",
       "              ('커버이미지_주소',\n",
       "               'https://cdnimg.melon.co.kr/cm/album/images/101/22/917/10122917_500.jpg/melon/resize/120/quality/80/optimize'),\n",
       "              ('좋아요', '81556')])]"
      ]
     },
     "execution_count": 110,
     "metadata": {},
     "output_type": "execute_result"
    }
   ],
   "source": [
    "# 1) 데이터를 로컬에 다운받아, 멜론_TOP100.csv 파일로 저장\n",
    "import requests\n",
    "\n",
    "res = requests.get(\"https://goo.gl/iDUKrL\")\n",
    "with open(\"멜론_TOP100.csv\", \"wt\", encoding=\"utf8\") as f:\n",
    "    f.write(res.text)\n",
    "\n",
    "# 2) 로컬의 CSV 데이터를 리스트(내부 dict)구조로 획득\n",
    "import csv\n",
    "with open(\"멜론_TOP100.csv\", \"rt\", encoding=\"utf8\") as f:\n",
    "    reader = csv.DictReader(f)\n",
    "    멜론_top100_리스트 = list(reader)\n",
    "\n",
    "멜론_top100_리스트"
   ]
  },
  {
   "cell_type": "code",
   "execution_count": 103,
   "metadata": {},
   "outputs": [
    {
     "data": {
      "text/plain": [
       "100"
      ]
     },
     "execution_count": 103,
     "metadata": {},
     "output_type": "execute_result"
    }
   ],
   "source": [
    "len(멜론_top100_리스트)"
   ]
  },
  {
   "cell_type": "code",
   "execution_count": 104,
   "metadata": {},
   "outputs": [
    {
     "data": {
      "text/plain": [
       "list"
      ]
     },
     "execution_count": 104,
     "metadata": {},
     "output_type": "execute_result"
    }
   ],
   "source": [
    "type(멜론_top100_리스트)"
   ]
  },
  {
   "cell_type": "code",
   "execution_count": 107,
   "metadata": {},
   "outputs": [
    {
     "data": {
      "text/plain": [
       "'Stay'"
      ]
     },
     "execution_count": 107,
     "metadata": {},
     "output_type": "execute_result"
    }
   ],
   "source": [
    "멜론_top100_리스트[-1]['곡명']"
   ]
  },
  {
   "cell_type": "code",
   "execution_count": 108,
   "metadata": {
    "collapsed": true
   },
   "outputs": [
    {
     "data": {
      "text/plain": [
       "[OrderedDict([('곡일련번호', '31266292'),\n",
       "              ('순위', '20'),\n",
       "              ('앨범', 'LOVE YOURSELF 結 `Answer`'),\n",
       "              ('곡명', 'Trivia 起 : Just Dance'),\n",
       "              ('가수', '방탄소년단'),\n",
       "              ('커버이미지_주소',\n",
       "               'https://cdnimg.melon.co.kr/cm/album/images/101/97/480/10197480_500.jpg/melon/resize/120/quality/80/optimize'),\n",
       "              ('좋아요', '88970')]),\n",
       " OrderedDict([('곡일련번호', '31286161'),\n",
       "              ('순위', '21'),\n",
       "              ('앨범', 'WARNING'),\n",
       "              ('곡명', '사이렌 (Siren)'),\n",
       "              ('가수', '선미'),\n",
       "              ('커버이미지_주소',\n",
       "               'https://cdnimg.melon.co.kr/cm/album/images/102/00/838/10200838_500.jpg/melon/resize/120/quality/80/optimize'),\n",
       "              ('좋아요', '91516')]),\n",
       " OrderedDict([('곡일련번호', '31266300'),\n",
       "              ('순위', '22'),\n",
       "              ('앨범', 'LOVE YOURSELF 結 `Answer`'),\n",
       "              ('곡명', 'Trivia 承 : Love'),\n",
       "              ('가수', '방탄소년단'),\n",
       "              ('커버이미지_주소',\n",
       "               'https://cdnimg.melon.co.kr/cm/album/images/101/97/480/10197480_500.jpg/melon/resize/120/quality/80/optimize'),\n",
       "              ('좋아요', '83610')]),\n",
       " OrderedDict([('곡일련번호', '31062863'),\n",
       "              ('순위', '23'),\n",
       "              ('앨범', 'RECIPE'),\n",
       "              ('곡명', '열애중'),\n",
       "              ('가수', '벤'),\n",
       "              ('커버이미지_주소',\n",
       "               'https://cdnimg.melon.co.kr/cm/album/images/101/64/839/10164839_500.jpg/melon/resize/120/quality/80/optimize'),\n",
       "              ('좋아요', '115805')]),\n",
       " OrderedDict([('곡일련번호', '31151836'),\n",
       "              ('순위', '24'),\n",
       "              ('앨범', 'Take'),\n",
       "              ('곡명', 'Way Back Home'),\n",
       "              ('가수', '숀 (SHAUN)'),\n",
       "              ('커버이미지_주소',\n",
       "               'https://cdnimg.melon.co.kr/cm/album/images/101/79/508/10179508_500.jpg/melon/resize/120/quality/80/optimize'),\n",
       "              ('좋아요', '225308')]),\n",
       " OrderedDict([('곡일련번호', '31085244'),\n",
       "              ('순위', '25'),\n",
       "              ('앨범', 'LOVE YOURSELF 轉 `Tear`'),\n",
       "              ('곡명', 'Anpanman'),\n",
       "              ('가수', '방탄소년단'),\n",
       "              ('커버이미지_주소',\n",
       "               'https://cdnimg.melon.co.kr/cm/album/images/101/68/559/10168559_500.jpg/melon/resize/120/quality/80/optimize'),\n",
       "              ('좋아요', '138694')]),\n",
       " OrderedDict([('곡일련번호', '30244931'),\n",
       "              ('순위', '26'),\n",
       "              ('앨범', 'YOU NEVER WALK ALONE'),\n",
       "              ('곡명', '봄날'),\n",
       "              ('가수', '방탄소년단'),\n",
       "              ('커버이미지_주소',\n",
       "               'https://cdnimg.melon.co.kr/cm/album/images/100/37/969/10037969_500.jpg/melon/resize/120/quality/80/optimize'),\n",
       "              ('좋아요', '359130')]),\n",
       " OrderedDict([('곡일련번호', '30637982'),\n",
       "              ('순위', '27'),\n",
       "              ('앨범', 'LOVE YOURSELF 承 `Her`'),\n",
       "              ('곡명', 'DNA'),\n",
       "              ('가수', '방탄소년단'),\n",
       "              ('커버이미지_주소',\n",
       "               'https://cdnimg.melon.co.kr/cm/album/images/100/97/112/10097112_500.jpg/melon/resize/120/quality/80/optimize'),\n",
       "              ('좋아요', '323911')]),\n",
       " OrderedDict([('곡일련번호', '31085243'),\n",
       "              ('순위', '28'),\n",
       "              ('앨범', 'LOVE YOURSELF 轉 `Tear`'),\n",
       "              ('곡명', 'Airplane pt.2'),\n",
       "              ('가수', '방탄소년단'),\n",
       "              ('커버이미지_주소',\n",
       "               'https://cdnimg.melon.co.kr/cm/album/images/101/68/559/10168559_500.jpg/melon/resize/120/quality/80/optimize'),\n",
       "              ('좋아요', '127355')]),\n",
       " OrderedDict([('곡일련번호', '30806536'),\n",
       "              ('순위', '29'),\n",
       "              ('앨범', 'Universe - 겨울 스페셜 앨범, 2017'),\n",
       "              ('곡명', 'Universe'),\n",
       "              ('가수', 'EXO'),\n",
       "              ('커버이미지_주소',\n",
       "               'https://cdnimg.melon.co.kr/cm/album/images/101/22/917/10122917_500.jpg/melon/resize/120/quality/80/optimize'),\n",
       "              ('좋아요', '155809')])]"
      ]
     },
     "execution_count": 108,
     "metadata": {},
     "output_type": "execute_result"
    }
   ],
   "source": [
    "멜론_top100_리스트[19:29]"
   ]
  },
  {
   "cell_type": "markdown",
   "metadata": {},
   "source": [
    "## 들여쓰기"
   ]
  },
  {
   "cell_type": "code",
   "execution_count": 111,
   "metadata": {},
   "outputs": [
    {
     "name": "stdout",
     "output_type": "stream",
     "text": [
      "hello\n",
      "world\n"
     ]
    }
   ],
   "source": [
    "print(\"hello\")\n",
    "print(\"world\")"
   ]
  },
  {
   "cell_type": "code",
   "execution_count": 112,
   "metadata": {},
   "outputs": [
    {
     "ename": "IndentationError",
     "evalue": "unexpected indent (<ipython-input-112-2f431114b51f>, line 2)",
     "output_type": "error",
     "traceback": [
      "\u001b[0;36m  File \u001b[0;32m\"<ipython-input-112-2f431114b51f>\"\u001b[0;36m, line \u001b[0;32m2\u001b[0m\n\u001b[0;31m    print(\"world\")\u001b[0m\n\u001b[0m    ^\u001b[0m\n\u001b[0;31mIndentationError\u001b[0m\u001b[0;31m:\u001b[0m unexpected indent\n"
     ]
    }
   ],
   "source": [
    "print(\"hello\")\n",
    " print(\"world\")"
   ]
  },
  {
   "cell_type": "markdown",
   "metadata": {},
   "source": [
    "```c\n",
    "// C 코드\n",
    "for(int i=0; i<3; i++) {\n",
    "    printf(\"%d\\n\", i);\n",
    "    printf(\"%d\\n\", i**2);\n",
    "}\n",
    "```"
   ]
  },
  {
   "cell_type": "code",
   "execution_count": 122,
   "metadata": {},
   "outputs": [
    {
     "name": "stdout",
     "output_type": "stream",
     "text": [
      "0\n",
      "0\n",
      "1\n",
      "1\n",
      "2\n",
      "4\n",
      "END\n"
     ]
    }
   ],
   "source": [
    "for i in range(3):\n",
    "    print(i)\n",
    "    print(i**2)\n",
    "\n",
    "print(\"END\")"
   ]
  },
  {
   "cell_type": "code",
   "execution_count": null,
   "metadata": {},
   "outputs": [],
   "source": []
  },
  {
   "cell_type": "code",
   "execution_count": 125,
   "metadata": {},
   "outputs": [
    {
     "name": "stdout",
     "output_type": "stream",
     "text": [
      "1: 위메프 반값특가\n",
      "2: 상고대\n",
      "3: 이하정\n",
      "4: 다우니 어도러블\n",
      "5: 조병규\n",
      "6: 사이코메트리 그녀석\n",
      "7: 악마는 프라다를 입는다\n",
      "8: 함연지\n",
      "9: 정준호\n",
      "10: 구룸\n",
      "11: 삼성바이오로직스\n",
      "12: 한국 바레인\n",
      "13: 대한민국 바레인\n",
      "14: 일본 사우디\n",
      "15: 김유정\n",
      "16: 호주 우즈베키스탄\n",
      "17: 박주호\n",
      "18: 조미녀\n",
      "19: 홍역 예방접종\n",
      "20: 윤균상\n"
     ]
    }
   ],
   "source": [
    "import requests\n",
    "from bs4 import BeautifulSoup\n",
    "\n",
    "res = requests.get(\"http://naver.com\")\n",
    "html = res.text\n",
    "soup = BeautifulSoup(html, 'html.parser')\n",
    "tag_list = soup.select('.PM_CL_realtimeKeyword_rolling .ah_k')\n",
    "\n",
    "for rank, tag in enumerate(tag_list, 1):  # 항상 하위 block 전에 콤마(:)를 씁니다.\n",
    "    label = tag.text\n",
    "    print('{}: {}'.format(rank, label))"
   ]
  },
  {
   "cell_type": "markdown",
   "metadata": {},
   "source": [
    "## Day 3"
   ]
  },
  {
   "cell_type": "code",
   "execution_count": 1,
   "metadata": {},
   "outputs": [
    {
     "name": "stdout",
     "output_type": "stream",
     "text": [
      "0\n",
      "1\n",
      "2\n",
      "3\n",
      "4\n",
      "5\n",
      "6\n",
      "7\n",
      "8\n",
      "9\n"
     ]
    }
   ],
   "source": [
    "# 아래 반복문은 0부터 9까지 1씩 증가하며, 반복합니다.\n",
    "for i in range(10):  # ...\n",
    "    print(i)"
   ]
  },
  {
   "cell_type": "markdown",
   "metadata": {},
   "source": [
    "### 조건문"
   ]
  },
  {
   "cell_type": "code",
   "execution_count": 30,
   "metadata": {},
   "outputs": [],
   "source": [
    "from random import randint, choice"
   ]
  },
  {
   "cell_type": "code",
   "execution_count": 41,
   "metadata": {},
   "outputs": [],
   "source": [
    "# 숫자 = randint(1, 1000)  # 1이상, 1000이하\n",
    "\n",
    "리스트 = [1, 10, 100, 123, 546, 987, 32]\n",
    "숫자 = choice(리스트)"
   ]
  },
  {
   "cell_type": "code",
   "execution_count": 44,
   "metadata": {
    "collapsed": true
   },
   "outputs": [
    {
     "name": "stdout",
     "output_type": "stream",
     "text": [
      "한 자리 수입니다.\n"
     ]
    }
   ],
   "source": [
    "if 숫자 < 10:\n",
    "    print(\"한 자리 수입니다.\")\n",
    "#  if 10 <= 숫자 and 숫자 < 100:\n",
    "if 10 <= 숫자 < 100:\n",
    "    print(\"두 자리 수입니다.\")\n",
    "# if 100 <= 숫자 and 숫자 < 1000:\n",
    "if 100 <= 숫자 < 1000:\n",
    "    print(\"세 자리 수입니다.\")\n",
    "if 숫자 >= 1000:\n",
    "    print(\"엄청 큰 수입니다.\")"
   ]
  },
  {
   "cell_type": "code",
   "execution_count": 43,
   "metadata": {},
   "outputs": [
    {
     "name": "stdout",
     "output_type": "stream",
     "text": [
      "한 자리 수입니다.\n"
     ]
    }
   ],
   "source": [
    "if 숫자 < 10:\n",
    "    print(\"한 자리 수입니다.\")\n",
    "elif 숫자 < 100:\n",
    "    print(\"두 자리 수입니다.\")\n",
    "elif 숫자 < 1000:\n",
    "    print(\"세 자리 수입니다.\")\n",
    "else:\n",
    "    print(\"엄청 큰 수입니다.\")"
   ]
  },
  {
   "cell_type": "code",
   "execution_count": 60,
   "metadata": {},
   "outputs": [],
   "source": [
    "from datetime import datetime\n",
    "\n",
    "now = datetime.now()  # datetime 타입의 변수"
   ]
  },
  {
   "cell_type": "code",
   "execution_count": 61,
   "metadata": {},
   "outputs": [
    {
     "data": {
      "text/plain": [
       "(9, 28)"
      ]
     },
     "execution_count": 61,
     "metadata": {},
     "output_type": "execute_result"
    }
   ],
   "source": [
    "now.hour, now.minute"
   ]
  },
  {
   "cell_type": "code",
   "execution_count": 63,
   "metadata": {},
   "outputs": [
    {
     "data": {
      "text/plain": [
       "True"
      ]
     },
     "execution_count": 63,
     "metadata": {},
     "output_type": "execute_result"
    }
   ],
   "source": [
    "9 <= now.hour < 18  # 근무시간 여부"
   ]
  },
  {
   "cell_type": "code",
   "execution_count": 64,
   "metadata": {},
   "outputs": [
    {
     "name": "stdout",
     "output_type": "stream",
     "text": [
      "근무시간입니다.\n"
     ]
    }
   ],
   "source": [
    "if 9 <= now.hour < 18:\n",
    "    print(\"근무시간입니다.\")\n",
    "else:\n",
    "    print(\"어서 퇴근하세요.\")"
   ]
  },
  {
   "cell_type": "markdown",
   "metadata": {},
   "source": [
    "### TODO\n",
    "\n",
    "1. `now.hour` 시간이 9시 이전일 경우 대한, 커스텀 메세지 출력하기\n",
    "1. `now.hour` 시간이 18시 이후일 경우 대한, 커스텀 메세지 출력하기"
   ]
  },
  {
   "cell_type": "code",
   "execution_count": 66,
   "metadata": {},
   "outputs": [
    {
     "name": "stdout",
     "output_type": "stream",
     "text": [
      "근무시간입니다.\n"
     ]
    }
   ],
   "source": [
    "if 9 <= now.hour < 18:\n",
    "    print(\"근무시간입니다.\")\n",
    "elif now.hour < 9:\n",
    "    print('일찍 출근하셨네요.')\n",
    "else:\n",
    "    print(\"어서 퇴근하세요.\")"
   ]
  },
  {
   "cell_type": "markdown",
   "metadata": {},
   "source": [
    "## 반복문"
   ]
  },
  {
   "cell_type": "code",
   "execution_count": 68,
   "metadata": {
    "collapsed": true
   },
   "outputs": [
    {
     "name": "stdout",
     "output_type": "stream",
     "text": [
      "2\n",
      "3\n",
      "4\n",
      "5\n",
      "6\n",
      "7\n",
      "8\n",
      "9\n"
     ]
    }
   ],
   "source": [
    "for i in [2, 3, 4, 5, 6, 7, 8, 9]:\n",
    "    print(i)"
   ]
  },
  {
   "cell_type": "code",
   "execution_count": 74,
   "metadata": {
    "collapsed": true
   },
   "outputs": [
    {
     "name": "stdout",
     "output_type": "stream",
     "text": [
      "### 2단 ###\n",
      "2 * 1 = 2\n",
      "2 * 2 = 4\n",
      "2 * 3 = 6\n",
      "2 * 4 = 8\n",
      "2 * 5 = 10\n",
      "2 * 6 = 12\n",
      "2 * 7 = 14\n",
      "2 * 8 = 16\n",
      "2 * 9 = 18\n",
      "\n",
      "### 3단 ###\n",
      "3 * 1 = 3\n",
      "3 * 2 = 6\n",
      "3 * 3 = 9\n",
      "3 * 4 = 12\n",
      "3 * 5 = 15\n",
      "3 * 6 = 18\n",
      "3 * 7 = 21\n",
      "3 * 8 = 24\n",
      "3 * 9 = 27\n",
      "\n",
      "### 4단 ###\n",
      "4 * 1 = 4\n",
      "4 * 2 = 8\n",
      "4 * 3 = 12\n",
      "4 * 4 = 16\n",
      "4 * 5 = 20\n",
      "4 * 6 = 24\n",
      "4 * 7 = 28\n",
      "4 * 8 = 32\n",
      "4 * 9 = 36\n",
      "\n",
      "### 5단 ###\n",
      "5 * 1 = 5\n",
      "5 * 2 = 10\n",
      "5 * 3 = 15\n",
      "5 * 4 = 20\n",
      "5 * 5 = 25\n",
      "5 * 6 = 30\n",
      "5 * 7 = 35\n",
      "5 * 8 = 40\n",
      "5 * 9 = 45\n",
      "\n",
      "### 6단 ###\n",
      "6 * 1 = 6\n",
      "6 * 2 = 12\n",
      "6 * 3 = 18\n",
      "6 * 4 = 24\n",
      "6 * 5 = 30\n",
      "6 * 6 = 36\n",
      "6 * 7 = 42\n",
      "6 * 8 = 48\n",
      "6 * 9 = 54\n",
      "\n",
      "### 7단 ###\n",
      "7 * 1 = 7\n",
      "7 * 2 = 14\n",
      "7 * 3 = 21\n",
      "7 * 4 = 28\n",
      "7 * 5 = 35\n",
      "7 * 6 = 42\n",
      "7 * 7 = 49\n",
      "7 * 8 = 56\n",
      "7 * 9 = 63\n",
      "\n",
      "### 8단 ###\n",
      "8 * 1 = 8\n",
      "8 * 2 = 16\n",
      "8 * 3 = 24\n",
      "8 * 4 = 32\n",
      "8 * 5 = 40\n",
      "8 * 6 = 48\n",
      "8 * 7 = 56\n",
      "8 * 8 = 64\n",
      "8 * 9 = 72\n",
      "\n",
      "### 9단 ###\n",
      "9 * 1 = 9\n",
      "9 * 2 = 18\n",
      "9 * 3 = 27\n",
      "9 * 4 = 36\n",
      "9 * 5 = 45\n",
      "9 * 6 = 54\n",
      "9 * 7 = 63\n",
      "9 * 8 = 72\n",
      "9 * 9 = 81\n",
      "\n"
     ]
    }
   ],
   "source": [
    "for 숫자 in range(2, 10):\n",
    "    print('### {}단 ###'.format(숫자))\n",
    "    for i in range(1, 10):\n",
    "        print(\"{} * {} = {}\".format(숫자, i, 숫자 * i))\n",
    "    print()"
   ]
  },
  {
   "cell_type": "code",
   "execution_count": 75,
   "metadata": {},
   "outputs": [
    {
     "data": {
      "text/plain": [
       "range(0, 10)"
      ]
     },
     "execution_count": 75,
     "metadata": {},
     "output_type": "execute_result"
    }
   ],
   "source": [
    "range(10)"
   ]
  },
  {
   "cell_type": "code",
   "execution_count": 77,
   "metadata": {},
   "outputs": [],
   "source": [
    "# print(15, 30, 45, 60, 75, 90)  # FAIL"
   ]
  },
  {
   "cell_type": "code",
   "execution_count": 78,
   "metadata": {},
   "outputs": [
    {
     "data": {
      "text/plain": [
       "60"
      ]
     },
     "execution_count": 78,
     "metadata": {},
     "output_type": "execute_result"
    }
   ],
   "source": [
    "result = 0\n",
    "\n",
    "result += 10\n",
    "result += 20\n",
    "result += 30\n",
    "\n",
    "result"
   ]
  },
  {
   "cell_type": "code",
   "execution_count": null,
   "metadata": {},
   "outputs": [],
   "source": [
    "# sum = 0\n",
    "# range\n",
    "# print"
   ]
  },
  {
   "cell_type": "markdown",
   "metadata": {},
   "source": [
    "## 코드 만들어보기"
   ]
  },
  {
   "cell_type": "markdown",
   "metadata": {},
   "source": [
    "### 문제1) 2이상 9이하 범위에서, 3의 배수 숫자의 구구단 출력하기"
   ]
  },
  {
   "cell_type": "code",
   "execution_count": 82,
   "metadata": {
    "collapsed": true
   },
   "outputs": [
    {
     "name": "stdout",
     "output_type": "stream",
     "text": [
      "### 3단 ###\n",
      "### 6단 ###\n",
      "### 9단 ###\n",
      "### 12단 ###\n",
      "### 15단 ###\n",
      "### 18단 ###\n"
     ]
    }
   ],
   "source": [
    "for 숫자 in range(2, 20):\n",
    "    if 숫자 % 3 == 0:\n",
    "        print('### {}단 ###'.format(숫자))"
   ]
  },
  {
   "cell_type": "code",
   "execution_count": 83,
   "metadata": {
    "collapsed": true
   },
   "outputs": [
    {
     "name": "stdout",
     "output_type": "stream",
     "text": [
      "### 3단 ###\n",
      "### 6단 ###\n",
      "### 9단 ###\n",
      "### 12단 ###\n",
      "### 15단 ###\n",
      "### 18단 ###\n"
     ]
    }
   ],
   "source": [
    "for 숫자 in range(3, 20, 3):\n",
    "    print('### {}단 ###'.format(숫자))"
   ]
  },
  {
   "cell_type": "markdown",
   "metadata": {},
   "source": [
    "### 문제2) 1이상 100미만 범위에서 3과 5의 공배수를 모두 출력하기\n",
    "\n",
    "+ 공배수 : 2개 이상의 자연수의 공통인 배수"
   ]
  },
  {
   "cell_type": "code",
   "execution_count": 84,
   "metadata": {
    "collapsed": true
   },
   "outputs": [
    {
     "name": "stdout",
     "output_type": "stream",
     "text": [
      "15\n",
      "30\n",
      "45\n",
      "60\n",
      "75\n",
      "90\n"
     ]
    }
   ],
   "source": [
    "for 숫자 in range(1, 100):\n",
    "    if 숫자 % 3 == 0 and 숫자 % 5 == 0:\n",
    "        print(숫자)"
   ]
  },
  {
   "cell_type": "code",
   "execution_count": 85,
   "metadata": {
    "collapsed": true
   },
   "outputs": [
    {
     "name": "stdout",
     "output_type": "stream",
     "text": [
      "15\n",
      "30\n",
      "45\n",
      "60\n",
      "75\n",
      "90\n"
     ]
    }
   ],
   "source": [
    "for 숫자 in range(1, 100):\n",
    "    if 숫자 % 3 == 0:\n",
    "        if 숫자 % 5 == 0:\n",
    "            print(숫자)"
   ]
  },
  {
   "cell_type": "code",
   "execution_count": 86,
   "metadata": {
    "collapsed": true
   },
   "outputs": [
    {
     "name": "stdout",
     "output_type": "stream",
     "text": [
      "15\n",
      "30\n",
      "45\n",
      "60\n",
      "75\n",
      "90\n"
     ]
    }
   ],
   "source": [
    "for 숫자 in range(15, 100, 15):\n",
    "    print(숫자)"
   ]
  },
  {
   "cell_type": "code",
   "execution_count": null,
   "metadata": {},
   "outputs": [],
   "source": []
  },
  {
   "cell_type": "markdown",
   "metadata": {},
   "source": [
    "### 문제3) 1이상 100미만 범위에서 3과 5의 공배수를 합을 출력하기"
   ]
  },
  {
   "cell_type": "code",
   "execution_count": 95,
   "metadata": {},
   "outputs": [
    {
     "data": {
      "text/plain": [
       "315"
      ]
     },
     "execution_count": 95,
     "metadata": {},
     "output_type": "execute_result"
    }
   ],
   "source": [
    "합 = 0\n",
    "\n",
    "for 숫자 in range(1, 100):\n",
    "    if 숫자 % 3 == 0 and 숫자 % 5 == 0:\n",
    "#         print(숫자)\n",
    "        합 += 숫자\n",
    "        \n",
    "합"
   ]
  },
  {
   "cell_type": "code",
   "execution_count": 91,
   "metadata": {},
   "outputs": [
    {
     "data": {
      "text/plain": [
       "[15, 30, 45, 60, 75, 90]"
      ]
     },
     "execution_count": 91,
     "metadata": {},
     "output_type": "execute_result"
    }
   ],
   "source": [
    "숫자_리스트 = []\n",
    "\n",
    "for 숫자 in range(1, 100):\n",
    "    if 숫자 % 3 == 0 and 숫자 % 5 == 0:\n",
    "#         print(숫자)\n",
    "        숫자_리스트.append(숫자)\n",
    "        \n",
    "숫자_리스트"
   ]
  },
  {
   "cell_type": "code",
   "execution_count": 92,
   "metadata": {},
   "outputs": [
    {
     "data": {
      "text/plain": [
       "315"
      ]
     },
     "execution_count": 92,
     "metadata": {},
     "output_type": "execute_result"
    }
   ],
   "source": [
    "sum(숫자_리스트)"
   ]
  },
  {
   "cell_type": "code",
   "execution_count": null,
   "metadata": {},
   "outputs": [],
   "source": []
  },
  {
   "cell_type": "code",
   "execution_count": 93,
   "metadata": {},
   "outputs": [
    {
     "data": {
      "text/plain": [
       "315"
      ]
     },
     "execution_count": 93,
     "metadata": {},
     "output_type": "execute_result"
    }
   ],
   "source": [
    "숫자_리스트 = []\n",
    "\n",
    "for 숫자 in range(15, 100, 15):\n",
    "    숫자_리스트.append(숫자)\n",
    "\n",
    "sum(숫자_리스트)"
   ]
  },
  {
   "cell_type": "code",
   "execution_count": 94,
   "metadata": {},
   "outputs": [
    {
     "data": {
      "text/plain": [
       "315"
      ]
     },
     "execution_count": 94,
     "metadata": {},
     "output_type": "execute_result"
    }
   ],
   "source": [
    "sum(range(15, 100, 15))"
   ]
  },
  {
   "cell_type": "code",
   "execution_count": null,
   "metadata": {},
   "outputs": [],
   "source": []
  },
  {
   "cell_type": "markdown",
   "metadata": {},
   "source": [
    "##  멜론 데이터를 활용한 실습"
   ]
  },
  {
   "cell_type": "code",
   "execution_count": 96,
   "metadata": {
    "collapsed": true
   },
   "outputs": [
    {
     "data": {
      "text/plain": [
       "[OrderedDict([('곡일련번호', '31346009'),\n",
       "              ('순위', '1'),\n",
       "              ('앨범', '삐삐'),\n",
       "              ('곡명', '삐삐'),\n",
       "              ('가수', '아이유'),\n",
       "              ('커버이미지_주소',\n",
       "               'https://cdnimg.melon.co.kr/cm/album/images/102/10/535/10210535_500.jpg/melon/resize/120/quality/80/optimize'),\n",
       "              ('좋아요', '61528')]),\n",
       " OrderedDict([('곡일련번호', '31344113'),\n",
       "              ('순위', '2'),\n",
       "              ('앨범', '시간이 들겠지'),\n",
       "              ('곡명', '시간이 들겠지 (Feat. Colde)'),\n",
       "              ('가수', '로꼬'),\n",
       "              ('커버이미지_주소',\n",
       "               'https://cdnimg.melon.co.kr/cm/album/images/102/10/198/10210198_500.jpg/melon/resize/120/quality/80/optimize'),\n",
       "              ('좋아요', '48331')]),\n",
       " OrderedDict([('곡일련번호', '31340985'),\n",
       "              ('순위', '3'),\n",
       "              ('앨범', '쇼미더머니 777 Episode 1'),\n",
       "              ('곡명', 'Good Day (Feat. 팔로알토) (Prod. 코드 쿤스트)'),\n",
       "              ('가수', 'pH-1'),\n",
       "              ('커버이미지_주소',\n",
       "               'https://cdnimg.melon.co.kr/cm/album/images/102/09/647/10209647_500.jpg/melon/resize/120/quality/80/optimize'),\n",
       "              ('좋아요', '54022')]),\n",
       " OrderedDict([('곡일련번호', '31316695'),\n",
       "              ('순위', '4'),\n",
       "              ('앨범', '하루도 그대를 사랑하지 않은 적이 없었다'),\n",
       "              ('곡명', '하루도 그대를 사랑하지 않은 적이 없었다'),\n",
       "              ('가수', '임창정'),\n",
       "              ('커버이미지_주소',\n",
       "               'https://cdnimg.melon.co.kr/cm/album/images/102/05/805/10205805_500.jpg/melon/resize/120/quality/80/optimize'),\n",
       "              ('좋아요', '97984')]),\n",
       " OrderedDict([('곡일련번호', '31266290'),\n",
       "              ('순위', '5'),\n",
       "              ('앨범', 'LOVE YOURSELF 結 `Answer`'),\n",
       "              ('곡명', 'IDOL'),\n",
       "              ('가수', '방탄소년단'),\n",
       "              ('커버이미지_주소',\n",
       "               'https://cdnimg.melon.co.kr/cm/album/images/101/97/480/10197480_500.jpg/melon/resize/120/quality/80/optimize'),\n",
       "              ('좋아요', '173279')]),\n",
       " OrderedDict([('곡일련번호', '31331745'),\n",
       "              ('순위', '6'),\n",
       "              ('앨범', 'NEW KIDS : THE FINAL'),\n",
       "              ('곡명', '이별길 (GOODBYE ROAD)'),\n",
       "              ('가수', 'iKON'),\n",
       "              ('커버이미지_주소',\n",
       "               'https://cdnimg.melon.co.kr/cm/album/images/102/08/358/10208358_500.jpg/melon/resize/120/quality/80/optimize'),\n",
       "              ('좋아요', '55396')]),\n",
       " OrderedDict([('곡일련번호', '31340982'),\n",
       "              ('순위', '7'),\n",
       "              ('앨범', '쇼미더머니 777 Episode 1'),\n",
       "              ('곡명', '사임사임 (Feat. CHANGMO)'),\n",
       "              ('가수', 'Coogie'),\n",
       "              ('커버이미지_주소',\n",
       "               'https://cdnimg.melon.co.kr/cm/album/images/102/09/647/10209647_500.jpg/melon/resize/120/quality/80/optimize'),\n",
       "              ('좋아요', '27564')]),\n",
       " OrderedDict([('곡일련번호', '31266289'),\n",
       "              ('순위', '8'),\n",
       "              ('앨범', 'LOVE YOURSELF 結 `Answer`'),\n",
       "              ('곡명', 'I`m Fine'),\n",
       "              ('가수', '방탄소년단'),\n",
       "              ('커버이미지_주소',\n",
       "               'https://cdnimg.melon.co.kr/cm/album/images/101/97/480/10197480_500.jpg/melon/resize/120/quality/80/optimize'),\n",
       "              ('좋아요', '132847')]),\n",
       " OrderedDict([('곡일련번호', '31314142'),\n",
       "              ('순위', '9'),\n",
       "              ('앨범', '우리 그만하자'),\n",
       "              ('곡명', '우리 그만하자'),\n",
       "              ('가수', '로이킴'),\n",
       "              ('커버이미지_주소',\n",
       "               'https://cdnimg.melon.co.kr/cm/album/images/102/05/438/10205438_500.jpg/melon/resize/120/quality/80/optimize'),\n",
       "              ('좋아요', '95771')]),\n",
       " OrderedDict([('곡일련번호', '31085237'),\n",
       "              ('순위', '10'),\n",
       "              ('앨범', 'LOVE YOURSELF 轉 `Tear`'),\n",
       "              ('곡명', 'FAKE LOVE'),\n",
       "              ('가수', '방탄소년단'),\n",
       "              ('커버이미지_주소',\n",
       "               'https://cdnimg.melon.co.kr/cm/album/images/101/68/559/10168559_500.jpg/melon/resize/120/quality/80/optimize'),\n",
       "              ('좋아요', '253847')]),\n",
       " OrderedDict([('곡일련번호', '31314144'),\n",
       "              ('순위', '11'),\n",
       "              ('앨범', '가을 타나 봐'),\n",
       "              ('곡명', '가을 타나 봐'),\n",
       "              ('가수', '바이브'),\n",
       "              ('커버이미지_주소',\n",
       "               'https://cdnimg.melon.co.kr/cm/album/images/102/05/439/10205439_500.jpg/melon/resize/120/quality/80/optimize'),\n",
       "              ('좋아요', '28056')]),\n",
       " OrderedDict([('곡일련번호', '31266282'),\n",
       "              ('순위', '12'),\n",
       "              ('앨범', 'LOVE YOURSELF 結 `Answer`'),\n",
       "              ('곡명', 'Euphoria'),\n",
       "              ('가수', '방탄소년단'),\n",
       "              ('커버이미지_주소',\n",
       "               'https://cdnimg.melon.co.kr/cm/album/images/101/97/480/10197480_500.jpg/melon/resize/120/quality/80/optimize'),\n",
       "              ('좋아요', '129017')]),\n",
       " OrderedDict([('곡일련번호', '31302310'),\n",
       "              ('순위', '13'),\n",
       "              ('앨범', '헤어지는 중'),\n",
       "              ('곡명', '헤어지는 중'),\n",
       "              ('가수', '펀치 (Punch)'),\n",
       "              ('커버이미지_주소',\n",
       "               'https://cdnimg.melon.co.kr/cm/album/images/102/03/500/10203500_500.jpg/melon/resize/120/quality/80/optimize'),\n",
       "              ('좋아요', '77050')]),\n",
       " OrderedDict([('곡일련번호', '31266291'),\n",
       "              ('순위', '14'),\n",
       "              ('앨범', 'LOVE YOURSELF 結 `Answer`'),\n",
       "              ('곡명', 'Answer : Love Myself'),\n",
       "              ('가수', '방탄소년단'),\n",
       "              ('커버이미지_주소',\n",
       "               'https://cdnimg.melon.co.kr/cm/album/images/101/97/480/10197480_500.jpg/melon/resize/120/quality/80/optimize'),\n",
       "              ('좋아요', '108151')]),\n",
       " OrderedDict([('곡일련번호', '31085238'),\n",
       "              ('순위', '15'),\n",
       "              ('앨범', 'LOVE YOURSELF 轉 `Tear`'),\n",
       "              ('곡명', '전하지 못한 진심 (Feat. Steve Aoki)'),\n",
       "              ('가수', '방탄소년단'),\n",
       "              ('커버이미지_주소',\n",
       "               'https://cdnimg.melon.co.kr/cm/album/images/101/68/559/10168559_500.jpg/melon/resize/120/quality/80/optimize'),\n",
       "              ('좋아요', '176653')]),\n",
       " OrderedDict([('곡일련번호', '31266288'),\n",
       "              ('순위', '16'),\n",
       "              ('앨범', 'LOVE YOURSELF 結 `Answer`'),\n",
       "              ('곡명', 'Epiphany'),\n",
       "              ('가수', '방탄소년단'),\n",
       "              ('커버이미지_주소',\n",
       "               'https://cdnimg.melon.co.kr/cm/album/images/101/97/480/10197480_500.jpg/melon/resize/120/quality/80/optimize'),\n",
       "              ('좋아요', '101011')]),\n",
       " OrderedDict([('곡일련번호', '31266286'),\n",
       "              ('순위', '17'),\n",
       "              ('앨범', 'LOVE YOURSELF 結 `Answer`'),\n",
       "              ('곡명', 'Trivia 轉 : Seesaw'),\n",
       "              ('가수', '방탄소년단'),\n",
       "              ('커버이미지_주소',\n",
       "               'https://cdnimg.melon.co.kr/cm/album/images/101/97/480/10197480_500.jpg/melon/resize/120/quality/80/optimize'),\n",
       "              ('좋아요', '98436')]),\n",
       " OrderedDict([('곡일련번호', '30962526'),\n",
       "              ('순위', '18'),\n",
       "              ('앨범', '`키스 먼저 할까요?` OST Part.3'),\n",
       "              ('곡명', '모든 날, 모든 순간 (Every day, Every Moment)'),\n",
       "              ('가수', '폴킴'),\n",
       "              ('커버이미지_주소',\n",
       "               'https://cdnimg.melon.co.kr/cm/album/images/101/49/492/10149492_500.jpg/melon/resize/120/quality/80/optimize'),\n",
       "              ('좋아요', '185706')]),\n",
       " OrderedDict([('곡일련번호', '31280273'),\n",
       "              ('순위', '19'),\n",
       "              ('앨범', 'YOUNG'),\n",
       "              ('곡명', 'YOUNG'),\n",
       "              ('가수', '백현 (BAEKHYUN)'),\n",
       "              ('커버이미지_주소',\n",
       "               'https://cdnimg.melon.co.kr/cm/album/images/101/99/959/10199959_500.jpg/melon/resize/120/quality/80/optimize'),\n",
       "              ('좋아요', '91106')]),\n",
       " OrderedDict([('곡일련번호', '31266292'),\n",
       "              ('순위', '20'),\n",
       "              ('앨범', 'LOVE YOURSELF 結 `Answer`'),\n",
       "              ('곡명', 'Trivia 起 : Just Dance'),\n",
       "              ('가수', '방탄소년단'),\n",
       "              ('커버이미지_주소',\n",
       "               'https://cdnimg.melon.co.kr/cm/album/images/101/97/480/10197480_500.jpg/melon/resize/120/quality/80/optimize'),\n",
       "              ('좋아요', '88970')]),\n",
       " OrderedDict([('곡일련번호', '31286161'),\n",
       "              ('순위', '21'),\n",
       "              ('앨범', 'WARNING'),\n",
       "              ('곡명', '사이렌 (Siren)'),\n",
       "              ('가수', '선미'),\n",
       "              ('커버이미지_주소',\n",
       "               'https://cdnimg.melon.co.kr/cm/album/images/102/00/838/10200838_500.jpg/melon/resize/120/quality/80/optimize'),\n",
       "              ('좋아요', '91516')]),\n",
       " OrderedDict([('곡일련번호', '31266300'),\n",
       "              ('순위', '22'),\n",
       "              ('앨범', 'LOVE YOURSELF 結 `Answer`'),\n",
       "              ('곡명', 'Trivia 承 : Love'),\n",
       "              ('가수', '방탄소년단'),\n",
       "              ('커버이미지_주소',\n",
       "               'https://cdnimg.melon.co.kr/cm/album/images/101/97/480/10197480_500.jpg/melon/resize/120/quality/80/optimize'),\n",
       "              ('좋아요', '83610')]),\n",
       " OrderedDict([('곡일련번호', '31062863'),\n",
       "              ('순위', '23'),\n",
       "              ('앨범', 'RECIPE'),\n",
       "              ('곡명', '열애중'),\n",
       "              ('가수', '벤'),\n",
       "              ('커버이미지_주소',\n",
       "               'https://cdnimg.melon.co.kr/cm/album/images/101/64/839/10164839_500.jpg/melon/resize/120/quality/80/optimize'),\n",
       "              ('좋아요', '115805')]),\n",
       " OrderedDict([('곡일련번호', '31151836'),\n",
       "              ('순위', '24'),\n",
       "              ('앨범', 'Take'),\n",
       "              ('곡명', 'Way Back Home'),\n",
       "              ('가수', '숀 (SHAUN)'),\n",
       "              ('커버이미지_주소',\n",
       "               'https://cdnimg.melon.co.kr/cm/album/images/101/79/508/10179508_500.jpg/melon/resize/120/quality/80/optimize'),\n",
       "              ('좋아요', '225308')]),\n",
       " OrderedDict([('곡일련번호', '31085244'),\n",
       "              ('순위', '25'),\n",
       "              ('앨범', 'LOVE YOURSELF 轉 `Tear`'),\n",
       "              ('곡명', 'Anpanman'),\n",
       "              ('가수', '방탄소년단'),\n",
       "              ('커버이미지_주소',\n",
       "               'https://cdnimg.melon.co.kr/cm/album/images/101/68/559/10168559_500.jpg/melon/resize/120/quality/80/optimize'),\n",
       "              ('좋아요', '138694')]),\n",
       " OrderedDict([('곡일련번호', '30244931'),\n",
       "              ('순위', '26'),\n",
       "              ('앨범', 'YOU NEVER WALK ALONE'),\n",
       "              ('곡명', '봄날'),\n",
       "              ('가수', '방탄소년단'),\n",
       "              ('커버이미지_주소',\n",
       "               'https://cdnimg.melon.co.kr/cm/album/images/100/37/969/10037969_500.jpg/melon/resize/120/quality/80/optimize'),\n",
       "              ('좋아요', '359130')]),\n",
       " OrderedDict([('곡일련번호', '30637982'),\n",
       "              ('순위', '27'),\n",
       "              ('앨범', 'LOVE YOURSELF 承 `Her`'),\n",
       "              ('곡명', 'DNA'),\n",
       "              ('가수', '방탄소년단'),\n",
       "              ('커버이미지_주소',\n",
       "               'https://cdnimg.melon.co.kr/cm/album/images/100/97/112/10097112_500.jpg/melon/resize/120/quality/80/optimize'),\n",
       "              ('좋아요', '323911')]),\n",
       " OrderedDict([('곡일련번호', '31085243'),\n",
       "              ('순위', '28'),\n",
       "              ('앨범', 'LOVE YOURSELF 轉 `Tear`'),\n",
       "              ('곡명', 'Airplane pt.2'),\n",
       "              ('가수', '방탄소년단'),\n",
       "              ('커버이미지_주소',\n",
       "               'https://cdnimg.melon.co.kr/cm/album/images/101/68/559/10168559_500.jpg/melon/resize/120/quality/80/optimize'),\n",
       "              ('좋아요', '127355')]),\n",
       " OrderedDict([('곡일련번호', '30806536'),\n",
       "              ('순위', '29'),\n",
       "              ('앨범', 'Universe - 겨울 스페셜 앨범, 2017'),\n",
       "              ('곡명', 'Universe'),\n",
       "              ('가수', 'EXO'),\n",
       "              ('커버이미지_주소',\n",
       "               'https://cdnimg.melon.co.kr/cm/album/images/101/22/917/10122917_500.jpg/melon/resize/120/quality/80/optimize'),\n",
       "              ('좋아요', '155809')]),\n",
       " OrderedDict([('곡일련번호', '31309079'),\n",
       "              ('순위', '30'),\n",
       "              ('앨범', 'We Young'),\n",
       "              ('곡명', 'We Young'),\n",
       "              ('가수', '찬열'),\n",
       "              ('커버이미지_주소',\n",
       "               'https://cdnimg.melon.co.kr/cm/album/images/102/04/604/10204604_500.jpg/melon/resize/120/quality/80/optimize'),\n",
       "              ('좋아요', '53852')]),\n",
       " OrderedDict([('곡일련번호', '31219546'),\n",
       "              ('순위', '31'),\n",
       "              ('앨범', 'Dingo X Indigo Music'),\n",
       "              ('곡명', 'flex (Prod. By 기리보이)'),\n",
       "              ('가수', '기리보이'),\n",
       "              ('커버이미지_주소',\n",
       "               'https://cdnimg.melon.co.kr/cm/album/images/101/89/965/10189965_500.jpg/melon/resize/120/quality/80/optimize'),\n",
       "              ('좋아요', '72135')]),\n",
       " OrderedDict([('곡일련번호', '31009483'),\n",
       "              ('순위', '32'),\n",
       "              ('앨범', 'Blooming Days - The 2nd Mini Album'),\n",
       "              ('곡명', '花요일 (Blooming Day)'),\n",
       "              ('가수', 'EXO-CBX (첸백시)'),\n",
       "              ('커버이미지_주소',\n",
       "               'https://cdnimg.melon.co.kr/cm/album/images/101/56/597/10156597_500.jpg/melon/resize/120/quality/80/optimize'),\n",
       "              ('좋아요', '110311')]),\n",
       " OrderedDict([('곡일련번호', '31144690'),\n",
       "              ('순위', '33'),\n",
       "              ('앨범', 'IM'),\n",
       "              ('곡명', 'IndiGO'),\n",
       "              ('가수', '저스디스 (JUSTHIS)'),\n",
       "              ('커버이미지_주소',\n",
       "               'https://cdnimg.melon.co.kr/cm/album/images/101/78/566/10178566_500.jpg/melon/resize/120/quality/80/optimize'),\n",
       "              ('좋아요', '46739')]),\n",
       " OrderedDict([('곡일련번호', '31278454'),\n",
       "              ('순위', '34'),\n",
       "              ('앨범', 'Sheep (Alan Walker Relift)'),\n",
       "              ('곡명', 'Sheep (Alan Walker Relift)'),\n",
       "              ('가수', '레이 (LAY)'),\n",
       "              ('커버이미지_주소',\n",
       "               'https://cdnimg.melon.co.kr/cm/album/images/101/99/693/10199693_500.jpg/melon/resize/120/quality/80/optimize'),\n",
       "              ('좋아요', '30411')]),\n",
       " OrderedDict([('곡일련번호', '31131273'),\n",
       "              ('순위', '35'),\n",
       "              ('앨범', 'SQUARE UP'),\n",
       "              ('곡명', '뚜두뚜두 (DDU-DU DDU-DU)'),\n",
       "              ('가수', 'BLACKPINK'),\n",
       "              ('커버이미지_주소',\n",
       "               'https://cdnimg.melon.co.kr/cm/album/images/101/76/415/10176415_500.jpg/melon/resize/120/quality/80/optimize'),\n",
       "              ('좋아요', '192831')]),\n",
       " OrderedDict([('곡일련번호', '30699142'),\n",
       "              ('순위', '36'),\n",
       "              ('앨범', 'About You'),\n",
       "              ('곡명', '지나오다'),\n",
       "              ('가수', '닐로 (Nilo)'),\n",
       "              ('커버이미지_주소',\n",
       "               'https://cdnimg.melon.co.kr/cm/album/images/101/06/853/10106853_500.jpg/melon/resize/120/quality/80/optimize'),\n",
       "              ('좋아요', '178367')]),\n",
       " OrderedDict([('곡일련번호', '31175119'),\n",
       "              ('순위', '37'),\n",
       "              ('앨범', 'Summer Nights'),\n",
       "              ('곡명', 'Dance The Night Away'),\n",
       "              ('가수', 'TWICE (트와이스)'),\n",
       "              ('커버이미지_주소',\n",
       "               'https://cdnimg.melon.co.kr/cm/album/images/101/83/127/10183127_500.jpg/melon/resize/120/quality/80/optimize'),\n",
       "              ('좋아요', '127052')]),\n",
       " OrderedDict([('곡일련번호', '31331750'),\n",
       "              ('순위', '38'),\n",
       "              ('앨범', 'r'),\n",
       "              ('곡명', '나'),\n",
       "              ('가수', '박원'),\n",
       "              ('커버이미지_주소',\n",
       "               'https://cdnimg.melon.co.kr/cm/album/images/102/08/360/10208360_500.jpg/melon/resize/120/quality/80/optimize'),\n",
       "              ('좋아요', '26696')]),\n",
       " OrderedDict([('곡일련번호', '31113240'),\n",
       "              ('순위', '39'),\n",
       "              ('앨범', '1÷χ=1 (UNDIVIDED)'),\n",
       "              ('곡명', '켜줘 (Light)'),\n",
       "              ('가수', 'Wanna One (워너원)'),\n",
       "              ('커버이미지_주소',\n",
       "               'https://cdnimg.melon.co.kr/cm/album/images/101/73/365/10173365_500.jpg/melon/resize/120/quality/80/optimize'),\n",
       "              ('좋아요', '112878')]),\n",
       " OrderedDict([('곡일련번호', '31230093'),\n",
       "              ('순위', '40'),\n",
       "              ('앨범', 'Summer Magic - Summer Mini Album'),\n",
       "              ('곡명', 'Power Up'),\n",
       "              ('가수', 'Red Velvet (레드벨벳)'),\n",
       "              ('커버이미지_주소',\n",
       "               'https://cdnimg.melon.co.kr/cm/album/images/101/91/694/10191694_500.jpg/melon/resize/120/quality/80/optimize'),\n",
       "              ('좋아요', '130949')]),\n",
       " OrderedDict([('곡일련번호', '30568338'),\n",
       "              ('순위', '41'),\n",
       "              ('앨범', '1X1=1(TO BE ONE)'),\n",
       "              ('곡명', '에너제틱 (Energetic)'),\n",
       "              ('가수', 'Wanna One (워너원)'),\n",
       "              ('커버이미지_주소',\n",
       "               'https://cdnimg.melon.co.kr/cm/album/images/100/85/951/10085951_500.jpg/melon/resize/120/quality/80/optimize'),\n",
       "              ('좋아요', '268394')]),\n",
       " OrderedDict([('곡일련번호', '30859584'),\n",
       "              ('순위', '42'),\n",
       "              ('앨범', 'Return'),\n",
       "              ('곡명', '사랑을 했다 (LOVE SCENARIO)'),\n",
       "              ('가수', 'iKON'),\n",
       "              ('커버이미지_주소',\n",
       "               'https://cdnimg.melon.co.kr/cm/album/images/101/32/945/10132945_500.jpg/melon/resize/120/quality/80/optimize'),\n",
       "              ('좋아요', '267692')]),\n",
       " OrderedDict([('곡일련번호', '31304766'),\n",
       "              ('순위', '43'),\n",
       "              ('앨범', '이별하러 가는 길'),\n",
       "              ('곡명', '이별하러 가는 길'),\n",
       "              ('가수', '임한별'),\n",
       "              ('커버이미지_주소',\n",
       "               'https://cdnimg.melon.co.kr/cm/album/images/102/03/965/10203965_500.jpg/melon/resize/120/quality/80/optimize'),\n",
       "              ('좋아요', '25182')]),\n",
       " OrderedDict([('곡일련번호', '30960341'),\n",
       "              ('순위', '44'),\n",
       "              ('앨범', '0+1=1 (I PROMISE YOU)'),\n",
       "              ('곡명', 'BOOMERANG (부메랑)'),\n",
       "              ('가수', 'Wanna One (워너원)'),\n",
       "              ('커버이미지_주소',\n",
       "               'https://cdnimg.melon.co.kr/cm/album/images/101/44/723/10144723_2_500.jpg/melon/resize/120/quality/80/optimize'),\n",
       "              ('좋아요', '124968')]),\n",
       " OrderedDict([('곡일련번호', '30725482'),\n",
       "              ('순위', '45'),\n",
       "              ('앨범', '1-1=0 (NOTHING WITHOUT YOU)'),\n",
       "              ('곡명', 'Beautiful'),\n",
       "              ('가수', 'Wanna One (워너원)'),\n",
       "              ('커버이미지_주소',\n",
       "               'https://cdnimg.melon.co.kr/cm/album/images/101/11/029/10111029_500.jpg/melon/resize/120/quality/80/optimize'),\n",
       "              ('좋아요', '216065')]),\n",
       " OrderedDict([('곡일련번호', '31093710'),\n",
       "              ('순위', '46'),\n",
       "              ('앨범', 'Red Diary Page.2'),\n",
       "              ('곡명', '여행'),\n",
       "              ('가수', '볼빨간사춘기'),\n",
       "              ('커버이미지_주소',\n",
       "               'https://cdnimg.melon.co.kr/cm/album/images/101/70/069/10170069_500.jpg/melon/resize/120/quality/80/optimize'),\n",
       "              ('좋아요', '190489')]),\n",
       " OrderedDict([('곡일련번호', '31113241'),\n",
       "              ('순위', '47'),\n",
       "              ('앨범', '1÷χ=1 (UNDIVIDED)'),\n",
       "              ('곡명', '캥거루 (Kangaroo) (Prod. ZICO)'),\n",
       "              ('가수', 'Wanna One (워너원) - 트리플포지션'),\n",
       "              ('커버이미지_주소',\n",
       "               'https://cdnimg.melon.co.kr/cm/album/images/101/73/365/10173365_500.jpg/melon/resize/120/quality/80/optimize'),\n",
       "              ('좋아요', '104852')]),\n",
       " OrderedDict([('곡일련번호', '31189241'),\n",
       "              ('순위', '48'),\n",
       "              ('앨범', 'RED MOON'),\n",
       "              ('곡명', '너나 해 (Egotistic)'),\n",
       "              ('가수', '마마무(Mamamoo)'),\n",
       "              ('커버이미지_주소',\n",
       "               'https://cdnimg.melon.co.kr/cm/album/images/101/85/416/10185416_500.jpg/melon/resize/120/quality/80/optimize'),\n",
       "              ('좋아요', '94861')]),\n",
       " OrderedDict([('곡일련번호', '30884950'),\n",
       "              ('순위', '49'),\n",
       "              ('앨범', '그때 헤어지면 돼'),\n",
       "              ('곡명', '그때 헤어지면 돼'),\n",
       "              ('가수', '로이킴'),\n",
       "              ('커버이미지_주소',\n",
       "               'https://cdnimg.melon.co.kr/cm/album/images/101/37/574/10137574_500.jpg/melon/resize/120/quality/80/optimize'),\n",
       "              ('좋아요', '176025')]),\n",
       " OrderedDict([('곡일련번호', '30809895'),\n",
       "              ('순위', '50'),\n",
       "              ('앨범', 'inside'),\n",
       "              ('곡명', '미안해'),\n",
       "              ('가수', '양다일'),\n",
       "              ('커버이미지_주소',\n",
       "               'https://cdnimg.melon.co.kr/cm/album/images/101/23/639/10123639_500.jpg/melon/resize/120/quality/80/optimize'),\n",
       "              ('좋아요', '115955')]),\n",
       " OrderedDict([('곡일련번호', '31224316'),\n",
       "              ('순위', '51'),\n",
       "              ('앨범', 'NEW KIDS : CONTINUE'),\n",
       "              ('곡명', '죽겠다 (KILLING ME)'),\n",
       "              ('가수', 'iKON'),\n",
       "              ('커버이미지_주소',\n",
       "               'https://cdnimg.melon.co.kr/cm/album/images/101/90/854/10190854_500.jpg/melon/resize/120/quality/80/optimize'),\n",
       "              ('좋아요', '66253')]),\n",
       " OrderedDict([('곡일련번호', '8235260'),\n",
       "              ('순위', '52'),\n",
       "              ('앨범', '비'),\n",
       "              ('곡명', '비'),\n",
       "              ('가수', '폴킴'),\n",
       "              ('커버이미지_주소',\n",
       "               'https://cdnimg.melon.co.kr/cm/album/images/026/92/501/2692501_500.jpg/melon/resize/120/quality/80/optimize'),\n",
       "              ('좋아요', '156761')]),\n",
       " OrderedDict([('곡일련번호', '30669593'),\n",
       "              ('순위', '53'),\n",
       "              ('앨범', '가을 안부'),\n",
       "              ('곡명', '가을 안부'),\n",
       "              ('가수', '먼데이 키즈 (Monday Kiz)'),\n",
       "              ('커버이미지_주소',\n",
       "               'https://cdnimg.melon.co.kr/cm/album/images/101/02/177/10102177_500.jpg/melon/resize/120/quality/80/optimize'),\n",
       "              ('좋아요', '109447')]),\n",
       " OrderedDict([('곡일련번호', '31133898'),\n",
       "              ('순위', '54'),\n",
       "              ('앨범', 'THIS IS US'),\n",
       "              ('곡명', '너 없인 안 된다'),\n",
       "              ('가수', '비투비'),\n",
       "              ('커버이미지_주소',\n",
       "               'https://cdnimg.melon.co.kr/cm/album/images/101/75/106/10175106_500.jpg/melon/resize/120/quality/80/optimize'),\n",
       "              ('좋아요', '132726')]),\n",
       " OrderedDict([('곡일련번호', '31346039'),\n",
       "              ('순위', '55'),\n",
       "              ('앨범', 'ABOUT ME'),\n",
       "              ('곡명', 'Not A Love'),\n",
       "              ('가수', '바이브'),\n",
       "              ('커버이미지_주소',\n",
       "               'https://cdnimg.melon.co.kr/cm/album/images/102/10/541/10210541_500.jpg/melon/resize/120/quality/80/optimize'),\n",
       "              ('좋아요', '2508')]),\n",
       " OrderedDict([('곡일련번호', '31164090'),\n",
       "              ('순위', '56'),\n",
       "              ('앨범', 'The Fairy Tale'),\n",
       "              ('곡명', '동화'),\n",
       "              ('가수', '멜로망스'),\n",
       "              ('커버이미지_주소',\n",
       "               'https://cdnimg.melon.co.kr/cm/album/images/101/81/438/10181438_500.jpg/melon/resize/120/quality/80/optimize'),\n",
       "              ('좋아요', '81522')]),\n",
       " OrderedDict([('곡일련번호', '31199873'),\n",
       "              ('순위', '57'),\n",
       "              ('앨범', 'THE GREAT SEUNGRI'),\n",
       "              ('곡명', '셋 셀테니 (1, 2, 3!)'),\n",
       "              ('가수', '승리'),\n",
       "              ('커버이미지_주소',\n",
       "               'https://cdnimg.melon.co.kr/cm/album/images/101/87/129/10187129_500.jpg/melon/resize/120/quality/80/optimize'),\n",
       "              ('좋아요', '78381')]),\n",
       " OrderedDict([('곡일련번호', '31161280'),\n",
       "              ('순위', '58'),\n",
       "              ('앨범', 'ONE & SIX'),\n",
       "              ('곡명', '1도 없어'),\n",
       "              ('가수', 'Apink (에이핑크)'),\n",
       "              ('커버이미지_주소',\n",
       "               'https://cdnimg.melon.co.kr/cm/album/images/101/81/013/10181013_500.jpg/melon/resize/120/quality/80/optimize'),\n",
       "              ('좋아요', '88037')]),\n",
       " OrderedDict([('곡일련번호', '30314784'),\n",
       "              ('순위', '59'),\n",
       "              ('앨범', '밤편지'),\n",
       "              ('곡명', '밤편지'),\n",
       "              ('가수', '아이유'),\n",
       "              ('커버이미지_주소',\n",
       "               'https://cdnimg.melon.co.kr/cm/album/images/100/47/890/10047890_500.jpg/melon/resize/120/quality/80/optimize'),\n",
       "              ('좋아요', '283167')]),\n",
       " OrderedDict([('곡일련번호', '31215747'),\n",
       "              ('순위', '60'),\n",
       "              ('앨범', 'SoulMate'),\n",
       "              ('곡명', 'SoulMate (Feat. 아이유)'),\n",
       "              ('가수', '지코 (ZICO)'),\n",
       "              ('커버이미지_주소',\n",
       "               'https://cdnimg.melon.co.kr/cm/album/images/101/89/402/10189402_500.jpg/melon/resize/120/quality/80/optimize'),\n",
       "              ('좋아요', '113443')]),\n",
       " OrderedDict([('곡일련번호', '31189085'),\n",
       "              ('순위', '61'),\n",
       "              ('앨범', 'SEVENTEEN 5TH MINI ALBUM `YOU MAKE MY DAY`'),\n",
       "              ('곡명', '어쩌나'),\n",
       "              ('가수', '세븐틴'),\n",
       "              ('커버이미지_주소',\n",
       "               'https://cdnimg.melon.co.kr/cm/album/images/101/85/387/10185387_500.jpg/melon/resize/120/quality/80/optimize'),\n",
       "              ('좋아요', '64770')]),\n",
       " OrderedDict([('곡일련번호', '31244486'),\n",
       "              ('순위', '62'),\n",
       "              ('앨범', 'A-TEEN Part.3'),\n",
       "              ('곡명', 'A-TEEN'),\n",
       "              ('가수', '세븐틴'),\n",
       "              ('커버이미지_주소',\n",
       "               'https://cdnimg.melon.co.kr/cm/album/images/101/94/044/10194044_500.jpg/melon/resize/120/quality/80/optimize'),\n",
       "              ('좋아요', '75932')]),\n",
       " OrderedDict([('곡일련번호', '30755375'),\n",
       "              ('순위', '63'),\n",
       "              ('앨범', '그날처럼'),\n",
       "              ('곡명', '그날처럼'),\n",
       "              ('가수', '장덕철'),\n",
       "              ('커버이미지_주소',\n",
       "               'https://cdnimg.melon.co.kr/cm/album/images/101/15/186/10115186_500.jpg/melon/resize/120/quality/80/optimize'),\n",
       "              ('좋아요', '208427')]),\n",
       " OrderedDict([('곡일련번호', '31113243'),\n",
       "              ('순위', '64'),\n",
       "              ('앨범', '1÷χ=1 (UNDIVIDED)'),\n",
       "              ('곡명', '모래시계 (Prod. 헤이즈)'),\n",
       "              ('가수', 'Wanna One (워너원) - 더힐'),\n",
       "              ('커버이미지_주소',\n",
       "               'https://cdnimg.melon.co.kr/cm/album/images/101/73/365/10173365_500.jpg/melon/resize/120/quality/80/optimize'),\n",
       "              ('좋아요', '83296')]),\n",
       " OrderedDict([('곡일련번호', '30672529'),\n",
       "              ('순위', '65'),\n",
       "              ('앨범', 'Brother Act.'),\n",
       "              ('곡명', '그리워하다'),\n",
       "              ('가수', '비투비'),\n",
       "              ('커버이미지_주소',\n",
       "               'https://cdnimg.melon.co.kr/cm/album/images/101/02/658/10102658_500.jpg/melon/resize/120/quality/80/optimize'),\n",
       "              ('좋아요', '203463')]),\n",
       " OrderedDict([('곡일련번호', '9642570'),\n",
       "              ('순위', '66'),\n",
       "              ('앨범', '넋두리'),\n",
       "              ('곡명', '넋두리'),\n",
       "              ('가수', '닐로 (Nilo)'),\n",
       "              ('커버이미지_주소',\n",
       "               'https://cdnimg.melon.co.kr/cm/album/images/027/10/553/2710553_500.jpg/melon/resize/120/quality/80/optimize'),\n",
       "              ('좋아요', '81028')]),\n",
       " OrderedDict([('곡일련번호', '30930312'),\n",
       "              ('순위', '67'),\n",
       "              ('앨범', '0+1=1 (I PROMISE YOU)'),\n",
       "              ('곡명', '약속해요 (I.P.U.)'),\n",
       "              ('가수', 'Wanna One (워너원)'),\n",
       "              ('커버이미지_주소',\n",
       "               'https://cdnimg.melon.co.kr/cm/album/images/101/44/723/10144723_2_500.jpg/melon/resize/120/quality/80/optimize'),\n",
       "              ('좋아요', '137141')]),\n",
       " OrderedDict([('곡일련번호', '31263577'),\n",
       "              ('순위', '68'),\n",
       "              ('앨범', '4.1'),\n",
       "              ('곡명', '매트리스'),\n",
       "              ('가수', '10cm'),\n",
       "              ('커버이미지_주소',\n",
       "               'https://cdnimg.melon.co.kr/cm/album/images/101/96/980/10196980_500.jpg/melon/resize/120/quality/80/optimize'),\n",
       "              ('좋아요', '62312')]),\n",
       " OrderedDict([('곡일련번호', '31340983'),\n",
       "              ('순위', '69'),\n",
       "              ('앨범', '쇼미더머니 777 Episode 1'),\n",
       "              ('곡명', '공상과학기술 (Feat. 기리보이, 스윙스)'),\n",
       "              ('가수', 'nafla'),\n",
       "              ('커버이미지_주소',\n",
       "               'https://cdnimg.melon.co.kr/cm/album/images/102/09/647/10209647_500.jpg/melon/resize/120/quality/80/optimize'),\n",
       "              ('좋아요', '13148')]),\n",
       " OrderedDict([('곡일련번호', '31131274'),\n",
       "              ('순위', '70'),\n",
       "              ('앨범', 'SQUARE UP'),\n",
       "              ('곡명', 'Forever Young'),\n",
       "              ('가수', 'BLACKPINK'),\n",
       "              ('커버이미지_주소',\n",
       "               'https://cdnimg.melon.co.kr/cm/album/images/101/76/415/10176415_500.jpg/melon/resize/120/quality/80/optimize'),\n",
       "              ('좋아요', '119422')]),\n",
       " OrderedDict([('곡일련번호', '31246870'),\n",
       "              ('순위', '71'),\n",
       "              ('앨범', '한(一)'),\n",
       "              ('곡명', '한(一)'),\n",
       "              ('가수', '(여자)아이들'),\n",
       "              ('커버이미지_주소',\n",
       "               'https://cdnimg.melon.co.kr/cm/album/images/101/94/362/10194362_500.jpg/melon/resize/120/quality/80/optimize'),\n",
       "              ('좋아요', '69062')]),\n",
       " OrderedDict([('곡일련번호', '31035061'),\n",
       "              ('순위', '72'),\n",
       "              ('앨범', '건반 위의 하이에나 Part.4'),\n",
       "              ('곡명', '주지마'),\n",
       "              ('가수', '로꼬'),\n",
       "              ('커버이미지_주소',\n",
       "               'https://cdnimg.melon.co.kr/cm/album/images/101/60/487/10160487_500.jpg/melon/resize/120/quality/80/optimize'),\n",
       "              ('좋아요', '154263')]),\n",
       " OrderedDict([('곡일련번호', '31147211'),\n",
       "              ('순위', '73'),\n",
       "              ('앨범', 'WHO, YOU'),\n",
       "              ('곡명', 'Dejavu'),\n",
       "              ('가수', '뉴이스트 W'),\n",
       "              ('커버이미지_주소',\n",
       "               'https://cdnimg.melon.co.kr/cm/album/images/101/78/912/10178912_500.jpg/melon/resize/120/quality/80/optimize'),\n",
       "              ('좋아요', '53081')]),\n",
       " OrderedDict([('곡일련번호', '30849733'),\n",
       "              ('순위', '74'),\n",
       "              ('앨범', '투유 프로젝트 - 슈가맨2 Part.2'),\n",
       "              ('곡명', 'You'),\n",
       "              ('가수', '멜로망스'),\n",
       "              ('커버이미지_주소',\n",
       "               'https://cdnimg.melon.co.kr/cm/album/images/101/31/018/10131018_500.jpg/melon/resize/120/quality/80/optimize'),\n",
       "              ('좋아요', '141103')]),\n",
       " OrderedDict([('곡일련번호', '31340984'),\n",
       "              ('순위', '75'),\n",
       "              ('앨범', '쇼미더머니 777 Episode 1'),\n",
       "              ('곡명', '패 (Feat. 넉살, 딥플로우)'),\n",
       "              ('가수', '김효은'),\n",
       "              ('커버이미지_주소',\n",
       "               'https://cdnimg.melon.co.kr/cm/album/images/102/09/647/10209647_500.jpg/melon/resize/120/quality/80/optimize'),\n",
       "              ('좋아요', '10536')]),\n",
       " OrderedDict([('곡일련번호', '31309947'),\n",
       "              ('순위', '76'),\n",
       "              ('앨범', 'A-TEEN Part.4'),\n",
       "              ('곡명', '도망가지마'),\n",
       "              ('가수', '모트 (Motte)'),\n",
       "              ('커버이미지_주소',\n",
       "               'https://cdnimg.melon.co.kr/cm/album/images/102/04/722/10204722_500.jpg/melon/resize/120/quality/80/optimize'),\n",
       "              ('좋아요', '48716')]),\n",
       " OrderedDict([('곡일련번호', '30721801'),\n",
       "              ('순위', '77'),\n",
       "              ('앨범', '돈꽃 OST Part.1'),\n",
       "              ('곡명', 'My Way'),\n",
       "              ('가수', '이수 (엠씨 더 맥스)'),\n",
       "              ('커버이미지_주소',\n",
       "               'https://cdnimg.melon.co.kr/cm/album/images/101/10/396/10110396_500.jpg/melon/resize/120/quality/80/optimize'),\n",
       "              ('좋아요', '119657')]),\n",
       " OrderedDict([('곡일련번호', '30514366'),\n",
       "              ('순위', '78'),\n",
       "              ('앨범', 'Moonlight'),\n",
       "              ('곡명', '선물'),\n",
       "              ('가수', '멜로망스'),\n",
       "              ('커버이미지_주소',\n",
       "               'https://cdnimg.melon.co.kr/cm/album/images/100/78/176/10078176_500.jpg/melon/resize/120/quality/80/optimize'),\n",
       "              ('좋아요', '266869')]),\n",
       " OrderedDict([('곡일련번호', '31227367'),\n",
       "              ('순위', '79'),\n",
       "              ('앨범', '미스터 션샤인 OST Part.5'),\n",
       "              ('곡명', '좋은 날'),\n",
       "              ('가수', '멜로망스'),\n",
       "              ('커버이미지_주소',\n",
       "               'https://cdnimg.melon.co.kr/cm/album/images/101/91/294/10191294_500.jpg/melon/resize/120/quality/80/optimize'),\n",
       "              ('좋아요', '33146')]),\n",
       " OrderedDict([('곡일련번호', '31113242'),\n",
       "              ('순위', '80'),\n",
       "              ('앨범', '1÷χ=1 (UNDIVIDED)'),\n",
       "              ('곡명', '영원+1 (Prod. NELL)'),\n",
       "              ('가수', 'Wanna One (워너원) - 린온미'),\n",
       "              ('커버이미지_주소',\n",
       "               'https://cdnimg.melon.co.kr/cm/album/images/101/73/365/10173365_500.jpg/melon/resize/120/quality/80/optimize'),\n",
       "              ('좋아요', '76313')]),\n",
       " OrderedDict([('곡일련번호', '31266377'),\n",
       "              ('순위', '81'),\n",
       "              ('앨범', '미스터 션샤인 OST Part.10'),\n",
       "              ('곡명', 'AND I'),\n",
       "              ('가수', '뉴이스트 W'),\n",
       "              ('커버이미지_주소',\n",
       "               'https://cdnimg.melon.co.kr/cm/album/images/101/97/500/10197500_500.jpg/melon/resize/120/quality/80/optimize'),\n",
       "              ('좋아요', '20736')]),\n",
       " OrderedDict([('곡일련번호', '31331749'),\n",
       "              ('순위', '82'),\n",
       "              ('앨범', 'I Don’t Care (with 스푼즈)'),\n",
       "              ('곡명', 'I Don’t Care (with 스푼즈)'),\n",
       "              ('가수', '뉴이스트 W'),\n",
       "              ('커버이미지_주소',\n",
       "               'https://cdnimg.melon.co.kr/cm/album/images/102/08/359/10208359_500.jpg/melon/resize/120/quality/80/optimize'),\n",
       "              ('좋아요', '13544')]),\n",
       " OrderedDict([('곡일련번호', '31147212'),\n",
       "              ('순위', '83'),\n",
       "              ('앨범', 'WHO, YOU'),\n",
       "              ('곡명', '북극성 (Polaris)'),\n",
       "              ('가수', '뉴이스트 W'),\n",
       "              ('커버이미지_주소',\n",
       "               'https://cdnimg.melon.co.kr/cm/album/images/101/78/912/10178912_500.jpg/melon/resize/120/quality/80/optimize'),\n",
       "              ('좋아요', '32098')]),\n",
       " OrderedDict([('곡일련번호', '30970444'),\n",
       "              ('순위', '84'),\n",
       "              ('앨범', '소나기 (Feat. 10cm)'),\n",
       "              ('곡명', '소나기 (Feat. 10cm)'),\n",
       "              ('가수', '용준형'),\n",
       "              ('커버이미지_주소',\n",
       "               'https://cdnimg.melon.co.kr/cm/album/images/101/50/572/10150572_500.jpg/melon/resize/120/quality/80/optimize'),\n",
       "              ('좋아요', '130935')]),\n",
       " OrderedDict([('곡일련번호', '31113244'),\n",
       "              ('순위', '85'),\n",
       "              ('앨범', '1÷χ=1 (UNDIVIDED)'),\n",
       "              ('곡명', '11 (Prod. 다이나믹듀오)'),\n",
       "              ('가수', 'Wanna One (워너원) - 남바완'),\n",
       "              ('커버이미지_주소',\n",
       "               'https://cdnimg.melon.co.kr/cm/album/images/101/73/365/10173365_500.jpg/melon/resize/120/quality/80/optimize'),\n",
       "              ('좋아요', '67211')]),\n",
       " OrderedDict([('곡일련번호', '4032981'),\n",
       "              ('순위', '86'),\n",
       "              ('앨범', 'THE SECOND MINI ALBUM `여보세요`'),\n",
       "              ('곡명', '여보세요'),\n",
       "              ('가수', 'NU`EST'),\n",
       "              ('커버이미지_주소',\n",
       "               'https://cdnimg.melon.co.kr/cm/album/images/021/75/137/2175137_500.jpg/melon/resize/120/quality/80/optimize'),\n",
       "              ('좋아요', '126064')]),\n",
       " OrderedDict([('곡일련번호', '31299371'),\n",
       "              ('순위', '87'),\n",
       "              ('앨범', '라이프 OST Part.6'),\n",
       "              ('곡명', '잘 지내요'),\n",
       "              ('가수', '정승환'),\n",
       "              ('커버이미지_주소',\n",
       "               'https://cdnimg.melon.co.kr/cm/album/images/102/02/962/10202962_500.jpg/melon/resize/120/quality/80/optimize'),\n",
       "              ('좋아요', '25169')]),\n",
       " OrderedDict([('곡일련번호', '30806539'),\n",
       "              ('순위', '88'),\n",
       "              ('앨범', 'Universe - 겨울 스페셜 앨범, 2017'),\n",
       "              ('곡명', '지나갈 테니 (Been Through)'),\n",
       "              ('가수', 'EXO'),\n",
       "              ('커버이미지_주소',\n",
       "               'https://cdnimg.melon.co.kr/cm/album/images/101/22/917/10122917_500.jpg/melon/resize/120/quality/80/optimize'),\n",
       "              ('좋아요', '88331')]),\n",
       " OrderedDict([('곡일련번호', '31324696'),\n",
       "              ('순위', '89'),\n",
       "              ('앨범', '연애플레이리스트3 Part.1'),\n",
       "              ('곡명', 'Perfect'),\n",
       "              ('가수', '10cm'),\n",
       "              ('커버이미지_주소',\n",
       "               'https://cdnimg.melon.co.kr/cm/album/images/102/07/153/10207153_500.jpg/melon/resize/120/quality/80/optimize'),\n",
       "              ('좋아요', '24732')]),\n",
       " OrderedDict([('곡일련번호', '8111603'),\n",
       "              ('순위', '90'),\n",
       "              ('앨범', 'Fitz and The Tantrums (Deluxe)'),\n",
       "              ('곡명', 'HandClap'),\n",
       "              ('가수', 'Fitz & The Tantrums'),\n",
       "              ('커버이미지_주소',\n",
       "               'https://cdnimg.melon.co.kr/cm/album/images/026/75/179/2675179_500.jpg/melon/resize/120/quality/80/optimize'),\n",
       "              ('좋아요', '156476')]),\n",
       " OrderedDict([('곡일련번호', '30661885'),\n",
       "              ('순위', '91'),\n",
       "              ('앨범', 'W, HERE'),\n",
       "              ('곡명', 'WHERE YOU AT'),\n",
       "              ('가수', '뉴이스트 W'),\n",
       "              ('커버이미지_주소',\n",
       "               'https://cdnimg.melon.co.kr/cm/album/images/101/00/941/10100941_500.jpg/melon/resize/120/quality/80/optimize'),\n",
       "              ('좋아요', '92753')]),\n",
       " OrderedDict([('곡일련번호', '31006730'),\n",
       "              ('순위', '92'),\n",
       "              ('앨범', 'What is Love?'),\n",
       "              ('곡명', 'What is Love?'),\n",
       "              ('가수', 'TWICE (트와이스)'),\n",
       "              ('커버이미지_주소',\n",
       "               'https://cdnimg.melon.co.kr/cm/album/images/101/56/195/10156195_500.jpg/melon/resize/120/quality/80/optimize'),\n",
       "              ('좋아요', '121530')]),\n",
       " OrderedDict([('곡일련번호', '31052421'),\n",
       "              ('순위', '93'),\n",
       "              ('앨범', \"여자친구 The 6th Mini Album 'Time for the moon night'\"),\n",
       "              ('곡명', '밤 (Time for the moon night)'),\n",
       "              ('가수', '여자친구 (GFRIEND)'),\n",
       "              ('커버이미지_주소',\n",
       "               'https://cdnimg.melon.co.kr/cm/album/images/101/63/106/10163106_500.jpg/melon/resize/120/quality/80/optimize'),\n",
       "              ('좋아요', '125760')]),\n",
       " OrderedDict([('곡일련번호', '31194610'),\n",
       "              ('순위', '94'),\n",
       "              ('앨범', 'Blooming Blue'),\n",
       "              ('곡명', 'Love U'),\n",
       "              ('가수', '청하'),\n",
       "              ('커버이미지_주소',\n",
       "               'https://cdnimg.melon.co.kr/cm/album/images/101/86/254/10186254_500.jpg/melon/resize/120/quality/80/optimize'),\n",
       "              ('좋아요', '61670')]),\n",
       " OrderedDict([('곡일련번호', '31147210'),\n",
       "              ('순위', '95'),\n",
       "              ('앨범', 'WHO, YOU'),\n",
       "              ('곡명', 'Signal'),\n",
       "              ('가수', '뉴이스트 W'),\n",
       "              ('커버이미지_주소',\n",
       "               'https://cdnimg.melon.co.kr/cm/album/images/101/78/912/10178912_500.jpg/melon/resize/120/quality/80/optimize'),\n",
       "              ('좋아요', '27270')]),\n",
       " OrderedDict([('곡일련번호', '30937275'),\n",
       "              ('순위', '96'),\n",
       "              ('앨범', 'Yellow Flower'),\n",
       "              ('곡명', '별이 빛나는 밤'),\n",
       "              ('가수', '마마무(Mamamoo)'),\n",
       "              ('커버이미지_주소',\n",
       "               'https://cdnimg.melon.co.kr/cm/album/images/101/45/303/10145303_500.jpg/melon/resize/120/quality/80/optimize'),\n",
       "              ('좋아요', '145494')]),\n",
       " OrderedDict([('곡일련번호', '31147213'),\n",
       "              ('순위', '97'),\n",
       "              ('앨범', 'WHO, YOU'),\n",
       "              ('곡명', 'ylenoL'),\n",
       "              ('가수', '뉴이스트 W'),\n",
       "              ('커버이미지_주소',\n",
       "               'https://cdnimg.melon.co.kr/cm/album/images/101/78/912/10178912_500.jpg/melon/resize/120/quality/80/optimize'),\n",
       "              ('좋아요', '26136')]),\n",
       " OrderedDict([('곡일련번호', '31288765'),\n",
       "              ('순위', '98'),\n",
       "              ('앨범', '몰랐니 - The 1st Single Album'),\n",
       "              ('곡명', '몰랐니 (Lil` Touch)'),\n",
       "              ('가수', '소녀시대-Oh!GG'),\n",
       "              ('커버이미지_주소',\n",
       "               'https://cdnimg.melon.co.kr/cm/album/images/102/01/272/10201272_500.jpg/melon/resize/120/quality/80/optimize'),\n",
       "              ('좋아요', '42853')]),\n",
       " OrderedDict([('곡일련번호', '31147214'),\n",
       "              ('순위', '99'),\n",
       "              ('앨범', 'WHO, YOU'),\n",
       "              ('곡명', '중력달 (Gravity&Moon;)'),\n",
       "              ('가수', '뉴이스트 W'),\n",
       "              ('커버이미지_주소',\n",
       "               'https://cdnimg.melon.co.kr/cm/album/images/101/78/912/10178912_500.jpg/melon/resize/120/quality/80/optimize'),\n",
       "              ('좋아요', '26091')]),\n",
       " OrderedDict([('곡일련번호', '30806540'),\n",
       "              ('순위', '100'),\n",
       "              ('앨범', 'Universe - 겨울 스페셜 앨범, 2017'),\n",
       "              ('곡명', 'Stay'),\n",
       "              ('가수', 'EXO'),\n",
       "              ('커버이미지_주소',\n",
       "               'https://cdnimg.melon.co.kr/cm/album/images/101/22/917/10122917_500.jpg/melon/resize/120/quality/80/optimize'),\n",
       "              ('좋아요', '81556')])]"
      ]
     },
     "execution_count": 96,
     "metadata": {},
     "output_type": "execute_result"
    }
   ],
   "source": [
    "# 1) 데이터를 로컬에 다운받아, 멜론_TOP100.csv 파일로 저장\n",
    "import requests\n",
    "\n",
    "res = requests.get(\"https://goo.gl/iDUKrL\")\n",
    "with open(\"멜론_TOP100.csv\", \"wt\", encoding=\"utf8\") as f:\n",
    "    f.write(res.text)\n",
    "\n",
    "# 2) 로컬의 CSV 데이터를 리스트(내부 dict)구조로 획득\n",
    "import csv\n",
    "with open(\"멜론_TOP100.csv\", \"rt\", encoding=\"utf8\") as f:\n",
    "    reader = csv.DictReader(f)\n",
    "    멜론_top100_리스트 = list(reader)\n",
    "\n",
    "멜론_top100_리스트"
   ]
  },
  {
   "cell_type": "code",
   "execution_count": 97,
   "metadata": {},
   "outputs": [
    {
     "data": {
      "text/plain": [
       "100"
      ]
     },
     "execution_count": 97,
     "metadata": {},
     "output_type": "execute_result"
    }
   ],
   "source": [
    "len(멜론_top100_리스트)"
   ]
  },
  {
   "cell_type": "code",
   "execution_count": 103,
   "metadata": {},
   "outputs": [
    {
     "data": {
      "text/plain": [
       "True"
      ]
     },
     "execution_count": 103,
     "metadata": {},
     "output_type": "execute_result"
    }
   ],
   "source": [
    "10 == 10"
   ]
  },
  {
   "cell_type": "code",
   "execution_count": 106,
   "metadata": {},
   "outputs": [
    {
     "data": {
      "text/plain": [
       "False"
      ]
     },
     "execution_count": 106,
     "metadata": {},
     "output_type": "execute_result"
    }
   ],
   "source": [
    "가수 = \"방탄소년단\"\n",
    "가수 == \"방탄소년단 \""
   ]
  },
  {
   "cell_type": "code",
   "execution_count": 114,
   "metadata": {},
   "outputs": [
    {
     "name": "stdout",
     "output_type": "stream",
     "text": [
      "어떤 가수의 노래를 검색할까요? 방탄소년단 \n",
      "찾으시는 노래가 없습니다.\n"
     ]
    }
   ],
   "source": [
    "가수명 = input(\"어떤 가수의 노래를 검색할까요? \")\n",
    "\n",
    "count = 0\n",
    "\n",
    "for 곡 in 멜론_top100_리스트:\n",
    "    # 곡일련번호, 순위, 앨범, 곡명, 가수, 커버이미지_주소, 좋아요\n",
    "    if 곡['가수'] == 가수명:\n",
    "        count += 1\n",
    "        print(곡['곡명'], 곡['가수'], 곡['좋아요'])\n",
    "        \n",
    "if count == 0:\n",
    "    print('찾으시는 노래가 없습니다.')"
   ]
  },
  {
   "cell_type": "code",
   "execution_count": 119,
   "metadata": {},
   "outputs": [
    {
     "name": "stdout",
     "output_type": "stream",
     "text": [
      "하루도 그대를 사랑하지 않은 적이 없었다 임창정 97984\n"
     ]
    }
   ],
   "source": [
    "# 문제1\n",
    "가수명 = '방탄소년단'\n",
    "\n",
    "for 곡 in 멜론_top100_리스트:\n",
    "    if 곡['가수'] == 가수명:\n",
    "        print(곡['곡명'], 곡['가수'], 곡['좋아요'])"
   ]
  },
  {
   "cell_type": "code",
   "execution_count": 123,
   "metadata": {},
   "outputs": [
    {
     "data": {
      "text/plain": [
       "True"
      ]
     },
     "execution_count": 123,
     "metadata": {},
     "output_type": "execute_result"
    }
   ],
   "source": [
    "# 문제2\n",
    "# \"흐린 가을에 편지를 써\" in \"가을\"\n",
    "\"가을\" in \"흐린 가을에 편지를 써\""
   ]
  },
  {
   "cell_type": "code",
   "execution_count": 129,
   "metadata": {},
   "outputs": [
    {
     "name": "stdout",
     "output_type": "stream",
     "text": [
      "가을 타나 봐 바이브 28056\n",
      "가을 안부 먼데이 키즈 (Monday Kiz) 109447\n"
     ]
    }
   ],
   "source": [
    "for 곡 in 멜론_top100_리스트:\n",
    "    if \"가을\" in 곡['곡명']:  # 정확하게 문자열이 일치\n",
    "        print(곡['곡명'], 곡['가수'], 곡['좋아요'])"
   ]
  },
  {
   "cell_type": "code",
   "execution_count": 133,
   "metadata": {},
   "outputs": [
    {
     "name": "stdout",
     "output_type": "stream",
     "text": [
      "1 1\n",
      "'1' 1\n"
     ]
    }
   ],
   "source": [
    "print(\"1\", 1)\n",
    "print(repr(\"1\"), repr(1))"
   ]
  },
  {
   "cell_type": "code",
   "execution_count": 137,
   "metadata": {},
   "outputs": [
    {
     "name": "stdout",
     "output_type": "stream",
     "text": [
      "FAKE LOVE 방탄소년단 253847\n",
      "Way Back Home 숀 (SHAUN) 225308\n",
      "봄날 방탄소년단 359130\n",
      "DNA 방탄소년단 323911\n",
      "에너제틱 (Energetic) Wanna One (워너원) 268394\n",
      "사랑을 했다 (LOVE SCENARIO) iKON 267692\n",
      "Beautiful Wanna One (워너원) 216065\n",
      "밤편지 아이유 283167\n",
      "그날처럼 장덕철 208427\n",
      "그리워하다 비투비 203463\n",
      "선물 멜로망스 266869\n"
     ]
    }
   ],
   "source": [
    "# 문제3\n",
    "\n",
    "for 곡 in 멜론_top100_리스트:\n",
    "#     print(repr(곡['좋아요']))\n",
    "#     print(type(곡['좋아요']))\n",
    "    if int(곡['좋아요']) > 200000:  # 필터링\n",
    "        print(곡['곡명'], 곡['가수'], 곡['좋아요'])"
   ]
  },
  {
   "cell_type": "code",
   "execution_count": null,
   "metadata": {},
   "outputs": [],
   "source": []
  },
  {
   "cell_type": "code",
   "execution_count": null,
   "metadata": {},
   "outputs": [],
   "source": []
  },
  {
   "cell_type": "code",
   "execution_count": null,
   "metadata": {},
   "outputs": [],
   "source": []
  },
  {
   "cell_type": "code",
   "execution_count": null,
   "metadata": {},
   "outputs": [],
   "source": []
  },
  {
   "cell_type": "code",
   "execution_count": null,
   "metadata": {},
   "outputs": [],
   "source": []
  }
 ],
 "metadata": {
  "kernelspec": {
   "display_name": "Python 3",
   "language": "python",
   "name": "python3"
  },
  "language_info": {
   "codemirror_mode": {
    "name": "ipython",
    "version": 3
   },
   "file_extension": ".py",
   "mimetype": "text/x-python",
   "name": "python",
   "nbconvert_exporter": "python",
   "pygments_lexer": "ipython3",
   "version": "3.7.0"
  }
 },
 "nbformat": 4,
 "nbformat_minor": 2
}
