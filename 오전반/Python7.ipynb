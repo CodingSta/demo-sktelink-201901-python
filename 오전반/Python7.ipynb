{
 "cells": [
  {
   "cell_type": "markdown",
   "metadata": {},
   "source": [
    "## 주요 빌트인 함수와 정렬"
   ]
  },
  {
   "cell_type": "markdown",
   "metadata": {},
   "source": [
    "### sorted"
   ]
  },
  {
   "cell_type": "code",
   "execution_count": 9,
   "metadata": {},
   "outputs": [
    {
     "data": {
      "text/plain": [
       "[39, 99, 9, 74, 82, 22]"
      ]
     },
     "execution_count": 9,
     "metadata": {},
     "output_type": "execute_result"
    }
   ],
   "source": [
    "import random\n",
    "\n",
    "숫자_리스트 = random.sample(range(100), 6)\n",
    "숫자_리스트"
   ]
  },
  {
   "cell_type": "code",
   "execution_count": 15,
   "metadata": {},
   "outputs": [
    {
     "data": {
      "text/plain": [
       "[9, 22, 39, 74, 82, 99]"
      ]
     },
     "execution_count": 15,
     "metadata": {},
     "output_type": "execute_result"
    }
   ],
   "source": [
    "sorted(숫자_리스트)"
   ]
  },
  {
   "cell_type": "code",
   "execution_count": 16,
   "metadata": {},
   "outputs": [
    {
     "data": {
      "text/plain": [
       "[82, 22, 74, 39, 99, 9]"
      ]
     },
     "execution_count": 16,
     "metadata": {},
     "output_type": "execute_result"
    }
   ],
   "source": [
    "def sort_fn(value):\n",
    "    return value % 10\n",
    "\n",
    "sorted(숫자_리스트, key=sort_fn)"
   ]
  },
  {
   "cell_type": "code",
   "execution_count": 17,
   "metadata": {},
   "outputs": [],
   "source": [
    "학생_리스트 = [\n",
    "    {'이름': '철수', '국어': 100, '영어': 80, '수학': 50},\n",
    "    {'이름': '영희', '국어': 90, '영어': 90, '수학': 80},\n",
    "    {'이름': '잡스', '국어': 90, '영어': 100, '수학': 95},\n",
    "]"
   ]
  },
  {
   "cell_type": "code",
   "execution_count": 25,
   "metadata": {},
   "outputs": [
    {
     "name": "stdout",
     "output_type": "stream",
     "text": [
      "1 잡스 285\n",
      "2 영희 260\n",
      "3 철수 230\n"
     ]
    }
   ],
   "source": [
    "def sort_fn(학생):\n",
    "    return 학생['국어'] + 학생['영어'] + 학생['수학']\n",
    "\n",
    "정렬된_리스트 = sorted(학생_리스트, key=sort_fn, reverse=True)\n",
    "\n",
    "rank = 1\n",
    "for 학생 in 정렬된_리스트:\n",
    "    총점 = 학생['국어'] + 학생['영어'] + 학생['수학']\n",
    "    print(rank, 학생['이름'], 총점)\n",
    "    rank += 1"
   ]
  },
  {
   "cell_type": "code",
   "execution_count": 28,
   "metadata": {},
   "outputs": [
    {
     "name": "stdout",
     "output_type": "stream",
     "text": [
      "1 잡스 285\n",
      "2 영희 260\n",
      "3 철수 230\n"
     ]
    }
   ],
   "source": [
    "for 학생 in 학생_리스트:  # 미리 총점을 계산해둡니다.\n",
    "    학생['총점'] = 학생['국어'] + 학생['영어'] + 학생['수학']\n",
    "\n",
    "def sort_fn(학생):  # 정렬 기준값을 만들어줄 함수를 정의합니다.\n",
    "    return 학생['총점']\n",
    "\n",
    "# 지정 목록을 소스로 해서 정렬을 수행합니다. 정렬 기준값을 만들어줄 함수를 지정하고, 정렬방향도 같이 지정합니다.\n",
    "# 정렬된 리스트를 반환받습니다.\n",
    "정렬된_리스트 = sorted(학생_리스트, key=sort_fn, reverse=True)\n",
    "\n",
    "# 정렬된 리스트를 순회합니다.\n",
    "for rank, 학생 in enumerate(정렬된_리스트, 1):\n",
    "    print(rank, 학생['이름'], 학생['총점'])"
   ]
  },
  {
   "cell_type": "code",
   "execution_count": null,
   "metadata": {},
   "outputs": [],
   "source": []
  },
  {
   "cell_type": "code",
   "execution_count": 29,
   "metadata": {},
   "outputs": [
    {
     "name": "stdout",
     "output_type": "stream",
     "text": [
      "멜론_TOP100.csv\r\n"
     ]
    }
   ],
   "source": [
    "%ls *.csv"
   ]
  },
  {
   "cell_type": "code",
   "execution_count": null,
   "metadata": {},
   "outputs": [],
   "source": []
  },
  {
   "cell_type": "code",
   "execution_count": 2,
   "metadata": {},
   "outputs": [],
   "source": [
    "import csv\n",
    "with open(\"멜론_TOP100.csv\", \"rt\", encoding=\"utf8\") as f:\n",
    "    reader = csv.DictReader(f)\n",
    "    멜론_top100_리스트 = list(reader)\n",
    "\n",
    "# 멜론_top100_리스트"
   ]
  },
  {
   "cell_type": "code",
   "execution_count": 33,
   "metadata": {},
   "outputs": [
    {
     "data": {
      "text/plain": [
       "'61528'"
      ]
     },
     "execution_count": 33,
     "metadata": {},
     "output_type": "execute_result"
    }
   ],
   "source": [
    "멜론_top100_리스트[0]['좋아요']"
   ]
  },
  {
   "cell_type": "code",
   "execution_count": 41,
   "metadata": {},
   "outputs": [
    {
     "name": "stdout",
     "output_type": "stream",
     "text": [
      "1: 봄날 by 방탄소년단 : 359130\n",
      "2: DNA by 방탄소년단 : 323911\n",
      "3: 밤편지 by 아이유 : 283167\n",
      "4: 에너제틱 (Energetic) by Wanna One (워너원) : 268394\n",
      "5: 사랑을 했다 (LOVE SCENARIO) by iKON : 267692\n",
      "6: 선물 by 멜로망스 : 266869\n",
      "7: FAKE LOVE by 방탄소년단 : 253847\n",
      "8: Way Back Home by 숀 (SHAUN) : 225308\n",
      "9: Beautiful by Wanna One (워너원) : 216065\n",
      "10: 그날처럼 by 장덕철 : 208427\n"
     ]
    }
   ],
   "source": [
    "def sort_fn(곡):\n",
    "#     return 곡['좋아요']  # str 타입\n",
    "    return int(곡['좋아요'])  # int 타입\n",
    "\n",
    "정렬된_리스트 = sorted(멜론_top100_리스트, key=sort_fn, reverse=True)\n",
    "\n",
    "for rank, 곡 in enumerate(정렬된_리스트[:10], 1):\n",
    "    print('{}: {곡명} by {가수} : {좋아요}'.format(rank, **곡))\n",
    "\n",
    "# TODO: 1위부터 10위까지만 출력. 앞에 등수를 붙여주세요."
   ]
  },
  {
   "cell_type": "markdown",
   "metadata": {},
   "source": [
    "### filter"
   ]
  },
  {
   "cell_type": "code",
   "execution_count": 44,
   "metadata": {},
   "outputs": [
    {
     "data": {
      "text/plain": [
       "57"
      ]
     },
     "execution_count": 44,
     "metadata": {},
     "output_type": "execute_result"
    }
   ],
   "source": [
    "len({ 곡['가수'] for 곡 in 멜론_top100_리스트 })"
   ]
  },
  {
   "cell_type": "code",
   "execution_count": 46,
   "metadata": {},
   "outputs": [
    {
     "data": {
      "text/plain": [
       "14"
      ]
     },
     "execution_count": 46,
     "metadata": {},
     "output_type": "execute_result"
    }
   ],
   "source": [
    "필터링된_리스트 = []\n",
    "for 곡 in 멜론_top100_리스트:\n",
    "    if 곡['가수'] == '방탄소년단':\n",
    "        필터링된_리스트.append(곡)\n",
    "        \n",
    "len(필터링된_리스트)"
   ]
  },
  {
   "cell_type": "code",
   "execution_count": 71,
   "metadata": {
    "collapsed": true
   },
   "outputs": [
    {
     "name": "stdout",
     "output_type": "stream",
     "text": [
      "사임사임 (Feat. CHANGMO) - Coogie (좋아요: 27564)\n",
      "가을 타나 봐 - 바이브 (좋아요: 28056)\n",
      "나 - 박원 (좋아요: 26696)\n",
      "이별하러 가는 길 - 임한별 (좋아요: 25182)\n",
      "Not A Love - 바이브 (좋아요: 2508)\n",
      "공상과학기술 (Feat. 기리보이, 스윙스) - nafla (좋아요: 13148)\n",
      "패 (Feat. 넉살, 딥플로우) - 김효은 (좋아요: 10536)\n",
      "AND I - 뉴이스트 W (좋아요: 20736)\n",
      "I Don’t Care (with 스푼즈) - 뉴이스트 W (좋아요: 13544)\n",
      "잘 지내요 - 정승환 (좋아요: 25169)\n",
      "Perfect - 10cm (좋아요: 24732)\n",
      "Signal - 뉴이스트 W (좋아요: 27270)\n",
      "ylenoL - 뉴이스트 W (좋아요: 26136)\n",
      "중력달 (Gravity&Moon;) - 뉴이스트 W (좋아요: 26091)\n"
     ]
    }
   ],
   "source": [
    "def filter_fn(곡):\n",
    "    # 가수가 \"방탄소년단\"인 노래만 필터링\n",
    "    # return 곡['가수'] == '방탄소년단'\n",
    "\n",
    "    # TODO 1: 곡명에 \"사랑\"이 포함된 노래만 필터링\n",
    "    # return '사랑' in 곡['곡명']  # 대소문자를 구별합니다.\n",
    "\n",
    "    # TODO 2: 좋아요수가 2000이상 30000이하인 노래만 필터링\n",
    "    # return 2000 <= int(곡['좋아요']) and int(곡['좋아요']) <= 30000\n",
    "    return 2000 <= int(곡['좋아요']) <= 30000\n",
    "\n",
    "# Generator 타입. 1개 수요가 있을 때마다, 부합되는 1개를 찾아서 yield\n",
    "for 곡 in filter(filter_fn, 멜론_top100_리스트):\n",
    "    print('{곡명} - {가수} (좋아요: {좋아요})'.format(**곡))"
   ]
  },
  {
   "cell_type": "code",
   "execution_count": 64,
   "metadata": {},
   "outputs": [
    {
     "data": {
      "text/plain": [
       "False"
      ]
     },
     "execution_count": 64,
     "metadata": {},
     "output_type": "execute_result"
    }
   ],
   "source": [
    "'사랑' in '사 랑합니다.'"
   ]
  },
  {
   "cell_type": "code",
   "execution_count": 51,
   "metadata": {},
   "outputs": [
    {
     "data": {
      "text/plain": [
       "[0, 1, 2, 3, 4, 5, 6, 7, 8, 9]"
      ]
     },
     "execution_count": 51,
     "metadata": {},
     "output_type": "execute_result"
    }
   ],
   "source": [
    "list(range(10))"
   ]
  },
  {
   "cell_type": "markdown",
   "metadata": {},
   "source": [
    "### max/min"
   ]
  },
  {
   "cell_type": "code",
   "execution_count": 72,
   "metadata": {},
   "outputs": [
    {
     "data": {
      "text/plain": [
       "100"
      ]
     },
     "execution_count": 72,
     "metadata": {},
     "output_type": "execute_result"
    }
   ],
   "source": [
    "max(1, 100, -110)"
   ]
  },
  {
   "cell_type": "code",
   "execution_count": 73,
   "metadata": {},
   "outputs": [
    {
     "data": {
      "text/plain": [
       "-110"
      ]
     },
     "execution_count": 73,
     "metadata": {},
     "output_type": "execute_result"
    }
   ],
   "source": [
    "min(1, 100, -110)"
   ]
  },
  {
   "cell_type": "code",
   "execution_count": 76,
   "metadata": {},
   "outputs": [
    {
     "data": {
      "text/plain": [
       "0"
      ]
     },
     "execution_count": 76,
     "metadata": {},
     "output_type": "execute_result"
    }
   ],
   "source": [
    "max([], default=0)"
   ]
  },
  {
   "cell_type": "code",
   "execution_count": 80,
   "metadata": {},
   "outputs": [
    {
     "data": {
      "text/plain": [
       "-110"
      ]
     },
     "execution_count": 80,
     "metadata": {},
     "output_type": "execute_result"
    }
   ],
   "source": [
    "max([1, 100, -110], key=abs)"
   ]
  },
  {
   "cell_type": "code",
   "execution_count": 81,
   "metadata": {},
   "outputs": [
    {
     "data": {
      "text/plain": [
       "1"
      ]
     },
     "execution_count": 81,
     "metadata": {},
     "output_type": "execute_result"
    }
   ],
   "source": [
    "min([1, 100, -110], key=abs)"
   ]
  },
  {
   "cell_type": "code",
   "execution_count": 79,
   "metadata": {},
   "outputs": [
    {
     "data": {
      "text/plain": [
       "110"
      ]
     },
     "execution_count": 79,
     "metadata": {},
     "output_type": "execute_result"
    }
   ],
   "source": [
    "abs(-110)"
   ]
  },
  {
   "cell_type": "code",
   "execution_count": 83,
   "metadata": {},
   "outputs": [
    {
     "data": {
      "text/plain": [
       "{'이름': '철수', '국어': 100, '영어': 80, '수학': 50}"
      ]
     },
     "execution_count": 83,
     "metadata": {},
     "output_type": "execute_result"
    }
   ],
   "source": [
    "학생_리스트 = [\n",
    "    {'이름': '철수', '국어': 100, '영어': 80, '수학': 50},\n",
    "    {'이름': '영희', '국어': 90, '영어': 90, '수학': 80},\n",
    "    {'이름': '잡스', '국어': 90, '영어': 100, '수학': 95},\n",
    "]\n",
    "\n",
    "def key_fn(학생):\n",
    "    return 학생['국어']\n",
    "\n",
    "max(학생_리스트, key=key_fn)"
   ]
  },
  {
   "cell_type": "code",
   "execution_count": 90,
   "metadata": {},
   "outputs": [
    {
     "data": {
      "text/plain": [
       "OrderedDict([('곡일련번호', '30962526'),\n",
       "             ('순위', '18'),\n",
       "             ('앨범', '`키스 먼저 할까요?` OST Part.3'),\n",
       "             ('곡명', '모든 날, 모든 순간 (Every day, Every Moment)'),\n",
       "             ('가수', '폴킴'),\n",
       "             ('커버이미지_주소',\n",
       "              'https://cdnimg.melon.co.kr/cm/album/images/101/49/492/10149492_500.jpg/melon/resize/120/quality/80/optimize'),\n",
       "             ('좋아요', '185706')])"
      ]
     },
     "execution_count": 90,
     "metadata": {},
     "output_type": "execute_result"
    }
   ],
   "source": [
    "def key_fn(곡):\n",
    "#     return int(곡['좋아요'])  # 좋아요 수가 가장 많은 곡?\n",
    "#     return len(곡['곡명']) # 곡명 글자수가 가장 긴 곡?\n",
    "    return len(곡['곡명'].split())  # 곡명 단어수가 가장 많은 곡?\n",
    "\n",
    "max(멜론_top100_리스트, key=key_fn)"
   ]
  },
  {
   "cell_type": "markdown",
   "metadata": {},
   "source": [
    "## 대소비교"
   ]
  },
  {
   "cell_type": "code",
   "execution_count": 91,
   "metadata": {},
   "outputs": [
    {
     "data": {
      "text/plain": [
       "False"
      ]
     },
     "execution_count": 91,
     "metadata": {},
     "output_type": "execute_result"
    }
   ],
   "source": [
    "\"hello\" < \"Hello\"\n",
    "\n",
    "['h', 'e', 'l', 'l', 'o'] < ['H', 'e', 'l', 'l', 'o']"
   ]
  },
  {
   "cell_type": "code",
   "execution_count": 99,
   "metadata": {},
   "outputs": [
    {
     "name": "stdout",
     "output_type": "stream",
     "text": [
      "[(여자)아이들] 한(一) (69062)\n",
      "[10cm] 매트리스 (62312)\n",
      "[10cm] Perfect (24732)\n",
      "[Apink (에이핑크)] 1도 없어 (88037)\n",
      "[BLACKPINK] 뚜두뚜두 (DDU-DU DDU-DU) (192831)\n",
      "[BLACKPINK] Forever Young (119422)\n",
      "[Coogie] 사임사임 (Feat. CHANGMO) (27564)\n",
      "[EXO] Universe (155809)\n",
      "[EXO] 지나갈 테니 (Been Through) (88331)\n",
      "[EXO] Stay (81556)\n",
      "[EXO-CBX (첸백시)] 花요일 (Blooming Day) (110311)\n",
      "[Fitz & The Tantrums] HandClap (156476)\n",
      "[NU`EST] 여보세요 (126064)\n",
      "[Red Velvet (레드벨벳)] Power Up (130949)\n",
      "[TWICE (트와이스)] Dance The Night Away (127052)\n",
      "[TWICE (트와이스)] What is Love? (121530)\n",
      "[Wanna One (워너원)] 에너제틱 (Energetic) (268394)\n",
      "[Wanna One (워너원)] Beautiful (216065)\n",
      "[Wanna One (워너원)] 약속해요 (I.P.U.) (137141)\n",
      "[Wanna One (워너원)] BOOMERANG (부메랑) (124968)\n",
      "[Wanna One (워너원)] 켜줘 (Light) (112878)\n",
      "[Wanna One (워너원) - 남바완] 11 (Prod. 다이나믹듀오) (67211)\n",
      "[Wanna One (워너원) - 더힐] 모래시계 (Prod. 헤이즈) (83296)\n",
      "[Wanna One (워너원) - 린온미] 영원+1 (Prod. NELL) (76313)\n",
      "[Wanna One (워너원) - 트리플포지션] 캥거루 (Kangaroo) (Prod. ZICO) (104852)\n",
      "[iKON] 사랑을 했다 (LOVE SCENARIO) (267692)\n",
      "[iKON] 죽겠다 (KILLING ME) (66253)\n",
      "[iKON] 이별길 (GOODBYE ROAD) (55396)\n",
      "[nafla] 공상과학기술 (Feat. 기리보이, 스윙스) (13148)\n",
      "[pH-1] Good Day (Feat. 팔로알토) (Prod. 코드 쿤스트) (54022)\n",
      "[기리보이] flex (Prod. By 기리보이) (72135)\n",
      "[김효은] 패 (Feat. 넉살, 딥플로우) (10536)\n",
      "[뉴이스트 W] WHERE YOU AT (92753)\n",
      "[뉴이스트 W] Dejavu (53081)\n",
      "[뉴이스트 W] 북극성 (Polaris) (32098)\n",
      "[뉴이스트 W] Signal (27270)\n",
      "[뉴이스트 W] ylenoL (26136)\n",
      "[뉴이스트 W] 중력달 (Gravity&Moon;) (26091)\n",
      "[뉴이스트 W] AND I (20736)\n",
      "[뉴이스트 W] I Don’t Care (with 스푼즈) (13544)\n",
      "[닐로 (Nilo)] 지나오다 (178367)\n",
      "[닐로 (Nilo)] 넋두리 (81028)\n",
      "[레이 (LAY)] Sheep (Alan Walker Relift) (30411)\n",
      "[로꼬] 주지마 (154263)\n",
      "[로꼬] 시간이 들겠지 (Feat. Colde) (48331)\n",
      "[로이킴] 그때 헤어지면 돼 (176025)\n",
      "[로이킴] 우리 그만하자 (95771)\n",
      "[마마무(Mamamoo)] 별이 빛나는 밤 (145494)\n",
      "[마마무(Mamamoo)] 너나 해 (Egotistic) (94861)\n",
      "[먼데이 키즈 (Monday Kiz)] 가을 안부 (109447)\n",
      "[멜로망스] 선물 (266869)\n",
      "[멜로망스] You (141103)\n",
      "[멜로망스] 동화 (81522)\n",
      "[멜로망스] 좋은 날 (33146)\n",
      "[모트 (Motte)] 도망가지마 (48716)\n",
      "[바이브] 가을 타나 봐 (28056)\n",
      "[바이브] Not A Love (2508)\n",
      "[박원] 나 (26696)\n",
      "[방탄소년단] 봄날 (359130)\n",
      "[방탄소년단] DNA (323911)\n",
      "[방탄소년단] FAKE LOVE (253847)\n",
      "[방탄소년단] 전하지 못한 진심 (Feat. Steve Aoki) (176653)\n",
      "[방탄소년단] IDOL (173279)\n",
      "[방탄소년단] Anpanman (138694)\n",
      "[방탄소년단] I`m Fine (132847)\n",
      "[방탄소년단] Euphoria (129017)\n",
      "[방탄소년단] Airplane pt.2 (127355)\n",
      "[방탄소년단] Answer : Love Myself (108151)\n",
      "[방탄소년단] Epiphany (101011)\n",
      "[방탄소년단] Trivia 轉 : Seesaw (98436)\n",
      "[방탄소년단] Trivia 起 : Just Dance (88970)\n",
      "[방탄소년단] Trivia 承 : Love (83610)\n",
      "[백현 (BAEKHYUN)] YOUNG (91106)\n",
      "[벤] 열애중 (115805)\n",
      "[볼빨간사춘기] 여행 (190489)\n",
      "[비투비] 그리워하다 (203463)\n",
      "[비투비] 너 없인 안 된다 (132726)\n",
      "[선미] 사이렌 (Siren) (91516)\n",
      "[세븐틴] A-TEEN (75932)\n",
      "[세븐틴] 어쩌나 (64770)\n",
      "[소녀시대-Oh!GG] 몰랐니 (Lil` Touch) (42853)\n",
      "[숀 (SHAUN)] Way Back Home (225308)\n",
      "[승리] 셋 셀테니 (1, 2, 3!) (78381)\n",
      "[아이유] 밤편지 (283167)\n",
      "[아이유] 삐삐 (61528)\n",
      "[양다일] 미안해 (115955)\n",
      "[여자친구 (GFRIEND)] 밤 (Time for the moon night) (125760)\n",
      "[용준형] 소나기 (Feat. 10cm) (130935)\n",
      "[이수 (엠씨 더 맥스)] My Way (119657)\n",
      "[임창정] 하루도 그대를 사랑하지 않은 적이 없었다 (97984)\n",
      "[임한별] 이별하러 가는 길 (25182)\n",
      "[장덕철] 그날처럼 (208427)\n",
      "[저스디스 (JUSTHIS)] IndiGO (46739)\n",
      "[정승환] 잘 지내요 (25169)\n",
      "[지코 (ZICO)] SoulMate (Feat. 아이유) (113443)\n",
      "[찬열] We Young (53852)\n",
      "[청하] Love U (61670)\n",
      "[펀치 (Punch)] 헤어지는 중 (77050)\n",
      "[폴킴] 모든 날, 모든 순간 (Every day, Every Moment) (185706)\n",
      "[폴킴] 비 (156761)\n"
     ]
    }
   ],
   "source": [
    "# 정렬 : 1차기준 (가수명 오름차순), 2차기준 (좋아요 내림차순)\n",
    "def key_fn(곡):\n",
    "    return 곡['가수'], int(곡['좋아요']) * -1\n",
    "\n",
    "for 곡 in sorted(멜론_top100_리스트, key=key_fn):\n",
    "    print('[{가수}] {곡명} ({좋아요})'.format(**곡))"
   ]
  },
  {
   "cell_type": "markdown",
   "metadata": {},
   "source": [
    "### LG UPLUS 데이터"
   ]
  },
  {
   "cell_type": "code",
   "execution_count": 110,
   "metadata": {},
   "outputs": [],
   "source": [
    "import csv\n",
    "\n",
    "with open(\"LG-UPLUS-최강가성비.csv\", \"rt\", encoding=\"utf8\") as f:\n",
    "    reader = csv.DictReader(f)\n",
    "    휴대폰_지원금_리스트 = list(reader)\n",
    "\n",
    "# field_names = ['정상가(A)', '휴대폰지원금(B)', '다이렉트몰추가지원금(C)', '실제구입가(A-B-C)']\n",
    "\n",
    "def 가격_문자열_to_정수(가격_문자열):\n",
    "    return int(가격_문자열.replace(',', '').replace('원', ''))\n",
    "\n",
    "# 데이터 전처리\n",
    "for 휴대폰 in 휴대폰_지원금_리스트:\n",
    "    휴대폰['정상가(A)'] = 가격_문자열_to_정수(휴대폰['정상가(A)'])\n",
    "    휴대폰['휴대폰지원금(B)'] = 가격_문자열_to_정수(휴대폰['휴대폰지원금(B)'])\n",
    "    휴대폰['다이렉트몰추가지원금(C)'] = 가격_문자열_to_정수(휴대폰['다이렉트몰추가지원금(C)'])\n",
    "    휴대폰['실제구입가(A-B-C)'] = 가격_문자열_to_정수(휴대폰['실제구입가(A-B-C)'])"
   ]
  },
  {
   "cell_type": "code",
   "execution_count": 126,
   "metadata": {},
   "outputs": [
    {
     "name": "stdout",
     "output_type": "stream",
     "text": [
      "G7, LM-G710N, 898,700원, 700,000원\n",
      "갤럭시 J3 2017, SM-J330L, 244,200원, 99,000원\n",
      "갤럭시 J6, SM-J600L, 330,000원, 330,000원, 0원\n"
     ]
    }
   ],
   "source": [
    "# TODO: 휴대폰지원금이 가장 높은 휴대폰은? 낮은 휴대폰은?\n",
    "def key_fn(휴대폰):\n",
    "    return 휴대폰['휴대폰지원금(B)']\n",
    "\n",
    "휴대폰 = max(휴대폰_지원금_리스트, key=key_fn)\n",
    "print('{휴대폰명}, {모델명}, {정상가(A):,}원, {휴대폰지원금(B):,}원'.format(**휴대폰))\n",
    "\n",
    "휴대폰 = min(휴대폰_지원금_리스트, key=key_fn)\n",
    "print('{휴대폰명}, {모델명}, {정상가(A):,}원, {휴대폰지원금(B):,}원'.format(**휴대폰))\n",
    "\n",
    "# TODO: 실제구입가가 가장 낮은 휴대폰은?\n",
    "def key_fn(휴대폰):\n",
    "    return 휴대폰['실제구입가(A-B-C)']\n",
    "\n",
    "휴대폰 = min(휴대폰_지원금_리스트, key=key_fn)\n",
    "print('{휴대폰명}, {모델명}, {정상가(A):,}원, {휴대폰지원금(B):,}원, {실제구입가(A-B-C):,}원'.format(**휴대폰))"
   ]
  },
  {
   "cell_type": "code",
   "execution_count": 133,
   "metadata": {
    "collapsed": true
   },
   "outputs": [
    {
     "name": "stdout",
     "output_type": "stream",
     "text": [
      "J2 Pro, SM-J250N, 199,100원, 180,000원, 0원\n",
      "LG 폴더, LM-Y110L, 220,000원, 110,000원, 93,500원\n",
      "MVNO 리프레시 갤럭시 S8 64G, RF-SM-G950N, 484,000원, 484,000원, 0원\n",
      "Q7, LM-Q720L, 419,100원, 400,000원, 0원\n",
      "Q9, LM-Q925L, 499,400원, 450,000원, 49,400원\n",
      "X2, LM-X210L, 198,000원, 110,000원, 71,500원\n",
      "X5, LM-X510L, 363,000원, 363,000원, 0원\n",
      "갤럭시 J4+, SM-J415N, 264,000원, 164,000원, 75,400원\n",
      "갤럭시 J6, SM-J600L, 330,000원, 330,000원, 0원\n",
      "갤럭시 On7 Prime, SM-G611L, 344,300원, 300,000원, 0원\n",
      "카카오리틀프렌즈폰, SM-J330L-KA, 286,000원, 286,000원, 0원\n"
     ]
    }
   ],
   "source": [
    "def key_fn(휴대폰):\n",
    "    return 휴대폰['휴대폰명']  # 정렬 기준값\n",
    "\n",
    "def filter_fn(휴대폰):\n",
    "    return 휴대폰['실제구입가(A-B-C)'] <= 100000  # 필터링 기준값\n",
    "\n",
    "필터링_결과 = filter(filter_fn, 휴대폰_지원금_리스트)\n",
    "\n",
    "for 휴대폰 in sorted(필터링_결과, key=key_fn, reverse=False):\n",
    "    print('{휴대폰명}, {모델명}, {정상가(A):,}원, {휴대폰지원금(B):,}원, {실제구입가(A-B-C):,}원'.format(**휴대폰))"
   ]
  },
  {
   "cell_type": "code",
   "execution_count": 137,
   "metadata": {},
   "outputs": [
    {
     "data": {
      "text/html": [
       "<div>\n",
       "<style scoped>\n",
       "    .dataframe tbody tr th:only-of-type {\n",
       "        vertical-align: middle;\n",
       "    }\n",
       "\n",
       "    .dataframe tbody tr th {\n",
       "        vertical-align: top;\n",
       "    }\n",
       "\n",
       "    .dataframe thead th {\n",
       "        text-align: right;\n",
       "    }\n",
       "</style>\n",
       "<table border=\"1\" class=\"dataframe\">\n",
       "  <thead>\n",
       "    <tr style=\"text-align: right;\">\n",
       "      <th></th>\n",
       "      <th>모델명</th>\n",
       "      <th>정상가(A)</th>\n",
       "      <th>휴대폰지원금(B)</th>\n",
       "      <th>다이렉트몰추가지원금(C)</th>\n",
       "      <th>실제구입가(A-B-C)</th>\n",
       "      <th>지원금 등록일</th>\n",
       "      <th>구매하기</th>\n",
       "    </tr>\n",
       "    <tr>\n",
       "      <th>휴대폰명</th>\n",
       "      <th></th>\n",
       "      <th></th>\n",
       "      <th></th>\n",
       "      <th></th>\n",
       "      <th></th>\n",
       "      <th></th>\n",
       "      <th></th>\n",
       "    </tr>\n",
       "  </thead>\n",
       "  <tbody>\n",
       "    <tr>\n",
       "      <th>갤럭시 J6</th>\n",
       "      <td>SM-J600L</td>\n",
       "      <td>330,000원</td>\n",
       "      <td>330,000원</td>\n",
       "      <td>0원</td>\n",
       "      <td>0원</td>\n",
       "      <td>2019.01.01</td>\n",
       "      <td>구매</td>\n",
       "    </tr>\n",
       "    <tr>\n",
       "      <th>Q7</th>\n",
       "      <td>LM-Q720L</td>\n",
       "      <td>419,100원</td>\n",
       "      <td>400,000원</td>\n",
       "      <td>19,100원</td>\n",
       "      <td>0원</td>\n",
       "      <td>2018.12.20</td>\n",
       "      <td>구매</td>\n",
       "    </tr>\n",
       "    <tr>\n",
       "      <th>카카오리틀프렌즈폰</th>\n",
       "      <td>SM-J330L-KA</td>\n",
       "      <td>286,000원</td>\n",
       "      <td>286,000원</td>\n",
       "      <td>0원</td>\n",
       "      <td>0원</td>\n",
       "      <td>2018.09.04</td>\n",
       "      <td>구매</td>\n",
       "    </tr>\n",
       "    <tr>\n",
       "      <th>X5</th>\n",
       "      <td>LM-X510L</td>\n",
       "      <td>363,000원</td>\n",
       "      <td>363,000원</td>\n",
       "      <td>0원</td>\n",
       "      <td>0원</td>\n",
       "      <td>2018.06.26</td>\n",
       "      <td>구매</td>\n",
       "    </tr>\n",
       "    <tr>\n",
       "      <th>J2 Pro</th>\n",
       "      <td>SM-J250N</td>\n",
       "      <td>199,100원</td>\n",
       "      <td>180,000원</td>\n",
       "      <td>19,100원</td>\n",
       "      <td>0원</td>\n",
       "      <td>2018.04.24</td>\n",
       "      <td>구매</td>\n",
       "    </tr>\n",
       "    <tr>\n",
       "      <th>갤럭시 On7 Prime</th>\n",
       "      <td>SM-G611L</td>\n",
       "      <td>344,300원</td>\n",
       "      <td>300,000원</td>\n",
       "      <td>44,300원</td>\n",
       "      <td>0원</td>\n",
       "      <td>2018.02.10</td>\n",
       "      <td>구매</td>\n",
       "    </tr>\n",
       "    <tr>\n",
       "      <th>MVNO 리프레시 갤럭시 S8 64G</th>\n",
       "      <td>RF-SM-G950N</td>\n",
       "      <td>484,000원</td>\n",
       "      <td>484,000원</td>\n",
       "      <td>0원</td>\n",
       "      <td>0원</td>\n",
       "      <td>2018.12.08</td>\n",
       "      <td>구매</td>\n",
       "    </tr>\n",
       "  </tbody>\n",
       "</table>\n",
       "</div>"
      ],
      "text/plain": [
       "                              모델명    정상가(A) 휴대폰지원금(B) 다이렉트몰추가지원금(C)  \\\n",
       "휴대폰명                                                                  \n",
       "갤럭시 J6                   SM-J600L  330,000원  330,000원            0원   \n",
       "Q7                       LM-Q720L  419,100원  400,000원       19,100원   \n",
       "카카오리틀프렌즈폰             SM-J330L-KA  286,000원  286,000원            0원   \n",
       "X5                       LM-X510L  363,000원  363,000원            0원   \n",
       "J2 Pro                   SM-J250N  199,100원  180,000원       19,100원   \n",
       "갤럭시 On7 Prime            SM-G611L  344,300원  300,000원       44,300원   \n",
       "MVNO 리프레시 갤럭시 S8 64G  RF-SM-G950N  484,000원  484,000원            0원   \n",
       "\n",
       "                     실제구입가(A-B-C)     지원금 등록일 구매하기  \n",
       "휴대폰명                                                \n",
       "갤럭시 J6                         0원  2019.01.01   구매  \n",
       "Q7                             0원  2018.12.20   구매  \n",
       "카카오리틀프렌즈폰                      0원  2018.09.04   구매  \n",
       "X5                             0원  2018.06.26   구매  \n",
       "J2 Pro                         0원  2018.04.24   구매  \n",
       "갤럭시 On7 Prime                  0원  2018.02.10   구매  \n",
       "MVNO 리프레시 갤럭시 S8 64G           0원  2018.12.08   구매  "
      ]
     },
     "execution_count": 137,
     "metadata": {},
     "output_type": "execute_result"
    }
   ],
   "source": [
    "# Pandas 간략 소개\n",
    "import pandas as pd\n",
    "\n",
    "df = pd.read_csv('LG-UPLUS-최강가성비.csv', index_col='휴대폰명')\n",
    "mask = df['실제구입가(A-B-C)'] == '0원'\n",
    "df.loc[mask]"
   ]
  },
  {
   "cell_type": "code",
   "execution_count": null,
   "metadata": {},
   "outputs": [],
   "source": []
  },
  {
   "cell_type": "code",
   "execution_count": null,
   "metadata": {},
   "outputs": [],
   "source": []
  },
  {
   "cell_type": "code",
   "execution_count": 105,
   "metadata": {},
   "outputs": [
    {
     "data": {
      "text/plain": [
       "599500"
      ]
     },
     "execution_count": 105,
     "metadata": {},
     "output_type": "execute_result"
    }
   ],
   "source": [
    "def 가격_문자열_to_정수(가격_문자열):\n",
    "    return int(가격_문자열.replace(',', '').replace('원', ''))\n",
    "\n",
    "가격_문자열_to_정수('599,500원')"
   ]
  },
  {
   "cell_type": "code",
   "execution_count": null,
   "metadata": {},
   "outputs": [],
   "source": []
  }
 ],
 "metadata": {
  "kernelspec": {
   "display_name": "Python 3",
   "language": "python",
   "name": "python3"
  },
  "language_info": {
   "codemirror_mode": {
    "name": "ipython",
    "version": 3
   },
   "file_extension": ".py",
   "mimetype": "text/x-python",
   "name": "python",
   "nbconvert_exporter": "python",
   "pygments_lexer": "ipython3",
   "version": "3.7.0"
  }
 },
 "nbformat": 4,
 "nbformat_minor": 2
}
