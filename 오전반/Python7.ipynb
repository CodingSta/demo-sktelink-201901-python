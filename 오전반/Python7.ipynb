{
 "cells": [
  {
   "cell_type": "markdown",
   "metadata": {},
   "source": [
    "## 주요 빌트인 함수와 정렬"
   ]
  },
  {
   "cell_type": "markdown",
   "metadata": {},
   "source": [
    "### sorted"
   ]
  },
  {
   "cell_type": "code",
   "execution_count": 9,
   "metadata": {},
   "outputs": [
    {
     "data": {
      "text/plain": [
       "[39, 99, 9, 74, 82, 22]"
      ]
     },
     "execution_count": 9,
     "metadata": {},
     "output_type": "execute_result"
    }
   ],
   "source": [
    "import random\n",
    "\n",
    "숫자_리스트 = random.sample(range(100), 6)\n",
    "숫자_리스트"
   ]
  },
  {
   "cell_type": "code",
   "execution_count": 15,
   "metadata": {},
   "outputs": [
    {
     "data": {
      "text/plain": [
       "[9, 22, 39, 74, 82, 99]"
      ]
     },
     "execution_count": 15,
     "metadata": {},
     "output_type": "execute_result"
    }
   ],
   "source": [
    "sorted(숫자_리스트)"
   ]
  },
  {
   "cell_type": "code",
   "execution_count": 16,
   "metadata": {},
   "outputs": [
    {
     "data": {
      "text/plain": [
       "[82, 22, 74, 39, 99, 9]"
      ]
     },
     "execution_count": 16,
     "metadata": {},
     "output_type": "execute_result"
    }
   ],
   "source": [
    "def sort_fn(value):\n",
    "    return value % 10\n",
    "\n",
    "sorted(숫자_리스트, key=sort_fn)"
   ]
  },
  {
   "cell_type": "code",
   "execution_count": 17,
   "metadata": {},
   "outputs": [],
   "source": [
    "학생_리스트 = [\n",
    "    {'이름': '철수', '국어': 100, '영어': 80, '수학': 50},\n",
    "    {'이름': '영희', '국어': 90, '영어': 90, '수학': 80},\n",
    "    {'이름': '잡스', '국어': 90, '영어': 100, '수학': 95},\n",
    "]"
   ]
  },
  {
   "cell_type": "code",
   "execution_count": 25,
   "metadata": {},
   "outputs": [
    {
     "name": "stdout",
     "output_type": "stream",
     "text": [
      "1 잡스 285\n",
      "2 영희 260\n",
      "3 철수 230\n"
     ]
    }
   ],
   "source": [
    "def sort_fn(학생):\n",
    "    return 학생['국어'] + 학생['영어'] + 학생['수학']\n",
    "\n",
    "정렬된_리스트 = sorted(학생_리스트, key=sort_fn, reverse=True)\n",
    "\n",
    "rank = 1\n",
    "for 학생 in 정렬된_리스트:\n",
    "    총점 = 학생['국어'] + 학생['영어'] + 학생['수학']\n",
    "    print(rank, 학생['이름'], 총점)\n",
    "    rank += 1"
   ]
  },
  {
   "cell_type": "code",
   "execution_count": 28,
   "metadata": {},
   "outputs": [
    {
     "name": "stdout",
     "output_type": "stream",
     "text": [
      "1 잡스 285\n",
      "2 영희 260\n",
      "3 철수 230\n"
     ]
    }
   ],
   "source": [
    "for 학생 in 학생_리스트:  # 미리 총점을 계산해둡니다.\n",
    "    학생['총점'] = 학생['국어'] + 학생['영어'] + 학생['수학']\n",
    "\n",
    "def sort_fn(학생):  # 정렬 기준값을 만들어줄 함수를 정의합니다.\n",
    "    return 학생['총점']\n",
    "\n",
    "# 지정 목록을 소스로 해서 정렬을 수행합니다. 정렬 기준값을 만들어줄 함수를 지정하고, 정렬방향도 같이 지정합니다.\n",
    "# 정렬된 리스트를 반환받습니다.\n",
    "정렬된_리스트 = sorted(학생_리스트, key=sort_fn, reverse=True)\n",
    "\n",
    "# 정렬된 리스트를 순회합니다.\n",
    "for rank, 학생 in enumerate(정렬된_리스트, 1):\n",
    "    print(rank, 학생['이름'], 학생['총점'])"
   ]
  },
  {
   "cell_type": "code",
   "execution_count": null,
   "metadata": {},
   "outputs": [],
   "source": []
  },
  {
   "cell_type": "code",
   "execution_count": 29,
   "metadata": {},
   "outputs": [
    {
     "name": "stdout",
     "output_type": "stream",
     "text": [
      "멜론_TOP100.csv\r\n"
     ]
    }
   ],
   "source": [
    "%ls *.csv"
   ]
  },
  {
   "cell_type": "code",
   "execution_count": null,
   "metadata": {},
   "outputs": [],
   "source": []
  },
  {
   "cell_type": "code",
   "execution_count": 2,
   "metadata": {},
   "outputs": [],
   "source": [
    "import csv\n",
    "with open(\"멜론_TOP100.csv\", \"rt\", encoding=\"utf8\") as f:\n",
    "    reader = csv.DictReader(f)\n",
    "    멜론_top100_리스트 = list(reader)\n",
    "\n",
    "# 멜론_top100_리스트"
   ]
  },
  {
   "cell_type": "code",
   "execution_count": 33,
   "metadata": {},
   "outputs": [
    {
     "data": {
      "text/plain": [
       "'61528'"
      ]
     },
     "execution_count": 33,
     "metadata": {},
     "output_type": "execute_result"
    }
   ],
   "source": [
    "멜론_top100_리스트[0]['좋아요']"
   ]
  },
  {
   "cell_type": "code",
   "execution_count": 41,
   "metadata": {},
   "outputs": [
    {
     "name": "stdout",
     "output_type": "stream",
     "text": [
      "1: 봄날 by 방탄소년단 : 359130\n",
      "2: DNA by 방탄소년단 : 323911\n",
      "3: 밤편지 by 아이유 : 283167\n",
      "4: 에너제틱 (Energetic) by Wanna One (워너원) : 268394\n",
      "5: 사랑을 했다 (LOVE SCENARIO) by iKON : 267692\n",
      "6: 선물 by 멜로망스 : 266869\n",
      "7: FAKE LOVE by 방탄소년단 : 253847\n",
      "8: Way Back Home by 숀 (SHAUN) : 225308\n",
      "9: Beautiful by Wanna One (워너원) : 216065\n",
      "10: 그날처럼 by 장덕철 : 208427\n"
     ]
    }
   ],
   "source": [
    "def sort_fn(곡):\n",
    "#     return 곡['좋아요']  # str 타입\n",
    "    return int(곡['좋아요'])  # int 타입\n",
    "\n",
    "정렬된_리스트 = sorted(멜론_top100_리스트, key=sort_fn, reverse=True)\n",
    "\n",
    "for rank, 곡 in enumerate(정렬된_리스트[:10], 1):\n",
    "    print('{}: {곡명} by {가수} : {좋아요}'.format(rank, **곡))\n",
    "\n",
    "# TODO: 1위부터 10위까지만 출력. 앞에 등수를 붙여주세요."
   ]
  },
  {
   "cell_type": "markdown",
   "metadata": {},
   "source": [
    "### filter"
   ]
  },
  {
   "cell_type": "code",
   "execution_count": 44,
   "metadata": {},
   "outputs": [
    {
     "data": {
      "text/plain": [
       "57"
      ]
     },
     "execution_count": 44,
     "metadata": {},
     "output_type": "execute_result"
    }
   ],
   "source": [
    "len({ 곡['가수'] for 곡 in 멜론_top100_리스트 })"
   ]
  },
  {
   "cell_type": "code",
   "execution_count": 46,
   "metadata": {},
   "outputs": [
    {
     "data": {
      "text/plain": [
       "14"
      ]
     },
     "execution_count": 46,
     "metadata": {},
     "output_type": "execute_result"
    }
   ],
   "source": [
    "필터링된_리스트 = []\n",
    "for 곡 in 멜론_top100_리스트:\n",
    "    if 곡['가수'] == '방탄소년단':\n",
    "        필터링된_리스트.append(곡)\n",
    "        \n",
    "len(필터링된_리스트)"
   ]
  },
  {
   "cell_type": "code",
   "execution_count": 67,
   "metadata": {},
   "outputs": [
    {
     "name": "stdout",
     "output_type": "stream",
     "text": [
      "삐삐 - 아이유 (좋아요: 61528)\n",
      "밤편지 - 아이유 (좋아요: 283167)\n"
     ]
    }
   ],
   "source": [
    "def filter_fn(곡):\n",
    "    # return 곡['가수'] == '아이유'\n",
    "\n",
    "    # TODO 1: 곡명에 \"사랑\"이 포함된 노래만 필터링\n",
    "    # TODO 2: 좋아요수가 2000이상 30000이하인 노래만 필터링\n",
    "\n",
    "# Generator 타입. 1개 수요가 있을 때마다, 부합되는 1개를 찾아서 yield\n",
    "for 곡 in filter(filter_fn, 멜론_top100_리스트):\n",
    "    print('{곡명} - {가수} (좋아요: {좋아요})'.format(**곡))"
   ]
  },
  {
   "cell_type": "code",
   "execution_count": 64,
   "metadata": {},
   "outputs": [
    {
     "data": {
      "text/plain": [
       "False"
      ]
     },
     "execution_count": 64,
     "metadata": {},
     "output_type": "execute_result"
    }
   ],
   "source": [
    "'사랑' in '사 랑합니다.'"
   ]
  },
  {
   "cell_type": "code",
   "execution_count": 51,
   "metadata": {},
   "outputs": [
    {
     "data": {
      "text/plain": [
       "[0, 1, 2, 3, 4, 5, 6, 7, 8, 9]"
      ]
     },
     "execution_count": 51,
     "metadata": {},
     "output_type": "execute_result"
    }
   ],
   "source": [
    "list(range(10))"
   ]
  },
  {
   "cell_type": "code",
   "execution_count": null,
   "metadata": {},
   "outputs": [],
   "source": []
  }
 ],
 "metadata": {
  "kernelspec": {
   "display_name": "Python 3",
   "language": "python",
   "name": "python3"
  },
  "language_info": {
   "codemirror_mode": {
    "name": "ipython",
    "version": 3
   },
   "file_extension": ".py",
   "mimetype": "text/x-python",
   "name": "python",
   "nbconvert_exporter": "python",
   "pygments_lexer": "ipython3",
   "version": "3.7.0"
  }
 },
 "nbformat": 4,
 "nbformat_minor": 2
}
