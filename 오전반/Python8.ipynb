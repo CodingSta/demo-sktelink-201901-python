{
 "cells": [
  {
   "cell_type": "markdown",
   "metadata": {},
   "source": [
    "## 정규 표현식"
   ]
  },
  {
   "cell_type": "code",
   "execution_count": 22,
   "metadata": {},
   "outputs": [],
   "source": [
    "# 휴대폰번호_패턴 = r\"^01[016-9][1-9]\\d{6,7}$\"\n",
    "# 휴대폰번호_패턴 = r\"^01[016-9]-{0,1}[1-9]\\d{2,3}-{0,1}\\d{4}$\"\n",
    "휴대폰번호_패턴 = r\"^01[016-9]-?[1-9]\\d{2,3}-?\\d{4}$\""
   ]
  },
  {
   "cell_type": "code",
   "execution_count": 23,
   "metadata": {},
   "outputs": [
    {
     "name": "stdout",
     "output_type": "stream",
     "text": [
      "휴대폰 번호입니다.\n"
     ]
    }
   ],
   "source": [
    "import re  # Regular Expression\n",
    "\n",
    "if re.match(휴대폰번호_패턴, '010-1234-1234'):\n",
    "    print('휴대폰 번호입니다.')\n",
    "else:\n",
    "    print('휴대폰 번호가 아닙니다.')"
   ]
  },
  {
   "cell_type": "code",
   "execution_count": 5,
   "metadata": {},
   "outputs": [
    {
     "data": {
      "text/plain": [
       "1"
      ]
     },
     "execution_count": 5,
     "metadata": {},
     "output_type": "execute_result"
    }
   ],
   "source": [
    "len(\"\\t\")"
   ]
  },
  {
   "cell_type": "code",
   "execution_count": 29,
   "metadata": {},
   "outputs": [],
   "source": [
    "import requests\n",
    "\n",
    "res = requests.get(\"http://naver.com\")\n",
    "html = res.text"
   ]
  },
  {
   "cell_type": "code",
   "execution_count": 35,
   "metadata": {},
   "outputs": [
    {
     "data": {
      "text/plain": [
       "['최근검색', '최근검색', '최근검색', '최근검색', '최근', '최대', '최고의']"
      ]
     },
     "execution_count": 35,
     "metadata": {},
     "output_type": "execute_result"
    }
   ],
   "source": [
    "# html = '1234 a 1234 567 abc'\n",
    "# re.findall(r'\\d+', html)\n",
    "# re.findall(r'[ㄱ-힣]+', html)  # 모든 한글 단어\n",
    "re.findall(r'최[ㄱ-힣]{1,3}', html)  # \"이\"로 시작하는 한글단어 3~4글자"
   ]
  },
  {
   "cell_type": "code",
   "execution_count": null,
   "metadata": {},
   "outputs": [],
   "source": [
    "text = \"네이버에서 파이썬 찾아줘\"\n",
    "text = \"네이버에서 파이썬 찾아\"\n",
    "text = \"네이버에서 파이썬 찾아줄래?\"\n",
    "text = \"네이버에서 파이썬 찾아볼래?\"\n",
    "text = \"네이버에서 파이썬 찾아주지 않으련?\""
   ]
  },
  {
   "cell_type": "code",
   "execution_count": 52,
   "metadata": {},
   "outputs": [
    {
     "name": "stdout",
     "output_type": "stream",
     "text": [
      "<re.Match object; span=(0, 16), match='네이버에서 파이썬 크롤링 찾아'>\n",
      " 파이썬 크롤링 \n"
     ]
    }
   ],
   "source": [
    "네이버_검색_패턴 = r\"네이버에서(.+)찾아\"\n",
    "\n",
    "matched = re.match(네이버_검색_패턴, '네이버에서 파이썬 크롤링 찾아줄래? 말래?')\n",
    "print(matched)\n",
    "if matched:  # matched != None\n",
    "    검색어 = matched.groups()[0]  # or matched.group(1)\n",
    "    print(검색어)\n",
    "else:\n",
    "    print(\"검색어가 없습니다.\")"
   ]
  },
  {
   "cell_type": "code",
   "execution_count": 53,
   "metadata": {},
   "outputs": [
    {
     "data": {
      "text/plain": [
       "(' 파이썬 크롤링 ',)"
      ]
     },
     "execution_count": 53,
     "metadata": {},
     "output_type": "execute_result"
    }
   ],
   "source": [
    "matched.groups()"
   ]
  },
  {
   "cell_type": "code",
   "execution_count": 55,
   "metadata": {},
   "outputs": [
    {
     "data": {
      "text/plain": [
       "' 파이썬 크롤링 '"
      ]
     },
     "execution_count": 55,
     "metadata": {},
     "output_type": "execute_result"
    }
   ],
   "source": [
    "matched.group(1)"
   ]
  },
  {
   "cell_type": "code",
   "execution_count": null,
   "metadata": {},
   "outputs": [],
   "source": []
  }
 ],
 "metadata": {
  "kernelspec": {
   "display_name": "Python 3",
   "language": "python",
   "name": "python3"
  },
  "language_info": {
   "codemirror_mode": {
    "name": "ipython",
    "version": 3
   },
   "file_extension": ".py",
   "mimetype": "text/x-python",
   "name": "python",
   "nbconvert_exporter": "python",
   "pygments_lexer": "ipython3",
   "version": "3.7.0"
  }
 },
 "nbformat": 4,
 "nbformat_minor": 2
}
