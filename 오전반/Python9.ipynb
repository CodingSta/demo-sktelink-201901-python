{
 "cells": [
  {
   "cell_type": "markdown",
   "metadata": {},
   "source": [
    "## 인코딩과 디코딩"
   ]
  },
  {
   "cell_type": "code",
   "execution_count": 1,
   "metadata": {},
   "outputs": [
    {
     "data": {
      "text/plain": [
       "b'\\xed\\x95\\x9c'"
      ]
     },
     "execution_count": 1,
     "metadata": {},
     "output_type": "execute_result"
    }
   ],
   "source": [
    "\"한\".encode(\"utf8\")  # UTF8로 인코딩"
   ]
  },
  {
   "cell_type": "code",
   "execution_count": 2,
   "metadata": {},
   "outputs": [
    {
     "data": {
      "text/plain": [
       "b'\\xc7\\xd1'"
      ]
     },
     "execution_count": 2,
     "metadata": {},
     "output_type": "execute_result"
    }
   ],
   "source": [
    "\"한\".encode(\"cp949\")"
   ]
  },
  {
   "cell_type": "code",
   "execution_count": 3,
   "metadata": {},
   "outputs": [
    {
     "data": {
      "text/plain": [
       "b'\\xff\\xfe\\\\\\xd5'"
      ]
     },
     "execution_count": 3,
     "metadata": {},
     "output_type": "execute_result"
    }
   ],
   "source": [
    "\"한\".encode(\"utf16\")"
   ]
  },
  {
   "cell_type": "code",
   "execution_count": 4,
   "metadata": {},
   "outputs": [
    {
     "data": {
      "text/plain": [
       "'한'"
      ]
     },
     "execution_count": 4,
     "metadata": {},
     "output_type": "execute_result"
    }
   ],
   "source": [
    "\"한\".encode(\"cp949\").decode(\"cp949\")"
   ]
  },
  {
   "cell_type": "code",
   "execution_count": 5,
   "metadata": {},
   "outputs": [
    {
     "ename": "UnicodeDecodeError",
     "evalue": "'utf-8' codec can't decode byte 0xc7 in position 0: invalid continuation byte",
     "output_type": "error",
     "traceback": [
      "\u001b[0;31m---------------------------------------------------------------------------\u001b[0m",
      "\u001b[0;31mUnicodeDecodeError\u001b[0m                        Traceback (most recent call last)",
      "\u001b[0;32m<ipython-input-5-4aeaea3bab39>\u001b[0m in \u001b[0;36m<module>\u001b[0;34m()\u001b[0m\n\u001b[0;32m----> 1\u001b[0;31m \u001b[0;34m\"한\"\u001b[0m\u001b[0;34m.\u001b[0m\u001b[0mencode\u001b[0m\u001b[0;34m(\u001b[0m\u001b[0;34m\"cp949\"\u001b[0m\u001b[0;34m)\u001b[0m\u001b[0;34m.\u001b[0m\u001b[0mdecode\u001b[0m\u001b[0;34m(\u001b[0m\u001b[0;34m\"utf8\"\u001b[0m\u001b[0;34m)\u001b[0m\u001b[0;34m\u001b[0m\u001b[0m\n\u001b[0m",
      "\u001b[0;31mUnicodeDecodeError\u001b[0m: 'utf-8' codec can't decode byte 0xc7 in position 0: invalid continuation byte"
     ]
    }
   ],
   "source": [
    "\"한\".encode(\"cp949\").decode(\"utf8\")"
   ]
  },
  {
   "cell_type": "code",
   "execution_count": null,
   "metadata": {},
   "outputs": [],
   "source": []
  },
  {
   "cell_type": "code",
   "execution_count": 6,
   "metadata": {},
   "outputs": [
    {
     "data": {
      "text/plain": [
       "13"
      ]
     },
     "execution_count": 6,
     "metadata": {},
     "output_type": "execute_result"
    }
   ],
   "source": [
    "len(\"안녕하세요. 반갑습니다.\")"
   ]
  },
  {
   "cell_type": "code",
   "execution_count": 7,
   "metadata": {},
   "outputs": [
    {
     "data": {
      "text/plain": [
       "'안녕하'"
      ]
     },
     "execution_count": 7,
     "metadata": {},
     "output_type": "execute_result"
    }
   ],
   "source": [
    "\"안녕하세요. 반갑습니다.\"[:3]"
   ]
  },
  {
   "cell_type": "code",
   "execution_count": 9,
   "metadata": {},
   "outputs": [
    {
     "name": "stdout",
     "output_type": "stream",
     "text": [
      "안녕. 세상아.\n"
     ]
    }
   ],
   "source": [
    "\"Hello, World.\"\n",
    "\n",
    "print(\"안녕. 세상아.\")  # 표준출력(화면)이라는 파일에 쓰는 것."
   ]
  },
  {
   "cell_type": "code",
   "execution_count": 11,
   "metadata": {},
   "outputs": [],
   "source": [
    "f = open(\"test1.txt\", \"wt\", encoding=\"utf8\")\n",
    "f.write(\"안녕. 세상아\\n\")\n",
    "f.write(\"Hello, World\\n\")\n",
    "f.close()"
   ]
  },
  {
   "cell_type": "code",
   "execution_count": 12,
   "metadata": {},
   "outputs": [],
   "source": [
    "f = open(\"test2.txt\", \"wb\")  # binary는 != TEXT가 아닌 경우\n",
    "f.write(\"안녕. 세상아\\n\".encode(\"utf8\"))\n",
    "f.write(\"Hello, World\\n\".encode(\"utf8\"))\n",
    "f.close()"
   ]
  },
  {
   "cell_type": "code",
   "execution_count": 14,
   "metadata": {},
   "outputs": [
    {
     "data": {
      "text/plain": [
       "b'\\xea\\xb0\\x80'"
      ]
     },
     "execution_count": 14,
     "metadata": {},
     "output_type": "execute_result"
    }
   ],
   "source": [
    "\"가\".encode(\"utf8\")"
   ]
  },
  {
   "cell_type": "markdown",
   "metadata": {},
   "source": [
    "### with절"
   ]
  },
  {
   "cell_type": "code",
   "execution_count": null,
   "metadata": {},
   "outputs": [],
   "source": [
    "try:\n",
    "    f = open(\"test1.txt\", \"wt\", encoding=\"utf8\")\n",
    "    f.write(\"안녕. 세상아\\n\")\n",
    "    f.write(\"Hello, World\\n\")\n",
    "finally:\n",
    "    f.close()"
   ]
  },
  {
   "cell_type": "code",
   "execution_count": 25,
   "metadata": {},
   "outputs": [],
   "source": [
    "with open(\"test1.txt\", \"wt\", encoding=\"utf8\") as f:\n",
    "    f.write(\"안녕. 세상아\\n\")\n",
    "    f.write(\"Hello, World\\n\")"
   ]
  },
  {
   "cell_type": "code",
   "execution_count": 26,
   "metadata": {},
   "outputs": [
    {
     "name": "stdout",
     "output_type": "stream",
     "text": [
      "안녕. 세상아\n",
      "Hello, World\n",
      "\n"
     ]
    }
   ],
   "source": [
    "with open(\"test1.txt\", \"rt\", encoding=\"utf8\") as f:\n",
    "    data = f.read()   # 파일의 내용을 한 방에 다 메모리로 올려요.\n",
    "    print(data)"
   ]
  },
  {
   "cell_type": "code",
   "execution_count": null,
   "metadata": {},
   "outputs": [],
   "source": []
  },
  {
   "cell_type": "code",
   "execution_count": 36,
   "metadata": {},
   "outputs": [
    {
     "name": "stdout",
     "output_type": "stream",
     "text": [
      "b'\\xff\\xd8\\xff\\xe0\\x00\\x10JFIF\\x00\\x01\\x01\\x00\\x00\\x01\\x00\\x01\\x00\\x00'\n",
      "file saved.\n"
     ]
    }
   ],
   "source": [
    "# 사이트에 따라, 이미지 다운로드가 불가할 수도 있습니다.\n",
    "image_url = \"https://www.almanac.com/sites/default/files/styles/primary_image_in_article/public/birth_month_flowers-primary-1920x1280px_pixabay.jpg\"\n",
    "\n",
    "import requests\n",
    "\n",
    "res = requests.get(image_url)\n",
    "# res.content => 원본 데이터\n",
    "# res.text => res.content를 requests가 디코딩한 것 => 어떤 디코딩? (응답에 적혀있어요.)\n",
    "image_data = res.content\n",
    "\n",
    "print(image_data[:20])  # 처음 20바이트만 살펴봅니다.\n",
    "\n",
    "with open(\"flower.jpg\", \"wb\") as f:\n",
    "    f.write(image_data)\n",
    "    print(\"file saved.\")"
   ]
  },
  {
   "cell_type": "code",
   "execution_count": 31,
   "metadata": {},
   "outputs": [
    {
     "name": "stdout",
     "output_type": "stream",
     "text": [
      "flower.jpg\r\n"
     ]
    }
   ],
   "source": [
    "%ls *.jpg"
   ]
  },
  {
   "cell_type": "markdown",
   "metadata": {},
   "source": [
    "## 네이버 웹툰 크롤링"
   ]
  },
  {
   "cell_type": "code",
   "execution_count": 64,
   "metadata": {},
   "outputs": [],
   "source": [
    "import os\n",
    "import requests\n",
    "from bs4 import BeautifulSoup"
   ]
  },
  {
   "cell_type": "code",
   "execution_count": 39,
   "metadata": {},
   "outputs": [],
   "source": [
    "# FIXME: 경로명\n",
    "episode_url = \"https://comic.naver.com/webtoon/detail.nhn?titleId=715772&no=24&weekday=thu\""
   ]
  },
  {
   "cell_type": "code",
   "execution_count": 47,
   "metadata": {},
   "outputs": [],
   "source": [
    "res = requests.get(episode_url)\n",
    "# res.content.decode(\"utf8\")\n",
    "html = res.text\n",
    "soup = BeautifulSoup(html, 'html.parser')"
   ]
  },
  {
   "cell_type": "code",
   "execution_count": 46,
   "metadata": {},
   "outputs": [],
   "source": [
    "# res.headers"
   ]
  },
  {
   "cell_type": "code",
   "execution_count": 54,
   "metadata": {},
   "outputs": [
    {
     "data": {
      "text/plain": [
       "42"
      ]
     },
     "execution_count": 54,
     "metadata": {},
     "output_type": "execute_result"
    }
   ],
   "source": [
    "tag_list = soup.select('.wt_viewer img')\n",
    "len(tag_list)"
   ]
  },
  {
   "cell_type": "code",
   "execution_count": 67,
   "metadata": {},
   "outputs": [
    {
     "name": "stdout",
     "output_type": "stream",
     "text": [
      "https://image-comic.pstatic.net/webtoon/715772/24/20190109233749_28e26d7648a54ac95606418eeebec066_IMAG01_1.jpg\n",
      "write to data/좀비딸/24화/20190109233749_28e26d7648a54ac95606418eeebec066_IMAG01_1.jpg\n",
      "https://image-comic.pstatic.net/webtoon/715772/24/20190109233749_28e26d7648a54ac95606418eeebec066_IMAG01_2.jpg\n",
      "write to data/좀비딸/24화/20190109233749_28e26d7648a54ac95606418eeebec066_IMAG01_2.jpg\n",
      "https://image-comic.pstatic.net/webtoon/715772/24/20190109233749_28e26d7648a54ac95606418eeebec066_IMAG01_3.jpg\n",
      "write to data/좀비딸/24화/20190109233749_28e26d7648a54ac95606418eeebec066_IMAG01_3.jpg\n",
      "https://image-comic.pstatic.net/webtoon/715772/24/20190109233749_28e26d7648a54ac95606418eeebec066_IMAG01_4.jpg\n",
      "write to data/좀비딸/24화/20190109233749_28e26d7648a54ac95606418eeebec066_IMAG01_4.jpg\n",
      "https://image-comic.pstatic.net/webtoon/715772/24/20190109233749_28e26d7648a54ac95606418eeebec066_IMAG01_5.jpg\n",
      "write to data/좀비딸/24화/20190109233749_28e26d7648a54ac95606418eeebec066_IMAG01_5.jpg\n",
      "https://image-comic.pstatic.net/webtoon/715772/24/20190109233749_28e26d7648a54ac95606418eeebec066_IMAG01_6.jpg\n",
      "write to data/좀비딸/24화/20190109233749_28e26d7648a54ac95606418eeebec066_IMAG01_6.jpg\n",
      "https://image-comic.pstatic.net/webtoon/715772/24/20190109233749_28e26d7648a54ac95606418eeebec066_IMAG01_7.jpg\n",
      "write to data/좀비딸/24화/20190109233749_28e26d7648a54ac95606418eeebec066_IMAG01_7.jpg\n",
      "https://image-comic.pstatic.net/webtoon/715772/24/20190109233749_28e26d7648a54ac95606418eeebec066_IMAG01_8.jpg\n",
      "write to data/좀비딸/24화/20190109233749_28e26d7648a54ac95606418eeebec066_IMAG01_8.jpg\n",
      "https://image-comic.pstatic.net/webtoon/715772/24/20190109233749_28e26d7648a54ac95606418eeebec066_IMAG01_9.jpg\n",
      "write to data/좀비딸/24화/20190109233749_28e26d7648a54ac95606418eeebec066_IMAG01_9.jpg\n",
      "https://image-comic.pstatic.net/webtoon/715772/24/20190109233749_28e26d7648a54ac95606418eeebec066_IMAG01_10.jpg\n",
      "write to data/좀비딸/24화/20190109233749_28e26d7648a54ac95606418eeebec066_IMAG01_10.jpg\n",
      "https://image-comic.pstatic.net/webtoon/715772/24/20190109233749_28e26d7648a54ac95606418eeebec066_IMAG01_11.jpg\n",
      "write to data/좀비딸/24화/20190109233749_28e26d7648a54ac95606418eeebec066_IMAG01_11.jpg\n",
      "https://image-comic.pstatic.net/webtoon/715772/24/20190109233749_28e26d7648a54ac95606418eeebec066_IMAG01_12.jpg\n",
      "write to data/좀비딸/24화/20190109233749_28e26d7648a54ac95606418eeebec066_IMAG01_12.jpg\n",
      "https://image-comic.pstatic.net/webtoon/715772/24/20190109233749_28e26d7648a54ac95606418eeebec066_IMAG01_13.jpg\n",
      "write to data/좀비딸/24화/20190109233749_28e26d7648a54ac95606418eeebec066_IMAG01_13.jpg\n",
      "https://image-comic.pstatic.net/webtoon/715772/24/20190109233749_28e26d7648a54ac95606418eeebec066_IMAG01_14.jpg\n",
      "write to data/좀비딸/24화/20190109233749_28e26d7648a54ac95606418eeebec066_IMAG01_14.jpg\n",
      "https://image-comic.pstatic.net/webtoon/715772/24/20190109233749_28e26d7648a54ac95606418eeebec066_IMAG01_15.jpg\n",
      "write to data/좀비딸/24화/20190109233749_28e26d7648a54ac95606418eeebec066_IMAG01_15.jpg\n",
      "https://image-comic.pstatic.net/webtoon/715772/24/20190109233749_28e26d7648a54ac95606418eeebec066_IMAG01_16.jpg\n",
      "write to data/좀비딸/24화/20190109233749_28e26d7648a54ac95606418eeebec066_IMAG01_16.jpg\n",
      "https://image-comic.pstatic.net/webtoon/715772/24/20190109233749_28e26d7648a54ac95606418eeebec066_IMAG01_17.jpg\n",
      "write to data/좀비딸/24화/20190109233749_28e26d7648a54ac95606418eeebec066_IMAG01_17.jpg\n",
      "https://image-comic.pstatic.net/webtoon/715772/24/20190109233749_28e26d7648a54ac95606418eeebec066_IMAG01_18.jpg\n",
      "write to data/좀비딸/24화/20190109233749_28e26d7648a54ac95606418eeebec066_IMAG01_18.jpg\n",
      "https://image-comic.pstatic.net/webtoon/715772/24/20190109233749_28e26d7648a54ac95606418eeebec066_IMAG01_19.jpg\n",
      "write to data/좀비딸/24화/20190109233749_28e26d7648a54ac95606418eeebec066_IMAG01_19.jpg\n",
      "https://image-comic.pstatic.net/webtoon/715772/24/20190109233749_28e26d7648a54ac95606418eeebec066_IMAG01_20.jpg\n",
      "write to data/좀비딸/24화/20190109233749_28e26d7648a54ac95606418eeebec066_IMAG01_20.jpg\n",
      "https://image-comic.pstatic.net/webtoon/715772/24/20190109233749_28e26d7648a54ac95606418eeebec066_IMAG01_21.jpg\n",
      "write to data/좀비딸/24화/20190109233749_28e26d7648a54ac95606418eeebec066_IMAG01_21.jpg\n",
      "https://image-comic.pstatic.net/webtoon/715772/24/20190109233749_28e26d7648a54ac95606418eeebec066_IMAG01_22.jpg\n",
      "write to data/좀비딸/24화/20190109233749_28e26d7648a54ac95606418eeebec066_IMAG01_22.jpg\n",
      "https://image-comic.pstatic.net/webtoon/715772/24/20190109233749_28e26d7648a54ac95606418eeebec066_IMAG01_23.jpg\n",
      "write to data/좀비딸/24화/20190109233749_28e26d7648a54ac95606418eeebec066_IMAG01_23.jpg\n",
      "https://image-comic.pstatic.net/webtoon/715772/24/20190109233749_28e26d7648a54ac95606418eeebec066_IMAG01_24.jpg\n",
      "write to data/좀비딸/24화/20190109233749_28e26d7648a54ac95606418eeebec066_IMAG01_24.jpg\n",
      "https://image-comic.pstatic.net/webtoon/715772/24/20190109233749_28e26d7648a54ac95606418eeebec066_IMAG01_25.jpg\n",
      "write to data/좀비딸/24화/20190109233749_28e26d7648a54ac95606418eeebec066_IMAG01_25.jpg\n",
      "https://image-comic.pstatic.net/webtoon/715772/24/20190109233749_28e26d7648a54ac95606418eeebec066_IMAG01_26.jpg\n",
      "write to data/좀비딸/24화/20190109233749_28e26d7648a54ac95606418eeebec066_IMAG01_26.jpg\n",
      "https://image-comic.pstatic.net/webtoon/715772/24/20190109233749_28e26d7648a54ac95606418eeebec066_IMAG01_27.jpg\n",
      "write to data/좀비딸/24화/20190109233749_28e26d7648a54ac95606418eeebec066_IMAG01_27.jpg\n",
      "https://image-comic.pstatic.net/webtoon/715772/24/20190109233749_28e26d7648a54ac95606418eeebec066_IMAG01_28.jpg\n",
      "write to data/좀비딸/24화/20190109233749_28e26d7648a54ac95606418eeebec066_IMAG01_28.jpg\n",
      "https://image-comic.pstatic.net/webtoon/715772/24/20190109233749_28e26d7648a54ac95606418eeebec066_IMAG01_29.jpg\n",
      "write to data/좀비딸/24화/20190109233749_28e26d7648a54ac95606418eeebec066_IMAG01_29.jpg\n",
      "https://image-comic.pstatic.net/webtoon/715772/24/20190109233749_28e26d7648a54ac95606418eeebec066_IMAG01_30.jpg\n",
      "write to data/좀비딸/24화/20190109233749_28e26d7648a54ac95606418eeebec066_IMAG01_30.jpg\n",
      "https://image-comic.pstatic.net/webtoon/715772/24/20190109233749_28e26d7648a54ac95606418eeebec066_IMAG01_31.jpg\n",
      "write to data/좀비딸/24화/20190109233749_28e26d7648a54ac95606418eeebec066_IMAG01_31.jpg\n",
      "https://image-comic.pstatic.net/webtoon/715772/24/20190109233749_28e26d7648a54ac95606418eeebec066_IMAG01_32.jpg\n",
      "write to data/좀비딸/24화/20190109233749_28e26d7648a54ac95606418eeebec066_IMAG01_32.jpg\n",
      "https://image-comic.pstatic.net/webtoon/715772/24/20190109233749_28e26d7648a54ac95606418eeebec066_IMAG01_33.jpg\n",
      "write to data/좀비딸/24화/20190109233749_28e26d7648a54ac95606418eeebec066_IMAG01_33.jpg\n",
      "https://image-comic.pstatic.net/webtoon/715772/24/20190109233749_28e26d7648a54ac95606418eeebec066_IMAG01_34.jpg\n",
      "write to data/좀비딸/24화/20190109233749_28e26d7648a54ac95606418eeebec066_IMAG01_34.jpg\n",
      "https://image-comic.pstatic.net/webtoon/715772/24/20190109233749_28e26d7648a54ac95606418eeebec066_IMAG01_35.jpg\n",
      "write to data/좀비딸/24화/20190109233749_28e26d7648a54ac95606418eeebec066_IMAG01_35.jpg\n",
      "https://image-comic.pstatic.net/webtoon/715772/24/20190109233749_28e26d7648a54ac95606418eeebec066_IMAG01_36.jpg\n",
      "write to data/좀비딸/24화/20190109233749_28e26d7648a54ac95606418eeebec066_IMAG01_36.jpg\n",
      "https://image-comic.pstatic.net/webtoon/715772/24/20190109233749_28e26d7648a54ac95606418eeebec066_IMAG01_37.jpg\n",
      "write to data/좀비딸/24화/20190109233749_28e26d7648a54ac95606418eeebec066_IMAG01_37.jpg\n",
      "https://image-comic.pstatic.net/webtoon/715772/24/20190109233749_28e26d7648a54ac95606418eeebec066_IMAG01_38.jpg\n",
      "write to data/좀비딸/24화/20190109233749_28e26d7648a54ac95606418eeebec066_IMAG01_38.jpg\n",
      "https://image-comic.pstatic.net/webtoon/715772/24/20190109233749_28e26d7648a54ac95606418eeebec066_IMAG01_39.jpg\n",
      "write to data/좀비딸/24화/20190109233749_28e26d7648a54ac95606418eeebec066_IMAG01_39.jpg\n",
      "https://image-comic.pstatic.net/webtoon/715772/24/20190109233749_28e26d7648a54ac95606418eeebec066_IMAG01_40.jpg\n",
      "write to data/좀비딸/24화/20190109233749_28e26d7648a54ac95606418eeebec066_IMAG01_40.jpg\n",
      "https://image-comic.pstatic.net/webtoon/715772/24/20190109233749_28e26d7648a54ac95606418eeebec066_IMAG01_41.jpg\n",
      "write to data/좀비딸/24화/20190109233749_28e26d7648a54ac95606418eeebec066_IMAG01_41.jpg\n",
      "https://image-comic.pstatic.net/webtoon/715772/24/20190109233749_28e26d7648a54ac95606418eeebec066_IMAG01_42.jpg\n",
      "write to data/좀비딸/24화/20190109233749_28e26d7648a54ac95606418eeebec066_IMAG01_42.jpg\n"
     ]
    }
   ],
   "source": [
    "for tag in tag_list:\n",
    "    image_url = tag['src']\n",
    "    print(image_url)\n",
    "    \n",
    "    filename = os.path.basename(image_url)\n",
    "#     filepath = 'data/좀비딸/24화/' + filename\n",
    "    filepath = os.path.join('data', '좀비딸', '24화', filename)  # FIXME: 경로명\n",
    "    dirpath = os.path.dirname(filepath)\n",
    "    if not os.path.exists(dirpath):\n",
    "        os.makedirs(dirpath)\n",
    "    \n",
    "    headers = {\n",
    "        'User-Agent': 'Mozilla/5.0 (Windows NT 10.0; Win64; x64) AppleWebKit/537.36 (KHTML, like Gecko) Chrome/70.0.3538.77 Safari/537.36',\n",
    "        'Referer': episode_url,\n",
    "    }\n",
    "    \n",
    "    image_data = requests.get(image_url, headers=headers).content\n",
    "    \n",
    "    with open(filepath, \"wb\") as f:\n",
    "        print(\"write to {}\".format(filepath))\n",
    "        f.write(image_data)"
   ]
  },
  {
   "cell_type": "markdown",
   "metadata": {},
   "source": [
    "### 함수화"
   ]
  },
  {
   "cell_type": "code",
   "execution_count": 78,
   "metadata": {},
   "outputs": [],
   "source": [
    "import os\n",
    "import requests\n",
    "from bs4 import BeautifulSoup\n",
    "\n",
    "\n",
    "def 네이버웹툰_크롤링(title_id, no):\n",
    "    episode_url = \"https://comic.naver.com/webtoon/detail.nhn\"\n",
    "    params = {\n",
    "        'titleId': title_id,\n",
    "        'no': no,\n",
    "    }\n",
    "\n",
    "    res = requests.get(episode_url, params=params)\n",
    "    html = res.text\n",
    "    soup = BeautifulSoup(html, 'html.parser')\n",
    "    \n",
    "    # h2_tag = soup.select('.detail')[0]\n",
    "#     h2_tag = soup.select_one('.detail')\n",
    "    title = '좀비딸'  # FIXME\n",
    "    \n",
    "    episode_name = soup.select_one('.tit_area h3').text.strip()\n",
    "    print(episode_name)  # FIXME:\n",
    "    \n",
    "    return\n",
    "\n",
    "    tag_list = soup.select('.wt_viewer img')\n",
    "\n",
    "    for tag in tag_list:\n",
    "        image_url = tag['src']\n",
    "        print(image_url)\n",
    "\n",
    "        filename = os.path.basename(image_url)\n",
    "    #     filepath = 'data/좀비딸/24화/' + filename\n",
    "        filepath = os.path.join('data', '좀비딸', '24화', filename)  # FIXME: 경로명\n",
    "        dirpath = os.path.dirname(filepath)\n",
    "        if not os.path.exists(dirpath):\n",
    "            os.makedirs(dirpath)\n",
    "\n",
    "        headers = {\n",
    "            'User-Agent': 'Mozilla/5.0 (Windows NT 10.0; Win64; x64) AppleWebKit/537.36 (KHTML, like Gecko) Chrome/70.0.3538.77 Safari/537.36',\n",
    "            'Referer': episode_url,\n",
    "        }\n",
    "\n",
    "        image_data = requests.get(image_url, headers=headers).content\n",
    "\n",
    "        with open(filepath, \"wb\") as f:\n",
    "            print(\"write to {}\".format(filepath))\n",
    "            f.write(image_data)"
   ]
  },
  {
   "cell_type": "code",
   "execution_count": 79,
   "metadata": {},
   "outputs": [
    {
     "name": "stdout",
     "output_type": "stream",
     "text": [
      "24화\n"
     ]
    }
   ],
   "source": [
    "웹툰코드_사전 = {\n",
    "    '좀비딸': '715772',\n",
    "}\n",
    "\n",
    "네이버웹툰_크롤링(웹툰코드_사전['좀비딸'], \"24\")"
   ]
  },
  {
   "cell_type": "code",
   "execution_count": null,
   "metadata": {},
   "outputs": [],
   "source": []
  }
 ],
 "metadata": {
  "kernelspec": {
   "display_name": "Python 3",
   "language": "python",
   "name": "python3"
  },
  "language_info": {
   "codemirror_mode": {
    "name": "ipython",
    "version": 3
   },
   "file_extension": ".py",
   "mimetype": "text/x-python",
   "name": "python",
   "nbconvert_exporter": "python",
   "pygments_lexer": "ipython3",
   "version": "3.7.0"
  }
 },
 "nbformat": 4,
 "nbformat_minor": 2
}
