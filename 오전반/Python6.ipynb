{
 "cells": [
  {
   "cell_type": "markdown",
   "metadata": {},
   "source": [
    "## 문자열 포맷팅 "
   ]
  },
  {
   "cell_type": "code",
   "execution_count": 2,
   "metadata": {},
   "outputs": [
    {
     "data": {
      "text/plain": [
       "'저는 이진석입니다. 대전에서 왔어요.'"
      ]
     },
     "execution_count": 2,
     "metadata": {},
     "output_type": "execute_result"
    }
   ],
   "source": [
    "\"저는 {}입니다. {}에서 왔어요.\".format(\"이진석\", \"대전\")"
   ]
  },
  {
   "cell_type": "code",
   "execution_count": 4,
   "metadata": {},
   "outputs": [
    {
     "data": {
      "text/plain": [
       "'저는 이진석입니다. 대전에서 왔어요. 대전 날씨가 좋아요.'"
      ]
     },
     "execution_count": 4,
     "metadata": {},
     "output_type": "execute_result"
    }
   ],
   "source": [
    "\"저는 {0}입니다. {1}에서 왔어요. {2} 날씨가 좋아요.\".format(\"이진석\", \"대전\", \"대전\")"
   ]
  },
  {
   "cell_type": "code",
   "execution_count": 5,
   "metadata": {},
   "outputs": [
    {
     "data": {
      "text/plain": [
       "'저는 이진석입니다. 대전에서 왔어요. 대전 날씨가 좋아요.'"
      ]
     },
     "execution_count": 5,
     "metadata": {},
     "output_type": "execute_result"
    }
   ],
   "source": [
    "\"저는 {0}입니다. {1}에서 왔어요. {1} 날씨가 좋아요.\".format(\"이진석\", \"대전\")"
   ]
  },
  {
   "cell_type": "code",
   "execution_count": 7,
   "metadata": {},
   "outputs": [
    {
     "data": {
      "text/plain": [
       "'저는 이진석입니다. 대전에서 왔어요. 대전 날씨가 좋아요.'"
      ]
     },
     "execution_count": 7,
     "metadata": {},
     "output_type": "execute_result"
    }
   ],
   "source": [
    "\"저는 {이름}입니다. {지역}에서 왔어요. {지역} 날씨가 좋아요.\".format(이름=\"이진석\", 지역=\"대전\")"
   ]
  },
  {
   "cell_type": "code",
   "execution_count": 11,
   "metadata": {},
   "outputs": [
    {
     "data": {
      "text/plain": [
       "'저는 이진석입니다. 대전에서 왔어요. 대전 날씨가 좋아요.'"
      ]
     },
     "execution_count": 11,
     "metadata": {},
     "output_type": "execute_result"
    }
   ],
   "source": [
    "# 개인정보 = dict(이름=\"이진석\", 지역=\"대전\")\n",
    "개인정보 = {'이름': '이진석', '지역': '대전'}\n",
    "\n",
    "\"저는 {이름}입니다. {지역}에서 왔어요. {지역} 날씨가 좋아요.\".format(\n",
    "    이름=개인정보[\"이름\"], 지역=개인정보[\"지역\"])\n",
    "\n",
    "# ** => 사전에 대한 unpack\n",
    "\"저는 {이름}입니다. {지역}에서 왔어요. {지역} 날씨가 좋아요.\".format(**개인정보)"
   ]
  },
  {
   "cell_type": "code",
   "execution_count": 15,
   "metadata": {},
   "outputs": [
    {
     "data": {
      "text/plain": [
       "'저는 이진석입니다. 대전에서 왔어요.'"
      ]
     },
     "execution_count": 15,
     "metadata": {},
     "output_type": "execute_result"
    }
   ],
   "source": [
    "개인정보_리스트 = ['이진석', '대전'] # list, tuple 등등 -> OK\n",
    "\n",
    "\n",
    "\"저는 {}입니다. {}에서 왔어요.\".format(개인정보_리스트[0], 개인정보_리스트[1])\n",
    "\n",
    "# * => list/tuple 등에 대한 unpack\n",
    "\"저는 {}입니다. {}에서 왔어요.\".format(*개인정보_리스트)"
   ]
  },
  {
   "cell_type": "code",
   "execution_count": 19,
   "metadata": {},
   "outputs": [
    {
     "name": "stdout",
     "output_type": "stream",
     "text": [
      "안녕하세요. 이진석님.\n",
      "\n",
      "오늘도 저희 쇼킹 쇼핑몰을 이용해주셔서 감사드립니다.\n",
      "\n",
      "구매하신 내역은 다음과 같습니다.\n",
      "\n",
      "- 에어팟: 230000\n",
      "- 아이패드 프로 3: 1000000\n",
      "- 대륙의 실수, 휴대폰: 100000\n",
      "\n",
      "이용에 감사드립니다.\n",
      "\n",
      "- 쇼핑몰 주인장 백\n"
     ]
    }
   ],
   "source": [
    "구매정보 = {\n",
    "    '구매자': '이진석',\n",
    "    '구매한_상품목록': [\n",
    "        {'상품명': '에어팟', '가격': '230000'},\n",
    "        {'상품명': '아이패드 프로 3', '가격': '1000000'},\n",
    "        {'상품명': '대륙의 실수, 휴대폰', '가격': '100000'},\n",
    "    ],\n",
    "}\n",
    "\n",
    "메세지_리스트 = []\n",
    "for 상품 in 구매정보['구매한_상품목록']:\n",
    "    메세지 = \"- {상품명}: {가격}\".format(**상품)\n",
    "    메세지_리스트.append(메세지)\n",
    "구매한_상품목록_문자열 = '\\n'.join(메세지_리스트)\n",
    "\n",
    "구매확정메일_내용 = '''안녕하세요. {구매자}님.\n",
    "\n",
    "오늘도 저희 쇼킹 쇼핑몰을 이용해주셔서 감사드립니다.\n",
    "\n",
    "구매하신 내역은 다음과 같습니다.\n",
    "\n",
    "{구매한_상품목록_문자열}\n",
    "\n",
    "이용에 감사드립니다.\n",
    "\n",
    "- 쇼핑몰 주인장 백'''.format(구매한_상품목록_문자열=구매한_상품목록_문자열, **구매정보)\n",
    "\n",
    "print(구매확정메일_내용)"
   ]
  },
  {
   "cell_type": "code",
   "execution_count": null,
   "metadata": {},
   "outputs": [],
   "source": []
  },
  {
   "cell_type": "code",
   "execution_count": 25,
   "metadata": {},
   "outputs": [
    {
     "name": "stdout",
     "output_type": "stream",
     "text": [
      "암호는? ········\n"
     ]
    }
   ],
   "source": [
    "from getpass import getpass\n",
    "\n",
    "유저_아이디 = 'allieuslee'\n",
    "유저_암호 = getpass('암호는? ')\n",
    "\n",
    "서버_주소 = 'smtp.naver.com'"
   ]
  },
  {
   "cell_type": "code",
   "execution_count": 26,
   "metadata": {},
   "outputs": [
    {
     "data": {
      "text/plain": [
       "(<envelopes.conn.SMTP at 0x106dccc88>, {})"
      ]
     },
     "execution_count": 26,
     "metadata": {},
     "output_type": "execute_result"
    }
   ],
   "source": [
    "from envelopes import Envelope\n",
    "\n",
    "envelope = Envelope(\n",
    "    from_addr=('******@naver.com', '***'),  # FIXME: 필히 변경해주세요.\n",
    "    to_addr=('me@askcompany.kr', 'Ask Company'),\n",
    "    subject='파이썬 강의. 테스트 메일 보냅니다. ;) - 이진석',\n",
    "    text_body=\"파이썬 강의 6일차 !!! - 이진석입니다.\"\n",
    ")\n",
    "\n",
    "# Send the envelope using an ad-hoc connection...\n",
    "envelope.send(서버_주소, login=유저_아이디, password=유저_암호, tls=True)"
   ]
  },
  {
   "cell_type": "code",
   "execution_count": null,
   "metadata": {},
   "outputs": [],
   "source": []
  },
  {
   "cell_type": "code",
   "execution_count": 27,
   "metadata": {},
   "outputs": [],
   "source": [
    "# import jinja2  # 미설치시 : pip install jinja2"
   ]
  },
  {
   "cell_type": "code",
   "execution_count": 30,
   "metadata": {},
   "outputs": [
    {
     "data": {
      "text/plain": [
       "'저는 이진석입니다. 대전에서 왔어요. 대전 날씨가 좋아요.'"
      ]
     },
     "execution_count": 30,
     "metadata": {},
     "output_type": "execute_result"
    }
   ],
   "source": [
    "from jinja2 import Template\n",
    "\n",
    "템플릿_원본 = \"저는 {{ 이름 }}입니다. {{ 지역 }}에서 왔어요. {{ 지역 }} 날씨가 좋아요.\"\n",
    "\n",
    "template = Template(템플릿_원본)\n",
    "template.render(이름='이진석', 지역='대전')  # 반환값 => 문자열"
   ]
  },
  {
   "cell_type": "code",
   "execution_count": 39,
   "metadata": {},
   "outputs": [
    {
     "name": "stdout",
     "output_type": "stream",
     "text": [
      "안녕하세요. 이진석님.\n",
      "\n",
      "오늘도 저희 쇼킹 쇼핑몰을 이용해주셔서 감사드립니다.\n",
      "\n",
      "구매하신 내역은 다음과 같습니다.\n",
      "    - 에어팟: 230000\n",
      "    - 아이패드 프로 3: 1000000\n",
      "    - 대륙의 실수, 휴대폰: 100000\n",
      "\n",
      "이용에 감사드립니다.\n",
      "\n",
      "- 쇼핑몰 주인장 백\n"
     ]
    }
   ],
   "source": [
    "from envelopes import Envelope\n",
    "\n",
    "\n",
    "def 이메일_보내기(수신자_이메일, 수신자_이름, 구매정보):\n",
    "    구매확정메일_템플릿 = Template('''안녕하세요. {{ 구매자 }}님.\n",
    "\n",
    "오늘도 저희 쇼킹 쇼핑몰을 이용해주셔서 감사드립니다.\n",
    "\n",
    "구매하신 내역은 다음과 같습니다.\n",
    "\n",
    "{%- for 상품 in 구매한_상품목록 %}\n",
    "    - {{ 상품.상품명 }}: {{ 상품.가격 }}\n",
    "{%- endfor %}\n",
    "\n",
    "이용에 감사드립니다.\n",
    "\n",
    "- 쇼핑몰 주인장 백''')\n",
    "\n",
    "    구매확정메일_내용 = 구매확정메일_템플릿.render(**구매정보)\n",
    "    \n",
    "    envelope = Envelope(\n",
    "        from_addr=('allieuslee@naver.com', 'Chinseok Lee'),  # FIXME: 필히 변경해주세요.\n",
    "        to_addr=(수신자_이메일, 수신자_이름),\n",
    "        subject='구매 확정 메일 보냅니다.',\n",
    "        text_body=구매확정메일_내용)\n",
    "\n",
    "    # Send the envelope using an ad-hoc connection...\n",
    "    envelope.send(서버_주소, login=유저_아이디, password=유저_암호, tls=True)\n",
    "\n",
    "# ---\n",
    "    \n",
    "구매정보 = {\n",
    "    '구매자': '이진석',\n",
    "    '구매한_상품목록': [\n",
    "        {'상품명': '에어팟', '가격': '230000'},\n",
    "        {'상품명': '아이패드 프로 3', '가격': '1000000'},\n",
    "        {'상품명': '대륙의 실수, 휴대폰', '가격': '100000'},\n",
    "    ],\n",
    "}\n",
    "이메일_보내기('me@askcompany.kr', 'Chinseok Lee', 구매정보)"
   ]
  },
  {
   "cell_type": "code",
   "execution_count": null,
   "metadata": {},
   "outputs": [],
   "source": []
  },
  {
   "cell_type": "markdown",
   "metadata": {},
   "source": [
    "## 미션) 자기 소개 이메일 보내기"
   ]
  },
  {
   "cell_type": "code",
   "execution_count": 42,
   "metadata": {},
   "outputs": [],
   "source": [
    "def 자기소개_이메일_보내기(자기소개_사전, 수신자_이메일, 수신자_명):\n",
    "    템플릿 = Template('''안녕하세요. 저는 {{ 이름 }}입니다.\n",
    "\n",
    "좋아하는 음식은 {% for 음식 in 좋아하는_음식들 %}{{ 음식 }}, {% endfor %}입니다.\n",
    "\n",
    "다루는 언어는 {% for 언어 in 다루는_언어 %}{{ 언어 }}, {% endfor %}입니다.\n",
    "\n",
    "감사합니다.\n",
    "\n",
    "- {{ 이름 }} 드림''')\n",
    "    자기소개_문자열 = 템플릿.render(**자기소개_사전)\n",
    "    \n",
    "    print(자기소개_문자열)"
   ]
  },
  {
   "cell_type": "code",
   "execution_count": 44,
   "metadata": {},
   "outputs": [
    {
     "name": "stdout",
     "output_type": "stream",
     "text": [
      "안녕하세요. 저는 이진석입니다.\n",
      "\n",
      "좋아하는 음식은 김치찌개, 라면, 볶음밥, 입니다.\n",
      "\n",
      "다루는 언어는 한국어, 파이썬, 일본어, 중국어, 입니다.\n",
      "\n",
      "감사합니다.\n",
      "\n",
      "- 이진석 드림\n"
     ]
    }
   ],
   "source": [
    "자기소개_사전 = {\n",
    "    '이름': '이진석',\n",
    "    '좋아하는_음식들': ['김치찌개', '라면', '볶음밥'],\n",
    "    '다루는_언어': ['한국어', '파이썬', '일본어', '중국어'],\n",
    "}\n",
    "자기소개_이메일_보내기(자기소개_사전, '...@naver.com', '...')"
   ]
  },
  {
   "cell_type": "code",
   "execution_count": null,
   "metadata": {},
   "outputs": [],
   "source": []
  },
  {
   "cell_type": "markdown",
   "metadata": {},
   "source": [
    "## 네이버 블로그 검색,  크롤링"
   ]
  },
  {
   "cell_type": "code",
   "execution_count": 45,
   "metadata": {},
   "outputs": [],
   "source": [
    "url = 'https://search.naver.com/search.naver'\n",
    "\n",
    "params = {\n",
    "    'where': 'post',\n",
    "    'sm': 'tab_jum',\n",
    "    'query': '명동 맛집',\n",
    "}"
   ]
  },
  {
   "cell_type": "code",
   "execution_count": 46,
   "metadata": {},
   "outputs": [
    {
     "data": {
      "text/plain": [
       "<Response [200]>"
      ]
     },
     "execution_count": 46,
     "metadata": {},
     "output_type": "execute_result"
    }
   ],
   "source": [
    "import requests\n",
    "from bs4 import BeautifulSoup\n",
    "\n",
    "res = requests.get(url, params=params)\n",
    "res"
   ]
  },
  {
   "cell_type": "code",
   "execution_count": 49,
   "metadata": {},
   "outputs": [],
   "source": [
    "# '끝내주는' in res.text\n",
    "\n",
    "html = res.text\n",
    "soup = BeautifulSoup(html, 'html.parser')"
   ]
  },
  {
   "cell_type": "code",
   "execution_count": 56,
   "metadata": {},
   "outputs": [
    {
     "name": "stdout",
     "output_type": "stream",
     "text": [
      "명동 맛집 끝내주는곳\n",
      "https://rori91.blog.me/221449326085\n",
      "명동 맛집 백퍼센트 만족\n",
      "https://blog.naver.com/hongik9016?Redirect=Log&logNo=221429048942\n",
      "명동 맛집 이번엔 일식이다\n",
      "https://blog.naver.com/youriyoul?Redirect=Log&logNo=221426142224\n",
      "명동 맛집 더식당 뿅 반했슈~♥\n",
      "http://parkzzi.com/221406892797\n",
      "명동 맛집 누구나 다 좋아할 맛!\n",
      "https://blog.naver.com/kka_ming?Redirect=Log&logNo=221451811083\n",
      "명동 맛집 : 어디로 가야하지\n",
      "https://tomnmo.blog.me/221443104968\n",
      "명동 맛집 괜찮았던 곳\n",
      "https://blog.naver.com/apexism?Redirect=Log&logNo=221444871322\n",
      "명동 맛집,현지 본토의 맛!\n",
      "https://ypki50a.blog.me/221449500454\n",
      "명동 맛집 화끈한 불맛을 온몸으로 깨우치다\n",
      "https://blog.naver.com/ehddhks9519?Redirect=Log&logNo=221442661965\n",
      "명동 맛집 '품위있게' 기력회복.jpg\n",
      "https://blog.naver.com/clothes1213?Redirect=Log&logNo=221439248123\n"
     ]
    }
   ],
   "source": [
    "# id => #\n",
    "# class => .\n",
    "tag_list = soup.select('#elThumbnailResultArea .sh_blog_title')\n",
    "\n",
    "for tag in tag_list:\n",
    "#     print(tag)\n",
    "#     post_title = tag['title']\n",
    "    post_title = tag.text\n",
    "    post_url = tag['href']\n",
    "    print(post_title)\n",
    "    print(post_url)\n",
    "#     break"
   ]
  },
  {
   "cell_type": "code",
   "execution_count": 58,
   "metadata": {},
   "outputs": [],
   "source": [
    "import requests\n",
    "from bs4 import BeautifulSoup\n",
    "\n",
    "\n",
    "def 네이버_블로그_검색(검색어):\n",
    "    url = 'https://search.naver.com/search.naver'\n",
    "\n",
    "    params = {\n",
    "        'where': 'post',\n",
    "        'sm': 'tab_jum',\n",
    "        'query': 검색어,\n",
    "    }\n",
    "\n",
    "    res = requests.get(url, params=params)\n",
    "    html = res.text\n",
    "    soup = BeautifulSoup(html, 'html.parser')\n",
    "    \n",
    "    tag_list = soup.select('#elThumbnailResultArea .sh_blog_title')\n",
    "\n",
    "    post_list = []\n",
    "    for tag in tag_list:\n",
    "        post_title = tag.text\n",
    "        post_url = tag['href']\n",
    "        post_list.append({\n",
    "            'title': post_title,\n",
    "            'url': post_url,\n",
    "        })\n",
    "    \n",
    "    return post_list"
   ]
  },
  {
   "cell_type": "code",
   "execution_count": 61,
   "metadata": {},
   "outputs": [
    {
     "data": {
      "text/plain": [
       "[{'title': '오늘 날씨 습하긴 했지만',\n",
       "  'url': 'https://blog.naver.com/vhsxm146?Redirect=Log&logNo=221349429196'},\n",
       " {'title': '오늘날씨,맑음 :)',\n",
       "  'url': 'https://blog.naver.com/izont?Redirect=Log&logNo=221391528893'},\n",
       " {'title': '오늘날씨 최강한파. 영하 20도 추위에 이메텍전기요 쓰는 이유?',\n",
       "  'url': 'https://blog.naver.com/gatewelly?Redirect=Log&logNo=221429109706'},\n",
       " {'title': '천안건선 오늘 날씨가 큰 영향을 미친다.',\n",
       "  'url': 'https://rlawjddbs115.blog.me/221387235908'},\n",
       " {'title': '오늘날씨, 전기히터 컴프라이프로 따듯하게! 카본히터라 가벼워',\n",
       "  'url': 'https://babotenggu.blog.me/221393434113'},\n",
       " {'title': '오늘 날씨 좋던데',\n",
       "  'url': 'https://blog.naver.com/rladbssk950217?Redirect=Log&logNo=221452111914'},\n",
       " {'title': '[심양맛집] 태국의 맛 그대로..태국음식전문점(오늘날씨 실화?..)',\n",
       "  'url': 'https://blog.naver.com/suroom0926?Redirect=Log&logNo=221406802689'},\n",
       " {'title': '오늘 날씨는 공치기 좋은 날씨 ^^',\n",
       "  'url': 'https://blog.naver.com/giogolf?Redirect=Log&logNo=221414495353'},\n",
       " {'title': '디스커버리 여자 롱패딩 고쉬 오늘날씨에 딱 너인듯♥',\n",
       "  'url': 'https://blog.naver.com/yjnu32?Redirect=Log&logNo=221401216610'},\n",
       " {'title': '오늘 날씨 시원한 막걸리와 소문난 동래파전 생각나네',\n",
       "  'url': 'https://blog.naver.com/welcome21?Redirect=Log&logNo=221309155308'}]"
      ]
     },
     "execution_count": 61,
     "metadata": {},
     "output_type": "execute_result"
    }
   ],
   "source": [
    "네이버_블로그_검색('오늘 날씨')"
   ]
  },
  {
   "cell_type": "code",
   "execution_count": null,
   "metadata": {},
   "outputs": [],
   "source": []
  }
 ],
 "metadata": {
  "kernelspec": {
   "display_name": "Python 3",
   "language": "python",
   "name": "python3"
  },
  "language_info": {
   "codemirror_mode": {
    "name": "ipython",
    "version": 3
   },
   "file_extension": ".py",
   "mimetype": "text/x-python",
   "name": "python",
   "nbconvert_exporter": "python",
   "pygments_lexer": "ipython3",
   "version": "3.7.0"
  }
 },
 "nbformat": 4,
 "nbformat_minor": 2
}
